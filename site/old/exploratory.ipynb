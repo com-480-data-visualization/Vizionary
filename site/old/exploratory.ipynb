{
 "cells": [
  {
   "cell_type": "markdown",
   "metadata": {},
   "source": [
    "# Olympic data | Exploration"
   ]
  },
  {
   "cell_type": "markdown",
   "metadata": {},
   "source": [
    "## Packages"
   ]
  },
  {
   "cell_type": "markdown",
   "metadata": {},
   "source": [
    "For simplicity, we use `kaggle` for now. Since the dataset is on the website, this makes it easy to download it and load it with `pandas`"
   ]
  },
  {
   "cell_type": "code",
   "execution_count": 1,
   "metadata": {},
   "outputs": [],
   "source": [
    "%%capture\n",
    "#to avoid output\n",
    "\n",
    "!pip install -r ../requirements.txt\n",
    "\n",
    "%load_ext autoreload\n",
    "%autoreload 2"
   ]
  },
  {
   "cell_type": "markdown",
   "metadata": {},
   "source": [
    "## Loading :3"
   ]
  },
  {
   "cell_type": "code",
   "execution_count": 2,
   "metadata": {},
   "outputs": [
    {
     "name": "stderr",
     "output_type": "stream",
     "text": [
      "/home/pilgrim/miniconda3/lib/python3.12/site-packages/tqdm/auto.py:21: TqdmWarning: IProgress not found. Please update jupyter and ipywidgets. See https://ipywidgets.readthedocs.io/en/stable/user_install.html\n",
      "  from .autonotebook import tqdm as notebook_tqdm\n"
     ]
    }
   ],
   "source": [
    "import kagglehub\n",
    "from kagglehub import KaggleDatasetAdapter\n",
    "\n",
    "df = kagglehub.dataset_load(KaggleDatasetAdapter.PANDAS, \"heesoo37/120-years-of-olympic-history-athletes-and-results\", 'athlete_events.csv') \n",
    "# Loading from Kaggle is easy and quite straightforward..."
   ]
  },
  {
   "cell_type": "markdown",
   "metadata": {},
   "source": [
    "## Data info & cleaning "
   ]
  },
  {
   "cell_type": "code",
   "execution_count": null,
   "metadata": {},
   "outputs": [
    {
     "data": {
      "text/html": [
       "<div>\n",
       "<style scoped>\n",
       "    .dataframe tbody tr th:only-of-type {\n",
       "        vertical-align: middle;\n",
       "    }\n",
       "\n",
       "    .dataframe tbody tr th {\n",
       "        vertical-align: top;\n",
       "    }\n",
       "\n",
       "    .dataframe thead th {\n",
       "        text-align: right;\n",
       "    }\n",
       "</style>\n",
       "<table border=\"1\" class=\"dataframe\">\n",
       "  <thead>\n",
       "    <tr style=\"text-align: right;\">\n",
       "      <th></th>\n",
       "      <th>ID</th>\n",
       "      <th>Name</th>\n",
       "      <th>Sex</th>\n",
       "      <th>Age</th>\n",
       "      <th>Height</th>\n",
       "      <th>Weight</th>\n",
       "      <th>Team</th>\n",
       "      <th>NOC</th>\n",
       "      <th>Games</th>\n",
       "      <th>Year</th>\n",
       "      <th>Season</th>\n",
       "      <th>City</th>\n",
       "      <th>Sport</th>\n",
       "      <th>Event</th>\n",
       "      <th>Medal</th>\n",
       "    </tr>\n",
       "  </thead>\n",
       "  <tbody>\n",
       "    <tr>\n",
       "      <th>0</th>\n",
       "      <td>1</td>\n",
       "      <td>A Dijiang</td>\n",
       "      <td>M</td>\n",
       "      <td>24.0</td>\n",
       "      <td>180.0</td>\n",
       "      <td>80.0</td>\n",
       "      <td>China</td>\n",
       "      <td>CHN</td>\n",
       "      <td>1992 Summer</td>\n",
       "      <td>1992</td>\n",
       "      <td>Summer</td>\n",
       "      <td>Barcelona</td>\n",
       "      <td>Basketball</td>\n",
       "      <td>Basketball Men's Basketball</td>\n",
       "      <td>NaN</td>\n",
       "    </tr>\n",
       "    <tr>\n",
       "      <th>1</th>\n",
       "      <td>2</td>\n",
       "      <td>A Lamusi</td>\n",
       "      <td>M</td>\n",
       "      <td>23.0</td>\n",
       "      <td>170.0</td>\n",
       "      <td>60.0</td>\n",
       "      <td>China</td>\n",
       "      <td>CHN</td>\n",
       "      <td>2012 Summer</td>\n",
       "      <td>2012</td>\n",
       "      <td>Summer</td>\n",
       "      <td>London</td>\n",
       "      <td>Judo</td>\n",
       "      <td>Judo Men's Extra-Lightweight</td>\n",
       "      <td>NaN</td>\n",
       "    </tr>\n",
       "    <tr>\n",
       "      <th>2</th>\n",
       "      <td>3</td>\n",
       "      <td>Gunnar Nielsen Aaby</td>\n",
       "      <td>M</td>\n",
       "      <td>24.0</td>\n",
       "      <td>NaN</td>\n",
       "      <td>NaN</td>\n",
       "      <td>Denmark</td>\n",
       "      <td>DEN</td>\n",
       "      <td>1920 Summer</td>\n",
       "      <td>1920</td>\n",
       "      <td>Summer</td>\n",
       "      <td>Antwerpen</td>\n",
       "      <td>Football</td>\n",
       "      <td>Football Men's Football</td>\n",
       "      <td>NaN</td>\n",
       "    </tr>\n",
       "    <tr>\n",
       "      <th>3</th>\n",
       "      <td>4</td>\n",
       "      <td>Edgar Lindenau Aabye</td>\n",
       "      <td>M</td>\n",
       "      <td>34.0</td>\n",
       "      <td>NaN</td>\n",
       "      <td>NaN</td>\n",
       "      <td>Denmark/Sweden</td>\n",
       "      <td>DEN</td>\n",
       "      <td>1900 Summer</td>\n",
       "      <td>1900</td>\n",
       "      <td>Summer</td>\n",
       "      <td>Paris</td>\n",
       "      <td>Tug-Of-War</td>\n",
       "      <td>Tug-Of-War Men's Tug-Of-War</td>\n",
       "      <td>Gold</td>\n",
       "    </tr>\n",
       "    <tr>\n",
       "      <th>4</th>\n",
       "      <td>5</td>\n",
       "      <td>Christine Jacoba Aaftink</td>\n",
       "      <td>F</td>\n",
       "      <td>21.0</td>\n",
       "      <td>185.0</td>\n",
       "      <td>82.0</td>\n",
       "      <td>Netherlands</td>\n",
       "      <td>NED</td>\n",
       "      <td>1988 Winter</td>\n",
       "      <td>1988</td>\n",
       "      <td>Winter</td>\n",
       "      <td>Calgary</td>\n",
       "      <td>Speed Skating</td>\n",
       "      <td>Speed Skating Women's 500 metres</td>\n",
       "      <td>NaN</td>\n",
       "    </tr>\n",
       "  </tbody>\n",
       "</table>\n",
       "</div>"
      ],
      "text/plain": [
       "   ID                      Name Sex   Age  Height  Weight            Team  \\\n",
       "0   1                 A Dijiang   M  24.0   180.0    80.0           China   \n",
       "1   2                  A Lamusi   M  23.0   170.0    60.0           China   \n",
       "2   3       Gunnar Nielsen Aaby   M  24.0     NaN     NaN         Denmark   \n",
       "3   4      Edgar Lindenau Aabye   M  34.0     NaN     NaN  Denmark/Sweden   \n",
       "4   5  Christine Jacoba Aaftink   F  21.0   185.0    82.0     Netherlands   \n",
       "\n",
       "   NOC        Games  Year  Season       City          Sport  \\\n",
       "0  CHN  1992 Summer  1992  Summer  Barcelona     Basketball   \n",
       "1  CHN  2012 Summer  2012  Summer     London           Judo   \n",
       "2  DEN  1920 Summer  1920  Summer  Antwerpen       Football   \n",
       "3  DEN  1900 Summer  1900  Summer      Paris     Tug-Of-War   \n",
       "4  NED  1988 Winter  1988  Winter    Calgary  Speed Skating   \n",
       "\n",
       "                              Event Medal  \n",
       "0       Basketball Men's Basketball   NaN  \n",
       "1      Judo Men's Extra-Lightweight   NaN  \n",
       "2           Football Men's Football   NaN  \n",
       "3       Tug-Of-War Men's Tug-Of-War  Gold  \n",
       "4  Speed Skating Women's 500 metres   NaN  "
      ]
     },
     "execution_count": 3,
     "metadata": {},
     "output_type": "execute_result"
    }
   ],
   "source": [
    "df.head()"
   ]
  },
  {
   "cell_type": "code",
   "execution_count": 4,
   "metadata": {},
   "outputs": [
    {
     "name": "stdout",
     "output_type": "stream",
     "text": [
      "<class 'pandas.core.frame.DataFrame'>\n",
      "RangeIndex: 271116 entries, 0 to 271115\n",
      "Data columns (total 15 columns):\n",
      " #   Column  Non-Null Count   Dtype  \n",
      "---  ------  --------------   -----  \n",
      " 0   ID      271116 non-null  int64  \n",
      " 1   Name    271116 non-null  object \n",
      " 2   Sex     271116 non-null  object \n",
      " 3   Age     261642 non-null  float64\n",
      " 4   Height  210945 non-null  float64\n",
      " 5   Weight  208241 non-null  float64\n",
      " 6   Team    271116 non-null  object \n",
      " 7   NOC     271116 non-null  object \n",
      " 8   Games   271116 non-null  object \n",
      " 9   Year    271116 non-null  int64  \n",
      " 10  Season  271116 non-null  object \n",
      " 11  City    271116 non-null  object \n",
      " 12  Sport   271116 non-null  object \n",
      " 13  Event   271116 non-null  object \n",
      " 14  Medal   39783 non-null   object \n",
      "dtypes: float64(3), int64(2), object(10)\n",
      "memory usage: 31.0+ MB\n"
     ]
    }
   ],
   "source": [
    "df.info()"
   ]
  },
  {
   "cell_type": "markdown",
   "metadata": {},
   "source": [
    "This gives 270k athletes informations, and most of them are not NaNs, which is great. Some of the age, height and weight are missing. Some medals as well, but this is probably only because most athletes did not receive a medal."
   ]
  },
  {
   "cell_type": "code",
   "execution_count": 5,
   "metadata": {},
   "outputs": [
    {
     "data": {
      "text/plain": [
       "array([nan, 'Gold', 'Bronze', 'Silver'], dtype=object)"
      ]
     },
     "execution_count": 5,
     "metadata": {},
     "output_type": "execute_result"
    }
   ],
   "source": [
    "df.Medal.unique()"
   ]
  },
  {
   "cell_type": "code",
   "execution_count": 6,
   "metadata": {},
   "outputs": [
    {
     "data": {
      "application/vnd.plotly.v1+json": {
       "config": {
        "plotlyServerURL": "https://plot.ly"
       },
       "data": [
        {
         "hovertemplate": "Medal=Bronze<br>Year=%{x}<br>Age=%{y}<extra></extra>",
         "legendgroup": "Bronze",
         "line": {
          "color": "#636efa",
          "dash": "solid"
         },
         "marker": {
          "symbol": "circle"
         },
         "mode": "lines",
         "name": "Bronze",
         "orientation": "v",
         "showlegend": true,
         "type": "scatter",
         "x": {
          "bdata": "aAdsB3AHcgd0B3gHgAeEB4gHjAeQB5wHoAekB6gHrAewB7QHuAe8B8AHxAfIB8oHzAfOB9AH0gfUB9YH2AfaB9wH3gfgBw==",
          "dtype": "i2"
         },
         "xaxis": "x",
         "y": {
          "bdata": "MzMzMzOzNkBqpVZqpdY8QA6Hw+FwODpABkp4o6nzOkDOJbFMfTw7QC+66KKLLjtAy78hYcbpPUCXd8CRoqE7QD1RttG+ajpAfVBY3bLgOUAFeUqQpwQ6QPMP7NjwUjxAfzxqUCnYOkCsD431obE5QMxhDnOYQzlAj8L1KFwfOUBJ6Nq4kCo5QB4CN5ZB6ThATJHPusGUOECO9lULzFg4QK/JBU3tVThAFDuxEzuxOEDtnddn0NU4QLdt27Zt6zhAfRySFT8xOUC1gU4b6DQ6QBISEhISMjpAP4fUBOOtOkC2RiGIuDg6QC1vjGCivztAhGOSh+zoOUCym8huIrs6QLnjvP2JHjpAd4bEvJ2hOkBYsSctfBU6QA==",
          "dtype": "f8"
         },
         "yaxis": "y"
        },
        {
         "hovertemplate": "Medal=Gold<br>Year=%{x}<br>Age=%{y}<extra></extra>",
         "legendgroup": "Gold",
         "line": {
          "color": "#EF553B",
          "dash": "solid"
         },
         "marker": {
          "symbol": "circle"
         },
         "mode": "lines",
         "name": "Gold",
         "orientation": "v",
         "showlegend": true,
         "type": "scatter",
         "x": {
          "bdata": "aAdsB3AHcgd0B3gHgAeEB4gHjAeQB5wHoAekB6gHrAewB7QHuAe8B8AHxAfIB8oHzAfOB9AH0gfUB9YH2AfaB9wH3gfgBw==",
          "dtype": "i2"
         },
         "xaxis": "x",
         "y": {
          "bdata": "ntiJndgJN0Bwhtbuwy08QAAAAAAAgDpAr+u6ruu6OkDZ5ssBlm08QMKCko5PXztAMLiQKLJ5PUDRwhkQSu47QDw8PDw8/DlAAAAAAAB2OkDGSZRVZOg5QKK8hvIayjtA9ihcj8J1OkD32QXEplI6QNPS0tLS0jhAc3Nzc3MTOUC05hlNgLM4QNpOs4LDFzlACAQCgUAgOEBcMfpLMzY4QNT4L2+YRDhAMhfXPnVWOECVC26VC244QN+w9g1rXzlAQ3kN5TWcOUAFrb5U0Oo5QH2kGn2kGjpA54dFysDTOkCjqfNrD/k5QNFFF110cTtAEjA+g1joOUADmRQvkMk6QEFUOrJnADpAvH62WBm+OkBBGGnHCoQ6QA==",
          "dtype": "f8"
         },
         "yaxis": "y"
        },
        {
         "hovertemplate": "Medal=Silver<br>Year=%{x}<br>Age=%{y}<extra></extra>",
         "legendgroup": "Silver",
         "line": {
          "color": "#00cc96",
          "dash": "solid"
         },
         "marker": {
          "symbol": "circle"
         },
         "mode": "lines",
         "name": "Silver",
         "orientation": "v",
         "showlegend": true,
         "type": "scatter",
         "x": {
          "bdata": "aAdsB3AHcgd0B3gHgAeEB4gHjAeQB5wHoAekB6gHrAewB7QHuAe8B8AHxAfIB8oHzAfOB9AH0gfUB9YH2AfaB9wH3gfgBw==",
          "dtype": "i2"
         },
         "xaxis": "x",
         "y": {
          "bdata": "R1juaYTlN0DwtRHr0mM8QH+bYtTwtzpA60NjfWgsO0BWGj2igmw7QEiDNEiD9DtAhetRuB61PUBR5oIaYNw8QH6CfYJ9gjpAneZr9eyQOkBWZOhf2gg6QEL0+C4cRDxASWDeEzoMO0BJoB0JtCM5QEtqK6mtJDlAKQNPt+aHOUDOzc3NzQ05QKy5mqu5mjhAL8SlwRJzOEA+gPLzolo4QH3sxbriKDhAM8g6ZpB1OECqG6lupLo4QFdnpGJudTlAxz1GInuBOUC/VNDqSwU6QJN0x8lbBzpAPiInCHdjO0CHtW9Y+0Y6QPfZBcSm0jpA++PqlDRVOkA599kFxKY6QDIZkzEZEzpAFiOhtPGOOkA7h/oRDmQ6QA==",
          "dtype": "f8"
         },
         "yaxis": "y"
        }
       ],
       "layout": {
        "hovermode": "x unified",
        "legend": {
         "title": {
          "text": "Medal"
         },
         "tracegroupgap": 0
        },
        "template": {
         "data": {
          "bar": [
           {
            "error_x": {
             "color": "#2a3f5f"
            },
            "error_y": {
             "color": "#2a3f5f"
            },
            "marker": {
             "line": {
              "color": "#E5ECF6",
              "width": 0.5
             },
             "pattern": {
              "fillmode": "overlay",
              "size": 10,
              "solidity": 0.2
             }
            },
            "type": "bar"
           }
          ],
          "barpolar": [
           {
            "marker": {
             "line": {
              "color": "#E5ECF6",
              "width": 0.5
             },
             "pattern": {
              "fillmode": "overlay",
              "size": 10,
              "solidity": 0.2
             }
            },
            "type": "barpolar"
           }
          ],
          "carpet": [
           {
            "aaxis": {
             "endlinecolor": "#2a3f5f",
             "gridcolor": "white",
             "linecolor": "white",
             "minorgridcolor": "white",
             "startlinecolor": "#2a3f5f"
            },
            "baxis": {
             "endlinecolor": "#2a3f5f",
             "gridcolor": "white",
             "linecolor": "white",
             "minorgridcolor": "white",
             "startlinecolor": "#2a3f5f"
            },
            "type": "carpet"
           }
          ],
          "choropleth": [
           {
            "colorbar": {
             "outlinewidth": 0,
             "ticks": ""
            },
            "type": "choropleth"
           }
          ],
          "contour": [
           {
            "colorbar": {
             "outlinewidth": 0,
             "ticks": ""
            },
            "colorscale": [
             [
              0,
              "#0d0887"
             ],
             [
              0.1111111111111111,
              "#46039f"
             ],
             [
              0.2222222222222222,
              "#7201a8"
             ],
             [
              0.3333333333333333,
              "#9c179e"
             ],
             [
              0.4444444444444444,
              "#bd3786"
             ],
             [
              0.5555555555555556,
              "#d8576b"
             ],
             [
              0.6666666666666666,
              "#ed7953"
             ],
             [
              0.7777777777777778,
              "#fb9f3a"
             ],
             [
              0.8888888888888888,
              "#fdca26"
             ],
             [
              1,
              "#f0f921"
             ]
            ],
            "type": "contour"
           }
          ],
          "contourcarpet": [
           {
            "colorbar": {
             "outlinewidth": 0,
             "ticks": ""
            },
            "type": "contourcarpet"
           }
          ],
          "heatmap": [
           {
            "colorbar": {
             "outlinewidth": 0,
             "ticks": ""
            },
            "colorscale": [
             [
              0,
              "#0d0887"
             ],
             [
              0.1111111111111111,
              "#46039f"
             ],
             [
              0.2222222222222222,
              "#7201a8"
             ],
             [
              0.3333333333333333,
              "#9c179e"
             ],
             [
              0.4444444444444444,
              "#bd3786"
             ],
             [
              0.5555555555555556,
              "#d8576b"
             ],
             [
              0.6666666666666666,
              "#ed7953"
             ],
             [
              0.7777777777777778,
              "#fb9f3a"
             ],
             [
              0.8888888888888888,
              "#fdca26"
             ],
             [
              1,
              "#f0f921"
             ]
            ],
            "type": "heatmap"
           }
          ],
          "histogram": [
           {
            "marker": {
             "pattern": {
              "fillmode": "overlay",
              "size": 10,
              "solidity": 0.2
             }
            },
            "type": "histogram"
           }
          ],
          "histogram2d": [
           {
            "colorbar": {
             "outlinewidth": 0,
             "ticks": ""
            },
            "colorscale": [
             [
              0,
              "#0d0887"
             ],
             [
              0.1111111111111111,
              "#46039f"
             ],
             [
              0.2222222222222222,
              "#7201a8"
             ],
             [
              0.3333333333333333,
              "#9c179e"
             ],
             [
              0.4444444444444444,
              "#bd3786"
             ],
             [
              0.5555555555555556,
              "#d8576b"
             ],
             [
              0.6666666666666666,
              "#ed7953"
             ],
             [
              0.7777777777777778,
              "#fb9f3a"
             ],
             [
              0.8888888888888888,
              "#fdca26"
             ],
             [
              1,
              "#f0f921"
             ]
            ],
            "type": "histogram2d"
           }
          ],
          "histogram2dcontour": [
           {
            "colorbar": {
             "outlinewidth": 0,
             "ticks": ""
            },
            "colorscale": [
             [
              0,
              "#0d0887"
             ],
             [
              0.1111111111111111,
              "#46039f"
             ],
             [
              0.2222222222222222,
              "#7201a8"
             ],
             [
              0.3333333333333333,
              "#9c179e"
             ],
             [
              0.4444444444444444,
              "#bd3786"
             ],
             [
              0.5555555555555556,
              "#d8576b"
             ],
             [
              0.6666666666666666,
              "#ed7953"
             ],
             [
              0.7777777777777778,
              "#fb9f3a"
             ],
             [
              0.8888888888888888,
              "#fdca26"
             ],
             [
              1,
              "#f0f921"
             ]
            ],
            "type": "histogram2dcontour"
           }
          ],
          "mesh3d": [
           {
            "colorbar": {
             "outlinewidth": 0,
             "ticks": ""
            },
            "type": "mesh3d"
           }
          ],
          "parcoords": [
           {
            "line": {
             "colorbar": {
              "outlinewidth": 0,
              "ticks": ""
             }
            },
            "type": "parcoords"
           }
          ],
          "pie": [
           {
            "automargin": true,
            "type": "pie"
           }
          ],
          "scatter": [
           {
            "fillpattern": {
             "fillmode": "overlay",
             "size": 10,
             "solidity": 0.2
            },
            "type": "scatter"
           }
          ],
          "scatter3d": [
           {
            "line": {
             "colorbar": {
              "outlinewidth": 0,
              "ticks": ""
             }
            },
            "marker": {
             "colorbar": {
              "outlinewidth": 0,
              "ticks": ""
             }
            },
            "type": "scatter3d"
           }
          ],
          "scattercarpet": [
           {
            "marker": {
             "colorbar": {
              "outlinewidth": 0,
              "ticks": ""
             }
            },
            "type": "scattercarpet"
           }
          ],
          "scattergeo": [
           {
            "marker": {
             "colorbar": {
              "outlinewidth": 0,
              "ticks": ""
             }
            },
            "type": "scattergeo"
           }
          ],
          "scattergl": [
           {
            "marker": {
             "colorbar": {
              "outlinewidth": 0,
              "ticks": ""
             }
            },
            "type": "scattergl"
           }
          ],
          "scattermap": [
           {
            "marker": {
             "colorbar": {
              "outlinewidth": 0,
              "ticks": ""
             }
            },
            "type": "scattermap"
           }
          ],
          "scattermapbox": [
           {
            "marker": {
             "colorbar": {
              "outlinewidth": 0,
              "ticks": ""
             }
            },
            "type": "scattermapbox"
           }
          ],
          "scatterpolar": [
           {
            "marker": {
             "colorbar": {
              "outlinewidth": 0,
              "ticks": ""
             }
            },
            "type": "scatterpolar"
           }
          ],
          "scatterpolargl": [
           {
            "marker": {
             "colorbar": {
              "outlinewidth": 0,
              "ticks": ""
             }
            },
            "type": "scatterpolargl"
           }
          ],
          "scatterternary": [
           {
            "marker": {
             "colorbar": {
              "outlinewidth": 0,
              "ticks": ""
             }
            },
            "type": "scatterternary"
           }
          ],
          "surface": [
           {
            "colorbar": {
             "outlinewidth": 0,
             "ticks": ""
            },
            "colorscale": [
             [
              0,
              "#0d0887"
             ],
             [
              0.1111111111111111,
              "#46039f"
             ],
             [
              0.2222222222222222,
              "#7201a8"
             ],
             [
              0.3333333333333333,
              "#9c179e"
             ],
             [
              0.4444444444444444,
              "#bd3786"
             ],
             [
              0.5555555555555556,
              "#d8576b"
             ],
             [
              0.6666666666666666,
              "#ed7953"
             ],
             [
              0.7777777777777778,
              "#fb9f3a"
             ],
             [
              0.8888888888888888,
              "#fdca26"
             ],
             [
              1,
              "#f0f921"
             ]
            ],
            "type": "surface"
           }
          ],
          "table": [
           {
            "cells": {
             "fill": {
              "color": "#EBF0F8"
             },
             "line": {
              "color": "white"
             }
            },
            "header": {
             "fill": {
              "color": "#C8D4E3"
             },
             "line": {
              "color": "white"
             }
            },
            "type": "table"
           }
          ]
         },
         "layout": {
          "annotationdefaults": {
           "arrowcolor": "#2a3f5f",
           "arrowhead": 0,
           "arrowwidth": 1
          },
          "autotypenumbers": "strict",
          "coloraxis": {
           "colorbar": {
            "outlinewidth": 0,
            "ticks": ""
           }
          },
          "colorscale": {
           "diverging": [
            [
             0,
             "#8e0152"
            ],
            [
             0.1,
             "#c51b7d"
            ],
            [
             0.2,
             "#de77ae"
            ],
            [
             0.3,
             "#f1b6da"
            ],
            [
             0.4,
             "#fde0ef"
            ],
            [
             0.5,
             "#f7f7f7"
            ],
            [
             0.6,
             "#e6f5d0"
            ],
            [
             0.7,
             "#b8e186"
            ],
            [
             0.8,
             "#7fbc41"
            ],
            [
             0.9,
             "#4d9221"
            ],
            [
             1,
             "#276419"
            ]
           ],
           "sequential": [
            [
             0,
             "#0d0887"
            ],
            [
             0.1111111111111111,
             "#46039f"
            ],
            [
             0.2222222222222222,
             "#7201a8"
            ],
            [
             0.3333333333333333,
             "#9c179e"
            ],
            [
             0.4444444444444444,
             "#bd3786"
            ],
            [
             0.5555555555555556,
             "#d8576b"
            ],
            [
             0.6666666666666666,
             "#ed7953"
            ],
            [
             0.7777777777777778,
             "#fb9f3a"
            ],
            [
             0.8888888888888888,
             "#fdca26"
            ],
            [
             1,
             "#f0f921"
            ]
           ],
           "sequentialminus": [
            [
             0,
             "#0d0887"
            ],
            [
             0.1111111111111111,
             "#46039f"
            ],
            [
             0.2222222222222222,
             "#7201a8"
            ],
            [
             0.3333333333333333,
             "#9c179e"
            ],
            [
             0.4444444444444444,
             "#bd3786"
            ],
            [
             0.5555555555555556,
             "#d8576b"
            ],
            [
             0.6666666666666666,
             "#ed7953"
            ],
            [
             0.7777777777777778,
             "#fb9f3a"
            ],
            [
             0.8888888888888888,
             "#fdca26"
            ],
            [
             1,
             "#f0f921"
            ]
           ]
          },
          "colorway": [
           "#636efa",
           "#EF553B",
           "#00cc96",
           "#ab63fa",
           "#FFA15A",
           "#19d3f3",
           "#FF6692",
           "#B6E880",
           "#FF97FF",
           "#FECB52"
          ],
          "font": {
           "color": "#2a3f5f"
          },
          "geo": {
           "bgcolor": "white",
           "lakecolor": "white",
           "landcolor": "#E5ECF6",
           "showlakes": true,
           "showland": true,
           "subunitcolor": "white"
          },
          "hoverlabel": {
           "align": "left"
          },
          "hovermode": "closest",
          "mapbox": {
           "style": "light"
          },
          "paper_bgcolor": "white",
          "plot_bgcolor": "#E5ECF6",
          "polar": {
           "angularaxis": {
            "gridcolor": "white",
            "linecolor": "white",
            "ticks": ""
           },
           "bgcolor": "#E5ECF6",
           "radialaxis": {
            "gridcolor": "white",
            "linecolor": "white",
            "ticks": ""
           }
          },
          "scene": {
           "xaxis": {
            "backgroundcolor": "#E5ECF6",
            "gridcolor": "white",
            "gridwidth": 2,
            "linecolor": "white",
            "showbackground": true,
            "ticks": "",
            "zerolinecolor": "white"
           },
           "yaxis": {
            "backgroundcolor": "#E5ECF6",
            "gridcolor": "white",
            "gridwidth": 2,
            "linecolor": "white",
            "showbackground": true,
            "ticks": "",
            "zerolinecolor": "white"
           },
           "zaxis": {
            "backgroundcolor": "#E5ECF6",
            "gridcolor": "white",
            "gridwidth": 2,
            "linecolor": "white",
            "showbackground": true,
            "ticks": "",
            "zerolinecolor": "white"
           }
          },
          "shapedefaults": {
           "line": {
            "color": "#2a3f5f"
           }
          },
          "ternary": {
           "aaxis": {
            "gridcolor": "white",
            "linecolor": "white",
            "ticks": ""
           },
           "baxis": {
            "gridcolor": "white",
            "linecolor": "white",
            "ticks": ""
           },
           "bgcolor": "#E5ECF6",
           "caxis": {
            "gridcolor": "white",
            "linecolor": "white",
            "ticks": ""
           }
          },
          "title": {
           "x": 0.05
          },
          "xaxis": {
           "automargin": true,
           "gridcolor": "white",
           "linecolor": "white",
           "ticks": "",
           "title": {
            "standoff": 15
           },
           "zerolinecolor": "white",
           "zerolinewidth": 2
          },
          "yaxis": {
           "automargin": true,
           "gridcolor": "white",
           "linecolor": "white",
           "ticks": "",
           "title": {
            "standoff": 15
           },
           "zerolinecolor": "white",
           "zerolinewidth": 2
          }
         }
        },
        "title": {
         "text": "Mean age of Gold medalist"
        },
        "xaxis": {
         "anchor": "y",
         "domain": [
          0,
          1
         ],
         "title": {
          "text": "Year"
         }
        },
        "yaxis": {
         "anchor": "x",
         "domain": [
          0,
          1
         ],
         "title": {
          "text": "Age"
         }
        }
       }
      }
     },
     "metadata": {},
     "output_type": "display_data"
    }
   ],
   "source": [
    "import plotly.express as px\n",
    "mean_age_medal = df[~df.Medal.isna()].groupby(['Year', 'Medal'])['Age'].mean().reset_index()\n",
    "fig = px.line(mean_age_medal, x='Year', y='Age', color='Medal', title='Mean age of Gold medalist')\n",
    "fig.update_layout(hovermode=\"x unified\") # Median age of "
   ]
  },
  {
   "cell_type": "code",
   "execution_count": 7,
   "metadata": {},
   "outputs": [
    {
     "data": {
      "application/vnd.plotly.v1+json": {
       "config": {
        "plotlyServerURL": "https://plot.ly"
       },
       "data": [
        {
         "colorbar": {
          "title": {
           "text": "Medals"
          }
         },
         "colorscale": [
          [
           0,
           "#440154"
          ],
          [
           0.1111111111111111,
           "#482878"
          ],
          [
           0.2222222222222222,
           "#3e4989"
          ],
          [
           0.3333333333333333,
           "#31688e"
          ],
          [
           0.4444444444444444,
           "#26828e"
          ],
          [
           0.5555555555555556,
           "#1f9e89"
          ],
          [
           0.6666666666666666,
           "#35b779"
          ],
          [
           0.7777777777777778,
           "#6ece58"
          ],
          [
           0.8888888888888888,
           "#b5de2b"
          ],
          [
           1,
           "#fde725"
          ]
         ],
         "locationmode": "country names",
         "locations": [
          "Australia",
          "Australia/Great Britain",
          "Austria",
          "Denmark",
          "Ethnikos Gymnastikos Syllogos",
          "France",
          "Germany",
          "Great Britain",
          "Great Britain/Germany",
          "Greece",
          "Greece-1",
          "Hungary",
          "Switzerland",
          "United States"
         ],
         "type": "choropleth",
         "z": {
          "bdata": "AgIFBgILHwcCLAIGAxQ=",
          "dtype": "i1"
         }
        }
       ],
       "frames": [
        {
         "data": [
          {
           "colorbar": {
            "title": {
             "text": "Medals"
            }
           },
           "colorscale": [
            [
             0,
             "#440154"
            ],
            [
             0.1111111111111111,
             "#482878"
            ],
            [
             0.2222222222222222,
             "#3e4989"
            ],
            [
             0.3333333333333333,
             "#31688e"
            ],
            [
             0.4444444444444444,
             "#26828e"
            ],
            [
             0.5555555555555556,
             "#1f9e89"
            ],
            [
             0.6666666666666666,
             "#35b779"
            ],
            [
             0.7777777777777778,
             "#6ece58"
            ],
            [
             0.8888888888888888,
             "#b5de2b"
            ],
            [
             1,
             "#fde725"
            ]
           ],
           "locationmode": "country names",
           "locations": [
            "Australia",
            "Australia/Great Britain",
            "Austria",
            "Denmark",
            "Ethnikos Gymnastikos Syllogos",
            "France",
            "Germany",
            "Great Britain",
            "Great Britain/Germany",
            "Greece",
            "Greece-1",
            "Hungary",
            "Switzerland",
            "United States"
           ],
           "type": "choropleth",
           "z": {
            "bdata": "AgIFBgILHwcCLAIGAxQ=",
            "dtype": "i1"
           }
          }
         ],
         "name": "1896"
        },
        {
         "data": [
          {
           "colorbar": {
            "title": {
             "text": "Medals"
            }
           },
           "colorscale": [
            [
             0,
             "#440154"
            ],
            [
             0.1111111111111111,
             "#482878"
            ],
            [
             0.2222222222222222,
             "#3e4989"
            ],
            [
             0.3333333333333333,
             "#31688e"
            ],
            [
             0.4444444444444444,
             "#26828e"
            ],
            [
             0.5555555555555556,
             "#1f9e89"
            ],
            [
             0.6666666666666666,
             "#35b779"
            ],
            [
             0.7777777777777778,
             "#6ece58"
            ],
            [
             0.8888888888888888,
             "#b5de2b"
            ],
            [
             1,
             "#fde725"
            ]
           ],
           "locationmode": "country names",
           "locations": [
            "A North American Team",
            "Amateur Athletic Association",
            "Aschenbrodel",
            "Australia",
            "Austria",
            "BLO Polo Club, Rugby",
            "Baby-1",
            "Bagatelle Polo Club, Paris",
            "Belgium",
            "Belgium-1",
            "Bohemia",
            "Bohemia/Great Britain",
            "Bona Fide",
            "Brussels Swimming and Water Polo Club",
            "Brynhild-2",
            "Canada",
            "Carabinier-15",
            "Cercle de l'Aviron Roubaix-4",
            "Cicely-1",
            "Club Nautique de Lyon-2",
            "Crabe II-1",
            "Crabe II-4",
            "Cuba",
            "Denmark",
            "Denmark/Sweden",
            "Deutscher Schwimm Verband Berlin",
            "Devon and Somerset Wanderers",
            "Esterel-1",
            "Fantlet-7",
            "Favorite Hammonia-3",
            "Favorite-1",
            "Femur-1",
            "Formosa",
            "Foxhunters Hurlingham",
            "France",
            "France-1",
            "France/Great Britain",
            "Frankfurt Club",
            "Frimousse",
            "Germania Ruder Club, Hamburg-2",
            "Germany",
            "Gitana-2",
            "Great Britain",
            "Great Britain-1",
            "Great Britain-2",
            "Gwendoline-2",
            "Hungary",
            "India",
            "Italy",
            "Laurea-1",
            "Lerina",
            "Libellule de Paris",
            "Ludwigshafener Ruder Verein-1",
            "Luxembourg",
            "Martha-1",
            "Mascotte",
            "Mignon-3",
            "Minerva Amsterdam",
            "Moseley Wanderers",
            "Netherlands",
            "Nina Claire-2",
            "Norway",
            "Olle",
            "Osborne Swimming Club, Manchester",
            "Pupilles de Neptune de Lille #2-1",
            "Pupilles de Neptune de Lille-1",
            "Quand-Mme-2",
            "Racing Club de France",
            "Rowing Club Castillon-3",
            "Royal Club Nautique de Gand",
            "Sarcelle-3",
            "Scamasaxe-2",
            "Scamasaxe-3",
            "Scotia",
            "Societ Nautique de la Marne-1",
            "Spain",
            "Sweden",
            "Switzerland",
            "Tritons Lillois-2",
            "Turquoise-1",
            "USFSA",
            "Union des Socits Franais de Sports Athletiques",
            "United States",
            "United States/France",
            "United States/Great Britain",
            "Univ. of Brussels",
            "Upton Park FC",
            "Vesper Boat Club"
           ],
           "type": "choropleth",
           "z": {
            "bdata": "BAUIBQYEAgQOAQICAwoBAgEFAQQFBQIGBgQMAgEGCAEBBUsEAg8BBQIKFgICAwUCBQEGBwUBCAMBEQ8GBAkGBwgECQsDCQMCAgYCAgEPBQENHS0CAgsLCQ==",
            "dtype": "i1"
           }
          }
         ],
         "name": "1900"
        },
        {
         "data": [
          {
           "colorbar": {
            "title": {
             "text": "Medals"
            }
           },
           "colorscale": [
            [
             0,
             "#440154"
            ],
            [
             0.1111111111111111,
             "#482878"
            ],
            [
             0.2222222222222222,
             "#3e4989"
            ],
            [
             0.3333333333333333,
             "#31688e"
            ],
            [
             0.4444444444444444,
             "#26828e"
            ],
            [
             0.5555555555555556,
             "#1f9e89"
            ],
            [
             0.6666666666666666,
             "#35b779"
            ],
            [
             0.7777777777777778,
             "#6ece58"
            ],
            [
             0.8888888888888888,
             "#b5de2b"
            ],
            [
             1,
             "#fde725"
            ]
           ],
           "locationmode": "country names",
           "locations": [
            "Atalanta Boat Club-1",
            "Atalanta Boat Club-2",
            "Australia",
            "Austria",
            "Boston Archers",
            "Canada",
            "Central Turnverein, Chicago",
            "Century Boat Club-1",
            "Chicago Athletic Association",
            "Chicago Athletic Association-2",
            "Christian Brothers' College-1",
            "Cincinnati Archers",
            "Cuba",
            "France",
            "Galt Football Club",
            "Germany",
            "Great Britain",
            "Greece",
            "Hungary",
            "Independent Rowing Club-3",
            "Milwaukee Athletic Club-1",
            "Missouri Athletic Club-3",
            "Mohawk Indians-2",
            "Mound City Rowing Club-2",
            "New York Athletic Club",
            "New York Athletic Club #1-1",
            "New York Athletic Club-1",
            "New York Turnverein, New York",
            "Norway",
            "Philadelphia Turngemeinde, Philadelphia",
            "Potomac Archers",
            "Ravenswood Boat Club-2",
            "Seawanhaka Boat Club-1",
            "St. Louis Amateur Athletic Association",
            "St. Louis Southwest Turnverein #1-2",
            "St. Louis Southwest Turnverein #2-3",
            "St. Rose-2",
            "Switzerland",
            "Toronto Argonauts",
            "Trans-Mississippi Golf Association-2",
            "United States",
            "United States Golf Association-3",
            "United States-1",
            "United States-2",
            "United States-3",
            "United States-4",
            "Vesper Boat Club",
            "Western Golf Association-1",
            "Western Rowing Club-3",
            "Winnipeg Shamrocks-1"
           ],
           "type": "choropleth",
           "z": {
            "bdata": "AgACAAQAAwAEAAIABgAEAAUACwALAAgABQABAA0ADwACAAIABAACAAUACwAMAAQABQAEAAcABgACAAYABAACAAIADAAFAAUADAADAAkACgDHAAoAAgACAAIAAgAJAAoABgAMAA==",
            "dtype": "i2"
           }
          }
         ],
         "name": "1904"
        },
        {
         "data": [
          {
           "colorbar": {
            "title": {
             "text": "Medals"
            }
           },
           "colorscale": [
            [
             0,
             "#440154"
            ],
            [
             0.1111111111111111,
             "#482878"
            ],
            [
             0.2222222222222222,
             "#3e4989"
            ],
            [
             0.3333333333333333,
             "#31688e"
            ],
            [
             0.4444444444444444,
             "#26828e"
            ],
            [
             0.5555555555555556,
             "#1f9e89"
            ],
            [
             0.6666666666666666,
             "#35b779"
            ],
            [
             0.7777777777777778,
             "#6ece58"
            ],
            [
             0.8888888888888888,
             "#b5de2b"
            ],
            [
             1,
             "#fde725"
            ]
           ],
           "locationmode": "country names",
           "locations": [
            "Australia",
            "Austria",
            "Barion/Bari-2",
            "Belgium",
            "Bohemia",
            "Bucintoro Venezia",
            "Bucintoro Venezia-1",
            "Canada",
            "Denmark",
            "Finland",
            "France",
            "Germany",
            "Great Britain",
            "Greece",
            "Greece-1",
            "Greece-2",
            "Hungary",
            "Italy",
            "Large boat, Central Naval Prep School \"Poros\"-1",
            "Life boat naval ship \"Spetsai\"-1",
            "Marinai della nave da guerra \"Varese\"",
            "Netherlands",
            "Norway",
            "Omas Helliniki P. S.",
            "Phalainis ton Thorichtou \"Hydra\"-2",
            "Pistoja/Firenze",
            "Royal Club Nautique de Gand",
            "Smyrna",
            "Socit Nautique de Bayonne-1",
            "Socit Nautique de Bayonne-2",
            "Socit Nautique de la Basse Seine-1",
            "Sweden",
            "Switzerland",
            "Thessalonki-1",
            "United States"
           ],
           "type": "choropleth",
           "z": {
            "bdata": "AwkDCQMIAwIiBC0eHxwEAg0JEQcYBhkIGAkDCwMFCBUMCxg=",
            "dtype": "i1"
           }
          }
         ],
         "name": "1906"
        },
        {
         "data": [
          {
           "colorbar": {
            "title": {
             "text": "Medals"
            }
           },
           "colorscale": [
            [
             0,
             "#440154"
            ],
            [
             0.1111111111111111,
             "#482878"
            ],
            [
             0.2222222222222222,
             "#3e4989"
            ],
            [
             0.3333333333333333,
             "#31688e"
            ],
            [
             0.4444444444444444,
             "#26828e"
            ],
            [
             0.5555555555555556,
             "#1f9e89"
            ],
            [
             0.6666666666666666,
             "#35b779"
            ],
            [
             0.7777777777777778,
             "#6ece58"
            ],
            [
             0.8888888888888888,
             "#b5de2b"
            ],
            [
             1,
             "#fde725"
            ]
           ],
           "locationmode": "country names",
           "locations": [
            "Amstel Amsterdam",
            "Argonaut Rowing Club",
            "Australasia",
            "Austria",
            "Belgium",
            "Berliner Ruderclub",
            "Bohemia",
            "Cambridge University Boat Club-2",
            "Camille",
            "Canada",
            "Cobweb-1",
            "Cornwall",
            "Denmark",
            "Dormy-1",
            "England-1",
            "Finland",
            "France",
            "Germany",
            "Great Britain",
            "Great Britain-1",
            "Great Britain-2",
            "Great Britain-3",
            "Greece",
            "Guyoni",
            "Gyrinus-1",
            "Hera-1",
            "Heroine",
            "Hungary",
            "Hurlingham-2",
            "Ireland-2",
            "Ireland-3",
            "Italy",
            "K Division Metropolitan Police Team-3",
            "Leander Club #1-1",
            "Leander Club #2-2",
            "Leander Club-1",
            "Leander Club-2",
            "Liverpool Police Team-2",
            "London City Police-1",
            "Magdalen College Boat Club-1",
            "Mouchette-2",
            "Netherlands",
            "Norway",
            "Roehampton-1",
            "Royal Club Nautique de Gand",
            "Russia",
            "Scotland-3",
            "Sorais-2",
            "South Africa",
            "Sweden",
            "Toronto Argonauts",
            "United States",
            "Vinga-1",
            "Wales-4",
            "Zut"
           ],
           "type": "choropleth",
           "z": {
            "bdata": "BAAGABMAAQAVAAIABgAJAAEAJQAFAA8AEQADAAsAHgAkABMApwAOAA4ABAAEAAMABgAKAAQAFAAEAAwABAAIAAgAAgACAAkABAAIAAgABAAKAAwAKgAEAAkAAwALAAUAAgBPAAkAQQAFAAsAAwA=",
            "dtype": "i2"
           }
          }
         ],
         "name": "1908"
        },
        {
         "data": [
          {
           "colorbar": {
            "title": {
             "text": "Medals"
            }
           },
           "colorscale": [
            [
             0,
             "#440154"
            ],
            [
             0.1111111111111111,
             "#482878"
            ],
            [
             0.2222222222222222,
             "#3e4989"
            ],
            [
             0.3333333333333333,
             "#31688e"
            ],
            [
             0.4444444444444444,
             "#26828e"
            ],
            [
             0.5555555555555556,
             "#1f9e89"
            ],
            [
             0.6666666666666666,
             "#35b779"
            ],
            [
             0.7777777777777778,
             "#6ece58"
            ],
            [
             0.8888888888888888,
             "#b5de2b"
            ],
            [
             1,
             "#fde725"
            ]
           ],
           "locationmode": "country names",
           "locations": [
            "Australasia",
            "Austria",
            "Belgium",
            "Berliner Ruderverein von 1876-2",
            "Canada",
            "Denmark",
            "England",
            "England-1",
            "Erna Signe",
            "Finland",
            "France",
            "Gallia II",
            "Germany",
            "Great Britain",
            "Great Britain-1",
            "Great Britain-2",
            "Greece",
            "Heatherbell",
            "Hungary",
            "Italy",
            "Kerstin-1",
            "Kitty-1",
            "Kristiania Roklub-1",
            "Leander Club-1",
            "Lucky Girl-1",
            "Ludwigshafener Ruderverein",
            "Mac Miche",
            "Magda IX",
            "Netherlands",
            "New College, Oxford-2",
            "Nina",
            "Norway",
            "Nurdug II",
            "Nykjbings paa Falster",
            "Ormsund Roklub-2",
            "Polyteknisk Roklub-1",
            "Roddklubben af 1912-1",
            "Russia",
            "Sans Atout-1",
            "South Africa",
            "Sweden",
            "Sweden-1",
            "Sweden-2",
            "Sweden-3",
            "Switzerland",
            "Taifun",
            "Thames Rowing Club",
            "United States"
           ],
           "type": "choropleth",
           "z": {
            "bdata": "CgAOABMACQAIAEoAAQAMAAoANAAXAAcAJwCAAAIABAACAAcAHgAZAAMACAAFAAkABQAFAAMACgAaAAkABwA3AAMABQAFAAUABQAHAAUABwCZAAIAAgACAAIABQAFAGsA",
            "dtype": "i2"
           }
          }
         ],
         "name": "1912"
        },
        {
         "data": [
          {
           "colorbar": {
            "title": {
             "text": "Medals"
            }
           },
           "colorscale": [
            [
             0,
             "#440154"
            ],
            [
             0.1111111111111111,
             "#482878"
            ],
            [
             0.2222222222222222,
             "#3e4989"
            ],
            [
             0.3333333333333333,
             "#31688e"
            ],
            [
             0.4444444444444444,
             "#26828e"
            ],
            [
             0.5555555555555556,
             "#1f9e89"
            ],
            [
             0.6666666666666666,
             "#35b779"
            ],
            [
             0.7777777777777778,
             "#6ece58"
            ],
            [
             0.8888888888888888,
             "#b5de2b"
            ],
            [
             1,
             "#fde725"
            ]
           ],
           "locationmode": "country names",
           "locations": [
            "Ancora",
            "Antwerpia V",
            "Atlanta",
            "Australia",
            "Beatrijs III-1",
            "Belgium",
            "Boreas-2",
            "Brazil",
            "Canada",
            "Czechoslovakia",
            "Denmark",
            "Edelweiss II-1",
            "Eleda",
            "Elsie",
            "Estonia",
            "Finland",
            "Fornebo",
            "France",
            "France-3",
            "Great Britain",
            "Great Britain-1",
            "Great Britain-2",
            "Great Britain-3",
            "Greece",
            "Heira II",
            "Irene",
            "Italy",
            "Japan",
            "Jo",
            "Kullan",
            "Luxembourg",
            "Lyn-2",
            "Marmi II-1",
            "Mosk II",
            "Netherlands",
            "New Zealand",
            "Norway",
            "Oranje",
            "Rose Pompon",
            "Sif",
            "Sildra-1",
            "South Africa",
            "Spain",
            "Stella-2",
            "Sweden",
            "Switzerland",
            "Tan-Fe-Pah",
            "United States"
           ],
           "type": "choropleth",
           "z": {
            "bdata": "BAAFAAkABwADALEAAgAHABAACgBHAAMABwAEAAMANAAEAIYABABlAAIAAgACAAUACQAFAFQAAwADAAMAAQAFAAMABwAqAAEATgADAAMABAAEABUAFwADAI8AHQADAMIA",
            "dtype": "i2"
           }
          }
         ],
         "name": "1920"
        },
        {
         "data": [
          {
           "colorbar": {
            "title": {
             "text": "Medals"
            }
           },
           "colorscale": [
            [
             0,
             "#440154"
            ],
            [
             0.1111111111111111,
             "#482878"
            ],
            [
             0.2222222222222222,
             "#3e4989"
            ],
            [
             0.3333333333333333,
             "#31688e"
            ],
            [
             0.4444444444444444,
             "#26828e"
            ],
            [
             0.5555555555555556,
             "#1f9e89"
            ],
            [
             0.6666666666666666,
             "#35b779"
            ],
            [
             0.7777777777777778,
             "#6ece58"
            ],
            [
             0.8888888888888888,
             "#b5de2b"
            ],
            [
             1,
             "#fde725"
            ]
           ],
           "locationmode": "country names",
           "locations": [
            "Argentina",
            "Australia",
            "Austria",
            "Belgium",
            "Belgium-1",
            "Bera",
            "Bonzo",
            "Canada",
            "Czechoslovakia",
            "Denmark",
            "Elisabeth V",
            "Emily",
            "Estonia",
            "Finland",
            "France",
            "France-1",
            "France-2",
            "Great Britain",
            "Great Britain-1",
            "Great Britain-2",
            "Greece",
            "Haiti",
            "Hungary",
            "India",
            "Ireland",
            "Italy",
            "Japan",
            "Luxembourg",
            "Monaco",
            "Namoussa",
            "Nepal",
            "Netherlands",
            "New Zealand",
            "Norway",
            "Poland",
            "Portugal",
            "Romania",
            "South Africa",
            "Sweden",
            "Switzerland",
            "Switzerland-1",
            "United States",
            "United States-1",
            "United States-2",
            "Uruguay",
            "Willem-Six",
            "Yugoslavia"
           ],
           "type": "choropleth",
           "z": {
            "bdata": "CgALAAgAJwAFAAUAAwAdAAoACwADAAUABgBDAG0ABAACAFIABgACAAEABQAWAAcAAgAzAAEAAgABAAUAAQAYAAEAHwAFAAQAEAADAFEAQQAEALoABAAEAA4AAwACAA==",
            "dtype": "i2"
           }
          }
         ],
         "name": "1924"
        },
        {
         "data": [
          {
           "colorbar": {
            "title": {
             "text": "Medals"
            }
           },
           "colorscale": [
            [
             0,
             "#440154"
            ],
            [
             0.1111111111111111,
             "#482878"
            ],
            [
             0.2222222222222222,
             "#3e4989"
            ],
            [
             0.3333333333333333,
             "#31688e"
            ],
            [
             0.4444444444444444,
             "#26828e"
            ],
            [
             0.5555555555555556,
             "#1f9e89"
            ],
            [
             0.6666666666666666,
             "#35b779"
            ],
            [
             0.7777777777777778,
             "#6ece58"
            ],
            [
             0.8888888888888888,
             "#b5de2b"
            ],
            [
             1,
             "#fde725"
            ]
           ],
           "locationmode": "country names",
           "locations": [
            "Argentina",
            "Australia",
            "Austria",
            "Austria-1",
            "Austria-2",
            "Belgium",
            "Canada",
            "Chile",
            "Czechoslovakia",
            "Denmark",
            "Egypt",
            "Estonia",
            "Finland",
            "France",
            "Germany",
            "Germany-2",
            "Great Britain",
            "Haiti",
            "Hi-Hi",
            "Hollandia",
            "Hungary",
            "India",
            "Ireland",
            "Italy",
            "Japan",
            "L'Aile VI",
            "Luxembourg",
            "Netherlands",
            "New Zealand",
            "Norna",
            "Norway",
            "Philippines",
            "Poland",
            "Portugal",
            "South Africa",
            "Spain",
            "Sweden",
            "Switzerland",
            "Sylvia",
            "Tutti V",
            "United States",
            "United States-1",
            "United States-2",
            "Uruguay",
            "Yugoslavia"
           ],
           "type": "choropleth",
           "z": {
            "bdata": "GgQHAgIGLQERCwQEHS5NBTsBBAYVDgFICQYBMwEEFAEUBgYDLyoGBVwFBREM",
            "dtype": "i1"
           }
          }
         ],
         "name": "1928"
        },
        {
         "data": [
          {
           "colorbar": {
            "title": {
             "text": "Medals"
            }
           },
           "colorscale": [
            [
             0,
             "#440154"
            ],
            [
             0.1111111111111111,
             "#482878"
            ],
            [
             0.2222222222222222,
             "#3e4989"
            ],
            [
             0.3333333333333333,
             "#31688e"
            ],
            [
             0.4444444444444444,
             "#26828e"
            ],
            [
             0.5555555555555556,
             "#1f9e89"
            ],
            [
             0.6666666666666666,
             "#35b779"
            ],
            [
             0.7777777777777778,
             "#6ece58"
            ],
            [
             0.8888888888888888,
             "#b5de2b"
            ],
            [
             1,
             "#fde725"
            ]
           ],
           "locationmode": "country names",
           "locations": [
            "Angelita",
            "Argentina",
            "Australia",
            "Austria",
            "Belgium",
            "Bissbi",
            "Canada",
            "Caprice",
            "Czechoslovakia",
            "Denmark",
            "Finland",
            "France",
            "Gallant",
            "Germany",
            "Germany-1",
            "Great Britain",
            "Hungary",
            "Hungary-1",
            "India",
            "Ireland",
            "Italy",
            "Japan",
            "Joy",
            "Jupiter",
            "Latvia",
            "Mexico",
            "Netherlands",
            "New Zealand",
            "Norway",
            "Philippines",
            "Poland",
            "Santa Maria",
            "South Africa",
            "Spain",
            "Sweden",
            "Swedish Star",
            "Switzerland",
            "Switzerland-2",
            "United States",
            "United States-1",
            "United States-2",
            "Uruguay"
           ],
           "type": "choropleth",
           "z": {
            "bdata": "DAAEAAUABwABAAQAMQAEAAYACwAgACoABQA1AAQAIQAhAAIADwACAE0AHwACAAIAAQACAA0AAgAKAAMAFQAGAAUAAQAdAAIAAQACAL4ACAAGAAEA",
            "dtype": "i2"
           }
          }
         ],
         "name": "1932"
        },
        {
         "data": [
          {
           "colorbar": {
            "title": {
             "text": "Medals"
            }
           },
           "colorscale": [
            [
             0,
             "#440154"
            ],
            [
             0.1111111111111111,
             "#482878"
            ],
            [
             0.2222222222222222,
             "#3e4989"
            ],
            [
             0.3333333333333333,
             "#31688e"
            ],
            [
             0.4444444444444444,
             "#26828e"
            ],
            [
             0.5555555555555556,
             "#1f9e89"
            ],
            [
             0.6666666666666666,
             "#35b779"
            ],
            [
             0.7777777777777778,
             "#6ece58"
            ],
            [
             0.8888888888888888,
             "#b5de2b"
            ],
            [
             1,
             "#fde725"
            ]
           ],
           "locationmode": "country names",
           "locations": [
            "Argentina",
            "Australia",
            "Austria",
            "Austria-1",
            "Belgium",
            "Bem II",
            "Canada",
            "Czechoslovakia",
            "Denmark",
            "Egypt",
            "Estonia",
            "Finland",
            "France",
            "Germania II",
            "Germany",
            "Germany-1",
            "Great Britain",
            "Hungary",
            "Hungary-1",
            "India",
            "Italia",
            "Italy",
            "Japan",
            "Lalage",
            "Latvia",
            "Lully II",
            "May Be",
            "Mexico",
            "Netherlands",
            "New Zealand",
            "Norway",
            "Nrnberg",
            "Philippines",
            "Poland",
            "Portugal",
            "Potsdam",
            "Romania",
            "Rostock",
            "Silja",
            "South Africa",
            "Sunshine",
            "Sweden",
            "Switzerland",
            "Switzerland-1",
            "Switzerland-2",
            "Turkey",
            "United States",
            "United States-1",
            "United States-2",
            "Wannsee",
            "Yugoslavia"
           ],
           "type": "choropleth",
           "z": {
            "bdata": "CwABADoAAgAOAAIAIwASAAYABQAHACQALQAGANwAAgAvACkAAgATAAYARgAXAAUAAgAFAAUAEAAiAAEAIwABAAEADAADAAEAAQABAAYAAQACACYANAAEAAYAAgBsAAIAAgACAAEA",
            "dtype": "i2"
           }
          }
         ],
         "name": "1936"
        },
        {
         "data": [
          {
           "colorbar": {
            "title": {
             "text": "Medals"
            }
           },
           "colorscale": [
            [
             0,
             "#440154"
            ],
            [
             0.1111111111111111,
             "#482878"
            ],
            [
             0.2222222222222222,
             "#3e4989"
            ],
            [
             0.3333333333333333,
             "#31688e"
            ],
            [
             0.4444444444444444,
             "#26828e"
            ],
            [
             0.5555555555555556,
             "#1f9e89"
            ],
            [
             0.6666666666666666,
             "#35b779"
            ],
            [
             0.7777777777777778,
             "#6ece58"
            ],
            [
             0.8888888888888888,
             "#b5de2b"
            ],
            [
             1,
             "#fde725"
            ]
           ],
           "locationmode": "country names",
           "locations": [
            "Ali-Baba II",
            "Argentina",
            "Australia",
            "Austria",
            "Belgium",
            "Brazil",
            "Canada",
            "Czechoslovakia",
            "Denmark",
            "Djinn",
            "Egypt",
            "Finland",
            "France",
            "Great Britain",
            "Hilarius",
            "Hungary",
            "Hungary-1",
            "India",
            "Iran",
            "Ireland",
            "Italy",
            "Jamaica",
            "Kurush II",
            "Llanoria",
            "Margaret",
            "Mexico",
            "Netherlands",
            "Norway",
            "Pan",
            "Panama",
            "Peru",
            "Poland",
            "Portugal",
            "Puerto Rico",
            "Slaghoken",
            "Snap",
            "South Africa",
            "South Korea",
            "Spain",
            "Sri Lanka",
            "Starita",
            "Sweden",
            "Swift",
            "Switzerland",
            "Switzerland-1",
            "Switzerland-2",
            "Symphony",
            "Trinidad and Tobago",
            "Turkey",
            "United States",
            "United States-1",
            "United States-2",
            "Uruguay",
            "Yugoslavia"
           ],
           "type": "choropleth",
           "z": {
            "bdata": "BQAGABAAEAAVAAoAFgAlADAABQAFACoATQA9AAIAPgACABQAAQABAEQAAwACAAUAAgAJACgAHAADAAIAAQACAAMAAQADAAMABgACAAMAAQACAFAAAgA8AAIAAgACAAEADACVAAQABgADABAA",
            "dtype": "i2"
           }
          }
         ],
         "name": "1948"
        },
        {
         "data": [
          {
           "colorbar": {
            "title": {
             "text": "Medals"
            }
           },
           "colorscale": [
            [
             0,
             "#440154"
            ],
            [
             0.1111111111111111,
             "#482878"
            ],
            [
             0.2222222222222222,
             "#3e4989"
            ],
            [
             0.3333333333333333,
             "#31688e"
            ],
            [
             0.4444444444444444,
             "#26828e"
            ],
            [
             0.5555555555555556,
             "#1f9e89"
            ],
            [
             0.6666666666666666,
             "#35b779"
            ],
            [
             0.7777777777777778,
             "#6ece58"
            ],
            [
             0.8888888888888888,
             "#b5de2b"
            ],
            [
             1,
             "#fde725"
            ]
           ],
           "locationmode": "country names",
           "locations": [
            "Argentina",
            "Australia",
            "Austria",
            "Belgium",
            "Brazil",
            "Bulgaria",
            "Canada",
            "Chile",
            "Comanche",
            "Complex II",
            "Czechoslovakia",
            "Denmark",
            "Egypt",
            "Elisabeth X",
            "Encore",
            "Espadarte",
            "Finland",
            "France",
            "Germany",
            "Germany-1",
            "Great Britain",
            "Gustel X",
            "Hojwa",
            "Hungary",
            "Hungary-1",
            "India",
            "Iran",
            "Ireland",
            "Italy",
            "Jamaica",
            "Japan",
            "Lebanon",
            "Llanoria",
            "Luxembourg",
            "Merope",
            "Mexico",
            "Netherlands",
            "New Zealand",
            "Norway",
            "Pan",
            "Poland",
            "Ralia",
            "Romania",
            "South Africa",
            "South Korea",
            "Soviet Union",
            "Spain",
            "Sweden",
            "Switzerland",
            "Switzerland-1",
            "Tornado",
            "Trinidad and Tobago",
            "Turkey",
            "United States",
            "United States-1",
            "Uruguay",
            "Venezuela",
            "Yugoslavia"
           ],
           "type": "choropleth",
           "z": {
            "bdata": "BgAUAAsACAADAAEAFQAEAAIABAAZAAkAAQAFAAMAAgAvACkALQAEACAAAwADAGYAAgAPAAcAAQA2AAgADAACAAYAAQACAAEAFQADABUAAwAEAAUABAAOAAIAdQABAFcAIQAGAAMAAgADAJAACAAOAAEAGAA=",
            "dtype": "i2"
           }
          }
         ],
         "name": "1952"
        },
        {
         "data": [
          {
           "colorbar": {
            "title": {
             "text": "Medals"
            }
           },
           "colorscale": [
            [
             0,
             "#440154"
            ],
            [
             0.1111111111111111,
             "#482878"
            ],
            [
             0.2222222222222222,
             "#3e4989"
            ],
            [
             0.3333333333333333,
             "#31688e"
            ],
            [
             0.4444444444444444,
             "#26828e"
            ],
            [
             0.5555555555555556,
             "#1f9e89"
            ],
            [
             0.6666666666666666,
             "#35b779"
            ],
            [
             0.7777777777777778,
             "#6ece58"
            ],
            [
             0.8888888888888888,
             "#b5de2b"
            ],
            [
             1,
             "#fde725"
            ]
           ],
           "locationmode": "country names",
           "locations": [
            "Argentina",
            "Australia",
            "Austria",
            "Austria-1",
            "Belgium",
            "Bluebottle",
            "Brazil",
            "Bulgaria",
            "Buraddoo",
            "Canada",
            "Canada-1",
            "Chile",
            "Chuckles",
            "Czechoslovakia",
            "Denmark",
            "Falcon IV",
            "Finland",
            "France",
            "Gem IV",
            "Germany",
            "Great Britain",
            "Greece",
            "Hungary",
            "Iceland",
            "India",
            "Iran",
            "Ireland",
            "Italy",
            "Italy-1",
            "Italy-2",
            "Japan",
            "Jest",
            "Kathleen",
            "Merope III",
            "Mexico",
            "New Zealand",
            "Norway",
            "Pakistan",
            "Poland",
            "Romania",
            "Rush V",
            "Slaghoken II",
            "South Africa",
            "South Korea",
            "Soviet Union",
            "Sweden",
            "Switzerland",
            "Switzerland-1",
            "Tip",
            "Turkey",
            "United States",
            "United States-1",
            "Uruguay",
            "Vision",
            "Yugoslavia"
           ],
           "type": "choropleth",
           "z": {
            "bdata": "AgA+AA4AAgACAAMAAQASAAMAJQACAAQAAgAHAAMAAgAmACEAAgA2ACUAAQBCAAEAEQAFAAUALQACAAYAGQACAAIAAgACAAEABwAOABQAEwADAAMABwACAM4AKwAHAAYAAwAHAI8ABAAMAAQAFwA=",
            "dtype": "i2"
           }
          }
         ],
         "name": "1956"
        },
        {
         "data": [
          {
           "colorbar": {
            "title": {
             "text": "Medals"
            }
           },
           "colorscale": [
            [
             0,
             "#440154"
            ],
            [
             0.1111111111111111,
             "#482878"
            ],
            [
             0.2222222222222222,
             "#3e4989"
            ],
            [
             0.3333333333333333,
             "#31688e"
            ],
            [
             0.4444444444444444,
             "#26828e"
            ],
            [
             0.5555555555555556,
             "#1f9e89"
            ],
            [
             0.6666666666666666,
             "#35b779"
            ],
            [
             0.7777777777777778,
             "#6ece58"
            ],
            [
             0.8888888888888888,
             "#b5de2b"
            ],
            [
             1,
             "#fde725"
            ]
           ],
           "locationmode": "country names",
           "locations": [
            "Argentina",
            "Australia",
            "Austria",
            "Ballerina IV",
            "Belgium",
            "Brazil",
            "Bulgaria",
            "Canada",
            "Canada-1",
            "Chinese Taipei",
            "Czechoslovakia",
            "Denmark",
            "Ethiopia",
            "Finland",
            "France",
            "Germany",
            "Germany-1",
            "Ghana",
            "Great Britain",
            "Hungary",
            "India",
            "Iran",
            "Iraq",
            "Italy",
            "Japan",
            "Ma'Lindo",
            "Macky VI",
            "Mexico",
            "Minotaur",
            "Morocco",
            "Netherlands",
            "New Zealand",
            "Nirefs",
            "Norway",
            "Pakistan",
            "Poland",
            "Romania",
            "Shrew II",
            "Singapore",
            "Sirene",
            "Skum",
            "South Africa",
            "Soviet Union",
            "Spain",
            "Sweden",
            "Switzerland",
            "Tango",
            "Tornado",
            "Turkey",
            "United Arab Republic",
            "United States",
            "United States-1",
            "Venezuela",
            "Venilia",
            "Web II",
            "West Indies Federation",
            "Yugoslavia"
           ],
           "type": "choropleth",
           "z": {
            "bdata": "AQAuAAkAAwAEAA0ABwAcAAIAAQAXABIAAQATAA8AXQACAAEAHABCAA0ABAABAFYAHwACAAMAAQADAAEABQADAAMACQAOACAADwACAAEAAgACAAMA0QAOABAACwADAAIACQACAJEAAgABAAMAAwAFABEA",
            "dtype": "i2"
           }
          }
         ],
         "name": "1960"
        },
        {
         "data": [
          {
           "colorbar": {
            "title": {
             "text": "Medals"
            }
           },
           "colorscale": [
            [
             0,
             "#440154"
            ],
            [
             0.1111111111111111,
             "#482878"
            ],
            [
             0.2222222222222222,
             "#3e4989"
            ],
            [
             0.3333333333333333,
             "#31688e"
            ],
            [
             0.4444444444444444,
             "#26828e"
            ],
            [
             0.5555555555555556,
             "#1f9e89"
            ],
            [
             0.6666666666666666,
             "#35b779"
            ],
            [
             0.7777777777777778,
             "#6ece58"
            ],
            [
             0.8888888888888888,
             "#b5de2b"
            ],
            [
             1,
             "#fde725"
            ]
           ],
           "locationmode": "country names",
           "locations": [
            "Aphrodite",
            "Argentina",
            "Australia",
            "Austria",
            "Austria-1",
            "Austria-2",
            "Barrenjoey",
            "Belgium",
            "Bingo",
            "Brazil",
            "Bulgaria",
            "Canada",
            "Canada-1",
            "Cuba",
            "Czechoslovakia",
            "Denmark",
            "Ethiopia",
            "Finland",
            "France",
            "Gem",
            "Germany",
            "Germany-1",
            "Ghana",
            "Glider",
            "Great Britain",
            "Great Britain-1",
            "Humbug V",
            "Hungary",
            "India",
            "Iran",
            "Ireland",
            "Italy",
            "Italy-1",
            "Italy-2",
            "Japan",
            "Kenya",
            "Lady C",
            "Mexico",
            "Mutafo",
            "Netherlands",
            "New Zealand",
            "Nigeria",
            "North Korea",
            "Norway",
            "Pakistan",
            "Pandora",
            "Philippines",
            "Poland",
            "Romania",
            "Rush VII",
            "South Korea",
            "Soviet Union",
            "Soviet Union-1",
            "Sweden",
            "Switzerland",
            "Trinidad and Tobago",
            "Tunisia",
            "Turkey",
            "United States",
            "United States-1",
            "Uruguay",
            "White Lady",
            "Widgeon",
            "Yugoslavia"
           ],
           "type": "choropleth",
           "z": {
            "bdata": "AwABACkACQAGAAIAAwADAAMADAAKAAYABgABAEcACQABABQAJgACAHkAAgABAAIAGgACAAIAOAAPAAIAAQAzAAQABgA+AAEAAgABAAMAIQAEAAEAAQAPABAAAgABAC4AEAADAAMA2wACACYABgAGAAIABgClAAIAAQADAAIADwA=",
            "dtype": "i2"
           }
          }
         ],
         "name": "1964"
        },
        {
         "data": [
          {
           "colorbar": {
            "title": {
             "text": "Medals"
            }
           },
           "colorscale": [
            [
             0,
             "#440154"
            ],
            [
             0.1111111111111111,
             "#482878"
            ],
            [
             0.2222222222222222,
             "#3e4989"
            ],
            [
             0.3333333333333333,
             "#31688e"
            ],
            [
             0.4444444444444444,
             "#26828e"
            ],
            [
             0.5555555555555556,
             "#1f9e89"
            ],
            [
             0.6666666666666666,
             "#35b779"
            ],
            [
             0.7777777777777778,
             "#6ece58"
            ],
            [
             0.8888888888888888,
             "#b5de2b"
            ],
            [
             1,
             "#fde725"
            ]
           ],
           "locationmode": "country names",
           "locations": [
            "Argentina",
            "Australia",
            "Austria",
            "Austria-1",
            "Belgium",
            "Brazil",
            "Bulgaria",
            "Cameroon",
            "Canada",
            "Chinese Taipei",
            "Cuba",
            "Czechoslovakia",
            "Denmark",
            "East Germany",
            "East Germany-1",
            "Ethiopia",
            "Finland",
            "France",
            "Great Britain",
            "Greece",
            "Hungary",
            "India",
            "Iran",
            "Italy",
            "Italy-1",
            "Jamaica",
            "Japan",
            "Kenya",
            "Mexico",
            "Mongolia",
            "Netherlands",
            "New Zealand",
            "Norway",
            "Pakistan",
            "Poland",
            "Romania",
            "Romania-1",
            "South Korea",
            "Soviet Union",
            "Soviet Union-1",
            "Soviet Union-2",
            "Sweden",
            "Switzerland",
            "Switzerland-1",
            "Tunisia",
            "Turkey",
            "Uganda",
            "United States",
            "Venezuela",
            "West Germany",
            "West Germany-1",
            "Yugoslavia"
           ],
           "type": "choropleth",
           "z": {
            "bdata": "AgAzAA4ABgADAAQAGgABAB4AAQAKADIAEQA4AAIAAgAMACQAEwABAFEAEAAFACMABgABAD8ADAAJAAQAFwAHABwADQAlABcAAgACAOEAAgACABkAEgAEAAIAAgACAK0AAQA3AAYAHQA=",
            "dtype": "i2"
           }
          }
         ],
         "name": "1968"
        },
        {
         "data": [
          {
           "colorbar": {
            "title": {
             "text": "Medals"
            }
           },
           "colorscale": [
            [
             0,
             "#440154"
            ],
            [
             0.1111111111111111,
             "#482878"
            ],
            [
             0.2222222222222222,
             "#3e4989"
            ],
            [
             0.3333333333333333,
             "#31688e"
            ],
            [
             0.4444444444444444,
             "#26828e"
            ],
            [
             0.5555555555555556,
             "#1f9e89"
            ],
            [
             0.6666666666666666,
             "#35b779"
            ],
            [
             0.7777777777777778,
             "#6ece58"
            ],
            [
             0.8888888888888888,
             "#b5de2b"
            ],
            [
             1,
             "#fde725"
            ]
           ],
           "locationmode": "country names",
           "locations": [
            "Argentina",
            "Australia",
            "Austria",
            "Belgium",
            "Brazil",
            "Bulgaria",
            "Canada",
            "Colombia",
            "Cuba",
            "Czechoslovakia",
            "Denmark",
            "East Germany",
            "East Germany-1",
            "East Germany-2",
            "Ethiopia",
            "Finland",
            "France",
            "Ghana",
            "Great Britain",
            "Greece",
            "Hungary",
            "India",
            "Iran",
            "Italy",
            "Italy-1",
            "Jamaica",
            "Japan",
            "Kenya",
            "Lebanon",
            "Mexico",
            "Mongolia",
            "Netherlands",
            "New Zealand",
            "Niger",
            "Nigeria",
            "North Korea",
            "Norway",
            "Pakistan",
            "Poland",
            "Romania",
            "South Korea",
            "Soviet Union",
            "Soviet Union-1",
            "Soviet Union-2",
            "Spain",
            "Sweden",
            "Switzerland",
            "Switzerland-1",
            "Tunisia",
            "Turkey",
            "Uganda",
            "United States",
            "West Germany",
            "West Germany-1",
            "West Germany-2",
            "Yugoslavia"
           ],
           "type": "choropleth",
           "z": {
            "bdata": "AQAUAAgAAgACABYADAADABYAMQABAKMABgACAAIAFAAZAAEAHQACAFEADgADABwABgABADsADAABAAEAAQAPAA4AAQABAA8AGQAPAC8AKAABAP8AAgACAAIAGgATAAYAAQABAAIAwwBmAAgAAgASAA==",
            "dtype": "i2"
           }
          }
         ],
         "name": "1972"
        },
        {
         "data": [
          {
           "colorbar": {
            "title": {
             "text": "Medals"
            }
           },
           "colorscale": [
            [
             0,
             "#440154"
            ],
            [
             0.1111111111111111,
             "#482878"
            ],
            [
             0.2222222222222222,
             "#3e4989"
            ],
            [
             0.3333333333333333,
             "#31688e"
            ],
            [
             0.4444444444444444,
             "#26828e"
            ],
            [
             0.5555555555555556,
             "#1f9e89"
            ],
            [
             0.6666666666666666,
             "#35b779"
            ],
            [
             0.7777777777777778,
             "#6ece58"
            ],
            [
             0.8888888888888888,
             "#b5de2b"
            ],
            [
             1,
             "#fde725"
            ]
           ],
           "locationmode": "country names",
           "locations": [
            "Australia",
            "Austria",
            "Austria-1",
            "Belgium",
            "Bermuda",
            "Brazil",
            "Bulgaria",
            "Canada",
            "Cuba",
            "Czechoslovakia",
            "Denmark",
            "East Germany",
            "East Germany-1",
            "East Germany-2",
            "Finland",
            "France",
            "Great Britain",
            "Hungary",
            "Iran",
            "Italy",
            "Jamaica",
            "Japan",
            "Liechtenstein",
            "Mexico",
            "Mongolia",
            "Netherlands",
            "New Zealand",
            "North Korea",
            "Norway",
            "Pakistan",
            "Poland",
            "Portugal",
            "Puerto Rico",
            "Romania",
            "South Korea",
            "Soviet Union",
            "Soviet Union-1",
            "Soviet Union-2",
            "Spain",
            "Sweden",
            "Switzerland",
            "Switzerland-1",
            "Switzerland-2",
            "Thailand",
            "Trinidad and Tobago",
            "United States",
            "United States-1",
            "Venezuela",
            "West Germany",
            "West Germany-1",
            "Yugoslavia"
           ],
           "type": "choropleth",
           "z": {
            "bdata": "FwAGAAIACQABAAMAJwAaABgAIgAIANcACAAEABYAFQAhADcAAgAjAAIAKQACAAIAAQAUABkAAgAQABAASQACAAEANwARAFABBAACAAYADAANAAIABAABAAEArQACAAEAZgAIABMA",
            "dtype": "i2"
           }
          }
         ],
         "name": "1976"
        },
        {
         "data": [
          {
           "colorbar": {
            "title": {
             "text": "Medals"
            }
           },
           "colorscale": [
            [
             0,
             "#440154"
            ],
            [
             0.1111111111111111,
             "#482878"
            ],
            [
             0.2222222222222222,
             "#3e4989"
            ],
            [
             0.3333333333333333,
             "#31688e"
            ],
            [
             0.4444444444444444,
             "#26828e"
            ],
            [
             0.5555555555555556,
             "#1f9e89"
            ],
            [
             0.6666666666666666,
             "#35b779"
            ],
            [
             0.7777777777777778,
             "#6ece58"
            ],
            [
             0.8888888888888888,
             "#b5de2b"
            ],
            [
             1,
             "#fde725"
            ]
           ],
           "locationmode": "country names",
           "locations": [
            "Australia",
            "Austria",
            "Austria-1",
            "Belgium",
            "Brazil",
            "Bulgaria",
            "Canada",
            "Cuba",
            "Czechoslovakia",
            "Denmark",
            "East Germany",
            "East Germany-1",
            "East Germany-2",
            "Ethiopia",
            "Finland",
            "France",
            "Great Britain",
            "Greece",
            "Guyana",
            "Hungary",
            "India",
            "Ireland",
            "Italy",
            "Italy-1",
            "Jamaica",
            "Japan",
            "Lebanon",
            "Liechtenstein",
            "Mexico",
            "Mongolia",
            "Netherlands",
            "North Korea",
            "Norway",
            "Poland",
            "Romania",
            "Soviet Union",
            "Soviet Union-1",
            "Soviet Union-2",
            "Spain",
            "Sweden",
            "Switzerland",
            "Switzerland-1",
            "Switzerland-2",
            "Tanzania",
            "Uganda",
            "United States",
            "Venezuela",
            "West Germany",
            "Yugoslavia",
            "Zimbabwe"
           ],
           "type": "choropleth",
           "z": {
            "bdata": "DQALAAIAAQAJAFsAAgAUADQACAAfAQoABgAEABUAHgAwAAUAAQA/ABAAAwAmAAIAAwABAAEABAAKAAQACgAFAA8AMgBEAOgBBAAEABgAKwAFAAQAAgACAAEAHgABAAgAOQAPAA==",
            "dtype": "i2"
           }
          }
         ],
         "name": "1980"
        },
        {
         "data": [
          {
           "colorbar": {
            "title": {
             "text": "Medals"
            }
           },
           "colorscale": [
            [
             0,
             "#440154"
            ],
            [
             0.1111111111111111,
             "#482878"
            ],
            [
             0.2222222222222222,
             "#3e4989"
            ],
            [
             0.3333333333333333,
             "#31688e"
            ],
            [
             0.4444444444444444,
             "#26828e"
            ],
            [
             0.5555555555555556,
             "#1f9e89"
            ],
            [
             0.6666666666666666,
             "#35b779"
            ],
            [
             0.7777777777777778,
             "#6ece58"
            ],
            [
             0.8888888888888888,
             "#b5de2b"
            ],
            [
             1,
             "#fde725"
            ]
           ],
           "locationmode": "country names",
           "locations": [
            "Algeria",
            "Australia",
            "Austria",
            "Belgium",
            "Brazil",
            "Cameroon",
            "Canada",
            "China",
            "Chinese Taipei",
            "Colombia",
            "Cote d'Ivoire",
            "Czechoslovakia",
            "Denmark",
            "Dominican Republic",
            "East Germany",
            "East Germany-1",
            "East Germany-2",
            "Egypt",
            "Finland",
            "France",
            "Great Britain",
            "Great Britain-1",
            "Greece",
            "Iceland",
            "Ireland",
            "Italy",
            "Jamaica",
            "Japan",
            "Kenya",
            "Liechtenstein",
            "Mexico",
            "Morocco",
            "Netherlands",
            "New Zealand",
            "Nigeria",
            "Norway",
            "Pakistan",
            "Peru",
            "Portugal",
            "Puerto Rico",
            "Romania",
            "South Korea",
            "Soviet Union",
            "Soviet Union-1",
            "Soviet Union-2",
            "Spain",
            "Sweden",
            "Switzerland",
            "Switzerland-1",
            "Syria",
            "Thailand",
            "Turkey",
            "United States",
            "United States-1",
            "Venezuela",
            "West Germany",
            "West Germany-1",
            "Yugoslavia",
            "Zambia"
           ],
           "type": "choropleth",
           "z": {
            "bdata": "AgA0AAQABQAkAAEAWwBKAAEAAQABABwADQABABMACAAGAAEAHwBGAEcAAgACAAEAAQBBAAcAMgADAAIABgACACkAFwAFABMAEAABAAMAAgBqACkALAAGAAYAEwBAABEABAABAAEAAwBnAQIAAwCkAAIAWAABAA==",
            "dtype": "i2"
           }
          }
         ],
         "name": "1984"
        },
        {
         "data": [
          {
           "colorbar": {
            "title": {
             "text": "Medals"
            }
           },
           "colorscale": [
            [
             0,
             "#440154"
            ],
            [
             0.1111111111111111,
             "#482878"
            ],
            [
             0.2222222222222222,
             "#3e4989"
            ],
            [
             0.3333333333333333,
             "#31688e"
            ],
            [
             0.4444444444444444,
             "#26828e"
            ],
            [
             0.5555555555555556,
             "#1f9e89"
            ],
            [
             0.6666666666666666,
             "#35b779"
            ],
            [
             0.7777777777777778,
             "#6ece58"
            ],
            [
             0.8888888888888888,
             "#b5de2b"
            ],
            [
             1,
             "#fde725"
            ]
           ],
           "locationmode": "country names",
           "locations": [
            "Argentina",
            "Australia",
            "Austria",
            "Belgium",
            "Brazil",
            "Bulgaria",
            "Canada",
            "Canada-1",
            "Chile",
            "China",
            "China-1",
            "Colombia",
            "Costa Rica",
            "Czechoslovakia",
            "Denmark",
            "Djibouti",
            "East Germany",
            "East Germany-1",
            "East Germany-2",
            "Finland",
            "France",
            "Great Britain",
            "Greece",
            "Hungary",
            "Indonesia",
            "Iran",
            "Italy",
            "Jamaica",
            "Japan",
            "Kenya",
            "Liechtenstein",
            "Mexico",
            "Mongolia",
            "Morocco",
            "Netherlands",
            "Netherlands Antilles",
            "New Zealand",
            "Norway",
            "Pakistan",
            "Peru",
            "Philippines",
            "Poland",
            "Portugal",
            "Romania",
            "Senegal",
            "South Korea",
            "South Korea-2",
            "Soviet Union",
            "Soviet Union-1",
            "Soviet Union-2",
            "Spain",
            "Suriname",
            "Sweden",
            "Switzerland",
            "Switzerland-1",
            "Thailand",
            "Turkey",
            "United States",
            "United States Virgin Islands",
            "United States-1",
            "West Germany",
            "West Germany-1",
            "Yugoslavia"
           ],
           "type": "choropleth",
           "z": {
            "bdata": "DQAjAA0AAgAXACkAGwACAAEAMgACAAEAAQAQAAcAAQDJAAgABAAmAB8ANgABACwAAwABACUABwAVAAkAAQACAAEAAwA0AAEAGAAhAAEADAABABUAAQA6AAEASwACAGABBgAIAAUAAQAuABgABAABAAIA1AABAAIAfwACAEUA",
            "dtype": "i2"
           }
          }
         ],
         "name": "1988"
        },
        {
         "data": [
          {
           "colorbar": {
            "title": {
             "text": "Medals"
            }
           },
           "colorscale": [
            [
             0,
             "#440154"
            ],
            [
             0.1111111111111111,
             "#482878"
            ],
            [
             0.2222222222222222,
             "#3e4989"
            ],
            [
             0.3333333333333333,
             "#31688e"
            ],
            [
             0.4444444444444444,
             "#26828e"
            ],
            [
             0.5555555555555556,
             "#1f9e89"
            ],
            [
             0.6666666666666666,
             "#35b779"
            ],
            [
             0.7777777777777778,
             "#6ece58"
            ],
            [
             0.8888888888888888,
             "#b5de2b"
            ],
            [
             1,
             "#fde725"
            ]
           ],
           "locationmode": "country names",
           "locations": [
            "Algeria",
            "Argentina",
            "Australia",
            "Austria",
            "Austria-1",
            "Bahamas",
            "Belgium",
            "Brazil",
            "Bulgaria",
            "Canada",
            "Canada-1",
            "China",
            "China-1",
            "China-2",
            "Chinese Taipei",
            "Colombia",
            "Croatia",
            "Cuba",
            "Czechoslovakia",
            "Czechoslovakia-1",
            "Denmark",
            "Estonia",
            "Ethiopia",
            "Finland",
            "France",
            "France-1",
            "Germany",
            "Germany-1",
            "Germany-2",
            "Ghana",
            "Great Britain",
            "Greece",
            "Hungary",
            "Individual Olympic Athletes",
            "Indonesia",
            "Indonesia-1",
            "Iran",
            "Ireland",
            "Israel",
            "Italy",
            "Italy-1",
            "Jamaica",
            "Japan",
            "Kenya",
            "Latvia",
            "Lithuania",
            "Luxembourg",
            "Malaysia-2",
            "Mexico",
            "Mongolia",
            "Morocco",
            "Namibia",
            "Netherlands",
            "New Zealand",
            "Nigeria",
            "North Korea",
            "North Korea-1",
            "Norway",
            "Pakistan",
            "Peru",
            "Philippines",
            "Poland",
            "Puerto Rico",
            "Qatar",
            "Romania",
            "Slovenia",
            "South Africa",
            "South Korea",
            "South Korea-1",
            "South Korea-2",
            "Spain",
            "Suriname",
            "Sweden",
            "Switzerland",
            "Switzerland-1",
            "Thailand",
            "Turkey",
            "Unified Team",
            "Unified Team-1",
            "Unified Team-2",
            "United States",
            "United States-1"
           ],
           "type": "choropleth",
           "z": {
            "bdata": "AgACADkAHwAEAAEAAwAOABEATgACAEkABgAGABQAAQAPAEUAIQACAA4AAwADABQAQQAEAOAACAAEABQAMgACAC0AAwAEAAIAAwACAAIAQAACAAQAOwAIAAMADQACAAIAAQACAAMAAgAlABAACwAJAAIALwAQAAEAAQAuAAEAAQA1AAYAAwAsAAgABABGAAEAKgACAAYAAQAGAA8BBAAEAOwAAgA=",
            "dtype": "i2"
           }
          }
         ],
         "name": "1992"
        },
        {
         "data": [
          {
           "colorbar": {
            "title": {
             "text": "Medals"
            }
           },
           "colorscale": [
            [
             0,
             "#440154"
            ],
            [
             0.1111111111111111,
             "#482878"
            ],
            [
             0.2222222222222222,
             "#3e4989"
            ],
            [
             0.3333333333333333,
             "#31688e"
            ],
            [
             0.4444444444444444,
             "#26828e"
            ],
            [
             0.5555555555555556,
             "#1f9e89"
            ],
            [
             0.6666666666666666,
             "#35b779"
            ],
            [
             0.7777777777777778,
             "#6ece58"
            ],
            [
             0.8888888888888888,
             "#b5de2b"
            ],
            [
             1,
             "#fde725"
            ]
           ],
           "locationmode": "country names",
           "locations": [
            "Australia",
            "Austria",
            "Belarus",
            "Canada",
            "Canada-1",
            "China",
            "Finland",
            "France",
            "Germany",
            "Germany-1",
            "Germany-2",
            "Great Britain",
            "Italy",
            "Italy-1",
            "Italy-2",
            "Japan",
            "Kazakhstan",
            "Netherlands",
            "Norway",
            "Russia",
            "Russia-1",
            "Russia-2",
            "Slovenia",
            "South Korea",
            "Sweden",
            "Switzerland",
            "Switzerland-1",
            "Switzerland-2",
            "Ukraine",
            "United States",
            "Uzbekistan"
           ],
           "type": "choropleth",
           "z": {
            "bdata": "BAwCIwIDHgseBgQDGgQCCgMEHhwEBAMJGAgGAgITAQ==",
            "dtype": "i1"
           }
          }
         ],
         "name": "1994"
        },
        {
         "data": [
          {
           "colorbar": {
            "title": {
             "text": "Medals"
            }
           },
           "colorscale": [
            [
             0,
             "#440154"
            ],
            [
             0.1111111111111111,
             "#482878"
            ],
            [
             0.2222222222222222,
             "#3e4989"
            ],
            [
             0.3333333333333333,
             "#31688e"
            ],
            [
             0.4444444444444444,
             "#26828e"
            ],
            [
             0.5555555555555556,
             "#1f9e89"
            ],
            [
             0.6666666666666666,
             "#35b779"
            ],
            [
             0.7777777777777778,
             "#6ece58"
            ],
            [
             0.8888888888888888,
             "#b5de2b"
            ],
            [
             1,
             "#fde725"
            ]
           ],
           "locationmode": "country names",
           "locations": [
            "Algeria",
            "Argentina",
            "Armenia",
            "Australia",
            "Australia-1",
            "Austria",
            "Azerbaijan",
            "Bahamas",
            "Belarus",
            "Belgium",
            "Brazil",
            "Brazil-1",
            "Brazil-2",
            "Bulgaria",
            "Burundi",
            "Canada",
            "Canada-1",
            "China",
            "China-1",
            "China-2",
            "Chinese Taipei",
            "Costa Rica",
            "Croatia",
            "Cuba",
            "Czech Republic",
            "Czech Republic-1",
            "Denmark",
            "Ecuador",
            "Ethiopia",
            "Finland",
            "France",
            "France-1",
            "Georgia",
            "Germany",
            "Germany-1",
            "Great Britain",
            "Greece",
            "Hong Kong",
            "Hungary",
            "India",
            "Indonesia",
            "Indonesia-1",
            "Iran",
            "Ireland",
            "Israel",
            "Italy",
            "Jamaica",
            "Japan",
            "Kazakhstan",
            "Kenya",
            "Latvia",
            "Lithuania",
            "Malaysia",
            "Malaysia-1",
            "Mexico",
            "Moldova",
            "Mongolia",
            "Morocco",
            "Mozambique",
            "Namibia",
            "Netherlands",
            "New Zealand",
            "Nigeria",
            "North Korea",
            "Norway",
            "Philippines",
            "Poland",
            "Portugal",
            "Puerto Rico",
            "Romania",
            "Russia",
            "Serbia and Montenegro",
            "Slovakia",
            "Slovenia",
            "South Africa",
            "South Korea",
            "South Korea-1",
            "South Korea-2",
            "Spain",
            "Sweden",
            "Switzerland",
            "Syria",
            "Thailand",
            "Tonga",
            "Trinidad and Tobago",
            "Tunisia",
            "Turkey",
            "Uganda",
            "Ukraine",
            "United States",
            "United States-1",
            "United States-2",
            "Uzbekistan",
            "Zambia"
           ],
           "type": "choropleth",
           "z": {
            "bdata": "AwAUAAIAggACAAMAAQAFABcABgA7AAIAAgAVAAEAMAACAF4ABAAIAAEAAQAcADcACwACABcAAQADAAQAMQACAAIAegACABoACAABACsAAQAEAAIAAwAEAAEARwAQACoACwAIAAEACwABAAIAAQADAAEAAgABAAIASQAJABgABQAXAAEAFgADAAEAJgBzABoAAwACAAUAOAAEAAYAQgAfAAsAAQACAAEAAgABAAYAAQAiAP8AAgACAAIAAQA=",
            "dtype": "i2"
           }
          }
         ],
         "name": "1996"
        },
        {
         "data": [
          {
           "colorbar": {
            "title": {
             "text": "Medals"
            }
           },
           "colorscale": [
            [
             0,
             "#440154"
            ],
            [
             0.1111111111111111,
             "#482878"
            ],
            [
             0.2222222222222222,
             "#3e4989"
            ],
            [
             0.3333333333333333,
             "#31688e"
            ],
            [
             0.4444444444444444,
             "#26828e"
            ],
            [
             0.5555555555555556,
             "#1f9e89"
            ],
            [
             0.6666666666666666,
             "#35b779"
            ],
            [
             0.7777777777777778,
             "#6ece58"
            ],
            [
             0.8888888888888888,
             "#b5de2b"
            ],
            [
             1,
             "#fde725"
            ]
           ],
           "locationmode": "country names",
           "locations": [
            "Australia",
            "Austria",
            "Belarus",
            "Belgium",
            "Bulgaria",
            "Canada",
            "Canada-1",
            "China",
            "Czech Republic",
            "Denmark",
            "Finland",
            "France",
            "France-1",
            "Germany",
            "Germany-1",
            "Germany-2",
            "Great Britain",
            "Italy",
            "Italy-1",
            "Japan",
            "Kazakhstan",
            "Netherlands",
            "Norway",
            "Russia",
            "Russia-1",
            "Russia-2",
            "South Korea",
            "Sweden",
            "Switzerland",
            "Switzerland-1",
            "Ukraine",
            "United States",
            "United States-1",
            "United States-2"
           ],
           "type": "choropleth",
           "z": {
            "bdata": "ARQCAQEvAg4XBToNAiIGBAQPAg0CCygsBAQMBwoEAR4CAg==",
            "dtype": "i1"
           }
          }
         ],
         "name": "1998"
        },
        {
         "data": [
          {
           "colorbar": {
            "title": {
             "text": "Medals"
            }
           },
           "colorscale": [
            [
             0,
             "#440154"
            ],
            [
             0.1111111111111111,
             "#482878"
            ],
            [
             0.2222222222222222,
             "#3e4989"
            ],
            [
             0.3333333333333333,
             "#31688e"
            ],
            [
             0.4444444444444444,
             "#26828e"
            ],
            [
             0.5555555555555556,
             "#1f9e89"
            ],
            [
             0.6666666666666666,
             "#35b779"
            ],
            [
             0.7777777777777778,
             "#6ece58"
            ],
            [
             0.8888888888888888,
             "#b5de2b"
            ],
            [
             1,
             "#fde725"
            ]
           ],
           "locationmode": "country names",
           "locations": [
            "Algeria",
            "Argentina",
            "Armenia",
            "Australia",
            "Australia-1",
            "Austria",
            "Azerbaijan",
            "Bahamas",
            "Barbados",
            "Belarus",
            "Belgium",
            "Brazil",
            "Brazil-1",
            "Brazil-2",
            "Bulgaria",
            "Cameroon",
            "Canada",
            "Chile",
            "China",
            "China-1",
            "China-2",
            "Chinese Taipei",
            "Colombia",
            "Costa Rica",
            "Croatia",
            "Cuba",
            "Czech Republic",
            "Czech Republic-1",
            "Denmark",
            "Estonia",
            "Ethiopia",
            "Finland",
            "France",
            "France-1",
            "Georgia",
            "Germany",
            "Germany-1",
            "Great Britain",
            "Great Britain-2",
            "Greece",
            "Hungary",
            "Iceland",
            "India",
            "Indonesia",
            "Indonesia-1",
            "Iran",
            "Ireland",
            "Israel",
            "Italy",
            "Jamaica",
            "Japan",
            "Kazakhstan",
            "Kenya",
            "Kuwait",
            "Kyrgyzstan",
            "Latvia",
            "Lithuania",
            "Macedonia",
            "Mexico",
            "Moldova",
            "Morocco",
            "Mozambique",
            "Netherlands",
            "New Zealand",
            "Nigeria",
            "North Korea",
            "Norway",
            "Poland",
            "Poland-1",
            "Portugal",
            "Qatar",
            "Romania",
            "Russia",
            "Saudi Arabia",
            "Serbia and Montenegro",
            "Slovakia",
            "Slovenia",
            "South Africa",
            "South Korea",
            "South Korea-1",
            "South Korea-2",
            "Spain",
            "Sri Lanka",
            "Sweden",
            "Switzerland",
            "Thailand",
            "Trinidad and Tobago",
            "Turkey",
            "Ukraine",
            "United States",
            "United States-1",
            "Uruguay",
            "Uzbekistan",
            "Vietnam"
           ],
           "type": "choropleth",
           "z": {
            "bdata": "BQAUAAEAtQACAAQAAwALAAEAFgAHACoABAACAA0AEgAfABEAQQAGAAgABQABAAIACgBBAAcAAgAZAAMACAAFAEAAAgAGAHQAAgA0AAIAEgA1AAEAAQAGAAIABAABAAEAQQAXACwABwAHAAEAAQADABEAAQAGAAIABQABAE8ABAAIAAQAKwAWAAIAAgABAC4AuwACABkABgADAAUAQwAEAAIAKgABACAADgADAAIABQAjAPAAAgABAAQAAQA=",
            "dtype": "i2"
           }
          }
         ],
         "name": "2000"
        },
        {
         "data": [
          {
           "colorbar": {
            "title": {
             "text": "Medals"
            }
           },
           "colorscale": [
            [
             0,
             "#440154"
            ],
            [
             0.1111111111111111,
             "#482878"
            ],
            [
             0.2222222222222222,
             "#3e4989"
            ],
            [
             0.3333333333333333,
             "#31688e"
            ],
            [
             0.4444444444444444,
             "#26828e"
            ],
            [
             0.5555555555555556,
             "#1f9e89"
            ],
            [
             0.6666666666666666,
             "#35b779"
            ],
            [
             0.7777777777777778,
             "#6ece58"
            ],
            [
             0.8888888888888888,
             "#b5de2b"
            ],
            [
             1,
             "#fde725"
            ]
           ],
           "locationmode": "country names",
           "locations": [
            "Australia",
            "Austria",
            "Belarus",
            "Bulgaria",
            "Canada",
            "Canada-1",
            "China",
            "China-1",
            "Croatia",
            "Czech Republic",
            "Estonia",
            "Finland",
            "France",
            "France-1",
            "Germany",
            "Germany-1",
            "Germany-2",
            "Great Britain",
            "Italy",
            "Italy-1",
            "Japan",
            "Netherlands",
            "Norway",
            "Poland",
            "Russia",
            "Russia-1",
            "Slovenia",
            "South Korea",
            "Sweden",
            "Switzerland",
            "Switzerland-1",
            "Switzerland-2",
            "United States",
            "United States-1",
            "United States-2"
           ],
           "type": "choropleth",
           "z": {
            "bdata": "AhQBA0gCDgIEAwMNDQIxBAgGEwICCCkCIgQEBxoUAgJGBgg=",
            "dtype": "i1"
           }
          }
         ],
         "name": "2002"
        },
        {
         "data": [
          {
           "colorbar": {
            "title": {
             "text": "Medals"
            }
           },
           "colorscale": [
            [
             0,
             "#440154"
            ],
            [
             0.1111111111111111,
             "#482878"
            ],
            [
             0.2222222222222222,
             "#3e4989"
            ],
            [
             0.3333333333333333,
             "#31688e"
            ],
            [
             0.4444444444444444,
             "#26828e"
            ],
            [
             0.5555555555555556,
             "#1f9e89"
            ],
            [
             0.6666666666666666,
             "#35b779"
            ],
            [
             0.7777777777777778,
             "#6ece58"
            ],
            [
             0.8888888888888888,
             "#b5de2b"
            ],
            [
             1,
             "#fde725"
            ]
           ],
           "locationmode": "country names",
           "locations": [
            "Argentina",
            "Australia",
            "Austria",
            "Azerbaijan",
            "Bahamas",
            "Belarus",
            "Belgium",
            "Brazil",
            "Brazil-1",
            "Bulgaria",
            "Cameroon",
            "Canada",
            "Chile",
            "China",
            "China-1",
            "China-2",
            "Chinese Taipei",
            "Colombia",
            "Croatia",
            "Cuba",
            "Czech Republic",
            "Czech Republic-1",
            "Denmark",
            "Denmark-2",
            "Dominican Republic",
            "Egypt",
            "Eritrea",
            "Estonia",
            "Ethiopia",
            "Finland",
            "France",
            "Georgia",
            "Germany",
            "Germany-1",
            "Great Britain",
            "Great Britain-1",
            "Greece",
            "Hong Kong-2",
            "Hungary",
            "India",
            "Indonesia",
            "Indonesia-1",
            "Iran",
            "Israel",
            "Italy",
            "Jamaica",
            "Japan",
            "Kazakhstan",
            "Kenya",
            "Latvia",
            "Lithuania",
            "Mexico",
            "Mongolia",
            "Morocco",
            "Netherlands",
            "New Zealand",
            "Nigeria",
            "North Korea",
            "Norway",
            "Paraguay",
            "Poland",
            "Portugal",
            "Romania",
            "Russia",
            "Serbia and Montenegro",
            "Slovakia",
            "Slovenia",
            "South Africa",
            "South Korea",
            "South Korea-1",
            "South Korea-2",
            "Spain",
            "Spain-2",
            "Sweden",
            "Switzerland",
            "Switzerland-2",
            "Syria",
            "Thailand",
            "Trinidad and Tobago",
            "Turkey",
            "Ukraine",
            "United Arab Emirates",
            "United States",
            "United States-1",
            "United States-2",
            "Uzbekistan",
            "Venezuela",
            "Zimbabwe"
           ],
           "type": "choropleth",
           "z": {
            "bdata": "MQCdAAgABQACAA8AAwAkAAQAEQABABEABABSAAgABAAJAAIAFQA+AAsAAgAbAAIAAQAFAAEAAwAHAAIANQAEAJMAAgA3AAIAHwACACgAAQADAAIABgACAGgADQBdAAgABwAEAAMABAABAAMATQAGAAgABQAHABEADAADACcAvQANAAoABQAKAC4ABAACABwAAgAMAAUAAgABAAgAAQALAC8AAQADAQIAAgAFAAIAAwA=",
            "dtype": "i2"
           }
          }
         ],
         "name": "2004"
        },
        {
         "data": [
          {
           "colorbar": {
            "title": {
             "text": "Medals"
            }
           },
           "colorscale": [
            [
             0,
             "#440154"
            ],
            [
             0.1111111111111111,
             "#482878"
            ],
            [
             0.2222222222222222,
             "#3e4989"
            ],
            [
             0.3333333333333333,
             "#31688e"
            ],
            [
             0.4444444444444444,
             "#26828e"
            ],
            [
             0.5555555555555556,
             "#1f9e89"
            ],
            [
             0.6666666666666666,
             "#35b779"
            ],
            [
             0.7777777777777778,
             "#6ece58"
            ],
            [
             0.8888888888888888,
             "#b5de2b"
            ],
            [
             1,
             "#fde725"
            ]
           ],
           "locationmode": "country names",
           "locations": [
            "Australia",
            "Austria",
            "Austria-1",
            "Belarus",
            "Bulgaria",
            "Canada",
            "Canada-1",
            "China",
            "China-1",
            "China-3",
            "Croatia",
            "Czech Republic",
            "Estonia",
            "Finland",
            "France",
            "Germany",
            "Germany-1",
            "Great Britain",
            "Italy",
            "Italy-1",
            "Japan",
            "Latvia",
            "Netherlands",
            "Norway",
            "Poland",
            "Russia",
            "Russia-1",
            "Slovakia",
            "South Korea",
            "Sweden",
            "Switzerland",
            "Switzerland-1",
            "Ukraine",
            "Ukraine-1",
            "United States",
            "United States-1"
           ],
           "type": "choropleth",
           "z": {
            "bdata": "AhwCAQFDAgkCAgMbAykPLAoBFQQBAQ0XAiEIARNADwYBAjAE",
            "dtype": "i1"
           }
          }
         ],
         "name": "2006"
        },
        {
         "data": [
          {
           "colorbar": {
            "title": {
             "text": "Medals"
            }
           },
           "colorscale": [
            [
             0,
             "#440154"
            ],
            [
             0.1111111111111111,
             "#482878"
            ],
            [
             0.2222222222222222,
             "#3e4989"
            ],
            [
             0.3333333333333333,
             "#31688e"
            ],
            [
             0.4444444444444444,
             "#26828e"
            ],
            [
             0.5555555555555556,
             "#1f9e89"
            ],
            [
             0.6666666666666666,
             "#35b779"
            ],
            [
             0.7777777777777778,
             "#6ece58"
            ],
            [
             0.8888888888888888,
             "#b5de2b"
            ],
            [
             1,
             "#fde725"
            ]
           ],
           "locationmode": "country names",
           "locations": [
            "Afghanistan",
            "Algeria",
            "Argentina",
            "Armenia",
            "Australia",
            "Austria",
            "Azerbaijan",
            "Bahamas",
            "Belarus",
            "Belgium",
            "Bonaparte",
            "Brazil",
            "Brazil-1",
            "Brazil-2",
            "Bulgaria",
            "Cameroon",
            "Canada",
            "Chile",
            "China",
            "China-1",
            "China-2",
            "Chinese Taipei",
            "Clearwater",
            "Colombia",
            "Croatia",
            "Cuba",
            "Czech Republic",
            "Denmark",
            "Digby",
            "Dominican Republic",
            "Don Schufro",
            "Ecuador",
            "Egypt",
            "Elvis Va",
            "Estonia",
            "Ethiopia",
            "Finland",
            "France",
            "Georgia",
            "Germany",
            "Great Britain",
            "Greece",
            "Hungary",
            "Iceland",
            "India",
            "Indonesia",
            "Indonesia-1",
            "Iran",
            "Ireland",
            "Israel",
            "Italy",
            "Jamaica",
            "Japan",
            "Kazakhstan",
            "Kenya",
            "Kyrgyzstan",
            "Latvia",
            "Lithuania",
            "Malaysia",
            "Mauritius",
            "Mexico",
            "Moldova",
            "Mongolia",
            "Morocco",
            "Nadine",
            "Netherlands",
            "New Zealand",
            "Nigeria",
            "North Korea",
            "Norway",
            "Panama",
            "Poland",
            "Portugal",
            "Romania",
            "Russia",
            "Salinero",
            "Satchmo",
            "Serbia",
            "Singapore",
            "Slovakia",
            "Slovenia",
            "South Africa",
            "South Korea",
            "South Korea-1",
            "Spain",
            "Spain-1",
            "Sudan",
            "Sunrise",
            "Sweden",
            "Sweden-2",
            "Switzerland",
            "Tajikistan",
            "Thailand",
            "Togo",
            "Trinidad and Tobago",
            "Tunisia",
            "Turkey",
            "Ukraine",
            "United States",
            "United States-1",
            "United States-2",
            "Uzbekistan",
            "Venezuela",
            "Vietnam",
            "Zimbabwe"
           ],
           "type": "choropleth",
           "z": {
            "bdata": "AQACADMABgCVAAMABwAHAB0ABQABAEoAAgACAAUAAQAjAAEAqgAKAAQABAABAAIABQAvAAcAEAABAAIAAQABAAEAAQADAAcABQBNAAYAYABRAAcAGwAOAAMAAwAEAAIAAwABACoADgAzAA0ADwACAAMABQABAAEABAABAAQAAgABADoADwAXAAYAFgABABQAAgAWAI4AAQABAA8AAwAKAAUAAQBIAAYARAACAAEAAQAFAAIACwACAAQAAQAGAAEABwAfADUBBgACAAYAAQABAAQA",
            "dtype": "i2"
           }
          }
         ],
         "name": "2008"
        },
        {
         "data": [
          {
           "colorbar": {
            "title": {
             "text": "Medals"
            }
           },
           "colorscale": [
            [
             0,
             "#440154"
            ],
            [
             0.1111111111111111,
             "#482878"
            ],
            [
             0.2222222222222222,
             "#3e4989"
            ],
            [
             0.3333333333333333,
             "#31688e"
            ],
            [
             0.4444444444444444,
             "#26828e"
            ],
            [
             0.5555555555555556,
             "#1f9e89"
            ],
            [
             0.6666666666666666,
             "#35b779"
            ],
            [
             0.7777777777777778,
             "#6ece58"
            ],
            [
             0.8888888888888888,
             "#b5de2b"
            ],
            [
             1,
             "#fde725"
            ]
           ],
           "locationmode": "country names",
           "locations": [
            "Australia",
            "Austria",
            "Austria-1",
            "Belarus",
            "Canada",
            "Canada-1",
            "Canada-2",
            "China",
            "China-1",
            "China-2",
            "Croatia",
            "Czech Republic",
            "Estonia",
            "Finland",
            "France",
            "Germany",
            "Germany-1",
            "Germany-2",
            "Great Britain",
            "Italy",
            "Japan",
            "Kazakhstan",
            "Latvia",
            "Latvia-1",
            "Netherlands",
            "Norway",
            "Poland",
            "Russia",
            "Russia-1",
            "Slovakia",
            "Slovenia",
            "South Korea",
            "Sweden",
            "Switzerland",
            "United States",
            "United States-1",
            "United States-2"
           ],
           "type": "choropleth",
           "z": {
            "bdata": "AxgCA1AIAg8CAgMJAS8OKggEAQUHAQECCycIFQQDAxISDFkGAg==",
            "dtype": "i1"
           }
          }
         ],
         "name": "2010"
        },
        {
         "data": [
          {
           "colorbar": {
            "title": {
             "text": "Medals"
            }
           },
           "colorscale": [
            [
             0,
             "#440154"
            ],
            [
             0.1111111111111111,
             "#482878"
            ],
            [
             0.2222222222222222,
             "#3e4989"
            ],
            [
             0.3333333333333333,
             "#31688e"
            ],
            [
             0.4444444444444444,
             "#26828e"
            ],
            [
             0.5555555555555556,
             "#1f9e89"
            ],
            [
             0.6666666666666666,
             "#35b779"
            ],
            [
             0.7777777777777778,
             "#6ece58"
            ],
            [
             0.8888888888888888,
             "#b5de2b"
            ],
            [
             1,
             "#fde725"
            ]
           ],
           "locationmode": "country names",
           "locations": [
            "Afghanistan",
            "Algeria",
            "Argentina",
            "Armenia",
            "Australia",
            "Azerbaijan",
            "Bahamas",
            "Bahrain",
            "Belarus",
            "Belgium",
            "Botswana",
            "Brazil",
            "Brazil-1",
            "Bulgaria",
            "Canada",
            "China",
            "China-1",
            "China-2",
            "Chinese Taipei",
            "Colombia",
            "Croatia",
            "Cuba",
            "Cyprus",
            "Czech Republic",
            "Czech Republic-1",
            "Denmark",
            "Denmark-1",
            "Dominican Republic",
            "Egypt",
            "Estonia",
            "Ethiopia",
            "Finland",
            "France",
            "France-1",
            "France-2",
            "Gabon",
            "Georgia",
            "Germany",
            "Germany-1",
            "Great Britain",
            "Great Britain-1",
            "Great Britain-2",
            "Greece",
            "Grenada",
            "Guatemala",
            "Hong Kong",
            "Hungary",
            "India",
            "Indonesia",
            "Iran",
            "Ireland",
            "Italy",
            "Jamaica",
            "Japan",
            "Japan-1",
            "Kazakhstan",
            "Kenya",
            "Kuwait",
            "Latvia",
            "Latvia-1",
            "Lithuania",
            "Malaysia",
            "Mexico",
            "Moldova",
            "Mongolia",
            "Montenegro",
            "Morocco",
            "Netherlands",
            "New Zealand",
            "North Korea",
            "Norway",
            "Poland",
            "Portugal",
            "Puerto Rico",
            "Qatar",
            "Romania",
            "Russia",
            "Russia-1",
            "Saudi Arabia",
            "Serbia",
            "Singapore",
            "Slovakia",
            "Slovenia",
            "South Africa",
            "South Korea",
            "South Korea-1",
            "Spain",
            "Sweden",
            "Switzerland",
            "Tajikistan",
            "Thailand",
            "Trinidad and Tobago",
            "Tunisia",
            "Turkey",
            "Uganda",
            "Ukraine",
            "United States",
            "United States-1",
            "United States-2",
            "Uzbekistan",
            "Venezuela"
           ],
           "type": "choropleth",
           "z": {
            "bdata": "AQABABMAAwByAAoABAABABcAAwABADcABAACADcAdQAGAAIAAgAIACMADgABAAwAAgAOAAIAAgACAAIABwAFAE4AAgACAAEABwBcAAIAegACAAIAAwABAAEAAQAaAAYAAgAMAAUARAAZAFIAAgANAAsAAQABAAIABQACABgAAgAFAA4AAQBFABsABgARAAwAAgACAAIAEACKAAIABAAQAAQABQAFAAkAOwACAD8AFgAEAAEAAwAKAAMABQABABoA7gAIAAIAAwABAA==",
            "dtype": "i2"
           }
          }
         ],
         "name": "2012"
        },
        {
         "data": [
          {
           "colorbar": {
            "title": {
             "text": "Medals"
            }
           },
           "colorscale": [
            [
             0,
             "#440154"
            ],
            [
             0.1111111111111111,
             "#482878"
            ],
            [
             0.2222222222222222,
             "#3e4989"
            ],
            [
             0.3333333333333333,
             "#31688e"
            ],
            [
             0.4444444444444444,
             "#26828e"
            ],
            [
             0.5555555555555556,
             "#1f9e89"
            ],
            [
             0.6666666666666666,
             "#35b779"
            ],
            [
             0.7777777777777778,
             "#6ece58"
            ],
            [
             0.8888888888888888,
             "#b5de2b"
            ],
            [
             1,
             "#fde725"
            ]
           ],
           "locationmode": "country names",
           "locations": [
            "Australia",
            "Austria",
            "Austria-1",
            "Belarus",
            "Canada",
            "Canada-1",
            "China",
            "Croatia",
            "Czech Republic",
            "Finland",
            "France",
            "Germany",
            "Germany-1",
            "Great Britain",
            "Italy",
            "Japan",
            "Kazakhstan",
            "Latvia",
            "Latvia-1",
            "Netherlands",
            "Norway",
            "Poland",
            "Russia",
            "Russia-1",
            "Russia-2",
            "Slovakia",
            "Slovenia",
            "South Korea",
            "Sweden",
            "Switzerland",
            "Switzerland-1",
            "Ukraine",
            "United States",
            "United States-1",
            "United States-2"
           ],
           "type": "choropleth",
           "z": {
            "bdata": "AxkCBlIEDAELIRIgBAoOCwEFBh0kCzgKAgEIDjMcAgU0CgI=",
            "dtype": "i1"
           }
          }
         ],
         "name": "2014"
        },
        {
         "data": [
          {
           "colorbar": {
            "title": {
             "text": "Medals"
            }
           },
           "colorscale": [
            [
             0,
             "#440154"
            ],
            [
             0.1111111111111111,
             "#482878"
            ],
            [
             0.2222222222222222,
             "#3e4989"
            ],
            [
             0.3333333333333333,
             "#31688e"
            ],
            [
             0.4444444444444444,
             "#26828e"
            ],
            [
             0.5555555555555556,
             "#1f9e89"
            ],
            [
             0.6666666666666666,
             "#35b779"
            ],
            [
             0.7777777777777778,
             "#6ece58"
            ],
            [
             0.8888888888888888,
             "#b5de2b"
            ],
            [
             1,
             "#fde725"
            ]
           ],
           "locationmode": "country names",
           "locations": [
            "Algeria",
            "Argentina",
            "Armenia",
            "Australia",
            "Austria",
            "Azerbaijan",
            "Bahamas",
            "Bahrain",
            "Belarus",
            "Belgium",
            "Brazil",
            "Brazil-1",
            "Bulgaria",
            "Burundi",
            "Canada",
            "China",
            "China-1",
            "Chinese Taipei",
            "Colombia",
            "Cote d'Ivoire",
            "Croatia",
            "Cuba",
            "Czech Republic",
            "Czech Republic-1",
            "Denmark",
            "Dominican Republic",
            "Egypt",
            "Estonia",
            "Ethiopia",
            "Fiji",
            "Finland",
            "France",
            "Georgia",
            "Germany",
            "Germany-1",
            "Great Britain",
            "Greece",
            "Grenada",
            "Hungary",
            "India",
            "Individual Olympic Athletes",
            "Indonesia",
            "Indonesia-1",
            "Iran",
            "Ireland",
            "Israel",
            "Italy",
            "Italy-1",
            "Jamaica",
            "Japan",
            "Jordan",
            "Kazakhstan",
            "Kenya",
            "Kosovo",
            "Lithuania",
            "Malaysia",
            "Mexico",
            "Mongolia",
            "Morocco",
            "Netherlands",
            "Netherlands-1",
            "New Zealand",
            "Niger",
            "Nigeria",
            "North Korea",
            "Norway",
            "Philippines",
            "Poland",
            "Portugal",
            "Puerto Rico",
            "Qatar",
            "Romania",
            "Russia",
            "Russia-2",
            "Serbia",
            "Singapore",
            "Slovakia",
            "Slovenia",
            "South Africa",
            "South Korea",
            "South Korea-1",
            "Spain",
            "Spain-2",
            "Sweden",
            "Switzerland",
            "Tajikistan",
            "Thailand",
            "Trinidad and Tobago",
            "Tunisia",
            "Turkey",
            "Ukraine",
            "United Arab Emirates",
            "United States",
            "United States-1",
            "United States-2",
            "Uzbekistan",
            "Venezuela",
            "Vietnam"
           ],
           "type": "choropleth",
           "z": {
            "bdata": "AgAWAAQAUgACABIABgACAAwAFQAuAAQABwABAEUAbQAEAAUACAACABgACwANAAIAKQABAAMABAAIAA0AAQBgAAcAnQACAJEABwABABYAAgACAAIAAgAIAAMAAgBGAAIAHgBAAAEAEgANAAEABwAIAAUAAgABAC0AAgAkAAEAEgAHABMAAQAQAAEAAQABABAAcQACADYAAQAIAAQAFwAYAAIAKwACABwACwABAAYAAQADAAgADwABAAABBAAEAA0AAwACAA==",
            "dtype": "i2"
           }
          }
         ],
         "name": "2016"
        }
       ],
       "layout": {
        "geo": {
         "projection": {
          "type": "equirectangular"
         },
         "showcoastlines": true,
         "showframe": false
        },
        "height": 800,
        "sliders": [
         {
          "active": 0,
          "steps": [
           {
            "args": [
             [
              "1896"
             ],
             {
              "frame": {
               "duration": 300,
               "redraw": true
              }
             }
            ],
            "label": "1896",
            "method": "animate"
           },
           {
            "args": [
             [
              "1900"
             ],
             {
              "frame": {
               "duration": 300,
               "redraw": true
              }
             }
            ],
            "label": "1900",
            "method": "animate"
           },
           {
            "args": [
             [
              "1904"
             ],
             {
              "frame": {
               "duration": 300,
               "redraw": true
              }
             }
            ],
            "label": "1904",
            "method": "animate"
           },
           {
            "args": [
             [
              "1906"
             ],
             {
              "frame": {
               "duration": 300,
               "redraw": true
              }
             }
            ],
            "label": "1906",
            "method": "animate"
           },
           {
            "args": [
             [
              "1908"
             ],
             {
              "frame": {
               "duration": 300,
               "redraw": true
              }
             }
            ],
            "label": "1908",
            "method": "animate"
           },
           {
            "args": [
             [
              "1912"
             ],
             {
              "frame": {
               "duration": 300,
               "redraw": true
              }
             }
            ],
            "label": "1912",
            "method": "animate"
           },
           {
            "args": [
             [
              "1920"
             ],
             {
              "frame": {
               "duration": 300,
               "redraw": true
              }
             }
            ],
            "label": "1920",
            "method": "animate"
           },
           {
            "args": [
             [
              "1924"
             ],
             {
              "frame": {
               "duration": 300,
               "redraw": true
              }
             }
            ],
            "label": "1924",
            "method": "animate"
           },
           {
            "args": [
             [
              "1928"
             ],
             {
              "frame": {
               "duration": 300,
               "redraw": true
              }
             }
            ],
            "label": "1928",
            "method": "animate"
           },
           {
            "args": [
             [
              "1932"
             ],
             {
              "frame": {
               "duration": 300,
               "redraw": true
              }
             }
            ],
            "label": "1932",
            "method": "animate"
           },
           {
            "args": [
             [
              "1936"
             ],
             {
              "frame": {
               "duration": 300,
               "redraw": true
              }
             }
            ],
            "label": "1936",
            "method": "animate"
           },
           {
            "args": [
             [
              "1948"
             ],
             {
              "frame": {
               "duration": 300,
               "redraw": true
              }
             }
            ],
            "label": "1948",
            "method": "animate"
           },
           {
            "args": [
             [
              "1952"
             ],
             {
              "frame": {
               "duration": 300,
               "redraw": true
              }
             }
            ],
            "label": "1952",
            "method": "animate"
           },
           {
            "args": [
             [
              "1956"
             ],
             {
              "frame": {
               "duration": 300,
               "redraw": true
              }
             }
            ],
            "label": "1956",
            "method": "animate"
           },
           {
            "args": [
             [
              "1960"
             ],
             {
              "frame": {
               "duration": 300,
               "redraw": true
              }
             }
            ],
            "label": "1960",
            "method": "animate"
           },
           {
            "args": [
             [
              "1964"
             ],
             {
              "frame": {
               "duration": 300,
               "redraw": true
              }
             }
            ],
            "label": "1964",
            "method": "animate"
           },
           {
            "args": [
             [
              "1968"
             ],
             {
              "frame": {
               "duration": 300,
               "redraw": true
              }
             }
            ],
            "label": "1968",
            "method": "animate"
           },
           {
            "args": [
             [
              "1972"
             ],
             {
              "frame": {
               "duration": 300,
               "redraw": true
              }
             }
            ],
            "label": "1972",
            "method": "animate"
           },
           {
            "args": [
             [
              "1976"
             ],
             {
              "frame": {
               "duration": 300,
               "redraw": true
              }
             }
            ],
            "label": "1976",
            "method": "animate"
           },
           {
            "args": [
             [
              "1980"
             ],
             {
              "frame": {
               "duration": 300,
               "redraw": true
              }
             }
            ],
            "label": "1980",
            "method": "animate"
           },
           {
            "args": [
             [
              "1984"
             ],
             {
              "frame": {
               "duration": 300,
               "redraw": true
              }
             }
            ],
            "label": "1984",
            "method": "animate"
           },
           {
            "args": [
             [
              "1988"
             ],
             {
              "frame": {
               "duration": 300,
               "redraw": true
              }
             }
            ],
            "label": "1988",
            "method": "animate"
           },
           {
            "args": [
             [
              "1992"
             ],
             {
              "frame": {
               "duration": 300,
               "redraw": true
              }
             }
            ],
            "label": "1992",
            "method": "animate"
           },
           {
            "args": [
             [
              "1994"
             ],
             {
              "frame": {
               "duration": 300,
               "redraw": true
              }
             }
            ],
            "label": "1994",
            "method": "animate"
           },
           {
            "args": [
             [
              "1996"
             ],
             {
              "frame": {
               "duration": 300,
               "redraw": true
              }
             }
            ],
            "label": "1996",
            "method": "animate"
           },
           {
            "args": [
             [
              "1998"
             ],
             {
              "frame": {
               "duration": 300,
               "redraw": true
              }
             }
            ],
            "label": "1998",
            "method": "animate"
           },
           {
            "args": [
             [
              "2000"
             ],
             {
              "frame": {
               "duration": 300,
               "redraw": true
              }
             }
            ],
            "label": "2000",
            "method": "animate"
           },
           {
            "args": [
             [
              "2002"
             ],
             {
              "frame": {
               "duration": 300,
               "redraw": true
              }
             }
            ],
            "label": "2002",
            "method": "animate"
           },
           {
            "args": [
             [
              "2004"
             ],
             {
              "frame": {
               "duration": 300,
               "redraw": true
              }
             }
            ],
            "label": "2004",
            "method": "animate"
           },
           {
            "args": [
             [
              "2006"
             ],
             {
              "frame": {
               "duration": 300,
               "redraw": true
              }
             }
            ],
            "label": "2006",
            "method": "animate"
           },
           {
            "args": [
             [
              "2008"
             ],
             {
              "frame": {
               "duration": 300,
               "redraw": true
              }
             }
            ],
            "label": "2008",
            "method": "animate"
           },
           {
            "args": [
             [
              "2010"
             ],
             {
              "frame": {
               "duration": 300,
               "redraw": true
              }
             }
            ],
            "label": "2010",
            "method": "animate"
           },
           {
            "args": [
             [
              "2012"
             ],
             {
              "frame": {
               "duration": 300,
               "redraw": true
              }
             }
            ],
            "label": "2012",
            "method": "animate"
           },
           {
            "args": [
             [
              "2014"
             ],
             {
              "frame": {
               "duration": 300,
               "redraw": true
              }
             }
            ],
            "label": "2014",
            "method": "animate"
           },
           {
            "args": [
             [
              "2016"
             ],
             {
              "frame": {
               "duration": 300,
               "redraw": true
              }
             }
            ],
            "label": "2016",
            "method": "animate"
           }
          ]
         }
        ],
        "template": {
         "data": {
          "bar": [
           {
            "error_x": {
             "color": "#2a3f5f"
            },
            "error_y": {
             "color": "#2a3f5f"
            },
            "marker": {
             "line": {
              "color": "#E5ECF6",
              "width": 0.5
             },
             "pattern": {
              "fillmode": "overlay",
              "size": 10,
              "solidity": 0.2
             }
            },
            "type": "bar"
           }
          ],
          "barpolar": [
           {
            "marker": {
             "line": {
              "color": "#E5ECF6",
              "width": 0.5
             },
             "pattern": {
              "fillmode": "overlay",
              "size": 10,
              "solidity": 0.2
             }
            },
            "type": "barpolar"
           }
          ],
          "carpet": [
           {
            "aaxis": {
             "endlinecolor": "#2a3f5f",
             "gridcolor": "white",
             "linecolor": "white",
             "minorgridcolor": "white",
             "startlinecolor": "#2a3f5f"
            },
            "baxis": {
             "endlinecolor": "#2a3f5f",
             "gridcolor": "white",
             "linecolor": "white",
             "minorgridcolor": "white",
             "startlinecolor": "#2a3f5f"
            },
            "type": "carpet"
           }
          ],
          "choropleth": [
           {
            "colorbar": {
             "outlinewidth": 0,
             "ticks": ""
            },
            "type": "choropleth"
           }
          ],
          "contour": [
           {
            "colorbar": {
             "outlinewidth": 0,
             "ticks": ""
            },
            "colorscale": [
             [
              0,
              "#0d0887"
             ],
             [
              0.1111111111111111,
              "#46039f"
             ],
             [
              0.2222222222222222,
              "#7201a8"
             ],
             [
              0.3333333333333333,
              "#9c179e"
             ],
             [
              0.4444444444444444,
              "#bd3786"
             ],
             [
              0.5555555555555556,
              "#d8576b"
             ],
             [
              0.6666666666666666,
              "#ed7953"
             ],
             [
              0.7777777777777778,
              "#fb9f3a"
             ],
             [
              0.8888888888888888,
              "#fdca26"
             ],
             [
              1,
              "#f0f921"
             ]
            ],
            "type": "contour"
           }
          ],
          "contourcarpet": [
           {
            "colorbar": {
             "outlinewidth": 0,
             "ticks": ""
            },
            "type": "contourcarpet"
           }
          ],
          "heatmap": [
           {
            "colorbar": {
             "outlinewidth": 0,
             "ticks": ""
            },
            "colorscale": [
             [
              0,
              "#0d0887"
             ],
             [
              0.1111111111111111,
              "#46039f"
             ],
             [
              0.2222222222222222,
              "#7201a8"
             ],
             [
              0.3333333333333333,
              "#9c179e"
             ],
             [
              0.4444444444444444,
              "#bd3786"
             ],
             [
              0.5555555555555556,
              "#d8576b"
             ],
             [
              0.6666666666666666,
              "#ed7953"
             ],
             [
              0.7777777777777778,
              "#fb9f3a"
             ],
             [
              0.8888888888888888,
              "#fdca26"
             ],
             [
              1,
              "#f0f921"
             ]
            ],
            "type": "heatmap"
           }
          ],
          "histogram": [
           {
            "marker": {
             "pattern": {
              "fillmode": "overlay",
              "size": 10,
              "solidity": 0.2
             }
            },
            "type": "histogram"
           }
          ],
          "histogram2d": [
           {
            "colorbar": {
             "outlinewidth": 0,
             "ticks": ""
            },
            "colorscale": [
             [
              0,
              "#0d0887"
             ],
             [
              0.1111111111111111,
              "#46039f"
             ],
             [
              0.2222222222222222,
              "#7201a8"
             ],
             [
              0.3333333333333333,
              "#9c179e"
             ],
             [
              0.4444444444444444,
              "#bd3786"
             ],
             [
              0.5555555555555556,
              "#d8576b"
             ],
             [
              0.6666666666666666,
              "#ed7953"
             ],
             [
              0.7777777777777778,
              "#fb9f3a"
             ],
             [
              0.8888888888888888,
              "#fdca26"
             ],
             [
              1,
              "#f0f921"
             ]
            ],
            "type": "histogram2d"
           }
          ],
          "histogram2dcontour": [
           {
            "colorbar": {
             "outlinewidth": 0,
             "ticks": ""
            },
            "colorscale": [
             [
              0,
              "#0d0887"
             ],
             [
              0.1111111111111111,
              "#46039f"
             ],
             [
              0.2222222222222222,
              "#7201a8"
             ],
             [
              0.3333333333333333,
              "#9c179e"
             ],
             [
              0.4444444444444444,
              "#bd3786"
             ],
             [
              0.5555555555555556,
              "#d8576b"
             ],
             [
              0.6666666666666666,
              "#ed7953"
             ],
             [
              0.7777777777777778,
              "#fb9f3a"
             ],
             [
              0.8888888888888888,
              "#fdca26"
             ],
             [
              1,
              "#f0f921"
             ]
            ],
            "type": "histogram2dcontour"
           }
          ],
          "mesh3d": [
           {
            "colorbar": {
             "outlinewidth": 0,
             "ticks": ""
            },
            "type": "mesh3d"
           }
          ],
          "parcoords": [
           {
            "line": {
             "colorbar": {
              "outlinewidth": 0,
              "ticks": ""
             }
            },
            "type": "parcoords"
           }
          ],
          "pie": [
           {
            "automargin": true,
            "type": "pie"
           }
          ],
          "scatter": [
           {
            "fillpattern": {
             "fillmode": "overlay",
             "size": 10,
             "solidity": 0.2
            },
            "type": "scatter"
           }
          ],
          "scatter3d": [
           {
            "line": {
             "colorbar": {
              "outlinewidth": 0,
              "ticks": ""
             }
            },
            "marker": {
             "colorbar": {
              "outlinewidth": 0,
              "ticks": ""
             }
            },
            "type": "scatter3d"
           }
          ],
          "scattercarpet": [
           {
            "marker": {
             "colorbar": {
              "outlinewidth": 0,
              "ticks": ""
             }
            },
            "type": "scattercarpet"
           }
          ],
          "scattergeo": [
           {
            "marker": {
             "colorbar": {
              "outlinewidth": 0,
              "ticks": ""
             }
            },
            "type": "scattergeo"
           }
          ],
          "scattergl": [
           {
            "marker": {
             "colorbar": {
              "outlinewidth": 0,
              "ticks": ""
             }
            },
            "type": "scattergl"
           }
          ],
          "scattermap": [
           {
            "marker": {
             "colorbar": {
              "outlinewidth": 0,
              "ticks": ""
             }
            },
            "type": "scattermap"
           }
          ],
          "scattermapbox": [
           {
            "marker": {
             "colorbar": {
              "outlinewidth": 0,
              "ticks": ""
             }
            },
            "type": "scattermapbox"
           }
          ],
          "scatterpolar": [
           {
            "marker": {
             "colorbar": {
              "outlinewidth": 0,
              "ticks": ""
             }
            },
            "type": "scatterpolar"
           }
          ],
          "scatterpolargl": [
           {
            "marker": {
             "colorbar": {
              "outlinewidth": 0,
              "ticks": ""
             }
            },
            "type": "scatterpolargl"
           }
          ],
          "scatterternary": [
           {
            "marker": {
             "colorbar": {
              "outlinewidth": 0,
              "ticks": ""
             }
            },
            "type": "scatterternary"
           }
          ],
          "surface": [
           {
            "colorbar": {
             "outlinewidth": 0,
             "ticks": ""
            },
            "colorscale": [
             [
              0,
              "#0d0887"
             ],
             [
              0.1111111111111111,
              "#46039f"
             ],
             [
              0.2222222222222222,
              "#7201a8"
             ],
             [
              0.3333333333333333,
              "#9c179e"
             ],
             [
              0.4444444444444444,
              "#bd3786"
             ],
             [
              0.5555555555555556,
              "#d8576b"
             ],
             [
              0.6666666666666666,
              "#ed7953"
             ],
             [
              0.7777777777777778,
              "#fb9f3a"
             ],
             [
              0.8888888888888888,
              "#fdca26"
             ],
             [
              1,
              "#f0f921"
             ]
            ],
            "type": "surface"
           }
          ],
          "table": [
           {
            "cells": {
             "fill": {
              "color": "#EBF0F8"
             },
             "line": {
              "color": "white"
             }
            },
            "header": {
             "fill": {
              "color": "#C8D4E3"
             },
             "line": {
              "color": "white"
             }
            },
            "type": "table"
           }
          ]
         },
         "layout": {
          "annotationdefaults": {
           "arrowcolor": "#2a3f5f",
           "arrowhead": 0,
           "arrowwidth": 1
          },
          "autotypenumbers": "strict",
          "coloraxis": {
           "colorbar": {
            "outlinewidth": 0,
            "ticks": ""
           }
          },
          "colorscale": {
           "diverging": [
            [
             0,
             "#8e0152"
            ],
            [
             0.1,
             "#c51b7d"
            ],
            [
             0.2,
             "#de77ae"
            ],
            [
             0.3,
             "#f1b6da"
            ],
            [
             0.4,
             "#fde0ef"
            ],
            [
             0.5,
             "#f7f7f7"
            ],
            [
             0.6,
             "#e6f5d0"
            ],
            [
             0.7,
             "#b8e186"
            ],
            [
             0.8,
             "#7fbc41"
            ],
            [
             0.9,
             "#4d9221"
            ],
            [
             1,
             "#276419"
            ]
           ],
           "sequential": [
            [
             0,
             "#0d0887"
            ],
            [
             0.1111111111111111,
             "#46039f"
            ],
            [
             0.2222222222222222,
             "#7201a8"
            ],
            [
             0.3333333333333333,
             "#9c179e"
            ],
            [
             0.4444444444444444,
             "#bd3786"
            ],
            [
             0.5555555555555556,
             "#d8576b"
            ],
            [
             0.6666666666666666,
             "#ed7953"
            ],
            [
             0.7777777777777778,
             "#fb9f3a"
            ],
            [
             0.8888888888888888,
             "#fdca26"
            ],
            [
             1,
             "#f0f921"
            ]
           ],
           "sequentialminus": [
            [
             0,
             "#0d0887"
            ],
            [
             0.1111111111111111,
             "#46039f"
            ],
            [
             0.2222222222222222,
             "#7201a8"
            ],
            [
             0.3333333333333333,
             "#9c179e"
            ],
            [
             0.4444444444444444,
             "#bd3786"
            ],
            [
             0.5555555555555556,
             "#d8576b"
            ],
            [
             0.6666666666666666,
             "#ed7953"
            ],
            [
             0.7777777777777778,
             "#fb9f3a"
            ],
            [
             0.8888888888888888,
             "#fdca26"
            ],
            [
             1,
             "#f0f921"
            ]
           ]
          },
          "colorway": [
           "#636efa",
           "#EF553B",
           "#00cc96",
           "#ab63fa",
           "#FFA15A",
           "#19d3f3",
           "#FF6692",
           "#B6E880",
           "#FF97FF",
           "#FECB52"
          ],
          "font": {
           "color": "#2a3f5f"
          },
          "geo": {
           "bgcolor": "white",
           "lakecolor": "white",
           "landcolor": "#E5ECF6",
           "showlakes": true,
           "showland": true,
           "subunitcolor": "white"
          },
          "hoverlabel": {
           "align": "left"
          },
          "hovermode": "closest",
          "mapbox": {
           "style": "light"
          },
          "paper_bgcolor": "white",
          "plot_bgcolor": "#E5ECF6",
          "polar": {
           "angularaxis": {
            "gridcolor": "white",
            "linecolor": "white",
            "ticks": ""
           },
           "bgcolor": "#E5ECF6",
           "radialaxis": {
            "gridcolor": "white",
            "linecolor": "white",
            "ticks": ""
           }
          },
          "scene": {
           "xaxis": {
            "backgroundcolor": "#E5ECF6",
            "gridcolor": "white",
            "gridwidth": 2,
            "linecolor": "white",
            "showbackground": true,
            "ticks": "",
            "zerolinecolor": "white"
           },
           "yaxis": {
            "backgroundcolor": "#E5ECF6",
            "gridcolor": "white",
            "gridwidth": 2,
            "linecolor": "white",
            "showbackground": true,
            "ticks": "",
            "zerolinecolor": "white"
           },
           "zaxis": {
            "backgroundcolor": "#E5ECF6",
            "gridcolor": "white",
            "gridwidth": 2,
            "linecolor": "white",
            "showbackground": true,
            "ticks": "",
            "zerolinecolor": "white"
           }
          },
          "shapedefaults": {
           "line": {
            "color": "#2a3f5f"
           }
          },
          "ternary": {
           "aaxis": {
            "gridcolor": "white",
            "linecolor": "white",
            "ticks": ""
           },
           "baxis": {
            "gridcolor": "white",
            "linecolor": "white",
            "ticks": ""
           },
           "bgcolor": "#E5ECF6",
           "caxis": {
            "gridcolor": "white",
            "linecolor": "white",
            "ticks": ""
           }
          },
          "title": {
           "x": 0.05
          },
          "xaxis": {
           "automargin": true,
           "gridcolor": "white",
           "linecolor": "white",
           "ticks": "",
           "title": {
            "standoff": 15
           },
           "zerolinecolor": "white",
           "zerolinewidth": 2
          },
          "yaxis": {
           "automargin": true,
           "gridcolor": "white",
           "linecolor": "white",
           "ticks": "",
           "title": {
            "standoff": 15
           },
           "zerolinecolor": "white",
           "zerolinewidth": 2
          }
         }
        },
        "title": {
         "text": "Olympic medals per country per year"
        },
        "updatemenus": [
         {
          "buttons": [
           {
            "args": [
             null,
             {
              "frame": {
               "duration": 500,
               "redraw": true
              }
             }
            ],
            "label": "Play",
            "method": "animate"
           },
           {
            "args": [
             [
              null
             ],
             {
              "frame": {
               "duration": 0,
               "redraw": true
              }
             }
            ],
            "label": "Pause",
            "method": "animate"
           }
          ],
          "showactive": false,
          "type": "buttons"
         }
        ],
        "width": 1000
       }
      }
     },
     "metadata": {},
     "output_type": "display_data"
    }
   ],
   "source": [
    "import pandas as pd\n",
    "import plotly.graph_objects as go\n",
    "\n",
    "medals_df = df.dropna(subset=['Medal'])\n",
    "\n",
    "medal_counts = medals_df.groupby(['Year', 'Team']).size().reset_index(name='Count')\n",
    "\n",
    "years = sorted(medal_counts['Year'].unique())\n",
    "\n",
    "# We saw this type of plots in Large Scale class at EPFL.\n",
    "\n",
    "\n",
    "# Compute the statistic for each year\n",
    "frames = []\n",
    "for year in years:\n",
    "    year_data = medal_counts[medal_counts['Year'] == year]\n",
    "    \n",
    "    frame = go.Frame(\n",
    "        data=[go.Choropleth(\n",
    "            locations=year_data['Team'],\n",
    "            z=year_data['Count'],\n",
    "            locationmode='country names', \n",
    "            colorscale='Viridis',\n",
    "            colorbar_title='Medals',\n",
    "        )],\n",
    "        name=str(year)\n",
    "    )\n",
    "    frames.append(frame)\n",
    "\n",
    "first_year = years[0] # First year different since its the default.\n",
    "first_year_data = medal_counts[medal_counts['Year'] == first_year]\n",
    "\n",
    "fig = go.Figure(\n",
    "    data=[go.Choropleth(\n",
    "        locations=first_year_data['Team'],\n",
    "        z=first_year_data['Count'],\n",
    "        locationmode='country names',\n",
    "        colorscale='Viridis',\n",
    "        colorbar_title='Medals',\n",
    "    )],\n",
    "    frames=frames # We use this for the different frames\n",
    ")\n",
    "\n",
    "fig.update_layout(\n",
    "    width=1000,\n",
    "    height=800,\n",
    "    title='Olympic medals per country per year',\n",
    "    geo=dict(\n",
    "        showframe=False,\n",
    "        showcoastlines=True,\n",
    "        projection_type='equirectangular'\n",
    "    ),\n",
    "    updatemenus=[dict(\n",
    "        type='buttons',\n",
    "        showactive=False,\n",
    "        buttons=[dict(\n",
    "            label='Play',\n",
    "            method='animate',\n",
    "            args=[None, dict(frame=dict(duration=500, redraw=True))]\n",
    "        ), dict(\n",
    "            label='Pause',\n",
    "            method='animate',\n",
    "            args=[[None], dict(frame=dict(duration=0, redraw=True))]\n",
    "        )]\n",
    "    )],\n",
    "    sliders=[dict(\n",
    "        active=0,\n",
    "        steps=[dict(\n",
    "            method='animate',\n",
    "            args=[[str(year)], dict(frame=dict(duration=300, redraw=True))],\n",
    "            label=str(year)\n",
    "        ) for year in years]\n",
    "    )]\n",
    ")"
   ]
  },
  {
   "cell_type": "code",
   "execution_count": 8,
   "metadata": {},
   "outputs": [],
   "source": [
    "basket = df[df['Event'] == 'Basketball Men\\'s Basketball'][['Height', 'Medal']]\n",
    "basket['Medal'] = ~basket['Medal'].isna()\n",
    "basket = basket.dropna(subset=['Height'])"
   ]
  },
  {
   "cell_type": "code",
   "execution_count": 9,
   "metadata": {},
   "outputs": [
    {
     "name": "stdout",
     "output_type": "stream",
     "text": [
      "          Height     Medal\n",
      "Height  1.000000  0.146254\n",
      "Medal   0.146254  1.000000\n"
     ]
    }
   ],
   "source": [
    "correlation = basket.corr()\n",
    "print(correlation)"
   ]
  },
  {
   "cell_type": "markdown",
   "metadata": {},
   "source": [
    "We see that there seem to be a correlation between the height and the number of medals in this field. Is it significant, or is it a coincidence ? "
   ]
  },
  {
   "cell_type": "code",
   "execution_count": 10,
   "metadata": {},
   "outputs": [
    {
     "data": {
      "text/plain": [
       "MannwhitneyuResult(statistic=753731.0, pvalue=1.86183628606284e-13)"
      ]
     },
     "execution_count": 10,
     "metadata": {},
     "output_type": "execute_result"
    }
   ],
   "source": [
    "from scipy import stats\n",
    "\n",
    "stats.mannwhitneyu(\n",
    "    basket[basket['Medal'] == 1]['Height'],\n",
    "    basket[basket['Medal'] == 0]['Height'], \n",
    "    alternative='two-sided')"
   ]
  },
  {
   "cell_type": "markdown",
   "metadata": {},
   "source": [
    "Given this p-value, this seems like the difference is significant ! Though we should make sure no other factors are included and explain this (see [Simpson's paradox](https://en.wikipedia.org/wiki/Simpson%27s_paradox)). We have at least some stuff to see in this direction :)"
   ]
  },
  {
   "cell_type": "markdown",
   "metadata": {},
   "source": [
    "## Here we do a general version of the algorithm above\n",
    "It computes for each discipline the correlation for age, height and weight (though other factors could also be studied, this is a first draft)"
   ]
  },
  {
   "cell_type": "code",
   "execution_count": 11,
   "metadata": {},
   "outputs": [
    {
     "data": {
      "image/png": "[encoded data removed]",
      "text/plain": [
       "<Figure size 1200x800 with 1 Axes>"
      ]
     },
     "metadata": {},
     "output_type": "display_data"
    }
   ],
   "source": [
    "import pandas as pd\n",
    "import numpy as np\n",
    "import matplotlib.pyplot as plt\n",
    "import seaborn as sns\n",
    "\n",
    "# We just look whether they have a medal or not\n",
    "df['Medal_numeric'] = (~df['Medal'].isna()).astype(int)\n",
    "\n",
    "# Function to analyze distributions by event\n",
    "def compare_attribute_distributions():\n",
    "\n",
    "    event_counts = df['Event'].value_counts()\n",
    "    valid_events = event_counts[event_counts >= 500].index.tolist() # This is to avoid some weird event that they only played in the 1900s, \n",
    "    # we saw some gun shooting for example with nonsensical correlations\n",
    "    \n",
    "    results = { # to keep for each event\n",
    "        'Event': [],\n",
    "        'Height_pvalue': [],\n",
    "        'Weight_pvalue': [],\n",
    "        'Age_pvalue': [],\n",
    "        'Strongest_factor': [],\n",
    "        'P_value': [],\n",
    "    }\n",
    "    \n",
    "    for event in valid_events:\n",
    "        event_data = df[df['Event'] == event].copy()\n",
    "        \n",
    "        # Split data into medalists and non-medalists\n",
    "        medalists = event_data[event_data['Medal_numeric'] == 1]\n",
    "        non_medalists = event_data[event_data['Medal_numeric'] == 0]\n",
    "        \n",
    "        # Skip if too few medalists\n",
    "        if len(medalists) < 10:\n",
    "            continue\n",
    "            \n",
    "        # Calculate Mann-Whitney U test for each attribute (see cell above)\n",
    "        _, height_p = stats.mannwhitneyu(\n",
    "            medalists['Height'].dropna(), \n",
    "            non_medalists['Height'].dropna(), \n",
    "            alternative='two-sided'\n",
    "        ) if len(medalists['Height'].dropna()) > 0 and len(non_medalists['Height'].dropna()) > 0 else (np.nan, np.nan)\n",
    "        \n",
    "        _, weight_p = stats.mannwhitneyu(\n",
    "            medalists['Weight'].dropna(), \n",
    "            non_medalists['Weight'].dropna(), \n",
    "            alternative='two-sided'\n",
    "        ) if len(medalists['Weight'].dropna()) > 0 and len(non_medalists['Weight'].dropna()) > 0 else (np.nan, np.nan)\n",
    "        \n",
    "        _, age_p = stats.mannwhitneyu(\n",
    "            medalists['Age'].dropna(), \n",
    "            non_medalists['Age'].dropna(), \n",
    "            alternative='two-sided'\n",
    "        ) if len(medalists['Age'].dropna()) > 0 and len(non_medalists['Age'].dropna()) > 0 else (np.nan, np.nan)\n",
    "        \n",
    "        # Find strongest factor (lowest p-value means most significant difference)\n",
    "        p_values = [height_p, weight_p, age_p]\n",
    "        factors = ['Height', 'Weight', 'Age']\n",
    "        \n",
    "        strongest_idx = np.argmin(p_values)\n",
    "        \n",
    "        results['Event'].append(event)\n",
    "        results['Height_pvalue'].append(height_p)\n",
    "        results['Weight_pvalue'].append(weight_p)\n",
    "        results['Age_pvalue'].append(age_p)\n",
    "        results['Strongest_factor'].append(factors[strongest_idx])\n",
    "        results['P_value'].append(p_values[strongest_idx])\n",
    "    \n",
    "    results_df = pd.DataFrame(results)\n",
    "    results_df = results_df.sort_values('P_value').reset_index(drop=True) # we sort with at first the smallest p-value (so biggest corr.)\n",
    "    \n",
    "    return results_df\n",
    "\n",
    "# Run analysis\n",
    "distribution_results = compare_attribute_distributions()\n",
    "\n",
    "# Plot log p-values (cause p-values are too small, log is better)\n",
    "plt.figure(figsize=(12, 8))\n",
    "\n",
    "distribution_results['log_P_value'] = np.log(distribution_results['P_value'])\n",
    "top_events = distribution_results.head(10)\n",
    "\n",
    "sns.barplot(x='log_P_value', y='Event', hue='Strongest_factor', data=top_events)\n",
    "plt.title('Events with Most Significant Differences\\nBetween Medalists and Non-Medalists')\n",
    "plt.xlabel('log(P-Value) (smaller = more significant)')\n",
    "plt.ylabel('Event')\n",
    "plt.axvline(x=np.log(0.05), color='red', linestyle='--', label='p=0.05 threshold')\n",
    "plt.legend(title='Strongest Factor')\n",
    "plt.yticks(rotation=60)\n",
    "\n",
    "plt.show()"
   ]
  },
  {
   "cell_type": "code",
   "execution_count": 12,
   "metadata": {},
   "outputs": [
    {
     "data": {
      "text/html": [
       "<div>\n",
       "<style scoped>\n",
       "    .dataframe tbody tr th:only-of-type {\n",
       "        vertical-align: middle;\n",
       "    }\n",
       "\n",
       "    .dataframe tbody tr th {\n",
       "        vertical-align: top;\n",
       "    }\n",
       "\n",
       "    .dataframe thead th {\n",
       "        text-align: right;\n",
       "    }\n",
       "</style>\n",
       "<table border=\"1\" class=\"dataframe\">\n",
       "  <thead>\n",
       "    <tr style=\"text-align: right;\">\n",
       "      <th></th>\n",
       "      <th>Event</th>\n",
       "      <th>Height_pvalue</th>\n",
       "      <th>Weight_pvalue</th>\n",
       "      <th>Age_pvalue</th>\n",
       "      <th>Strongest_factor</th>\n",
       "      <th>P_value</th>\n",
       "      <th>log_P_value</th>\n",
       "    </tr>\n",
       "  </thead>\n",
       "  <tbody>\n",
       "    <tr>\n",
       "      <th>0</th>\n",
       "      <td>Canoeing Men's Kayak Fours, 1,000 metres</td>\n",
       "      <td>1.918695e-08</td>\n",
       "      <td>2.278512e-14</td>\n",
       "      <td>0.086887</td>\n",
       "      <td>Weight</td>\n",
       "      <td>2.278512e-14</td>\n",
       "      <td>-31.412669</td>\n",
       "    </tr>\n",
       "    <tr>\n",
       "      <th>1</th>\n",
       "      <td>Basketball Men's Basketball</td>\n",
       "      <td>1.861836e-13</td>\n",
       "      <td>2.345346e-14</td>\n",
       "      <td>0.945314</td>\n",
       "      <td>Weight</td>\n",
       "      <td>2.345346e-14</td>\n",
       "      <td>-31.383758</td>\n",
       "    </tr>\n",
       "    <tr>\n",
       "      <th>2</th>\n",
       "      <td>Ice Hockey Women's Ice Hockey</td>\n",
       "      <td>8.211889e-08</td>\n",
       "      <td>5.702212e-13</td>\n",
       "      <td>0.047041</td>\n",
       "      <td>Weight</td>\n",
       "      <td>5.702212e-13</td>\n",
       "      <td>-28.192752</td>\n",
       "    </tr>\n",
       "    <tr>\n",
       "      <th>3</th>\n",
       "      <td>Water Polo Men's Water Polo</td>\n",
       "      <td>2.643434e-09</td>\n",
       "      <td>2.530720e-12</td>\n",
       "      <td>0.009759</td>\n",
       "      <td>Weight</td>\n",
       "      <td>2.530720e-12</td>\n",
       "      <td>-26.702517</td>\n",
       "    </tr>\n",
       "    <tr>\n",
       "      <th>4</th>\n",
       "      <td>Athletics Men's 4 x 400 metres Relay</td>\n",
       "      <td>3.299247e-07</td>\n",
       "      <td>4.024965e-12</td>\n",
       "      <td>0.011515</td>\n",
       "      <td>Weight</td>\n",
       "      <td>4.024965e-12</td>\n",
       "      <td>-26.238505</td>\n",
       "    </tr>\n",
       "  </tbody>\n",
       "</table>\n",
       "</div>"
      ],
      "text/plain": [
       "                                      Event  Height_pvalue  Weight_pvalue  \\\n",
       "0  Canoeing Men's Kayak Fours, 1,000 metres   1.918695e-08   2.278512e-14   \n",
       "1               Basketball Men's Basketball   1.861836e-13   2.345346e-14   \n",
       "2             Ice Hockey Women's Ice Hockey   8.211889e-08   5.702212e-13   \n",
       "3               Water Polo Men's Water Polo   2.643434e-09   2.530720e-12   \n",
       "4      Athletics Men's 4 x 400 metres Relay   3.299247e-07   4.024965e-12   \n",
       "\n",
       "   Age_pvalue Strongest_factor       P_value  log_P_value  \n",
       "0    0.086887           Weight  2.278512e-14   -31.412669  \n",
       "1    0.945314           Weight  2.345346e-14   -31.383758  \n",
       "2    0.047041           Weight  5.702212e-13   -28.192752  \n",
       "3    0.009759           Weight  2.530720e-12   -26.702517  \n",
       "4    0.011515           Weight  4.024965e-12   -26.238505  "
      ]
     },
     "execution_count": 12,
     "metadata": {},
     "output_type": "execute_result"
    }
   ],
   "source": [
    "distribution_results.head()"
   ]
  },
  {
   "cell_type": "markdown",
   "metadata": {},
   "source": [
    "## Visualize distributions of properties"
   ]
  },
  {
   "cell_type": "code",
   "execution_count": 13,
   "metadata": {},
   "outputs": [
    {
     "data": {
      "image/png": "[encoded data removed]",
      "text/plain": [
       "<Figure size 1800x600 with 3 Axes>"
      ]
     },
     "metadata": {},
     "output_type": "display_data"
    }
   ],
   "source": [
    "event_name = \"Basketball Men\\'s Basketball\" #distribution_results.iloc[0]['Event']\n",
    "\n",
    "event_data = df[df['Event'] == event_name].copy()\n",
    "\n",
    "medalists = event_data[event_data['Medal_numeric'] == 1]\n",
    "non_medalists = event_data[event_data['Medal_numeric'] == 0]\n",
    "\n",
    "fig, axes = plt.subplots(1, 3, figsize=(18, 6))\n",
    "\n",
    "# Height\n",
    "sns.kdeplot(medalists['Height'].dropna(), ax=axes[0], label='Medalists', fill=True)\n",
    "sns.kdeplot(non_medalists['Height'].dropna(), ax=axes[0], label='Non-Medalists', fill=True)\n",
    "axes[0].set_title(f'Height Distribution - {event_name}')\n",
    "axes[0].set_xlabel('Height (cm)')\n",
    "axes[0].axvline(medalists['Height'].median(), color='blue', linestyle='--', label='Medalist Median')\n",
    "axes[0].axvline(non_medalists['Height'].median(), color='orange', linestyle='--', label='Non-Medalist Median')\n",
    "axes[0].legend()\n",
    "\n",
    "# Weight\n",
    "sns.kdeplot(medalists['Weight'].dropna(), ax=axes[1], label='Medalists', fill=True)\n",
    "sns.kdeplot(non_medalists['Weight'].dropna(), ax=axes[1], label='Non-Medalists', fill=True)\n",
    "axes[1].set_title(f'Weight Distribution - {event_name}')\n",
    "axes[1].set_xlabel('Weight (kg)')\n",
    "axes[1].axvline(medalists['Weight'].median(), color='blue', linestyle='--', label='Medalist Median')\n",
    "axes[1].axvline(non_medalists['Weight'].median(), color='orange', linestyle='--', label='Non-Medalist Median')\n",
    "axes[1].legend()\n",
    "\n",
    "# Age\n",
    "sns.kdeplot(medalists['Age'].dropna(), ax=axes[2], label='Medalists', fill=True)\n",
    "sns.kdeplot(non_medalists['Age'].dropna(), ax=axes[2], label='Non-Medalists', fill=True)\n",
    "axes[2].set_title(f'Age Distribution - {event_name}')\n",
    "axes[2].set_xlabel('Age (years)')\n",
    "axes[2].axvline(medalists['Age'].median(), color='blue', linestyle='--', label='Medalist Median')\n",
    "axes[2].axvline(non_medalists['Age'].median(), color='orange', linestyle='--', label='Non-Medalist Median')\n",
    "axes[2].legend()\n",
    "\n",
    "plt.tight_layout()"
   ]
  },
  {
   "cell_type": "markdown",
   "metadata": {},
   "source": [
    "This would be interesting to further go by looking at the variation of these distributions over different period of time"
   ]
  },
  {
   "cell_type": "code",
   "execution_count": 14,
   "metadata": {},
   "outputs": [
    {
     "data": {
      "text/plain": [
       "<matplotlib.legend.Legend at 0x7b50fc375220>"
      ]
     },
     "execution_count": 14,
     "metadata": {},
     "output_type": "execute_result"
    },
    {
     "data": {
      "image/png": "[encoded data removed]",
      "text/plain": [
       "<Figure size 1800x600 with 2 Axes>"
      ]
     },
     "metadata": {},
     "output_type": "display_data"
    }
   ],
   "source": [
    "event_name = \"Basketball Men\\'s Basketball\" #distribution_results.iloc[0]['Event']\n",
    "\n",
    "event_data = df[df['Event'] == event_name].copy()\n",
    "\n",
    "cutoff_year = 2000\n",
    "event_old = event_data[event_data['Year'] <= cutoff_year]\n",
    "event_new = event_data[event_data['Year'] >  cutoff_year]\n",
    "medalists_old = event_old[event_old['Medal_numeric'] == 1]\n",
    "non_medalists_old = event_old[event_old['Medal_numeric'] == 0]\n",
    "\n",
    "medalists_new = event_new[event_new['Medal_numeric'] == 1]\n",
    "non_medalists_new = event_new[event_new['Medal_numeric'] == 0]\n",
    "\n",
    "fig, axes = plt.subplots(1, 2, figsize=(18, 6))\n",
    "\n",
    "# Height\n",
    "sns.kdeplot(medalists_old['Height'].dropna(), ax=axes[0], label='Medalists_old', fill=True)\n",
    "sns.kdeplot(non_medalists_old['Height'].dropna(), ax=axes[0], label='Non-Medalists_old', fill=True)\n",
    "axes[0].set_title(f'Height Distribution - {event_name} before {cutoff_year}')\n",
    "axes[0].set_xlabel('Height (cm)')\n",
    "axes[0].axvline(medalists_old['Height'].median(), color='blue', linestyle='--', label='Medalist Median')\n",
    "axes[0].axvline(non_medalists_old['Height'].median(), color='orange', linestyle='--', label='Non-Medalist Median')\n",
    "axes[0].legend()\n",
    "\n",
    "\n",
    "sns.kdeplot(medalists_new['Height'].dropna(), ax=axes[1], label='Medalists_new', fill=True)\n",
    "sns.kdeplot(non_medalists_new['Height'].dropna(), ax=axes[1], label='Non-Medalists_new', fill=True)\n",
    "axes[1].set_title(f'Height Distribution - {event_name} after {cutoff_year}')\n",
    "axes[1].set_xlabel('Height (cm)')\n",
    "axes[1].axvline(medalists_new['Height'].median(), color='blue', linestyle='--', label='Medalist Median')\n",
    "axes[1].axvline(non_medalists_new['Height'].median(), color='orange', linestyle='--', label='Non-Medalist Median')\n",
    "axes[1].legend()"
   ]
  },
  {
   "cell_type": "markdown",
   "metadata": {},
   "source": [
    "Fascinating ! It seems like the difference is evolving over time :O"
   ]
  }
 ],
 "metadata": {
  "kernelspec": {
   "display_name": "base",
   "language": "python",
   "name": "python3"
  },
  "language_info": {
   "codemirror_mode": {
    "name": "ipython",
    "version": 3
   },
   "file_extension": ".py",
   "mimetype": "text/x-python",
   "name": "python",
   "nbconvert_exporter": "python",
   "pygments_lexer": "ipython3",
   "version": "3.12.2"
  }
 },
 "nbformat": 4,
 "nbformat_minor": 2
}
