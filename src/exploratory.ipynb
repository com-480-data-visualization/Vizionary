{
 "cells": [
  {
   "cell_type": "markdown",
   "metadata": {},
   "source": [
    "# Olympic data | Exploration"
   ]
  },
  {
   "cell_type": "markdown",
   "metadata": {},
   "source": [
    "## Packages"
   ]
  },
  {
   "cell_type": "markdown",
   "metadata": {},
   "source": [
    "For simplicity, we use `kaggle` for now. Since the dataset is on the website, this makes it easy to download it and load it with `pandas`"
   ]
  },
  {
   "cell_type": "code",
   "execution_count": 1,
   "metadata": {},
   "outputs": [],
   "source": [
    "%%capture\n",
    "#to avoid output\n",
    "\n",
    "!pip install -r ../requirements.txt\n",
    "\n",
    "%load_ext autoreload\n",
    "%autoreload 2"
   ]
  },
  {
   "cell_type": "markdown",
   "metadata": {},
   "source": [
    "## Loading :3"
   ]
  },
  {
   "cell_type": "code",
   "execution_count": 3,
   "metadata": {},
   "outputs": [],
   "source": [
    "import kagglehub\n",
    "from kagglehub import KaggleDatasetAdapter\n",
    "\n",
    "df = kagglehub.dataset_load(KaggleDatasetAdapter.PANDAS, \"heesoo37/120-years-of-olympic-history-athletes-and-results\", 'athlete_events.csv')"
   ]
  },
  {
   "cell_type": "markdown",
   "metadata": {},
   "source": [
    "## Data info & cleaning "
   ]
  },
  {
   "cell_type": "code",
   "execution_count": 4,
   "metadata": {},
   "outputs": [
    {
     "data": {
      "text/html": [
       "<div>\n",
       "<style scoped>\n",
       "    .dataframe tbody tr th:only-of-type {\n",
       "        vertical-align: middle;\n",
       "    }\n",
       "\n",
       "    .dataframe tbody tr th {\n",
       "        vertical-align: top;\n",
       "    }\n",
       "\n",
       "    .dataframe thead th {\n",
       "        text-align: right;\n",
       "    }\n",
       "</style>\n",
       "<table border=\"1\" class=\"dataframe\">\n",
       "  <thead>\n",
       "    <tr style=\"text-align: right;\">\n",
       "      <th></th>\n",
       "      <th>ID</th>\n",
       "      <th>Name</th>\n",
       "      <th>Sex</th>\n",
       "      <th>Age</th>\n",
       "      <th>Height</th>\n",
       "      <th>Weight</th>\n",
       "      <th>Team</th>\n",
       "      <th>NOC</th>\n",
       "      <th>Games</th>\n",
       "      <th>Year</th>\n",
       "      <th>Season</th>\n",
       "      <th>City</th>\n",
       "      <th>Sport</th>\n",
       "      <th>Event</th>\n",
       "      <th>Medal</th>\n",
       "    </tr>\n",
       "  </thead>\n",
       "  <tbody>\n",
       "    <tr>\n",
       "      <th>0</th>\n",
       "      <td>1</td>\n",
       "      <td>A Dijiang</td>\n",
       "      <td>M</td>\n",
       "      <td>24.0</td>\n",
       "      <td>180.0</td>\n",
       "      <td>80.0</td>\n",
       "      <td>China</td>\n",
       "      <td>CHN</td>\n",
       "      <td>1992 Summer</td>\n",
       "      <td>1992</td>\n",
       "      <td>Summer</td>\n",
       "      <td>Barcelona</td>\n",
       "      <td>Basketball</td>\n",
       "      <td>Basketball Men's Basketball</td>\n",
       "      <td>NaN</td>\n",
       "    </tr>\n",
       "    <tr>\n",
       "      <th>1</th>\n",
       "      <td>2</td>\n",
       "      <td>A Lamusi</td>\n",
       "      <td>M</td>\n",
       "      <td>23.0</td>\n",
       "      <td>170.0</td>\n",
       "      <td>60.0</td>\n",
       "      <td>China</td>\n",
       "      <td>CHN</td>\n",
       "      <td>2012 Summer</td>\n",
       "      <td>2012</td>\n",
       "      <td>Summer</td>\n",
       "      <td>London</td>\n",
       "      <td>Judo</td>\n",
       "      <td>Judo Men's Extra-Lightweight</td>\n",
       "      <td>NaN</td>\n",
       "    </tr>\n",
       "    <tr>\n",
       "      <th>2</th>\n",
       "      <td>3</td>\n",
       "      <td>Gunnar Nielsen Aaby</td>\n",
       "      <td>M</td>\n",
       "      <td>24.0</td>\n",
       "      <td>NaN</td>\n",
       "      <td>NaN</td>\n",
       "      <td>Denmark</td>\n",
       "      <td>DEN</td>\n",
       "      <td>1920 Summer</td>\n",
       "      <td>1920</td>\n",
       "      <td>Summer</td>\n",
       "      <td>Antwerpen</td>\n",
       "      <td>Football</td>\n",
       "      <td>Football Men's Football</td>\n",
       "      <td>NaN</td>\n",
       "    </tr>\n",
       "    <tr>\n",
       "      <th>3</th>\n",
       "      <td>4</td>\n",
       "      <td>Edgar Lindenau Aabye</td>\n",
       "      <td>M</td>\n",
       "      <td>34.0</td>\n",
       "      <td>NaN</td>\n",
       "      <td>NaN</td>\n",
       "      <td>Denmark/Sweden</td>\n",
       "      <td>DEN</td>\n",
       "      <td>1900 Summer</td>\n",
       "      <td>1900</td>\n",
       "      <td>Summer</td>\n",
       "      <td>Paris</td>\n",
       "      <td>Tug-Of-War</td>\n",
       "      <td>Tug-Of-War Men's Tug-Of-War</td>\n",
       "      <td>Gold</td>\n",
       "    </tr>\n",
       "    <tr>\n",
       "      <th>4</th>\n",
       "      <td>5</td>\n",
       "      <td>Christine Jacoba Aaftink</td>\n",
       "      <td>F</td>\n",
       "      <td>21.0</td>\n",
       "      <td>185.0</td>\n",
       "      <td>82.0</td>\n",
       "      <td>Netherlands</td>\n",
       "      <td>NED</td>\n",
       "      <td>1988 Winter</td>\n",
       "      <td>1988</td>\n",
       "      <td>Winter</td>\n",
       "      <td>Calgary</td>\n",
       "      <td>Speed Skating</td>\n",
       "      <td>Speed Skating Women's 500 metres</td>\n",
       "      <td>NaN</td>\n",
       "    </tr>\n",
       "  </tbody>\n",
       "</table>\n",
       "</div>"
      ],
      "text/plain": [
       "   ID                      Name Sex   Age  Height  Weight            Team  \\\n",
       "0   1                 A Dijiang   M  24.0   180.0    80.0           China   \n",
       "1   2                  A Lamusi   M  23.0   170.0    60.0           China   \n",
       "2   3       Gunnar Nielsen Aaby   M  24.0     NaN     NaN         Denmark   \n",
       "3   4      Edgar Lindenau Aabye   M  34.0     NaN     NaN  Denmark/Sweden   \n",
       "4   5  Christine Jacoba Aaftink   F  21.0   185.0    82.0     Netherlands   \n",
       "\n",
       "   NOC        Games  Year  Season       City          Sport  \\\n",
       "0  CHN  1992 Summer  1992  Summer  Barcelona     Basketball   \n",
       "1  CHN  2012 Summer  2012  Summer     London           Judo   \n",
       "2  DEN  1920 Summer  1920  Summer  Antwerpen       Football   \n",
       "3  DEN  1900 Summer  1900  Summer      Paris     Tug-Of-War   \n",
       "4  NED  1988 Winter  1988  Winter    Calgary  Speed Skating   \n",
       "\n",
       "                              Event Medal  \n",
       "0       Basketball Men's Basketball   NaN  \n",
       "1      Judo Men's Extra-Lightweight   NaN  \n",
       "2           Football Men's Football   NaN  \n",
       "3       Tug-Of-War Men's Tug-Of-War  Gold  \n",
       "4  Speed Skating Women's 500 metres   NaN  "
      ]
     },
     "execution_count": 4,
     "metadata": {},
     "output_type": "execute_result"
    }
   ],
   "source": [
    "df.head()"
   ]
  },
  {
   "cell_type": "code",
   "execution_count": 5,
   "metadata": {},
   "outputs": [
    {
     "name": "stdout",
     "output_type": "stream",
     "text": [
      "<class 'pandas.core.frame.DataFrame'>\n",
      "RangeIndex: 271116 entries, 0 to 271115\n",
      "Data columns (total 15 columns):\n",
      " #   Column  Non-Null Count   Dtype  \n",
      "---  ------  --------------   -----  \n",
      " 0   ID      271116 non-null  int64  \n",
      " 1   Name    271116 non-null  object \n",
      " 2   Sex     271116 non-null  object \n",
      " 3   Age     261642 non-null  float64\n",
      " 4   Height  210945 non-null  float64\n",
      " 5   Weight  208241 non-null  float64\n",
      " 6   Team    271116 non-null  object \n",
      " 7   NOC     271116 non-null  object \n",
      " 8   Games   271116 non-null  object \n",
      " 9   Year    271116 non-null  int64  \n",
      " 10  Season  271116 non-null  object \n",
      " 11  City    271116 non-null  object \n",
      " 12  Sport   271116 non-null  object \n",
      " 13  Event   271116 non-null  object \n",
      " 14  Medal   39783 non-null   object \n",
      "dtypes: float64(3), int64(2), object(10)\n",
      "memory usage: 31.0+ MB\n"
     ]
    }
   ],
   "source": [
    "df.info()"
   ]
  },
  {
   "cell_type": "markdown",
   "metadata": {},
   "source": [
    "This gives 270k athletes informations, and most of them are not NaNs, which is great. Some of the age, height and weight are missing. Some medals as well, but this is probably only because most athletes did not receive a medal."
   ]
  },
  {
   "cell_type": "code",
   "execution_count": 6,
   "metadata": {},
   "outputs": [
    {
     "data": {
      "text/plain": [
       "array([nan, 'Gold', 'Bronze', 'Silver'], dtype=object)"
      ]
     },
     "execution_count": 6,
     "metadata": {},
     "output_type": "execute_result"
    }
   ],
   "source": [
    "df.Medal.unique()"
   ]
  },
  {
   "cell_type": "code",
   "execution_count": 17,
   "metadata": {},
   "outputs": [],
   "source": [
    "golds_CH_FRA = df[(df['Medal'] == 'Gold') & (df['Team'].isin(['Switzerland', 'France']))]\n",
    "golds_CH_FRA = golds_CH_FRA.groupby(['Year', 'Team']).size().reset_index().rename(columns={0:'Count'})"
   ]
  },
  {
   "cell_type": "code",
   "execution_count": 18,
   "metadata": {},
   "outputs": [
    {
     "data": {
      "application/vnd.plotly.v1+json": {
       "config": {
        "plotlyServerURL": "https://plot.ly"
       },
       "data": [
        {
         "alignmentgroup": "True",
         "hovertemplate": "Team=France<br>Year=%{x}<br>Count=%{y}<extra></extra>",
         "legendgroup": "France",
         "marker": {
          "color": "#636efa",
          "pattern": {
           "shape": ""
          }
         },
         "name": "France",
         "offsetgroup": "France",
         "orientation": "v",
         "showlegend": true,
         "textposition": "auto",
         "type": "bar",
         "x": {
          "bdata": "aAdsB3IHdAd4B4AHhAeIB4wHkAecB6AHpAeoB6wHsAe0B7gHvAfAB8QHyAfMB84H0AfSB9QH1gfYB9oH3AfeB+AH",
          "dtype": "i2"
         },
         "xaxis": "x",
         "y": {
          "bdata": "BRYUCwcLJQgcDRwOBwEEEAIFEhQNDhMCFgMVAxkCHgQU",
          "dtype": "i1"
         },
         "yaxis": "y"
        },
        {
         "alignmentgroup": "True",
         "hovertemplate": "Team=Switzerland<br>Year=%{x}<br>Count=%{y}<extra></extra>",
         "legendgroup": "Switzerland",
         "marker": {
          "color": "#EF553B",
          "pattern": {
           "shape": ""
          }
         },
         "name": "Switzerland",
         "offsetgroup": "Switzerland",
         "orientation": "v",
         "showlegend": true,
         "textposition": "auto",
         "type": "bar",
         "x": {
          "bdata": "aAdsB3AHcgd4B4AHhAeIB5AHnAegB6QHqAesB7QHuAe8B8AHxAfIB8oHzAfOB9AH0gfUB9YH2AfaB9wH3gfgBw==",
          "dtype": "i2"
         },
         "xaxis": "x",
         "y": {
          "bdata": "AQ0BCAIGEhAFBwICAgEDAgICBAECBQYBAwEFAwYCBgY=",
          "dtype": "i1"
         },
         "yaxis": "y"
        }
       ],
       "layout": {
        "barmode": "group",
        "legend": {
         "title": {
          "text": "Team"
         },
         "tracegroupgap": 0
        },
        "template": {
         "data": {
          "bar": [
           {
            "error_x": {
             "color": "#2a3f5f"
            },
            "error_y": {
             "color": "#2a3f5f"
            },
            "marker": {
             "line": {
              "color": "#E5ECF6",
              "width": 0.5
             },
             "pattern": {
              "fillmode": "overlay",
              "size": 10,
              "solidity": 0.2
             }
            },
            "type": "bar"
           }
          ],
          "barpolar": [
           {
            "marker": {
             "line": {
              "color": "#E5ECF6",
              "width": 0.5
             },
             "pattern": {
              "fillmode": "overlay",
              "size": 10,
              "solidity": 0.2
             }
            },
            "type": "barpolar"
           }
          ],
          "carpet": [
           {
            "aaxis": {
             "endlinecolor": "#2a3f5f",
             "gridcolor": "white",
             "linecolor": "white",
             "minorgridcolor": "white",
             "startlinecolor": "#2a3f5f"
            },
            "baxis": {
             "endlinecolor": "#2a3f5f",
             "gridcolor": "white",
             "linecolor": "white",
             "minorgridcolor": "white",
             "startlinecolor": "#2a3f5f"
            },
            "type": "carpet"
           }
          ],
          "choropleth": [
           {
            "colorbar": {
             "outlinewidth": 0,
             "ticks": ""
            },
            "type": "choropleth"
           }
          ],
          "contour": [
           {
            "colorbar": {
             "outlinewidth": 0,
             "ticks": ""
            },
            "colorscale": [
             [
              0,
              "#0d0887"
             ],
             [
              0.1111111111111111,
              "#46039f"
             ],
             [
              0.2222222222222222,
              "#7201a8"
             ],
             [
              0.3333333333333333,
              "#9c179e"
             ],
             [
              0.4444444444444444,
              "#bd3786"
             ],
             [
              0.5555555555555556,
              "#d8576b"
             ],
             [
              0.6666666666666666,
              "#ed7953"
             ],
             [
              0.7777777777777778,
              "#fb9f3a"
             ],
             [
              0.8888888888888888,
              "#fdca26"
             ],
             [
              1,
              "#f0f921"
             ]
            ],
            "type": "contour"
           }
          ],
          "contourcarpet": [
           {
            "colorbar": {
             "outlinewidth": 0,
             "ticks": ""
            },
            "type": "contourcarpet"
           }
          ],
          "heatmap": [
           {
            "colorbar": {
             "outlinewidth": 0,
             "ticks": ""
            },
            "colorscale": [
             [
              0,
              "#0d0887"
             ],
             [
              0.1111111111111111,
              "#46039f"
             ],
             [
              0.2222222222222222,
              "#7201a8"
             ],
             [
              0.3333333333333333,
              "#9c179e"
             ],
             [
              0.4444444444444444,
              "#bd3786"
             ],
             [
              0.5555555555555556,
              "#d8576b"
             ],
             [
              0.6666666666666666,
              "#ed7953"
             ],
             [
              0.7777777777777778,
              "#fb9f3a"
             ],
             [
              0.8888888888888888,
              "#fdca26"
             ],
             [
              1,
              "#f0f921"
             ]
            ],
            "type": "heatmap"
           }
          ],
          "histogram": [
           {
            "marker": {
             "pattern": {
              "fillmode": "overlay",
              "size": 10,
              "solidity": 0.2
             }
            },
            "type": "histogram"
           }
          ],
          "histogram2d": [
           {
            "colorbar": {
             "outlinewidth": 0,
             "ticks": ""
            },
            "colorscale": [
             [
              0,
              "#0d0887"
             ],
             [
              0.1111111111111111,
              "#46039f"
             ],
             [
              0.2222222222222222,
              "#7201a8"
             ],
             [
              0.3333333333333333,
              "#9c179e"
             ],
             [
              0.4444444444444444,
              "#bd3786"
             ],
             [
              0.5555555555555556,
              "#d8576b"
             ],
             [
              0.6666666666666666,
              "#ed7953"
             ],
             [
              0.7777777777777778,
              "#fb9f3a"
             ],
             [
              0.8888888888888888,
              "#fdca26"
             ],
             [
              1,
              "#f0f921"
             ]
            ],
            "type": "histogram2d"
           }
          ],
          "histogram2dcontour": [
           {
            "colorbar": {
             "outlinewidth": 0,
             "ticks": ""
            },
            "colorscale": [
             [
              0,
              "#0d0887"
             ],
             [
              0.1111111111111111,
              "#46039f"
             ],
             [
              0.2222222222222222,
              "#7201a8"
             ],
             [
              0.3333333333333333,
              "#9c179e"
             ],
             [
              0.4444444444444444,
              "#bd3786"
             ],
             [
              0.5555555555555556,
              "#d8576b"
             ],
             [
              0.6666666666666666,
              "#ed7953"
             ],
             [
              0.7777777777777778,
              "#fb9f3a"
             ],
             [
              0.8888888888888888,
              "#fdca26"
             ],
             [
              1,
              "#f0f921"
             ]
            ],
            "type": "histogram2dcontour"
           }
          ],
          "mesh3d": [
           {
            "colorbar": {
             "outlinewidth": 0,
             "ticks": ""
            },
            "type": "mesh3d"
           }
          ],
          "parcoords": [
           {
            "line": {
             "colorbar": {
              "outlinewidth": 0,
              "ticks": ""
             }
            },
            "type": "parcoords"
           }
          ],
          "pie": [
           {
            "automargin": true,
            "type": "pie"
           }
          ],
          "scatter": [
           {
            "fillpattern": {
             "fillmode": "overlay",
             "size": 10,
             "solidity": 0.2
            },
            "type": "scatter"
           }
          ],
          "scatter3d": [
           {
            "line": {
             "colorbar": {
              "outlinewidth": 0,
              "ticks": ""
             }
            },
            "marker": {
             "colorbar": {
              "outlinewidth": 0,
              "ticks": ""
             }
            },
            "type": "scatter3d"
           }
          ],
          "scattercarpet": [
           {
            "marker": {
             "colorbar": {
              "outlinewidth": 0,
              "ticks": ""
             }
            },
            "type": "scattercarpet"
           }
          ],
          "scattergeo": [
           {
            "marker": {
             "colorbar": {
              "outlinewidth": 0,
              "ticks": ""
             }
            },
            "type": "scattergeo"
           }
          ],
          "scattergl": [
           {
            "marker": {
             "colorbar": {
              "outlinewidth": 0,
              "ticks": ""
             }
            },
            "type": "scattergl"
           }
          ],
          "scattermap": [
           {
            "marker": {
             "colorbar": {
              "outlinewidth": 0,
              "ticks": ""
             }
            },
            "type": "scattermap"
           }
          ],
          "scattermapbox": [
           {
            "marker": {
             "colorbar": {
              "outlinewidth": 0,
              "ticks": ""
             }
            },
            "type": "scattermapbox"
           }
          ],
          "scatterpolar": [
           {
            "marker": {
             "colorbar": {
              "outlinewidth": 0,
              "ticks": ""
             }
            },
            "type": "scatterpolar"
           }
          ],
          "scatterpolargl": [
           {
            "marker": {
             "colorbar": {
              "outlinewidth": 0,
              "ticks": ""
             }
            },
            "type": "scatterpolargl"
           }
          ],
          "scatterternary": [
           {
            "marker": {
             "colorbar": {
              "outlinewidth": 0,
              "ticks": ""
             }
            },
            "type": "scatterternary"
           }
          ],
          "surface": [
           {
            "colorbar": {
             "outlinewidth": 0,
             "ticks": ""
            },
            "colorscale": [
             [
              0,
              "#0d0887"
             ],
             [
              0.1111111111111111,
              "#46039f"
             ],
             [
              0.2222222222222222,
              "#7201a8"
             ],
             [
              0.3333333333333333,
              "#9c179e"
             ],
             [
              0.4444444444444444,
              "#bd3786"
             ],
             [
              0.5555555555555556,
              "#d8576b"
             ],
             [
              0.6666666666666666,
              "#ed7953"
             ],
             [
              0.7777777777777778,
              "#fb9f3a"
             ],
             [
              0.8888888888888888,
              "#fdca26"
             ],
             [
              1,
              "#f0f921"
             ]
            ],
            "type": "surface"
           }
          ],
          "table": [
           {
            "cells": {
             "fill": {
              "color": "#EBF0F8"
             },
             "line": {
              "color": "white"
             }
            },
            "header": {
             "fill": {
              "color": "#C8D4E3"
             },
             "line": {
              "color": "white"
             }
            },
            "type": "table"
           }
          ]
         },
         "layout": {
          "annotationdefaults": {
           "arrowcolor": "#2a3f5f",
           "arrowhead": 0,
           "arrowwidth": 1
          },
          "autotypenumbers": "strict",
          "coloraxis": {
           "colorbar": {
            "outlinewidth": 0,
            "ticks": ""
           }
          },
          "colorscale": {
           "diverging": [
            [
             0,
             "#8e0152"
            ],
            [
             0.1,
             "#c51b7d"
            ],
            [
             0.2,
             "#de77ae"
            ],
            [
             0.3,
             "#f1b6da"
            ],
            [
             0.4,
             "#fde0ef"
            ],
            [
             0.5,
             "#f7f7f7"
            ],
            [
             0.6,
             "#e6f5d0"
            ],
            [
             0.7,
             "#b8e186"
            ],
            [
             0.8,
             "#7fbc41"
            ],
            [
             0.9,
             "#4d9221"
            ],
            [
             1,
             "#276419"
            ]
           ],
           "sequential": [
            [
             0,
             "#0d0887"
            ],
            [
             0.1111111111111111,
             "#46039f"
            ],
            [
             0.2222222222222222,
             "#7201a8"
            ],
            [
             0.3333333333333333,
             "#9c179e"
            ],
            [
             0.4444444444444444,
             "#bd3786"
            ],
            [
             0.5555555555555556,
             "#d8576b"
            ],
            [
             0.6666666666666666,
             "#ed7953"
            ],
            [
             0.7777777777777778,
             "#fb9f3a"
            ],
            [
             0.8888888888888888,
             "#fdca26"
            ],
            [
             1,
             "#f0f921"
            ]
           ],
           "sequentialminus": [
            [
             0,
             "#0d0887"
            ],
            [
             0.1111111111111111,
             "#46039f"
            ],
            [
             0.2222222222222222,
             "#7201a8"
            ],
            [
             0.3333333333333333,
             "#9c179e"
            ],
            [
             0.4444444444444444,
             "#bd3786"
            ],
            [
             0.5555555555555556,
             "#d8576b"
            ],
            [
             0.6666666666666666,
             "#ed7953"
            ],
            [
             0.7777777777777778,
             "#fb9f3a"
            ],
            [
             0.8888888888888888,
             "#fdca26"
            ],
            [
             1,
             "#f0f921"
            ]
           ]
          },
          "colorway": [
           "#636efa",
           "#EF553B",
           "#00cc96",
           "#ab63fa",
           "#FFA15A",
           "#19d3f3",
           "#FF6692",
           "#B6E880",
           "#FF97FF",
           "#FECB52"
          ],
          "font": {
           "color": "#2a3f5f"
          },
          "geo": {
           "bgcolor": "white",
           "lakecolor": "white",
           "landcolor": "#E5ECF6",
           "showlakes": true,
           "showland": true,
           "subunitcolor": "white"
          },
          "hoverlabel": {
           "align": "left"
          },
          "hovermode": "closest",
          "mapbox": {
           "style": "light"
          },
          "paper_bgcolor": "white",
          "plot_bgcolor": "#E5ECF6",
          "polar": {
           "angularaxis": {
            "gridcolor": "white",
            "linecolor": "white",
            "ticks": ""
           },
           "bgcolor": "#E5ECF6",
           "radialaxis": {
            "gridcolor": "white",
            "linecolor": "white",
            "ticks": ""
           }
          },
          "scene": {
           "xaxis": {
            "backgroundcolor": "#E5ECF6",
            "gridcolor": "white",
            "gridwidth": 2,
            "linecolor": "white",
            "showbackground": true,
            "ticks": "",
            "zerolinecolor": "white"
           },
           "yaxis": {
            "backgroundcolor": "#E5ECF6",
            "gridcolor": "white",
            "gridwidth": 2,
            "linecolor": "white",
            "showbackground": true,
            "ticks": "",
            "zerolinecolor": "white"
           },
           "zaxis": {
            "backgroundcolor": "#E5ECF6",
            "gridcolor": "white",
            "gridwidth": 2,
            "linecolor": "white",
            "showbackground": true,
            "ticks": "",
            "zerolinecolor": "white"
           }
          },
          "shapedefaults": {
           "line": {
            "color": "#2a3f5f"
           }
          },
          "ternary": {
           "aaxis": {
            "gridcolor": "white",
            "linecolor": "white",
            "ticks": ""
           },
           "baxis": {
            "gridcolor": "white",
            "linecolor": "white",
            "ticks": ""
           },
           "bgcolor": "#E5ECF6",
           "caxis": {
            "gridcolor": "white",
            "linecolor": "white",
            "ticks": ""
           }
          },
          "title": {
           "x": 0.05
          },
          "xaxis": {
           "automargin": true,
           "gridcolor": "white",
           "linecolor": "white",
           "ticks": "",
           "title": {
            "standoff": 15
           },
           "zerolinecolor": "white",
           "zerolinewidth": 2
          },
          "yaxis": {
           "automargin": true,
           "gridcolor": "white",
           "linecolor": "white",
           "ticks": "",
           "title": {
            "standoff": 15
           },
           "zerolinecolor": "white",
           "zerolinewidth": 2
          }
         }
        },
        "title": {
         "text": "Gold Medals by Year for Switzerland and France"
        },
        "xaxis": {
         "anchor": "y",
         "domain": [
          0,
          1
         ],
         "title": {
          "text": "Year"
         }
        },
        "yaxis": {
         "anchor": "x",
         "domain": [
          0,
          1
         ],
         "title": {
          "text": "Count"
         }
        }
       }
      }
     },
     "metadata": {},
     "output_type": "display_data"
    }
   ],
   "source": [
    "import plotly.express as px\n",
    "\n",
    "\n",
    "px.bar(gold_CH_FRA, x='Year', y='Count', color='Team', title='Gold Medals by Year for Switzerland and France', barmode='group')"
   ]
  },
  {
   "cell_type": "code",
   "execution_count": 38,
   "metadata": {},
   "outputs": [
    {
     "data": {
      "application/vnd.plotly.v1+json": {
       "config": {
        "plotlyServerURL": "https://plot.ly"
       },
       "data": [
        {
         "hovertemplate": "Medal=Bronze<br>Year=%{x}<br>Age=%{y}<extra></extra>",
         "legendgroup": "Bronze",
         "line": {
          "color": "#636efa",
          "dash": "solid"
         },
         "marker": {
          "symbol": "circle"
         },
         "mode": "lines",
         "name": "Bronze",
         "orientation": "v",
         "showlegend": true,
         "type": "scatter",
         "x": {
          "bdata": "aAdsB3AHcgd0B3gHgAeEB4gHjAeQB5wHoAekB6gHrAewB7QHuAe8B8AHxAfIB8oHzAfOB9AH0gfUB9YH2AfaB9wH3gfgBw==",
          "dtype": "i2"
         },
         "xaxis": "x",
         "y": {
          "bdata": "MzMzMzOzNkBqpVZqpdY8QA6Hw+FwODpABkp4o6nzOkDOJbFMfTw7QC+66KKLLjtAy78hYcbpPUCXd8CRoqE7QD1RttG+ajpAfVBY3bLgOUAFeUqQpwQ6QPMP7NjwUjxAfzxqUCnYOkCsD431obE5QMxhDnOYQzlAj8L1KFwfOUBJ6Nq4kCo5QB4CN5ZB6ThATJHPusGUOECO9lULzFg4QK/JBU3tVThAFDuxEzuxOEDtnddn0NU4QLdt27Zt6zhAfRySFT8xOUC1gU4b6DQ6QBISEhISMjpAP4fUBOOtOkC2RiGIuDg6QC1vjGCivztAhGOSh+zoOUCym8huIrs6QLnjvP2JHjpAd4bEvJ2hOkBYsSctfBU6QA==",
          "dtype": "f8"
         },
         "yaxis": "y"
        },
        {
         "hovertemplate": "Medal=Gold<br>Year=%{x}<br>Age=%{y}<extra></extra>",
         "legendgroup": "Gold",
         "line": {
          "color": "#EF553B",
          "dash": "solid"
         },
         "marker": {
          "symbol": "circle"
         },
         "mode": "lines",
         "name": "Gold",
         "orientation": "v",
         "showlegend": true,
         "type": "scatter",
         "x": {
          "bdata": "aAdsB3AHcgd0B3gHgAeEB4gHjAeQB5wHoAekB6gHrAewB7QHuAe8B8AHxAfIB8oHzAfOB9AH0gfUB9YH2AfaB9wH3gfgBw==",
          "dtype": "i2"
         },
         "xaxis": "x",
         "y": {
          "bdata": "ntiJndgJN0Bwhtbuwy08QAAAAAAAgDpAr+u6ruu6OkDZ5ssBlm08QMKCko5PXztAMLiQKLJ5PUDRwhkQSu47QDw8PDw8/DlAAAAAAAB2OkDGSZRVZOg5QKK8hvIayjtA9ihcj8J1OkD32QXEplI6QNPS0tLS0jhAc3Nzc3MTOUC05hlNgLM4QNpOs4LDFzlACAQCgUAgOEBcMfpLMzY4QNT4L2+YRDhAMhfXPnVWOECVC26VC244QN+w9g1rXzlAQ3kN5TWcOUAFrb5U0Oo5QH2kGn2kGjpA54dFysDTOkCjqfNrD/k5QNFFF110cTtAEjA+g1joOUADmRQvkMk6QEFUOrJnADpAvH62WBm+OkBBGGnHCoQ6QA==",
          "dtype": "f8"
         },
         "yaxis": "y"
        },
        {
         "hovertemplate": "Medal=Silver<br>Year=%{x}<br>Age=%{y}<extra></extra>",
         "legendgroup": "Silver",
         "line": {
          "color": "#00cc96",
          "dash": "solid"
         },
         "marker": {
          "symbol": "circle"
         },
         "mode": "lines",
         "name": "Silver",
         "orientation": "v",
         "showlegend": true,
         "type": "scatter",
         "x": {
          "bdata": "aAdsB3AHcgd0B3gHgAeEB4gHjAeQB5wHoAekB6gHrAewB7QHuAe8B8AHxAfIB8oHzAfOB9AH0gfUB9YH2AfaB9wH3gfgBw==",
          "dtype": "i2"
         },
         "xaxis": "x",
         "y": {
          "bdata": "R1juaYTlN0DwtRHr0mM8QH+bYtTwtzpA60NjfWgsO0BWGj2igmw7QEiDNEiD9DtAhetRuB61PUBR5oIaYNw8QH6CfYJ9gjpAneZr9eyQOkBWZOhf2gg6QEL0+C4cRDxASWDeEzoMO0BJoB0JtCM5QEtqK6mtJDlAKQNPt+aHOUDOzc3NzQ05QKy5mqu5mjhAL8SlwRJzOEA+gPLzolo4QH3sxbriKDhAM8g6ZpB1OECqG6lupLo4QFdnpGJudTlAxz1GInuBOUC/VNDqSwU6QJN0x8lbBzpAPiInCHdjO0CHtW9Y+0Y6QPfZBcSm0jpA++PqlDRVOkA599kFxKY6QDIZkzEZEzpAFiOhtPGOOkA7h/oRDmQ6QA==",
          "dtype": "f8"
         },
         "yaxis": "y"
        }
       ],
       "layout": {
        "hovermode": "x unified",
        "legend": {
         "title": {
          "text": "Medal"
         },
         "tracegroupgap": 0
        },
        "template": {
         "data": {
          "bar": [
           {
            "error_x": {
             "color": "#2a3f5f"
            },
            "error_y": {
             "color": "#2a3f5f"
            },
            "marker": {
             "line": {
              "color": "#E5ECF6",
              "width": 0.5
             },
             "pattern": {
              "fillmode": "overlay",
              "size": 10,
              "solidity": 0.2
             }
            },
            "type": "bar"
           }
          ],
          "barpolar": [
           {
            "marker": {
             "line": {
              "color": "#E5ECF6",
              "width": 0.5
             },
             "pattern": {
              "fillmode": "overlay",
              "size": 10,
              "solidity": 0.2
             }
            },
            "type": "barpolar"
           }
          ],
          "carpet": [
           {
            "aaxis": {
             "endlinecolor": "#2a3f5f",
             "gridcolor": "white",
             "linecolor": "white",
             "minorgridcolor": "white",
             "startlinecolor": "#2a3f5f"
            },
            "baxis": {
             "endlinecolor": "#2a3f5f",
             "gridcolor": "white",
             "linecolor": "white",
             "minorgridcolor": "white",
             "startlinecolor": "#2a3f5f"
            },
            "type": "carpet"
           }
          ],
          "choropleth": [
           {
            "colorbar": {
             "outlinewidth": 0,
             "ticks": ""
            },
            "type": "choropleth"
           }
          ],
          "contour": [
           {
            "colorbar": {
             "outlinewidth": 0,
             "ticks": ""
            },
            "colorscale": [
             [
              0,
              "#0d0887"
             ],
             [
              0.1111111111111111,
              "#46039f"
             ],
             [
              0.2222222222222222,
              "#7201a8"
             ],
             [
              0.3333333333333333,
              "#9c179e"
             ],
             [
              0.4444444444444444,
              "#bd3786"
             ],
             [
              0.5555555555555556,
              "#d8576b"
             ],
             [
              0.6666666666666666,
              "#ed7953"
             ],
             [
              0.7777777777777778,
              "#fb9f3a"
             ],
             [
              0.8888888888888888,
              "#fdca26"
             ],
             [
              1,
              "#f0f921"
             ]
            ],
            "type": "contour"
           }
          ],
          "contourcarpet": [
           {
            "colorbar": {
             "outlinewidth": 0,
             "ticks": ""
            },
            "type": "contourcarpet"
           }
          ],
          "heatmap": [
           {
            "colorbar": {
             "outlinewidth": 0,
             "ticks": ""
            },
            "colorscale": [
             [
              0,
              "#0d0887"
             ],
             [
              0.1111111111111111,
              "#46039f"
             ],
             [
              0.2222222222222222,
              "#7201a8"
             ],
             [
              0.3333333333333333,
              "#9c179e"
             ],
             [
              0.4444444444444444,
              "#bd3786"
             ],
             [
              0.5555555555555556,
              "#d8576b"
             ],
             [
              0.6666666666666666,
              "#ed7953"
             ],
             [
              0.7777777777777778,
              "#fb9f3a"
             ],
             [
              0.8888888888888888,
              "#fdca26"
             ],
             [
              1,
              "#f0f921"
             ]
            ],
            "type": "heatmap"
           }
          ],
          "histogram": [
           {
            "marker": {
             "pattern": {
              "fillmode": "overlay",
              "size": 10,
              "solidity": 0.2
             }
            },
            "type": "histogram"
           }
          ],
          "histogram2d": [
           {
            "colorbar": {
             "outlinewidth": 0,
             "ticks": ""
            },
            "colorscale": [
             [
              0,
              "#0d0887"
             ],
             [
              0.1111111111111111,
              "#46039f"
             ],
             [
              0.2222222222222222,
              "#7201a8"
             ],
             [
              0.3333333333333333,
              "#9c179e"
             ],
             [
              0.4444444444444444,
              "#bd3786"
             ],
             [
              0.5555555555555556,
              "#d8576b"
             ],
             [
              0.6666666666666666,
              "#ed7953"
             ],
             [
              0.7777777777777778,
              "#fb9f3a"
             ],
             [
              0.8888888888888888,
              "#fdca26"
             ],
             [
              1,
              "#f0f921"
             ]
            ],
            "type": "histogram2d"
           }
          ],
          "histogram2dcontour": [
           {
            "colorbar": {
             "outlinewidth": 0,
             "ticks": ""
            },
            "colorscale": [
             [
              0,
              "#0d0887"
             ],
             [
              0.1111111111111111,
              "#46039f"
             ],
             [
              0.2222222222222222,
              "#7201a8"
             ],
             [
              0.3333333333333333,
              "#9c179e"
             ],
             [
              0.4444444444444444,
              "#bd3786"
             ],
             [
              0.5555555555555556,
              "#d8576b"
             ],
             [
              0.6666666666666666,
              "#ed7953"
             ],
             [
              0.7777777777777778,
              "#fb9f3a"
             ],
             [
              0.8888888888888888,
              "#fdca26"
             ],
             [
              1,
              "#f0f921"
             ]
            ],
            "type": "histogram2dcontour"
           }
          ],
          "mesh3d": [
           {
            "colorbar": {
             "outlinewidth": 0,
             "ticks": ""
            },
            "type": "mesh3d"
           }
          ],
          "parcoords": [
           {
            "line": {
             "colorbar": {
              "outlinewidth": 0,
              "ticks": ""
             }
            },
            "type": "parcoords"
           }
          ],
          "pie": [
           {
            "automargin": true,
            "type": "pie"
           }
          ],
          "scatter": [
           {
            "fillpattern": {
             "fillmode": "overlay",
             "size": 10,
             "solidity": 0.2
            },
            "type": "scatter"
           }
          ],
          "scatter3d": [
           {
            "line": {
             "colorbar": {
              "outlinewidth": 0,
              "ticks": ""
             }
            },
            "marker": {
             "colorbar": {
              "outlinewidth": 0,
              "ticks": ""
             }
            },
            "type": "scatter3d"
           }
          ],
          "scattercarpet": [
           {
            "marker": {
             "colorbar": {
              "outlinewidth": 0,
              "ticks": ""
             }
            },
            "type": "scattercarpet"
           }
          ],
          "scattergeo": [
           {
            "marker": {
             "colorbar": {
              "outlinewidth": 0,
              "ticks": ""
             }
            },
            "type": "scattergeo"
           }
          ],
          "scattergl": [
           {
            "marker": {
             "colorbar": {
              "outlinewidth": 0,
              "ticks": ""
             }
            },
            "type": "scattergl"
           }
          ],
          "scattermap": [
           {
            "marker": {
             "colorbar": {
              "outlinewidth": 0,
              "ticks": ""
             }
            },
            "type": "scattermap"
           }
          ],
          "scattermapbox": [
           {
            "marker": {
             "colorbar": {
              "outlinewidth": 0,
              "ticks": ""
             }
            },
            "type": "scattermapbox"
           }
          ],
          "scatterpolar": [
           {
            "marker": {
             "colorbar": {
              "outlinewidth": 0,
              "ticks": ""
             }
            },
            "type": "scatterpolar"
           }
          ],
          "scatterpolargl": [
           {
            "marker": {
             "colorbar": {
              "outlinewidth": 0,
              "ticks": ""
             }
            },
            "type": "scatterpolargl"
           }
          ],
          "scatterternary": [
           {
            "marker": {
             "colorbar": {
              "outlinewidth": 0,
              "ticks": ""
             }
            },
            "type": "scatterternary"
           }
          ],
          "surface": [
           {
            "colorbar": {
             "outlinewidth": 0,
             "ticks": ""
            },
            "colorscale": [
             [
              0,
              "#0d0887"
             ],
             [
              0.1111111111111111,
              "#46039f"
             ],
             [
              0.2222222222222222,
              "#7201a8"
             ],
             [
              0.3333333333333333,
              "#9c179e"
             ],
             [
              0.4444444444444444,
              "#bd3786"
             ],
             [
              0.5555555555555556,
              "#d8576b"
             ],
             [
              0.6666666666666666,
              "#ed7953"
             ],
             [
              0.7777777777777778,
              "#fb9f3a"
             ],
             [
              0.8888888888888888,
              "#fdca26"
             ],
             [
              1,
              "#f0f921"
             ]
            ],
            "type": "surface"
           }
          ],
          "table": [
           {
            "cells": {
             "fill": {
              "color": "#EBF0F8"
             },
             "line": {
              "color": "white"
             }
            },
            "header": {
             "fill": {
              "color": "#C8D4E3"
             },
             "line": {
              "color": "white"
             }
            },
            "type": "table"
           }
          ]
         },
         "layout": {
          "annotationdefaults": {
           "arrowcolor": "#2a3f5f",
           "arrowhead": 0,
           "arrowwidth": 1
          },
          "autotypenumbers": "strict",
          "coloraxis": {
           "colorbar": {
            "outlinewidth": 0,
            "ticks": ""
           }
          },
          "colorscale": {
           "diverging": [
            [
             0,
             "#8e0152"
            ],
            [
             0.1,
             "#c51b7d"
            ],
            [
             0.2,
             "#de77ae"
            ],
            [
             0.3,
             "#f1b6da"
            ],
            [
             0.4,
             "#fde0ef"
            ],
            [
             0.5,
             "#f7f7f7"
            ],
            [
             0.6,
             "#e6f5d0"
            ],
            [
             0.7,
             "#b8e186"
            ],
            [
             0.8,
             "#7fbc41"
            ],
            [
             0.9,
             "#4d9221"
            ],
            [
             1,
             "#276419"
            ]
           ],
           "sequential": [
            [
             0,
             "#0d0887"
            ],
            [
             0.1111111111111111,
             "#46039f"
            ],
            [
             0.2222222222222222,
             "#7201a8"
            ],
            [
             0.3333333333333333,
             "#9c179e"
            ],
            [
             0.4444444444444444,
             "#bd3786"
            ],
            [
             0.5555555555555556,
             "#d8576b"
            ],
            [
             0.6666666666666666,
             "#ed7953"
            ],
            [
             0.7777777777777778,
             "#fb9f3a"
            ],
            [
             0.8888888888888888,
             "#fdca26"
            ],
            [
             1,
             "#f0f921"
            ]
           ],
           "sequentialminus": [
            [
             0,
             "#0d0887"
            ],
            [
             0.1111111111111111,
             "#46039f"
            ],
            [
             0.2222222222222222,
             "#7201a8"
            ],
            [
             0.3333333333333333,
             "#9c179e"
            ],
            [
             0.4444444444444444,
             "#bd3786"
            ],
            [
             0.5555555555555556,
             "#d8576b"
            ],
            [
             0.6666666666666666,
             "#ed7953"
            ],
            [
             0.7777777777777778,
             "#fb9f3a"
            ],
            [
             0.8888888888888888,
             "#fdca26"
            ],
            [
             1,
             "#f0f921"
            ]
           ]
          },
          "colorway": [
           "#636efa",
           "#EF553B",
           "#00cc96",
           "#ab63fa",
           "#FFA15A",
           "#19d3f3",
           "#FF6692",
           "#B6E880",
           "#FF97FF",
           "#FECB52"
          ],
          "font": {
           "color": "#2a3f5f"
          },
          "geo": {
           "bgcolor": "white",
           "lakecolor": "white",
           "landcolor": "#E5ECF6",
           "showlakes": true,
           "showland": true,
           "subunitcolor": "white"
          },
          "hoverlabel": {
           "align": "left"
          },
          "hovermode": "closest",
          "mapbox": {
           "style": "light"
          },
          "paper_bgcolor": "white",
          "plot_bgcolor": "#E5ECF6",
          "polar": {
           "angularaxis": {
            "gridcolor": "white",
            "linecolor": "white",
            "ticks": ""
           },
           "bgcolor": "#E5ECF6",
           "radialaxis": {
            "gridcolor": "white",
            "linecolor": "white",
            "ticks": ""
           }
          },
          "scene": {
           "xaxis": {
            "backgroundcolor": "#E5ECF6",
            "gridcolor": "white",
            "gridwidth": 2,
            "linecolor": "white",
            "showbackground": true,
            "ticks": "",
            "zerolinecolor": "white"
           },
           "yaxis": {
            "backgroundcolor": "#E5ECF6",
            "gridcolor": "white",
            "gridwidth": 2,
            "linecolor": "white",
            "showbackground": true,
            "ticks": "",
            "zerolinecolor": "white"
           },
           "zaxis": {
            "backgroundcolor": "#E5ECF6",
            "gridcolor": "white",
            "gridwidth": 2,
            "linecolor": "white",
            "showbackground": true,
            "ticks": "",
            "zerolinecolor": "white"
           }
          },
          "shapedefaults": {
           "line": {
            "color": "#2a3f5f"
           }
          },
          "ternary": {
           "aaxis": {
            "gridcolor": "white",
            "linecolor": "white",
            "ticks": ""
           },
           "baxis": {
            "gridcolor": "white",
            "linecolor": "white",
            "ticks": ""
           },
           "bgcolor": "#E5ECF6",
           "caxis": {
            "gridcolor": "white",
            "linecolor": "white",
            "ticks": ""
           }
          },
          "title": {
           "x": 0.05
          },
          "xaxis": {
           "automargin": true,
           "gridcolor": "white",
           "linecolor": "white",
           "ticks": "",
           "title": {
            "standoff": 15
           },
           "zerolinecolor": "white",
           "zerolinewidth": 2
          },
          "yaxis": {
           "automargin": true,
           "gridcolor": "white",
           "linecolor": "white",
           "ticks": "",
           "title": {
            "standoff": 15
           },
           "zerolinecolor": "white",
           "zerolinewidth": 2
          }
         }
        },
        "title": {
         "text": "Mean age of Gold medalist"
        },
        "xaxis": {
         "anchor": "y",
         "domain": [
          0,
          1
         ],
         "title": {
          "text": "Year"
         }
        },
        "yaxis": {
         "anchor": "x",
         "domain": [
          0,
          1
         ],
         "title": {
          "text": "Age"
         }
        }
       }
      }
     },
     "metadata": {},
     "output_type": "display_data"
    }
   ],
   "source": [
    "\n",
    "mean_age_medal = df[~df.Medal.isna()].groupby(['Year', 'Medal'])['Age'].mean().reset_index()\n",
    "fig = px.line(mean_age_medal, x='Year', y='Age', color='Medal', title='Mean age of Gold medalist')\n",
    "fig.update_layout(hovermode=\"x unified\")"
   ]
  },
  {
   "cell_type": "code",
   "execution_count": 43,
   "metadata": {},
   "outputs": [
    {
     "data": {
      "text/plain": [
       "Index(['ID', 'Name', 'Sex', 'Age', 'Height', 'Weight', 'Team', 'NOC', 'Games',\n",
       "       'Year', 'Season', 'City', 'Sport', 'Event', 'Medal'],\n",
       "      dtype='object')"
      ]
     },
     "execution_count": 43,
     "metadata": {},
     "output_type": "execute_result"
    }
   ],
   "source": [
    "df.columns"
   ]
  },
  {
   "cell_type": "code",
   "execution_count": 51,
   "metadata": {},
   "outputs": [
    {
     "data": {
      "application/vnd.plotly.v1+json": {
       "config": {
        "plotlyServerURL": "https://plot.ly"
       },
       "data": [
        {
         "colorbar": {
          "title": {
           "text": "Medals"
          }
         },
         "colorscale": [
          [
           0,
           "#440154"
          ],
          [
           0.1111111111111111,
           "#482878"
          ],
          [
           0.2222222222222222,
           "#3e4989"
          ],
          [
           0.3333333333333333,
           "#31688e"
          ],
          [
           0.4444444444444444,
           "#26828e"
          ],
          [
           0.5555555555555556,
           "#1f9e89"
          ],
          [
           0.6666666666666666,
           "#35b779"
          ],
          [
           0.7777777777777778,
           "#6ece58"
          ],
          [
           0.8888888888888888,
           "#b5de2b"
          ],
          [
           1,
           "#fde725"
          ]
         ],
         "hovertemplate": "<b>%{location}</b><br>Medals: %{z}<extra></extra>",
         "locationmode": "country names",
         "locations": [
          "Australia",
          "Australia/Great Britain",
          "Austria",
          "Denmark",
          "Ethnikos Gymnastikos Syllogos",
          "France",
          "Germany",
          "Great Britain",
          "Great Britain/Germany",
          "Greece",
          "Greece-1",
          "Hungary",
          "Switzerland",
          "United States"
         ],
         "type": "choropleth",
         "z": {
          "bdata": "AgIFBgILHwcCLAIGAxQ=",
          "dtype": "i1"
         }
        }
       ],
       "frames": [
        {
         "data": [
          {
           "colorbar": {
            "title": {
             "text": "Medals"
            }
           },
           "colorscale": [
            [
             0,
             "#440154"
            ],
            [
             0.1111111111111111,
             "#482878"
            ],
            [
             0.2222222222222222,
             "#3e4989"
            ],
            [
             0.3333333333333333,
             "#31688e"
            ],
            [
             0.4444444444444444,
             "#26828e"
            ],
            [
             0.5555555555555556,
             "#1f9e89"
            ],
            [
             0.6666666666666666,
             "#35b779"
            ],
            [
             0.7777777777777778,
             "#6ece58"
            ],
            [
             0.8888888888888888,
             "#b5de2b"
            ],
            [
             1,
             "#fde725"
            ]
           ],
           "hovertemplate": "<b>%{location}</b><br>Medals: %{z}<extra></extra>",
           "locationmode": "country names",
           "locations": [
            "Australia",
            "Australia/Great Britain",
            "Austria",
            "Denmark",
            "Ethnikos Gymnastikos Syllogos",
            "France",
            "Germany",
            "Great Britain",
            "Great Britain/Germany",
            "Greece",
            "Greece-1",
            "Hungary",
            "Switzerland",
            "United States"
           ],
           "type": "choropleth",
           "z": {
            "bdata": "AgIFBgILHwcCLAIGAxQ=",
            "dtype": "i1"
           }
          }
         ],
         "name": "1896"
        },
        {
         "data": [
          {
           "colorbar": {
            "title": {
             "text": "Medals"
            }
           },
           "colorscale": [
            [
             0,
             "#440154"
            ],
            [
             0.1111111111111111,
             "#482878"
            ],
            [
             0.2222222222222222,
             "#3e4989"
            ],
            [
             0.3333333333333333,
             "#31688e"
            ],
            [
             0.4444444444444444,
             "#26828e"
            ],
            [
             0.5555555555555556,
             "#1f9e89"
            ],
            [
             0.6666666666666666,
             "#35b779"
            ],
            [
             0.7777777777777778,
             "#6ece58"
            ],
            [
             0.8888888888888888,
             "#b5de2b"
            ],
            [
             1,
             "#fde725"
            ]
           ],
           "hovertemplate": "<b>%{location}</b><br>Medals: %{z}<extra></extra>",
           "locationmode": "country names",
           "locations": [
            "A North American Team",
            "Amateur Athletic Association",
            "Aschenbrodel",
            "Australia",
            "Austria",
            "BLO Polo Club, Rugby",
            "Baby-1",
            "Bagatelle Polo Club, Paris",
            "Belgium",
            "Belgium-1",
            "Bohemia",
            "Bohemia/Great Britain",
            "Bona Fide",
            "Brussels Swimming and Water Polo Club",
            "Brynhild-2",
            "Canada",
            "Carabinier-15",
            "Cercle de l'Aviron Roubaix-4",
            "Cicely-1",
            "Club Nautique de Lyon-2",
            "Crabe II-1",
            "Crabe II-4",
            "Cuba",
            "Denmark",
            "Denmark/Sweden",
            "Deutscher Schwimm Verband Berlin",
            "Devon and Somerset Wanderers",
            "Esterel-1",
            "Fantlet-7",
            "Favorite Hammonia-3",
            "Favorite-1",
            "Femur-1",
            "Formosa",
            "Foxhunters Hurlingham",
            "France",
            "France-1",
            "France/Great Britain",
            "Frankfurt Club",
            "Frimousse",
            "Germania Ruder Club, Hamburg-2",
            "Germany",
            "Gitana-2",
            "Great Britain",
            "Great Britain-1",
            "Great Britain-2",
            "Gwendoline-2",
            "Hungary",
            "India",
            "Italy",
            "Laurea-1",
            "Lerina",
            "Libellule de Paris",
            "Ludwigshafener Ruder Verein-1",
            "Luxembourg",
            "Martha-1",
            "Mascotte",
            "Mignon-3",
            "Minerva Amsterdam",
            "Moseley Wanderers",
            "Netherlands",
            "Nina Claire-2",
            "Norway",
            "Olle",
            "Osborne Swimming Club, Manchester",
            "Pupilles de Neptune de Lille #2-1",
            "Pupilles de Neptune de Lille-1",
            "Quand-Mme-2",
            "Racing Club de France",
            "Rowing Club Castillon-3",
            "Royal Club Nautique de Gand",
            "Sarcelle-3",
            "Scamasaxe-2",
            "Scamasaxe-3",
            "Scotia",
            "Societ Nautique de la Marne-1",
            "Spain",
            "Sweden",
            "Switzerland",
            "Tritons Lillois-2",
            "Turquoise-1",
            "USFSA",
            "Union des Socits Franais de Sports Athletiques",
            "United States",
            "United States/France",
            "United States/Great Britain",
            "Univ. of Brussels",
            "Upton Park FC",
            "Vesper Boat Club"
           ],
           "type": "choropleth",
           "z": {
            "bdata": "BAUIBQYEAgQOAQICAwoBAgEFAQQFBQIGBgQMAgEGCAEBBUsEAg8BBQIKFgICAwUCBQEGBwUBCAMBEQ8GBAkGBwgECQsDCQMCAgYCAgEPBQENHS0CAgsLCQ==",
            "dtype": "i1"
           }
          }
         ],
         "name": "1900"
        },
        {
         "data": [
          {
           "colorbar": {
            "title": {
             "text": "Medals"
            }
           },
           "colorscale": [
            [
             0,
             "#440154"
            ],
            [
             0.1111111111111111,
             "#482878"
            ],
            [
             0.2222222222222222,
             "#3e4989"
            ],
            [
             0.3333333333333333,
             "#31688e"
            ],
            [
             0.4444444444444444,
             "#26828e"
            ],
            [
             0.5555555555555556,
             "#1f9e89"
            ],
            [
             0.6666666666666666,
             "#35b779"
            ],
            [
             0.7777777777777778,
             "#6ece58"
            ],
            [
             0.8888888888888888,
             "#b5de2b"
            ],
            [
             1,
             "#fde725"
            ]
           ],
           "hovertemplate": "<b>%{location}</b><br>Medals: %{z}<extra></extra>",
           "locationmode": "country names",
           "locations": [
            "Atalanta Boat Club-1",
            "Atalanta Boat Club-2",
            "Australia",
            "Austria",
            "Boston Archers",
            "Canada",
            "Central Turnverein, Chicago",
            "Century Boat Club-1",
            "Chicago Athletic Association",
            "Chicago Athletic Association-2",
            "Christian Brothers' College-1",
            "Cincinnati Archers",
            "Cuba",
            "France",
            "Galt Football Club",
            "Germany",
            "Great Britain",
            "Greece",
            "Hungary",
            "Independent Rowing Club-3",
            "Milwaukee Athletic Club-1",
            "Missouri Athletic Club-3",
            "Mohawk Indians-2",
            "Mound City Rowing Club-2",
            "New York Athletic Club",
            "New York Athletic Club #1-1",
            "New York Athletic Club-1",
            "New York Turnverein, New York",
            "Norway",
            "Philadelphia Turngemeinde, Philadelphia",
            "Potomac Archers",
            "Ravenswood Boat Club-2",
            "Seawanhaka Boat Club-1",
            "St. Louis Amateur Athletic Association",
            "St. Louis Southwest Turnverein #1-2",
            "St. Louis Southwest Turnverein #2-3",
            "St. Rose-2",
            "Switzerland",
            "Toronto Argonauts",
            "Trans-Mississippi Golf Association-2",
            "United States",
            "United States Golf Association-3",
            "United States-1",
            "United States-2",
            "United States-3",
            "United States-4",
            "Vesper Boat Club",
            "Western Golf Association-1",
            "Western Rowing Club-3",
            "Winnipeg Shamrocks-1"
           ],
           "type": "choropleth",
           "z": {
            "bdata": "AgACAAQAAwAEAAIABgAEAAUACwALAAgABQABAA0ADwACAAIABAACAAUACwAMAAQABQAEAAcABgACAAYABAACAAIADAAFAAUADAADAAkACgDHAAoAAgACAAIAAgAJAAoABgAMAA==",
            "dtype": "i2"
           }
          }
         ],
         "name": "1904"
        },
        {
         "data": [
          {
           "colorbar": {
            "title": {
             "text": "Medals"
            }
           },
           "colorscale": [
            [
             0,
             "#440154"
            ],
            [
             0.1111111111111111,
             "#482878"
            ],
            [
             0.2222222222222222,
             "#3e4989"
            ],
            [
             0.3333333333333333,
             "#31688e"
            ],
            [
             0.4444444444444444,
             "#26828e"
            ],
            [
             0.5555555555555556,
             "#1f9e89"
            ],
            [
             0.6666666666666666,
             "#35b779"
            ],
            [
             0.7777777777777778,
             "#6ece58"
            ],
            [
             0.8888888888888888,
             "#b5de2b"
            ],
            [
             1,
             "#fde725"
            ]
           ],
           "hovertemplate": "<b>%{location}</b><br>Medals: %{z}<extra></extra>",
           "locationmode": "country names",
           "locations": [
            "Australia",
            "Austria",
            "Barion/Bari-2",
            "Belgium",
            "Bohemia",
            "Bucintoro Venezia",
            "Bucintoro Venezia-1",
            "Canada",
            "Denmark",
            "Finland",
            "France",
            "Germany",
            "Great Britain",
            "Greece",
            "Greece-1",
            "Greece-2",
            "Hungary",
            "Italy",
            "Large boat, Central Naval Prep School \"Poros\"-1",
            "Life boat naval ship \"Spetsai\"-1",
            "Marinai della nave da guerra \"Varese\"",
            "Netherlands",
            "Norway",
            "Omas Helliniki P. S.",
            "Phalainis ton Thorichtou \"Hydra\"-2",
            "Pistoja/Firenze",
            "Royal Club Nautique de Gand",
            "Smyrna",
            "Socit Nautique de Bayonne-1",
            "Socit Nautique de Bayonne-2",
            "Socit Nautique de la Basse Seine-1",
            "Sweden",
            "Switzerland",
            "Thessalonki-1",
            "United States"
           ],
           "type": "choropleth",
           "z": {
            "bdata": "AwkDCQMIAwIiBC0eHxwEAg0JEQcYBhkIGAkDCwMFCBUMCxg=",
            "dtype": "i1"
           }
          }
         ],
         "name": "1906"
        },
        {
         "data": [
          {
           "colorbar": {
            "title": {
             "text": "Medals"
            }
           },
           "colorscale": [
            [
             0,
             "#440154"
            ],
            [
             0.1111111111111111,
             "#482878"
            ],
            [
             0.2222222222222222,
             "#3e4989"
            ],
            [
             0.3333333333333333,
             "#31688e"
            ],
            [
             0.4444444444444444,
             "#26828e"
            ],
            [
             0.5555555555555556,
             "#1f9e89"
            ],
            [
             0.6666666666666666,
             "#35b779"
            ],
            [
             0.7777777777777778,
             "#6ece58"
            ],
            [
             0.8888888888888888,
             "#b5de2b"
            ],
            [
             1,
             "#fde725"
            ]
           ],
           "hovertemplate": "<b>%{location}</b><br>Medals: %{z}<extra></extra>",
           "locationmode": "country names",
           "locations": [
            "Amstel Amsterdam",
            "Argonaut Rowing Club",
            "Australasia",
            "Austria",
            "Belgium",
            "Berliner Ruderclub",
            "Bohemia",
            "Cambridge University Boat Club-2",
            "Camille",
            "Canada",
            "Cobweb-1",
            "Cornwall",
            "Denmark",
            "Dormy-1",
            "England-1",
            "Finland",
            "France",
            "Germany",
            "Great Britain",
            "Great Britain-1",
            "Great Britain-2",
            "Great Britain-3",
            "Greece",
            "Guyoni",
            "Gyrinus-1",
            "Hera-1",
            "Heroine",
            "Hungary",
            "Hurlingham-2",
            "Ireland-2",
            "Ireland-3",
            "Italy",
            "K Division Metropolitan Police Team-3",
            "Leander Club #1-1",
            "Leander Club #2-2",
            "Leander Club-1",
            "Leander Club-2",
            "Liverpool Police Team-2",
            "London City Police-1",
            "Magdalen College Boat Club-1",
            "Mouchette-2",
            "Netherlands",
            "Norway",
            "Roehampton-1",
            "Royal Club Nautique de Gand",
            "Russia",
            "Scotland-3",
            "Sorais-2",
            "South Africa",
            "Sweden",
            "Toronto Argonauts",
            "United States",
            "Vinga-1",
            "Wales-4",
            "Zut"
           ],
           "type": "choropleth",
           "z": {
            "bdata": "BAAGABMAAQAVAAIABgAJAAEAJQAFAA8AEQADAAsAHgAkABMApwAOAA4ABAAEAAMABgAKAAQAFAAEAAwABAAIAAgAAgACAAkABAAIAAgABAAKAAwAKgAEAAkAAwALAAUAAgBPAAkAQQAFAAsAAwA=",
            "dtype": "i2"
           }
          }
         ],
         "name": "1908"
        },
        {
         "data": [
          {
           "colorbar": {
            "title": {
             "text": "Medals"
            }
           },
           "colorscale": [
            [
             0,
             "#440154"
            ],
            [
             0.1111111111111111,
             "#482878"
            ],
            [
             0.2222222222222222,
             "#3e4989"
            ],
            [
             0.3333333333333333,
             "#31688e"
            ],
            [
             0.4444444444444444,
             "#26828e"
            ],
            [
             0.5555555555555556,
             "#1f9e89"
            ],
            [
             0.6666666666666666,
             "#35b779"
            ],
            [
             0.7777777777777778,
             "#6ece58"
            ],
            [
             0.8888888888888888,
             "#b5de2b"
            ],
            [
             1,
             "#fde725"
            ]
           ],
           "hovertemplate": "<b>%{location}</b><br>Medals: %{z}<extra></extra>",
           "locationmode": "country names",
           "locations": [
            "Australasia",
            "Austria",
            "Belgium",
            "Berliner Ruderverein von 1876-2",
            "Canada",
            "Denmark",
            "England",
            "England-1",
            "Erna Signe",
            "Finland",
            "France",
            "Gallia II",
            "Germany",
            "Great Britain",
            "Great Britain-1",
            "Great Britain-2",
            "Greece",
            "Heatherbell",
            "Hungary",
            "Italy",
            "Kerstin-1",
            "Kitty-1",
            "Kristiania Roklub-1",
            "Leander Club-1",
            "Lucky Girl-1",
            "Ludwigshafener Ruderverein",
            "Mac Miche",
            "Magda IX",
            "Netherlands",
            "New College, Oxford-2",
            "Nina",
            "Norway",
            "Nurdug II",
            "Nykjbings paa Falster",
            "Ormsund Roklub-2",
            "Polyteknisk Roklub-1",
            "Roddklubben af 1912-1",
            "Russia",
            "Sans Atout-1",
            "South Africa",
            "Sweden",
            "Sweden-1",
            "Sweden-2",
            "Sweden-3",
            "Switzerland",
            "Taifun",
            "Thames Rowing Club",
            "United States"
           ],
           "type": "choropleth",
           "z": {
            "bdata": "CgAOABMACQAIAEoAAQAMAAoANAAXAAcAJwCAAAIABAACAAcAHgAZAAMACAAFAAkABQAFAAMACgAaAAkABwA3AAMABQAFAAUABQAHAAUABwCZAAIAAgACAAIABQAFAGsA",
            "dtype": "i2"
           }
          }
         ],
         "name": "1912"
        },
        {
         "data": [
          {
           "colorbar": {
            "title": {
             "text": "Medals"
            }
           },
           "colorscale": [
            [
             0,
             "#440154"
            ],
            [
             0.1111111111111111,
             "#482878"
            ],
            [
             0.2222222222222222,
             "#3e4989"
            ],
            [
             0.3333333333333333,
             "#31688e"
            ],
            [
             0.4444444444444444,
             "#26828e"
            ],
            [
             0.5555555555555556,
             "#1f9e89"
            ],
            [
             0.6666666666666666,
             "#35b779"
            ],
            [
             0.7777777777777778,
             "#6ece58"
            ],
            [
             0.8888888888888888,
             "#b5de2b"
            ],
            [
             1,
             "#fde725"
            ]
           ],
           "hovertemplate": "<b>%{location}</b><br>Medals: %{z}<extra></extra>",
           "locationmode": "country names",
           "locations": [
            "Ancora",
            "Antwerpia V",
            "Atlanta",
            "Australia",
            "Beatrijs III-1",
            "Belgium",
            "Boreas-2",
            "Brazil",
            "Canada",
            "Czechoslovakia",
            "Denmark",
            "Edelweiss II-1",
            "Eleda",
            "Elsie",
            "Estonia",
            "Finland",
            "Fornebo",
            "France",
            "France-3",
            "Great Britain",
            "Great Britain-1",
            "Great Britain-2",
            "Great Britain-3",
            "Greece",
            "Heira II",
            "Irene",
            "Italy",
            "Japan",
            "Jo",
            "Kullan",
            "Luxembourg",
            "Lyn-2",
            "Marmi II-1",
            "Mosk II",
            "Netherlands",
            "New Zealand",
            "Norway",
            "Oranje",
            "Rose Pompon",
            "Sif",
            "Sildra-1",
            "South Africa",
            "Spain",
            "Stella-2",
            "Sweden",
            "Switzerland",
            "Tan-Fe-Pah",
            "United States"
           ],
           "type": "choropleth",
           "z": {
            "bdata": "BAAFAAkABwADALEAAgAHABAACgBHAAMABwAEAAMANAAEAIYABABlAAIAAgACAAUACQAFAFQAAwADAAMAAQAFAAMABwAqAAEATgADAAMABAAEABUAFwADAI8AHQADAMIA",
            "dtype": "i2"
           }
          }
         ],
         "name": "1920"
        },
        {
         "data": [
          {
           "colorbar": {
            "title": {
             "text": "Medals"
            }
           },
           "colorscale": [
            [
             0,
             "#440154"
            ],
            [
             0.1111111111111111,
             "#482878"
            ],
            [
             0.2222222222222222,
             "#3e4989"
            ],
            [
             0.3333333333333333,
             "#31688e"
            ],
            [
             0.4444444444444444,
             "#26828e"
            ],
            [
             0.5555555555555556,
             "#1f9e89"
            ],
            [
             0.6666666666666666,
             "#35b779"
            ],
            [
             0.7777777777777778,
             "#6ece58"
            ],
            [
             0.8888888888888888,
             "#b5de2b"
            ],
            [
             1,
             "#fde725"
            ]
           ],
           "hovertemplate": "<b>%{location}</b><br>Medals: %{z}<extra></extra>",
           "locationmode": "country names",
           "locations": [
            "Argentina",
            "Australia",
            "Austria",
            "Belgium",
            "Belgium-1",
            "Bera",
            "Bonzo",
            "Canada",
            "Czechoslovakia",
            "Denmark",
            "Elisabeth V",
            "Emily",
            "Estonia",
            "Finland",
            "France",
            "France-1",
            "France-2",
            "Great Britain",
            "Great Britain-1",
            "Great Britain-2",
            "Greece",
            "Haiti",
            "Hungary",
            "India",
            "Ireland",
            "Italy",
            "Japan",
            "Luxembourg",
            "Monaco",
            "Namoussa",
            "Nepal",
            "Netherlands",
            "New Zealand",
            "Norway",
            "Poland",
            "Portugal",
            "Romania",
            "South Africa",
            "Sweden",
            "Switzerland",
            "Switzerland-1",
            "United States",
            "United States-1",
            "United States-2",
            "Uruguay",
            "Willem-Six",
            "Yugoslavia"
           ],
           "type": "choropleth",
           "z": {
            "bdata": "CgALAAgAJwAFAAUAAwAdAAoACwADAAUABgBDAG0ABAACAFIABgACAAEABQAWAAcAAgAzAAEAAgABAAUAAQAYAAEAHwAFAAQAEAADAFEAQQAEALoABAAEAA4AAwACAA==",
            "dtype": "i2"
           }
          }
         ],
         "name": "1924"
        },
        {
         "data": [
          {
           "colorbar": {
            "title": {
             "text": "Medals"
            }
           },
           "colorscale": [
            [
             0,
             "#440154"
            ],
            [
             0.1111111111111111,
             "#482878"
            ],
            [
             0.2222222222222222,
             "#3e4989"
            ],
            [
             0.3333333333333333,
             "#31688e"
            ],
            [
             0.4444444444444444,
             "#26828e"
            ],
            [
             0.5555555555555556,
             "#1f9e89"
            ],
            [
             0.6666666666666666,
             "#35b779"
            ],
            [
             0.7777777777777778,
             "#6ece58"
            ],
            [
             0.8888888888888888,
             "#b5de2b"
            ],
            [
             1,
             "#fde725"
            ]
           ],
           "hovertemplate": "<b>%{location}</b><br>Medals: %{z}<extra></extra>",
           "locationmode": "country names",
           "locations": [
            "Argentina",
            "Australia",
            "Austria",
            "Austria-1",
            "Austria-2",
            "Belgium",
            "Canada",
            "Chile",
            "Czechoslovakia",
            "Denmark",
            "Egypt",
            "Estonia",
            "Finland",
            "France",
            "Germany",
            "Germany-2",
            "Great Britain",
            "Haiti",
            "Hi-Hi",
            "Hollandia",
            "Hungary",
            "India",
            "Ireland",
            "Italy",
            "Japan",
            "L'Aile VI",
            "Luxembourg",
            "Netherlands",
            "New Zealand",
            "Norna",
            "Norway",
            "Philippines",
            "Poland",
            "Portugal",
            "South Africa",
            "Spain",
            "Sweden",
            "Switzerland",
            "Sylvia",
            "Tutti V",
            "United States",
            "United States-1",
            "United States-2",
            "Uruguay",
            "Yugoslavia"
           ],
           "type": "choropleth",
           "z": {
            "bdata": "GgQHAgIGLQERCwQEHS5NBTsBBAYVDgFICQYBMwEEFAEUBgYDLyoGBVwFBREM",
            "dtype": "i1"
           }
          }
         ],
         "name": "1928"
        },
        {
         "data": [
          {
           "colorbar": {
            "title": {
             "text": "Medals"
            }
           },
           "colorscale": [
            [
             0,
             "#440154"
            ],
            [
             0.1111111111111111,
             "#482878"
            ],
            [
             0.2222222222222222,
             "#3e4989"
            ],
            [
             0.3333333333333333,
             "#31688e"
            ],
            [
             0.4444444444444444,
             "#26828e"
            ],
            [
             0.5555555555555556,
             "#1f9e89"
            ],
            [
             0.6666666666666666,
             "#35b779"
            ],
            [
             0.7777777777777778,
             "#6ece58"
            ],
            [
             0.8888888888888888,
             "#b5de2b"
            ],
            [
             1,
             "#fde725"
            ]
           ],
           "hovertemplate": "<b>%{location}</b><br>Medals: %{z}<extra></extra>",
           "locationmode": "country names",
           "locations": [
            "Angelita",
            "Argentina",
            "Australia",
            "Austria",
            "Belgium",
            "Bissbi",
            "Canada",
            "Caprice",
            "Czechoslovakia",
            "Denmark",
            "Finland",
            "France",
            "Gallant",
            "Germany",
            "Germany-1",
            "Great Britain",
            "Hungary",
            "Hungary-1",
            "India",
            "Ireland",
            "Italy",
            "Japan",
            "Joy",
            "Jupiter",
            "Latvia",
            "Mexico",
            "Netherlands",
            "New Zealand",
            "Norway",
            "Philippines",
            "Poland",
            "Santa Maria",
            "South Africa",
            "Spain",
            "Sweden",
            "Swedish Star",
            "Switzerland",
            "Switzerland-2",
            "United States",
            "United States-1",
            "United States-2",
            "Uruguay"
           ],
           "type": "choropleth",
           "z": {
            "bdata": "DAAEAAUABwABAAQAMQAEAAYACwAgACoABQA1AAQAIQAhAAIADwACAE0AHwACAAIAAQACAA0AAgAKAAMAFQAGAAUAAQAdAAIAAQACAL4ACAAGAAEA",
            "dtype": "i2"
           }
          }
         ],
         "name": "1932"
        },
        {
         "data": [
          {
           "colorbar": {
            "title": {
             "text": "Medals"
            }
           },
           "colorscale": [
            [
             0,
             "#440154"
            ],
            [
             0.1111111111111111,
             "#482878"
            ],
            [
             0.2222222222222222,
             "#3e4989"
            ],
            [
             0.3333333333333333,
             "#31688e"
            ],
            [
             0.4444444444444444,
             "#26828e"
            ],
            [
             0.5555555555555556,
             "#1f9e89"
            ],
            [
             0.6666666666666666,
             "#35b779"
            ],
            [
             0.7777777777777778,
             "#6ece58"
            ],
            [
             0.8888888888888888,
             "#b5de2b"
            ],
            [
             1,
             "#fde725"
            ]
           ],
           "hovertemplate": "<b>%{location}</b><br>Medals: %{z}<extra></extra>",
           "locationmode": "country names",
           "locations": [
            "Argentina",
            "Australia",
            "Austria",
            "Austria-1",
            "Belgium",
            "Bem II",
            "Canada",
            "Czechoslovakia",
            "Denmark",
            "Egypt",
            "Estonia",
            "Finland",
            "France",
            "Germania II",
            "Germany",
            "Germany-1",
            "Great Britain",
            "Hungary",
            "Hungary-1",
            "India",
            "Italia",
            "Italy",
            "Japan",
            "Lalage",
            "Latvia",
            "Lully II",
            "May Be",
            "Mexico",
            "Netherlands",
            "New Zealand",
            "Norway",
            "Nrnberg",
            "Philippines",
            "Poland",
            "Portugal",
            "Potsdam",
            "Romania",
            "Rostock",
            "Silja",
            "South Africa",
            "Sunshine",
            "Sweden",
            "Switzerland",
            "Switzerland-1",
            "Switzerland-2",
            "Turkey",
            "United States",
            "United States-1",
            "United States-2",
            "Wannsee",
            "Yugoslavia"
           ],
           "type": "choropleth",
           "z": {
            "bdata": "CwABADoAAgAOAAIAIwASAAYABQAHACQALQAGANwAAgAvACkAAgATAAYARgAXAAUAAgAFAAUAEAAiAAEAIwABAAEADAADAAEAAQABAAYAAQACACYANAAEAAYAAgBsAAIAAgACAAEA",
            "dtype": "i2"
           }
          }
         ],
         "name": "1936"
        },
        {
         "data": [
          {
           "colorbar": {
            "title": {
             "text": "Medals"
            }
           },
           "colorscale": [
            [
             0,
             "#440154"
            ],
            [
             0.1111111111111111,
             "#482878"
            ],
            [
             0.2222222222222222,
             "#3e4989"
            ],
            [
             0.3333333333333333,
             "#31688e"
            ],
            [
             0.4444444444444444,
             "#26828e"
            ],
            [
             0.5555555555555556,
             "#1f9e89"
            ],
            [
             0.6666666666666666,
             "#35b779"
            ],
            [
             0.7777777777777778,
             "#6ece58"
            ],
            [
             0.8888888888888888,
             "#b5de2b"
            ],
            [
             1,
             "#fde725"
            ]
           ],
           "hovertemplate": "<b>%{location}</b><br>Medals: %{z}<extra></extra>",
           "locationmode": "country names",
           "locations": [
            "Ali-Baba II",
            "Argentina",
            "Australia",
            "Austria",
            "Belgium",
            "Brazil",
            "Canada",
            "Czechoslovakia",
            "Denmark",
            "Djinn",
            "Egypt",
            "Finland",
            "France",
            "Great Britain",
            "Hilarius",
            "Hungary",
            "Hungary-1",
            "India",
            "Iran",
            "Ireland",
            "Italy",
            "Jamaica",
            "Kurush II",
            "Llanoria",
            "Margaret",
            "Mexico",
            "Netherlands",
            "Norway",
            "Pan",
            "Panama",
            "Peru",
            "Poland",
            "Portugal",
            "Puerto Rico",
            "Slaghoken",
            "Snap",
            "South Africa",
            "South Korea",
            "Spain",
            "Sri Lanka",
            "Starita",
            "Sweden",
            "Swift",
            "Switzerland",
            "Switzerland-1",
            "Switzerland-2",
            "Symphony",
            "Trinidad and Tobago",
            "Turkey",
            "United States",
            "United States-1",
            "United States-2",
            "Uruguay",
            "Yugoslavia"
           ],
           "type": "choropleth",
           "z": {
            "bdata": "BQAGABAAEAAVAAoAFgAlADAABQAFACoATQA9AAIAPgACABQAAQABAEQAAwACAAUAAgAJACgAHAADAAIAAQACAAMAAQADAAMABgACAAMAAQACAFAAAgA8AAIAAgACAAEADACVAAQABgADABAA",
            "dtype": "i2"
           }
          }
         ],
         "name": "1948"
        },
        {
         "data": [
          {
           "colorbar": {
            "title": {
             "text": "Medals"
            }
           },
           "colorscale": [
            [
             0,
             "#440154"
            ],
            [
             0.1111111111111111,
             "#482878"
            ],
            [
             0.2222222222222222,
             "#3e4989"
            ],
            [
             0.3333333333333333,
             "#31688e"
            ],
            [
             0.4444444444444444,
             "#26828e"
            ],
            [
             0.5555555555555556,
             "#1f9e89"
            ],
            [
             0.6666666666666666,
             "#35b779"
            ],
            [
             0.7777777777777778,
             "#6ece58"
            ],
            [
             0.8888888888888888,
             "#b5de2b"
            ],
            [
             1,
             "#fde725"
            ]
           ],
           "hovertemplate": "<b>%{location}</b><br>Medals: %{z}<extra></extra>",
           "locationmode": "country names",
           "locations": [
            "Argentina",
            "Australia",
            "Austria",
            "Belgium",
            "Brazil",
            "Bulgaria",
            "Canada",
            "Chile",
            "Comanche",
            "Complex II",
            "Czechoslovakia",
            "Denmark",
            "Egypt",
            "Elisabeth X",
            "Encore",
            "Espadarte",
            "Finland",
            "France",
            "Germany",
            "Germany-1",
            "Great Britain",
            "Gustel X",
            "Hojwa",
            "Hungary",
            "Hungary-1",
            "India",
            "Iran",
            "Ireland",
            "Italy",
            "Jamaica",
            "Japan",
            "Lebanon",
            "Llanoria",
            "Luxembourg",
            "Merope",
            "Mexico",
            "Netherlands",
            "New Zealand",
            "Norway",
            "Pan",
            "Poland",
            "Ralia",
            "Romania",
            "South Africa",
            "South Korea",
            "Soviet Union",
            "Spain",
            "Sweden",
            "Switzerland",
            "Switzerland-1",
            "Tornado",
            "Trinidad and Tobago",
            "Turkey",
            "United States",
            "United States-1",
            "Uruguay",
            "Venezuela",
            "Yugoslavia"
           ],
           "type": "choropleth",
           "z": {
            "bdata": "BgAUAAsACAADAAEAFQAEAAIABAAZAAkAAQAFAAMAAgAvACkALQAEACAAAwADAGYAAgAPAAcAAQA2AAgADAACAAYAAQACAAEAFQADABUAAwAEAAUABAAOAAIAdQABAFcAIQAGAAMAAgADAJAACAAOAAEAGAA=",
            "dtype": "i2"
           }
          }
         ],
         "name": "1952"
        },
        {
         "data": [
          {
           "colorbar": {
            "title": {
             "text": "Medals"
            }
           },
           "colorscale": [
            [
             0,
             "#440154"
            ],
            [
             0.1111111111111111,
             "#482878"
            ],
            [
             0.2222222222222222,
             "#3e4989"
            ],
            [
             0.3333333333333333,
             "#31688e"
            ],
            [
             0.4444444444444444,
             "#26828e"
            ],
            [
             0.5555555555555556,
             "#1f9e89"
            ],
            [
             0.6666666666666666,
             "#35b779"
            ],
            [
             0.7777777777777778,
             "#6ece58"
            ],
            [
             0.8888888888888888,
             "#b5de2b"
            ],
            [
             1,
             "#fde725"
            ]
           ],
           "hovertemplate": "<b>%{location}</b><br>Medals: %{z}<extra></extra>",
           "locationmode": "country names",
           "locations": [
            "Argentina",
            "Australia",
            "Austria",
            "Austria-1",
            "Belgium",
            "Bluebottle",
            "Brazil",
            "Bulgaria",
            "Buraddoo",
            "Canada",
            "Canada-1",
            "Chile",
            "Chuckles",
            "Czechoslovakia",
            "Denmark",
            "Falcon IV",
            "Finland",
            "France",
            "Gem IV",
            "Germany",
            "Great Britain",
            "Greece",
            "Hungary",
            "Iceland",
            "India",
            "Iran",
            "Ireland",
            "Italy",
            "Italy-1",
            "Italy-2",
            "Japan",
            "Jest",
            "Kathleen",
            "Merope III",
            "Mexico",
            "New Zealand",
            "Norway",
            "Pakistan",
            "Poland",
            "Romania",
            "Rush V",
            "Slaghoken II",
            "South Africa",
            "South Korea",
            "Soviet Union",
            "Sweden",
            "Switzerland",
            "Switzerland-1",
            "Tip",
            "Turkey",
            "United States",
            "United States-1",
            "Uruguay",
            "Vision",
            "Yugoslavia"
           ],
           "type": "choropleth",
           "z": {
            "bdata": "AgA+AA4AAgACAAMAAQASAAMAJQACAAQAAgAHAAMAAgAmACEAAgA2ACUAAQBCAAEAEQAFAAUALQACAAYAGQACAAIAAgACAAEABwAOABQAEwADAAMABwACAM4AKwAHAAYAAwAHAI8ABAAMAAQAFwA=",
            "dtype": "i2"
           }
          }
         ],
         "name": "1956"
        },
        {
         "data": [
          {
           "colorbar": {
            "title": {
             "text": "Medals"
            }
           },
           "colorscale": [
            [
             0,
             "#440154"
            ],
            [
             0.1111111111111111,
             "#482878"
            ],
            [
             0.2222222222222222,
             "#3e4989"
            ],
            [
             0.3333333333333333,
             "#31688e"
            ],
            [
             0.4444444444444444,
             "#26828e"
            ],
            [
             0.5555555555555556,
             "#1f9e89"
            ],
            [
             0.6666666666666666,
             "#35b779"
            ],
            [
             0.7777777777777778,
             "#6ece58"
            ],
            [
             0.8888888888888888,
             "#b5de2b"
            ],
            [
             1,
             "#fde725"
            ]
           ],
           "hovertemplate": "<b>%{location}</b><br>Medals: %{z}<extra></extra>",
           "locationmode": "country names",
           "locations": [
            "Argentina",
            "Australia",
            "Austria",
            "Ballerina IV",
            "Belgium",
            "Brazil",
            "Bulgaria",
            "Canada",
            "Canada-1",
            "Chinese Taipei",
            "Czechoslovakia",
            "Denmark",
            "Ethiopia",
            "Finland",
            "France",
            "Germany",
            "Germany-1",
            "Ghana",
            "Great Britain",
            "Hungary",
            "India",
            "Iran",
            "Iraq",
            "Italy",
            "Japan",
            "Ma'Lindo",
            "Macky VI",
            "Mexico",
            "Minotaur",
            "Morocco",
            "Netherlands",
            "New Zealand",
            "Nirefs",
            "Norway",
            "Pakistan",
            "Poland",
            "Romania",
            "Shrew II",
            "Singapore",
            "Sirene",
            "Skum",
            "South Africa",
            "Soviet Union",
            "Spain",
            "Sweden",
            "Switzerland",
            "Tango",
            "Tornado",
            "Turkey",
            "United Arab Republic",
            "United States",
            "United States-1",
            "Venezuela",
            "Venilia",
            "Web II",
            "West Indies Federation",
            "Yugoslavia"
           ],
           "type": "choropleth",
           "z": {
            "bdata": "AQAuAAkAAwAEAA0ABwAcAAIAAQAXABIAAQATAA8AXQACAAEAHABCAA0ABAABAFYAHwACAAMAAQADAAEABQADAAMACQAOACAADwACAAEAAgACAAMA0QAOABAACwADAAIACQACAJEAAgABAAMAAwAFABEA",
            "dtype": "i2"
           }
          }
         ],
         "name": "1960"
        },
        {
         "data": [
          {
           "colorbar": {
            "title": {
             "text": "Medals"
            }
           },
           "colorscale": [
            [
             0,
             "#440154"
            ],
            [
             0.1111111111111111,
             "#482878"
            ],
            [
             0.2222222222222222,
             "#3e4989"
            ],
            [
             0.3333333333333333,
             "#31688e"
            ],
            [
             0.4444444444444444,
             "#26828e"
            ],
            [
             0.5555555555555556,
             "#1f9e89"
            ],
            [
             0.6666666666666666,
             "#35b779"
            ],
            [
             0.7777777777777778,
             "#6ece58"
            ],
            [
             0.8888888888888888,
             "#b5de2b"
            ],
            [
             1,
             "#fde725"
            ]
           ],
           "hovertemplate": "<b>%{location}</b><br>Medals: %{z}<extra></extra>",
           "locationmode": "country names",
           "locations": [
            "Aphrodite",
            "Argentina",
            "Australia",
            "Austria",
            "Austria-1",
            "Austria-2",
            "Barrenjoey",
            "Belgium",
            "Bingo",
            "Brazil",
            "Bulgaria",
            "Canada",
            "Canada-1",
            "Cuba",
            "Czechoslovakia",
            "Denmark",
            "Ethiopia",
            "Finland",
            "France",
            "Gem",
            "Germany",
            "Germany-1",
            "Ghana",
            "Glider",
            "Great Britain",
            "Great Britain-1",
            "Humbug V",
            "Hungary",
            "India",
            "Iran",
            "Ireland",
            "Italy",
            "Italy-1",
            "Italy-2",
            "Japan",
            "Kenya",
            "Lady C",
            "Mexico",
            "Mutafo",
            "Netherlands",
            "New Zealand",
            "Nigeria",
            "North Korea",
            "Norway",
            "Pakistan",
            "Pandora",
            "Philippines",
            "Poland",
            "Romania",
            "Rush VII",
            "South Korea",
            "Soviet Union",
            "Soviet Union-1",
            "Sweden",
            "Switzerland",
            "Trinidad and Tobago",
            "Tunisia",
            "Turkey",
            "United States",
            "United States-1",
            "Uruguay",
            "White Lady",
            "Widgeon",
            "Yugoslavia"
           ],
           "type": "choropleth",
           "z": {
            "bdata": "AwABACkACQAGAAIAAwADAAMADAAKAAYABgABAEcACQABABQAJgACAHkAAgABAAIAGgACAAIAOAAPAAIAAQAzAAQABgA+AAEAAgABAAMAIQAEAAEAAQAPABAAAgABAC4AEAADAAMA2wACACYABgAGAAIABgClAAIAAQADAAIADwA=",
            "dtype": "i2"
           }
          }
         ],
         "name": "1964"
        },
        {
         "data": [
          {
           "colorbar": {
            "title": {
             "text": "Medals"
            }
           },
           "colorscale": [
            [
             0,
             "#440154"
            ],
            [
             0.1111111111111111,
             "#482878"
            ],
            [
             0.2222222222222222,
             "#3e4989"
            ],
            [
             0.3333333333333333,
             "#31688e"
            ],
            [
             0.4444444444444444,
             "#26828e"
            ],
            [
             0.5555555555555556,
             "#1f9e89"
            ],
            [
             0.6666666666666666,
             "#35b779"
            ],
            [
             0.7777777777777778,
             "#6ece58"
            ],
            [
             0.8888888888888888,
             "#b5de2b"
            ],
            [
             1,
             "#fde725"
            ]
           ],
           "hovertemplate": "<b>%{location}</b><br>Medals: %{z}<extra></extra>",
           "locationmode": "country names",
           "locations": [
            "Argentina",
            "Australia",
            "Austria",
            "Austria-1",
            "Belgium",
            "Brazil",
            "Bulgaria",
            "Cameroon",
            "Canada",
            "Chinese Taipei",
            "Cuba",
            "Czechoslovakia",
            "Denmark",
            "East Germany",
            "East Germany-1",
            "Ethiopia",
            "Finland",
            "France",
            "Great Britain",
            "Greece",
            "Hungary",
            "India",
            "Iran",
            "Italy",
            "Italy-1",
            "Jamaica",
            "Japan",
            "Kenya",
            "Mexico",
            "Mongolia",
            "Netherlands",
            "New Zealand",
            "Norway",
            "Pakistan",
            "Poland",
            "Romania",
            "Romania-1",
            "South Korea",
            "Soviet Union",
            "Soviet Union-1",
            "Soviet Union-2",
            "Sweden",
            "Switzerland",
            "Switzerland-1",
            "Tunisia",
            "Turkey",
            "Uganda",
            "United States",
            "Venezuela",
            "West Germany",
            "West Germany-1",
            "Yugoslavia"
           ],
           "type": "choropleth",
           "z": {
            "bdata": "AgAzAA4ABgADAAQAGgABAB4AAQAKADIAEQA4AAIAAgAMACQAEwABAFEAEAAFACMABgABAD8ADAAJAAQAFwAHABwADQAlABcAAgACAOEAAgACABkAEgAEAAIAAgACAK0AAQA3AAYAHQA=",
            "dtype": "i2"
           }
          }
         ],
         "name": "1968"
        },
        {
         "data": [
          {
           "colorbar": {
            "title": {
             "text": "Medals"
            }
           },
           "colorscale": [
            [
             0,
             "#440154"
            ],
            [
             0.1111111111111111,
             "#482878"
            ],
            [
             0.2222222222222222,
             "#3e4989"
            ],
            [
             0.3333333333333333,
             "#31688e"
            ],
            [
             0.4444444444444444,
             "#26828e"
            ],
            [
             0.5555555555555556,
             "#1f9e89"
            ],
            [
             0.6666666666666666,
             "#35b779"
            ],
            [
             0.7777777777777778,
             "#6ece58"
            ],
            [
             0.8888888888888888,
             "#b5de2b"
            ],
            [
             1,
             "#fde725"
            ]
           ],
           "hovertemplate": "<b>%{location}</b><br>Medals: %{z}<extra></extra>",
           "locationmode": "country names",
           "locations": [
            "Argentina",
            "Australia",
            "Austria",
            "Belgium",
            "Brazil",
            "Bulgaria",
            "Canada",
            "Colombia",
            "Cuba",
            "Czechoslovakia",
            "Denmark",
            "East Germany",
            "East Germany-1",
            "East Germany-2",
            "Ethiopia",
            "Finland",
            "France",
            "Ghana",
            "Great Britain",
            "Greece",
            "Hungary",
            "India",
            "Iran",
            "Italy",
            "Italy-1",
            "Jamaica",
            "Japan",
            "Kenya",
            "Lebanon",
            "Mexico",
            "Mongolia",
            "Netherlands",
            "New Zealand",
            "Niger",
            "Nigeria",
            "North Korea",
            "Norway",
            "Pakistan",
            "Poland",
            "Romania",
            "South Korea",
            "Soviet Union",
            "Soviet Union-1",
            "Soviet Union-2",
            "Spain",
            "Sweden",
            "Switzerland",
            "Switzerland-1",
            "Tunisia",
            "Turkey",
            "Uganda",
            "United States",
            "West Germany",
            "West Germany-1",
            "West Germany-2",
            "Yugoslavia"
           ],
           "type": "choropleth",
           "z": {
            "bdata": "AQAUAAgAAgACABYADAADABYAMQABAKMABgACAAIAFAAZAAEAHQACAFEADgADABwABgABADsADAABAAEAAQAPAA4AAQABAA8AGQAPAC8AKAABAP8AAgACAAIAGgATAAYAAQABAAIAwwBmAAgAAgASAA==",
            "dtype": "i2"
           }
          }
         ],
         "name": "1972"
        },
        {
         "data": [
          {
           "colorbar": {
            "title": {
             "text": "Medals"
            }
           },
           "colorscale": [
            [
             0,
             "#440154"
            ],
            [
             0.1111111111111111,
             "#482878"
            ],
            [
             0.2222222222222222,
             "#3e4989"
            ],
            [
             0.3333333333333333,
             "#31688e"
            ],
            [
             0.4444444444444444,
             "#26828e"
            ],
            [
             0.5555555555555556,
             "#1f9e89"
            ],
            [
             0.6666666666666666,
             "#35b779"
            ],
            [
             0.7777777777777778,
             "#6ece58"
            ],
            [
             0.8888888888888888,
             "#b5de2b"
            ],
            [
             1,
             "#fde725"
            ]
           ],
           "hovertemplate": "<b>%{location}</b><br>Medals: %{z}<extra></extra>",
           "locationmode": "country names",
           "locations": [
            "Australia",
            "Austria",
            "Austria-1",
            "Belgium",
            "Bermuda",
            "Brazil",
            "Bulgaria",
            "Canada",
            "Cuba",
            "Czechoslovakia",
            "Denmark",
            "East Germany",
            "East Germany-1",
            "East Germany-2",
            "Finland",
            "France",
            "Great Britain",
            "Hungary",
            "Iran",
            "Italy",
            "Jamaica",
            "Japan",
            "Liechtenstein",
            "Mexico",
            "Mongolia",
            "Netherlands",
            "New Zealand",
            "North Korea",
            "Norway",
            "Pakistan",
            "Poland",
            "Portugal",
            "Puerto Rico",
            "Romania",
            "South Korea",
            "Soviet Union",
            "Soviet Union-1",
            "Soviet Union-2",
            "Spain",
            "Sweden",
            "Switzerland",
            "Switzerland-1",
            "Switzerland-2",
            "Thailand",
            "Trinidad and Tobago",
            "United States",
            "United States-1",
            "Venezuela",
            "West Germany",
            "West Germany-1",
            "Yugoslavia"
           ],
           "type": "choropleth",
           "z": {
            "bdata": "FwAGAAIACQABAAMAJwAaABgAIgAIANcACAAEABYAFQAhADcAAgAjAAIAKQACAAIAAQAUABkAAgAQABAASQACAAEANwARAFABBAACAAYADAANAAIABAABAAEArQACAAEAZgAIABMA",
            "dtype": "i2"
           }
          }
         ],
         "name": "1976"
        },
        {
         "data": [
          {
           "colorbar": {
            "title": {
             "text": "Medals"
            }
           },
           "colorscale": [
            [
             0,
             "#440154"
            ],
            [
             0.1111111111111111,
             "#482878"
            ],
            [
             0.2222222222222222,
             "#3e4989"
            ],
            [
             0.3333333333333333,
             "#31688e"
            ],
            [
             0.4444444444444444,
             "#26828e"
            ],
            [
             0.5555555555555556,
             "#1f9e89"
            ],
            [
             0.6666666666666666,
             "#35b779"
            ],
            [
             0.7777777777777778,
             "#6ece58"
            ],
            [
             0.8888888888888888,
             "#b5de2b"
            ],
            [
             1,
             "#fde725"
            ]
           ],
           "hovertemplate": "<b>%{location}</b><br>Medals: %{z}<extra></extra>",
           "locationmode": "country names",
           "locations": [
            "Australia",
            "Austria",
            "Austria-1",
            "Belgium",
            "Brazil",
            "Bulgaria",
            "Canada",
            "Cuba",
            "Czechoslovakia",
            "Denmark",
            "East Germany",
            "East Germany-1",
            "East Germany-2",
            "Ethiopia",
            "Finland",
            "France",
            "Great Britain",
            "Greece",
            "Guyana",
            "Hungary",
            "India",
            "Ireland",
            "Italy",
            "Italy-1",
            "Jamaica",
            "Japan",
            "Lebanon",
            "Liechtenstein",
            "Mexico",
            "Mongolia",
            "Netherlands",
            "North Korea",
            "Norway",
            "Poland",
            "Romania",
            "Soviet Union",
            "Soviet Union-1",
            "Soviet Union-2",
            "Spain",
            "Sweden",
            "Switzerland",
            "Switzerland-1",
            "Switzerland-2",
            "Tanzania",
            "Uganda",
            "United States",
            "Venezuela",
            "West Germany",
            "Yugoslavia",
            "Zimbabwe"
           ],
           "type": "choropleth",
           "z": {
            "bdata": "DQALAAIAAQAJAFsAAgAUADQACAAfAQoABgAEABUAHgAwAAUAAQA/ABAAAwAmAAIAAwABAAEABAAKAAQACgAFAA8AMgBEAOgBBAAEABgAKwAFAAQAAgACAAEAHgABAAgAOQAPAA==",
            "dtype": "i2"
           }
          }
         ],
         "name": "1980"
        },
        {
         "data": [
          {
           "colorbar": {
            "title": {
             "text": "Medals"
            }
           },
           "colorscale": [
            [
             0,
             "#440154"
            ],
            [
             0.1111111111111111,
             "#482878"
            ],
            [
             0.2222222222222222,
             "#3e4989"
            ],
            [
             0.3333333333333333,
             "#31688e"
            ],
            [
             0.4444444444444444,
             "#26828e"
            ],
            [
             0.5555555555555556,
             "#1f9e89"
            ],
            [
             0.6666666666666666,
             "#35b779"
            ],
            [
             0.7777777777777778,
             "#6ece58"
            ],
            [
             0.8888888888888888,
             "#b5de2b"
            ],
            [
             1,
             "#fde725"
            ]
           ],
           "hovertemplate": "<b>%{location}</b><br>Medals: %{z}<extra></extra>",
           "locationmode": "country names",
           "locations": [
            "Algeria",
            "Australia",
            "Austria",
            "Belgium",
            "Brazil",
            "Cameroon",
            "Canada",
            "China",
            "Chinese Taipei",
            "Colombia",
            "Cote d'Ivoire",
            "Czechoslovakia",
            "Denmark",
            "Dominican Republic",
            "East Germany",
            "East Germany-1",
            "East Germany-2",
            "Egypt",
            "Finland",
            "France",
            "Great Britain",
            "Great Britain-1",
            "Greece",
            "Iceland",
            "Ireland",
            "Italy",
            "Jamaica",
            "Japan",
            "Kenya",
            "Liechtenstein",
            "Mexico",
            "Morocco",
            "Netherlands",
            "New Zealand",
            "Nigeria",
            "Norway",
            "Pakistan",
            "Peru",
            "Portugal",
            "Puerto Rico",
            "Romania",
            "South Korea",
            "Soviet Union",
            "Soviet Union-1",
            "Soviet Union-2",
            "Spain",
            "Sweden",
            "Switzerland",
            "Switzerland-1",
            "Syria",
            "Thailand",
            "Turkey",
            "United States",
            "United States-1",
            "Venezuela",
            "West Germany",
            "West Germany-1",
            "Yugoslavia",
            "Zambia"
           ],
           "type": "choropleth",
           "z": {
            "bdata": "AgA0AAQABQAkAAEAWwBKAAEAAQABABwADQABABMACAAGAAEAHwBGAEcAAgACAAEAAQBBAAcAMgADAAIABgACACkAFwAFABMAEAABAAMAAgBqACkALAAGAAYAEwBAABEABAABAAEAAwBnAQIAAwCkAAIAWAABAA==",
            "dtype": "i2"
           }
          }
         ],
         "name": "1984"
        },
        {
         "data": [
          {
           "colorbar": {
            "title": {
             "text": "Medals"
            }
           },
           "colorscale": [
            [
             0,
             "#440154"
            ],
            [
             0.1111111111111111,
             "#482878"
            ],
            [
             0.2222222222222222,
             "#3e4989"
            ],
            [
             0.3333333333333333,
             "#31688e"
            ],
            [
             0.4444444444444444,
             "#26828e"
            ],
            [
             0.5555555555555556,
             "#1f9e89"
            ],
            [
             0.6666666666666666,
             "#35b779"
            ],
            [
             0.7777777777777778,
             "#6ece58"
            ],
            [
             0.8888888888888888,
             "#b5de2b"
            ],
            [
             1,
             "#fde725"
            ]
           ],
           "hovertemplate": "<b>%{location}</b><br>Medals: %{z}<extra></extra>",
           "locationmode": "country names",
           "locations": [
            "Argentina",
            "Australia",
            "Austria",
            "Belgium",
            "Brazil",
            "Bulgaria",
            "Canada",
            "Canada-1",
            "Chile",
            "China",
            "China-1",
            "Colombia",
            "Costa Rica",
            "Czechoslovakia",
            "Denmark",
            "Djibouti",
            "East Germany",
            "East Germany-1",
            "East Germany-2",
            "Finland",
            "France",
            "Great Britain",
            "Greece",
            "Hungary",
            "Indonesia",
            "Iran",
            "Italy",
            "Jamaica",
            "Japan",
            "Kenya",
            "Liechtenstein",
            "Mexico",
            "Mongolia",
            "Morocco",
            "Netherlands",
            "Netherlands Antilles",
            "New Zealand",
            "Norway",
            "Pakistan",
            "Peru",
            "Philippines",
            "Poland",
            "Portugal",
            "Romania",
            "Senegal",
            "South Korea",
            "South Korea-2",
            "Soviet Union",
            "Soviet Union-1",
            "Soviet Union-2",
            "Spain",
            "Suriname",
            "Sweden",
            "Switzerland",
            "Switzerland-1",
            "Thailand",
            "Turkey",
            "United States",
            "United States Virgin Islands",
            "United States-1",
            "West Germany",
            "West Germany-1",
            "Yugoslavia"
           ],
           "type": "choropleth",
           "z": {
            "bdata": "DQAjAA0AAgAXACkAGwACAAEAMgACAAEAAQAQAAcAAQDJAAgABAAmAB8ANgABACwAAwABACUABwAVAAkAAQACAAEAAwA0AAEAGAAhAAEADAABABUAAQA6AAEASwACAGABBgAIAAUAAQAuABgABAABAAIA1AABAAIAfwACAEUA",
            "dtype": "i2"
           }
          }
         ],
         "name": "1988"
        },
        {
         "data": [
          {
           "colorbar": {
            "title": {
             "text": "Medals"
            }
           },
           "colorscale": [
            [
             0,
             "#440154"
            ],
            [
             0.1111111111111111,
             "#482878"
            ],
            [
             0.2222222222222222,
             "#3e4989"
            ],
            [
             0.3333333333333333,
             "#31688e"
            ],
            [
             0.4444444444444444,
             "#26828e"
            ],
            [
             0.5555555555555556,
             "#1f9e89"
            ],
            [
             0.6666666666666666,
             "#35b779"
            ],
            [
             0.7777777777777778,
             "#6ece58"
            ],
            [
             0.8888888888888888,
             "#b5de2b"
            ],
            [
             1,
             "#fde725"
            ]
           ],
           "hovertemplate": "<b>%{location}</b><br>Medals: %{z}<extra></extra>",
           "locationmode": "country names",
           "locations": [
            "Algeria",
            "Argentina",
            "Australia",
            "Austria",
            "Austria-1",
            "Bahamas",
            "Belgium",
            "Brazil",
            "Bulgaria",
            "Canada",
            "Canada-1",
            "China",
            "China-1",
            "China-2",
            "Chinese Taipei",
            "Colombia",
            "Croatia",
            "Cuba",
            "Czechoslovakia",
            "Czechoslovakia-1",
            "Denmark",
            "Estonia",
            "Ethiopia",
            "Finland",
            "France",
            "France-1",
            "Germany",
            "Germany-1",
            "Germany-2",
            "Ghana",
            "Great Britain",
            "Greece",
            "Hungary",
            "Individual Olympic Athletes",
            "Indonesia",
            "Indonesia-1",
            "Iran",
            "Ireland",
            "Israel",
            "Italy",
            "Italy-1",
            "Jamaica",
            "Japan",
            "Kenya",
            "Latvia",
            "Lithuania",
            "Luxembourg",
            "Malaysia-2",
            "Mexico",
            "Mongolia",
            "Morocco",
            "Namibia",
            "Netherlands",
            "New Zealand",
            "Nigeria",
            "North Korea",
            "North Korea-1",
            "Norway",
            "Pakistan",
            "Peru",
            "Philippines",
            "Poland",
            "Puerto Rico",
            "Qatar",
            "Romania",
            "Slovenia",
            "South Africa",
            "South Korea",
            "South Korea-1",
            "South Korea-2",
            "Spain",
            "Suriname",
            "Sweden",
            "Switzerland",
            "Switzerland-1",
            "Thailand",
            "Turkey",
            "Unified Team",
            "Unified Team-1",
            "Unified Team-2",
            "United States",
            "United States-1"
           ],
           "type": "choropleth",
           "z": {
            "bdata": "AgACADkAHwAEAAEAAwAOABEATgACAEkABgAGABQAAQAPAEUAIQACAA4AAwADABQAQQAEAOAACAAEABQAMgACAC0AAwAEAAIAAwACAAIAQAACAAQAOwAIAAMADQACAAIAAQACAAMAAgAlABAACwAJAAIALwAQAAEAAQAuAAEAAQA1AAYAAwAsAAgABABGAAEAKgACAAYAAQAGAA8BBAAEAOwAAgA=",
            "dtype": "i2"
           }
          }
         ],
         "name": "1992"
        },
        {
         "data": [
          {
           "colorbar": {
            "title": {
             "text": "Medals"
            }
           },
           "colorscale": [
            [
             0,
             "#440154"
            ],
            [
             0.1111111111111111,
             "#482878"
            ],
            [
             0.2222222222222222,
             "#3e4989"
            ],
            [
             0.3333333333333333,
             "#31688e"
            ],
            [
             0.4444444444444444,
             "#26828e"
            ],
            [
             0.5555555555555556,
             "#1f9e89"
            ],
            [
             0.6666666666666666,
             "#35b779"
            ],
            [
             0.7777777777777778,
             "#6ece58"
            ],
            [
             0.8888888888888888,
             "#b5de2b"
            ],
            [
             1,
             "#fde725"
            ]
           ],
           "hovertemplate": "<b>%{location}</b><br>Medals: %{z}<extra></extra>",
           "locationmode": "country names",
           "locations": [
            "Australia",
            "Austria",
            "Belarus",
            "Canada",
            "Canada-1",
            "China",
            "Finland",
            "France",
            "Germany",
            "Germany-1",
            "Germany-2",
            "Great Britain",
            "Italy",
            "Italy-1",
            "Italy-2",
            "Japan",
            "Kazakhstan",
            "Netherlands",
            "Norway",
            "Russia",
            "Russia-1",
            "Russia-2",
            "Slovenia",
            "South Korea",
            "Sweden",
            "Switzerland",
            "Switzerland-1",
            "Switzerland-2",
            "Ukraine",
            "United States",
            "Uzbekistan"
           ],
           "type": "choropleth",
           "z": {
            "bdata": "BAwCIwIDHgseBgQDGgQCCgMEHhwEBAMJGAgGAgITAQ==",
            "dtype": "i1"
           }
          }
         ],
         "name": "1994"
        },
        {
         "data": [
          {
           "colorbar": {
            "title": {
             "text": "Medals"
            }
           },
           "colorscale": [
            [
             0,
             "#440154"
            ],
            [
             0.1111111111111111,
             "#482878"
            ],
            [
             0.2222222222222222,
             "#3e4989"
            ],
            [
             0.3333333333333333,
             "#31688e"
            ],
            [
             0.4444444444444444,
             "#26828e"
            ],
            [
             0.5555555555555556,
             "#1f9e89"
            ],
            [
             0.6666666666666666,
             "#35b779"
            ],
            [
             0.7777777777777778,
             "#6ece58"
            ],
            [
             0.8888888888888888,
             "#b5de2b"
            ],
            [
             1,
             "#fde725"
            ]
           ],
           "hovertemplate": "<b>%{location}</b><br>Medals: %{z}<extra></extra>",
           "locationmode": "country names",
           "locations": [
            "Algeria",
            "Argentina",
            "Armenia",
            "Australia",
            "Australia-1",
            "Austria",
            "Azerbaijan",
            "Bahamas",
            "Belarus",
            "Belgium",
            "Brazil",
            "Brazil-1",
            "Brazil-2",
            "Bulgaria",
            "Burundi",
            "Canada",
            "Canada-1",
            "China",
            "China-1",
            "China-2",
            "Chinese Taipei",
            "Costa Rica",
            "Croatia",
            "Cuba",
            "Czech Republic",
            "Czech Republic-1",
            "Denmark",
            "Ecuador",
            "Ethiopia",
            "Finland",
            "France",
            "France-1",
            "Georgia",
            "Germany",
            "Germany-1",
            "Great Britain",
            "Greece",
            "Hong Kong",
            "Hungary",
            "India",
            "Indonesia",
            "Indonesia-1",
            "Iran",
            "Ireland",
            "Israel",
            "Italy",
            "Jamaica",
            "Japan",
            "Kazakhstan",
            "Kenya",
            "Latvia",
            "Lithuania",
            "Malaysia",
            "Malaysia-1",
            "Mexico",
            "Moldova",
            "Mongolia",
            "Morocco",
            "Mozambique",
            "Namibia",
            "Netherlands",
            "New Zealand",
            "Nigeria",
            "North Korea",
            "Norway",
            "Philippines",
            "Poland",
            "Portugal",
            "Puerto Rico",
            "Romania",
            "Russia",
            "Serbia and Montenegro",
            "Slovakia",
            "Slovenia",
            "South Africa",
            "South Korea",
            "South Korea-1",
            "South Korea-2",
            "Spain",
            "Sweden",
            "Switzerland",
            "Syria",
            "Thailand",
            "Tonga",
            "Trinidad and Tobago",
            "Tunisia",
            "Turkey",
            "Uganda",
            "Ukraine",
            "United States",
            "United States-1",
            "United States-2",
            "Uzbekistan",
            "Zambia"
           ],
           "type": "choropleth",
           "z": {
            "bdata": "AwAUAAIAggACAAMAAQAFABcABgA7AAIAAgAVAAEAMAACAF4ABAAIAAEAAQAcADcACwACABcAAQADAAQAMQACAAIAegACABoACAABACsAAQAEAAIAAwAEAAEARwAQACoACwAIAAEACwABAAIAAQADAAEAAgABAAIASQAJABgABQAXAAEAFgADAAEAJgBzABoAAwACAAUAOAAEAAYAQgAfAAsAAQACAAEAAgABAAYAAQAiAP8AAgACAAIAAQA=",
            "dtype": "i2"
           }
          }
         ],
         "name": "1996"
        },
        {
         "data": [
          {
           "colorbar": {
            "title": {
             "text": "Medals"
            }
           },
           "colorscale": [
            [
             0,
             "#440154"
            ],
            [
             0.1111111111111111,
             "#482878"
            ],
            [
             0.2222222222222222,
             "#3e4989"
            ],
            [
             0.3333333333333333,
             "#31688e"
            ],
            [
             0.4444444444444444,
             "#26828e"
            ],
            [
             0.5555555555555556,
             "#1f9e89"
            ],
            [
             0.6666666666666666,
             "#35b779"
            ],
            [
             0.7777777777777778,
             "#6ece58"
            ],
            [
             0.8888888888888888,
             "#b5de2b"
            ],
            [
             1,
             "#fde725"
            ]
           ],
           "hovertemplate": "<b>%{location}</b><br>Medals: %{z}<extra></extra>",
           "locationmode": "country names",
           "locations": [
            "Australia",
            "Austria",
            "Belarus",
            "Belgium",
            "Bulgaria",
            "Canada",
            "Canada-1",
            "China",
            "Czech Republic",
            "Denmark",
            "Finland",
            "France",
            "France-1",
            "Germany",
            "Germany-1",
            "Germany-2",
            "Great Britain",
            "Italy",
            "Italy-1",
            "Japan",
            "Kazakhstan",
            "Netherlands",
            "Norway",
            "Russia",
            "Russia-1",
            "Russia-2",
            "South Korea",
            "Sweden",
            "Switzerland",
            "Switzerland-1",
            "Ukraine",
            "United States",
            "United States-1",
            "United States-2"
           ],
           "type": "choropleth",
           "z": {
            "bdata": "ARQCAQEvAg4XBToNAiIGBAQPAg0CCygsBAQMBwoEAR4CAg==",
            "dtype": "i1"
           }
          }
         ],
         "name": "1998"
        },
        {
         "data": [
          {
           "colorbar": {
            "title": {
             "text": "Medals"
            }
           },
           "colorscale": [
            [
             0,
             "#440154"
            ],
            [
             0.1111111111111111,
             "#482878"
            ],
            [
             0.2222222222222222,
             "#3e4989"
            ],
            [
             0.3333333333333333,
             "#31688e"
            ],
            [
             0.4444444444444444,
             "#26828e"
            ],
            [
             0.5555555555555556,
             "#1f9e89"
            ],
            [
             0.6666666666666666,
             "#35b779"
            ],
            [
             0.7777777777777778,
             "#6ece58"
            ],
            [
             0.8888888888888888,
             "#b5de2b"
            ],
            [
             1,
             "#fde725"
            ]
           ],
           "hovertemplate": "<b>%{location}</b><br>Medals: %{z}<extra></extra>",
           "locationmode": "country names",
           "locations": [
            "Algeria",
            "Argentina",
            "Armenia",
            "Australia",
            "Australia-1",
            "Austria",
            "Azerbaijan",
            "Bahamas",
            "Barbados",
            "Belarus",
            "Belgium",
            "Brazil",
            "Brazil-1",
            "Brazil-2",
            "Bulgaria",
            "Cameroon",
            "Canada",
            "Chile",
            "China",
            "China-1",
            "China-2",
            "Chinese Taipei",
            "Colombia",
            "Costa Rica",
            "Croatia",
            "Cuba",
            "Czech Republic",
            "Czech Republic-1",
            "Denmark",
            "Estonia",
            "Ethiopia",
            "Finland",
            "France",
            "France-1",
            "Georgia",
            "Germany",
            "Germany-1",
            "Great Britain",
            "Great Britain-2",
            "Greece",
            "Hungary",
            "Iceland",
            "India",
            "Indonesia",
            "Indonesia-1",
            "Iran",
            "Ireland",
            "Israel",
            "Italy",
            "Jamaica",
            "Japan",
            "Kazakhstan",
            "Kenya",
            "Kuwait",
            "Kyrgyzstan",
            "Latvia",
            "Lithuania",
            "Macedonia",
            "Mexico",
            "Moldova",
            "Morocco",
            "Mozambique",
            "Netherlands",
            "New Zealand",
            "Nigeria",
            "North Korea",
            "Norway",
            "Poland",
            "Poland-1",
            "Portugal",
            "Qatar",
            "Romania",
            "Russia",
            "Saudi Arabia",
            "Serbia and Montenegro",
            "Slovakia",
            "Slovenia",
            "South Africa",
            "South Korea",
            "South Korea-1",
            "South Korea-2",
            "Spain",
            "Sri Lanka",
            "Sweden",
            "Switzerland",
            "Thailand",
            "Trinidad and Tobago",
            "Turkey",
            "Ukraine",
            "United States",
            "United States-1",
            "Uruguay",
            "Uzbekistan",
            "Vietnam"
           ],
           "type": "choropleth",
           "z": {
            "bdata": "BQAUAAEAtQACAAQAAwALAAEAFgAHACoABAACAA0AEgAfABEAQQAGAAgABQABAAIACgBBAAcAAgAZAAMACAAFAEAAAgAGAHQAAgA0AAIAEgA1AAEAAQAGAAIABAABAAEAQQAXACwABwAHAAEAAQADABEAAQAGAAIABQABAE8ABAAIAAQAKwAWAAIAAgABAC4AuwACABkABgADAAUAQwAEAAIAKgABACAADgADAAIABQAjAPAAAgABAAQAAQA=",
            "dtype": "i2"
           }
          }
         ],
         "name": "2000"
        },
        {
         "data": [
          {
           "colorbar": {
            "title": {
             "text": "Medals"
            }
           },
           "colorscale": [
            [
             0,
             "#440154"
            ],
            [
             0.1111111111111111,
             "#482878"
            ],
            [
             0.2222222222222222,
             "#3e4989"
            ],
            [
             0.3333333333333333,
             "#31688e"
            ],
            [
             0.4444444444444444,
             "#26828e"
            ],
            [
             0.5555555555555556,
             "#1f9e89"
            ],
            [
             0.6666666666666666,
             "#35b779"
            ],
            [
             0.7777777777777778,
             "#6ece58"
            ],
            [
             0.8888888888888888,
             "#b5de2b"
            ],
            [
             1,
             "#fde725"
            ]
           ],
           "hovertemplate": "<b>%{location}</b><br>Medals: %{z}<extra></extra>",
           "locationmode": "country names",
           "locations": [
            "Australia",
            "Austria",
            "Belarus",
            "Bulgaria",
            "Canada",
            "Canada-1",
            "China",
            "China-1",
            "Croatia",
            "Czech Republic",
            "Estonia",
            "Finland",
            "France",
            "France-1",
            "Germany",
            "Germany-1",
            "Germany-2",
            "Great Britain",
            "Italy",
            "Italy-1",
            "Japan",
            "Netherlands",
            "Norway",
            "Poland",
            "Russia",
            "Russia-1",
            "Slovenia",
            "South Korea",
            "Sweden",
            "Switzerland",
            "Switzerland-1",
            "Switzerland-2",
            "United States",
            "United States-1",
            "United States-2"
           ],
           "type": "choropleth",
           "z": {
            "bdata": "AhQBA0gCDgIEAwMNDQIxBAgGEwICCCkCIgQEBxoUAgJGBgg=",
            "dtype": "i1"
           }
          }
         ],
         "name": "2002"
        },
        {
         "data": [
          {
           "colorbar": {
            "title": {
             "text": "Medals"
            }
           },
           "colorscale": [
            [
             0,
             "#440154"
            ],
            [
             0.1111111111111111,
             "#482878"
            ],
            [
             0.2222222222222222,
             "#3e4989"
            ],
            [
             0.3333333333333333,
             "#31688e"
            ],
            [
             0.4444444444444444,
             "#26828e"
            ],
            [
             0.5555555555555556,
             "#1f9e89"
            ],
            [
             0.6666666666666666,
             "#35b779"
            ],
            [
             0.7777777777777778,
             "#6ece58"
            ],
            [
             0.8888888888888888,
             "#b5de2b"
            ],
            [
             1,
             "#fde725"
            ]
           ],
           "hovertemplate": "<b>%{location}</b><br>Medals: %{z}<extra></extra>",
           "locationmode": "country names",
           "locations": [
            "Argentina",
            "Australia",
            "Austria",
            "Azerbaijan",
            "Bahamas",
            "Belarus",
            "Belgium",
            "Brazil",
            "Brazil-1",
            "Bulgaria",
            "Cameroon",
            "Canada",
            "Chile",
            "China",
            "China-1",
            "China-2",
            "Chinese Taipei",
            "Colombia",
            "Croatia",
            "Cuba",
            "Czech Republic",
            "Czech Republic-1",
            "Denmark",
            "Denmark-2",
            "Dominican Republic",
            "Egypt",
            "Eritrea",
            "Estonia",
            "Ethiopia",
            "Finland",
            "France",
            "Georgia",
            "Germany",
            "Germany-1",
            "Great Britain",
            "Great Britain-1",
            "Greece",
            "Hong Kong-2",
            "Hungary",
            "India",
            "Indonesia",
            "Indonesia-1",
            "Iran",
            "Israel",
            "Italy",
            "Jamaica",
            "Japan",
            "Kazakhstan",
            "Kenya",
            "Latvia",
            "Lithuania",
            "Mexico",
            "Mongolia",
            "Morocco",
            "Netherlands",
            "New Zealand",
            "Nigeria",
            "North Korea",
            "Norway",
            "Paraguay",
            "Poland",
            "Portugal",
            "Romania",
            "Russia",
            "Serbia and Montenegro",
            "Slovakia",
            "Slovenia",
            "South Africa",
            "South Korea",
            "South Korea-1",
            "South Korea-2",
            "Spain",
            "Spain-2",
            "Sweden",
            "Switzerland",
            "Switzerland-2",
            "Syria",
            "Thailand",
            "Trinidad and Tobago",
            "Turkey",
            "Ukraine",
            "United Arab Emirates",
            "United States",
            "United States-1",
            "United States-2",
            "Uzbekistan",
            "Venezuela",
            "Zimbabwe"
           ],
           "type": "choropleth",
           "z": {
            "bdata": "MQCdAAgABQACAA8AAwAkAAQAEQABABEABABSAAgABAAJAAIAFQA+AAsAAgAbAAIAAQAFAAEAAwAHAAIANQAEAJMAAgA3AAIAHwACACgAAQADAAIABgACAGgADQBdAAgABwAEAAMABAABAAMATQAGAAgABQAHABEADAADACcAvQANAAoABQAKAC4ABAACABwAAgAMAAUAAgABAAgAAQALAC8AAQADAQIAAgAFAAIAAwA=",
            "dtype": "i2"
           }
          }
         ],
         "name": "2004"
        },
        {
         "data": [
          {
           "colorbar": {
            "title": {
             "text": "Medals"
            }
           },
           "colorscale": [
            [
             0,
             "#440154"
            ],
            [
             0.1111111111111111,
             "#482878"
            ],
            [
             0.2222222222222222,
             "#3e4989"
            ],
            [
             0.3333333333333333,
             "#31688e"
            ],
            [
             0.4444444444444444,
             "#26828e"
            ],
            [
             0.5555555555555556,
             "#1f9e89"
            ],
            [
             0.6666666666666666,
             "#35b779"
            ],
            [
             0.7777777777777778,
             "#6ece58"
            ],
            [
             0.8888888888888888,
             "#b5de2b"
            ],
            [
             1,
             "#fde725"
            ]
           ],
           "hovertemplate": "<b>%{location}</b><br>Medals: %{z}<extra></extra>",
           "locationmode": "country names",
           "locations": [
            "Australia",
            "Austria",
            "Austria-1",
            "Belarus",
            "Bulgaria",
            "Canada",
            "Canada-1",
            "China",
            "China-1",
            "China-3",
            "Croatia",
            "Czech Republic",
            "Estonia",
            "Finland",
            "France",
            "Germany",
            "Germany-1",
            "Great Britain",
            "Italy",
            "Italy-1",
            "Japan",
            "Latvia",
            "Netherlands",
            "Norway",
            "Poland",
            "Russia",
            "Russia-1",
            "Slovakia",
            "South Korea",
            "Sweden",
            "Switzerland",
            "Switzerland-1",
            "Ukraine",
            "Ukraine-1",
            "United States",
            "United States-1"
           ],
           "type": "choropleth",
           "z": {
            "bdata": "AhwCAQFDAgkCAgMbAykPLAoBFQQBAQ0XAiEIARNADwYBAjAE",
            "dtype": "i1"
           }
          }
         ],
         "name": "2006"
        },
        {
         "data": [
          {
           "colorbar": {
            "title": {
             "text": "Medals"
            }
           },
           "colorscale": [
            [
             0,
             "#440154"
            ],
            [
             0.1111111111111111,
             "#482878"
            ],
            [
             0.2222222222222222,
             "#3e4989"
            ],
            [
             0.3333333333333333,
             "#31688e"
            ],
            [
             0.4444444444444444,
             "#26828e"
            ],
            [
             0.5555555555555556,
             "#1f9e89"
            ],
            [
             0.6666666666666666,
             "#35b779"
            ],
            [
             0.7777777777777778,
             "#6ece58"
            ],
            [
             0.8888888888888888,
             "#b5de2b"
            ],
            [
             1,
             "#fde725"
            ]
           ],
           "hovertemplate": "<b>%{location}</b><br>Medals: %{z}<extra></extra>",
           "locationmode": "country names",
           "locations": [
            "Afghanistan",
            "Algeria",
            "Argentina",
            "Armenia",
            "Australia",
            "Austria",
            "Azerbaijan",
            "Bahamas",
            "Belarus",
            "Belgium",
            "Bonaparte",
            "Brazil",
            "Brazil-1",
            "Brazil-2",
            "Bulgaria",
            "Cameroon",
            "Canada",
            "Chile",
            "China",
            "China-1",
            "China-2",
            "Chinese Taipei",
            "Clearwater",
            "Colombia",
            "Croatia",
            "Cuba",
            "Czech Republic",
            "Denmark",
            "Digby",
            "Dominican Republic",
            "Don Schufro",
            "Ecuador",
            "Egypt",
            "Elvis Va",
            "Estonia",
            "Ethiopia",
            "Finland",
            "France",
            "Georgia",
            "Germany",
            "Great Britain",
            "Greece",
            "Hungary",
            "Iceland",
            "India",
            "Indonesia",
            "Indonesia-1",
            "Iran",
            "Ireland",
            "Israel",
            "Italy",
            "Jamaica",
            "Japan",
            "Kazakhstan",
            "Kenya",
            "Kyrgyzstan",
            "Latvia",
            "Lithuania",
            "Malaysia",
            "Mauritius",
            "Mexico",
            "Moldova",
            "Mongolia",
            "Morocco",
            "Nadine",
            "Netherlands",
            "New Zealand",
            "Nigeria",
            "North Korea",
            "Norway",
            "Panama",
            "Poland",
            "Portugal",
            "Romania",
            "Russia",
            "Salinero",
            "Satchmo",
            "Serbia",
            "Singapore",
            "Slovakia",
            "Slovenia",
            "South Africa",
            "South Korea",
            "South Korea-1",
            "Spain",
            "Spain-1",
            "Sudan",
            "Sunrise",
            "Sweden",
            "Sweden-2",
            "Switzerland",
            "Tajikistan",
            "Thailand",
            "Togo",
            "Trinidad and Tobago",
            "Tunisia",
            "Turkey",
            "Ukraine",
            "United States",
            "United States-1",
            "United States-2",
            "Uzbekistan",
            "Venezuela",
            "Vietnam",
            "Zimbabwe"
           ],
           "type": "choropleth",
           "z": {
            "bdata": "AQACADMABgCVAAMABwAHAB0ABQABAEoAAgACAAUAAQAjAAEAqgAKAAQABAABAAIABQAvAAcAEAABAAIAAQABAAEAAQADAAcABQBNAAYAYABRAAcAGwAOAAMAAwAEAAIAAwABACoADgAzAA0ADwACAAMABQABAAEABAABAAQAAgABADoADwAXAAYAFgABABQAAgAWAI4AAQABAA8AAwAKAAUAAQBIAAYARAACAAEAAQAFAAIACwACAAQAAQAGAAEABwAfADUBBgACAAYAAQABAAQA",
            "dtype": "i2"
           }
          }
         ],
         "name": "2008"
        },
        {
         "data": [
          {
           "colorbar": {
            "title": {
             "text": "Medals"
            }
           },
           "colorscale": [
            [
             0,
             "#440154"
            ],
            [
             0.1111111111111111,
             "#482878"
            ],
            [
             0.2222222222222222,
             "#3e4989"
            ],
            [
             0.3333333333333333,
             "#31688e"
            ],
            [
             0.4444444444444444,
             "#26828e"
            ],
            [
             0.5555555555555556,
             "#1f9e89"
            ],
            [
             0.6666666666666666,
             "#35b779"
            ],
            [
             0.7777777777777778,
             "#6ece58"
            ],
            [
             0.8888888888888888,
             "#b5de2b"
            ],
            [
             1,
             "#fde725"
            ]
           ],
           "hovertemplate": "<b>%{location}</b><br>Medals: %{z}<extra></extra>",
           "locationmode": "country names",
           "locations": [
            "Australia",
            "Austria",
            "Austria-1",
            "Belarus",
            "Canada",
            "Canada-1",
            "Canada-2",
            "China",
            "China-1",
            "China-2",
            "Croatia",
            "Czech Republic",
            "Estonia",
            "Finland",
            "France",
            "Germany",
            "Germany-1",
            "Germany-2",
            "Great Britain",
            "Italy",
            "Japan",
            "Kazakhstan",
            "Latvia",
            "Latvia-1",
            "Netherlands",
            "Norway",
            "Poland",
            "Russia",
            "Russia-1",
            "Slovakia",
            "Slovenia",
            "South Korea",
            "Sweden",
            "Switzerland",
            "United States",
            "United States-1",
            "United States-2"
           ],
           "type": "choropleth",
           "z": {
            "bdata": "AxgCA1AIAg8CAgMJAS8OKggEAQUHAQECCycIFQQDAxISDFkGAg==",
            "dtype": "i1"
           }
          }
         ],
         "name": "2010"
        },
        {
         "data": [
          {
           "colorbar": {
            "title": {
             "text": "Medals"
            }
           },
           "colorscale": [
            [
             0,
             "#440154"
            ],
            [
             0.1111111111111111,
             "#482878"
            ],
            [
             0.2222222222222222,
             "#3e4989"
            ],
            [
             0.3333333333333333,
             "#31688e"
            ],
            [
             0.4444444444444444,
             "#26828e"
            ],
            [
             0.5555555555555556,
             "#1f9e89"
            ],
            [
             0.6666666666666666,
             "#35b779"
            ],
            [
             0.7777777777777778,
             "#6ece58"
            ],
            [
             0.8888888888888888,
             "#b5de2b"
            ],
            [
             1,
             "#fde725"
            ]
           ],
           "hovertemplate": "<b>%{location}</b><br>Medals: %{z}<extra></extra>",
           "locationmode": "country names",
           "locations": [
            "Afghanistan",
            "Algeria",
            "Argentina",
            "Armenia",
            "Australia",
            "Azerbaijan",
            "Bahamas",
            "Bahrain",
            "Belarus",
            "Belgium",
            "Botswana",
            "Brazil",
            "Brazil-1",
            "Bulgaria",
            "Canada",
            "China",
            "China-1",
            "China-2",
            "Chinese Taipei",
            "Colombia",
            "Croatia",
            "Cuba",
            "Cyprus",
            "Czech Republic",
            "Czech Republic-1",
            "Denmark",
            "Denmark-1",
            "Dominican Republic",
            "Egypt",
            "Estonia",
            "Ethiopia",
            "Finland",
            "France",
            "France-1",
            "France-2",
            "Gabon",
            "Georgia",
            "Germany",
            "Germany-1",
            "Great Britain",
            "Great Britain-1",
            "Great Britain-2",
            "Greece",
            "Grenada",
            "Guatemala",
            "Hong Kong",
            "Hungary",
            "India",
            "Indonesia",
            "Iran",
            "Ireland",
            "Italy",
            "Jamaica",
            "Japan",
            "Japan-1",
            "Kazakhstan",
            "Kenya",
            "Kuwait",
            "Latvia",
            "Latvia-1",
            "Lithuania",
            "Malaysia",
            "Mexico",
            "Moldova",
            "Mongolia",
            "Montenegro",
            "Morocco",
            "Netherlands",
            "New Zealand",
            "North Korea",
            "Norway",
            "Poland",
            "Portugal",
            "Puerto Rico",
            "Qatar",
            "Romania",
            "Russia",
            "Russia-1",
            "Saudi Arabia",
            "Serbia",
            "Singapore",
            "Slovakia",
            "Slovenia",
            "South Africa",
            "South Korea",
            "South Korea-1",
            "Spain",
            "Sweden",
            "Switzerland",
            "Tajikistan",
            "Thailand",
            "Trinidad and Tobago",
            "Tunisia",
            "Turkey",
            "Uganda",
            "Ukraine",
            "United States",
            "United States-1",
            "United States-2",
            "Uzbekistan",
            "Venezuela"
           ],
           "type": "choropleth",
           "z": {
            "bdata": "AQABABMAAwByAAoABAABABcAAwABADcABAACADcAdQAGAAIAAgAIACMADgABAAwAAgAOAAIAAgACAAIABwAFAE4AAgACAAEABwBcAAIAegACAAIAAwABAAEAAQAaAAYAAgAMAAUARAAZAFIAAgANAAsAAQABAAIABQACABgAAgAFAA4AAQBFABsABgARAAwAAgACAAIAEACKAAIABAAQAAQABQAFAAkAOwACAD8AFgAEAAEAAwAKAAMABQABABoA7gAIAAIAAwABAA==",
            "dtype": "i2"
           }
          }
         ],
         "name": "2012"
        },
        {
         "data": [
          {
           "colorbar": {
            "title": {
             "text": "Medals"
            }
           },
           "colorscale": [
            [
             0,
             "#440154"
            ],
            [
             0.1111111111111111,
             "#482878"
            ],
            [
             0.2222222222222222,
             "#3e4989"
            ],
            [
             0.3333333333333333,
             "#31688e"
            ],
            [
             0.4444444444444444,
             "#26828e"
            ],
            [
             0.5555555555555556,
             "#1f9e89"
            ],
            [
             0.6666666666666666,
             "#35b779"
            ],
            [
             0.7777777777777778,
             "#6ece58"
            ],
            [
             0.8888888888888888,
             "#b5de2b"
            ],
            [
             1,
             "#fde725"
            ]
           ],
           "hovertemplate": "<b>%{location}</b><br>Medals: %{z}<extra></extra>",
           "locationmode": "country names",
           "locations": [
            "Australia",
            "Austria",
            "Austria-1",
            "Belarus",
            "Canada",
            "Canada-1",
            "China",
            "Croatia",
            "Czech Republic",
            "Finland",
            "France",
            "Germany",
            "Germany-1",
            "Great Britain",
            "Italy",
            "Japan",
            "Kazakhstan",
            "Latvia",
            "Latvia-1",
            "Netherlands",
            "Norway",
            "Poland",
            "Russia",
            "Russia-1",
            "Russia-2",
            "Slovakia",
            "Slovenia",
            "South Korea",
            "Sweden",
            "Switzerland",
            "Switzerland-1",
            "Ukraine",
            "United States",
            "United States-1",
            "United States-2"
           ],
           "type": "choropleth",
           "z": {
            "bdata": "AxkCBlIEDAELIRIgBAoOCwEFBh0kCzgKAgEIDjMcAgU0CgI=",
            "dtype": "i1"
           }
          }
         ],
         "name": "2014"
        },
        {
         "data": [
          {
           "colorbar": {
            "title": {
             "text": "Medals"
            }
           },
           "colorscale": [
            [
             0,
             "#440154"
            ],
            [
             0.1111111111111111,
             "#482878"
            ],
            [
             0.2222222222222222,
             "#3e4989"
            ],
            [
             0.3333333333333333,
             "#31688e"
            ],
            [
             0.4444444444444444,
             "#26828e"
            ],
            [
             0.5555555555555556,
             "#1f9e89"
            ],
            [
             0.6666666666666666,
             "#35b779"
            ],
            [
             0.7777777777777778,
             "#6ece58"
            ],
            [
             0.8888888888888888,
             "#b5de2b"
            ],
            [
             1,
             "#fde725"
            ]
           ],
           "hovertemplate": "<b>%{location}</b><br>Medals: %{z}<extra></extra>",
           "locationmode": "country names",
           "locations": [
            "Algeria",
            "Argentina",
            "Armenia",
            "Australia",
            "Austria",
            "Azerbaijan",
            "Bahamas",
            "Bahrain",
            "Belarus",
            "Belgium",
            "Brazil",
            "Brazil-1",
            "Bulgaria",
            "Burundi",
            "Canada",
            "China",
            "China-1",
            "Chinese Taipei",
            "Colombia",
            "Cote d'Ivoire",
            "Croatia",
            "Cuba",
            "Czech Republic",
            "Czech Republic-1",
            "Denmark",
            "Dominican Republic",
            "Egypt",
            "Estonia",
            "Ethiopia",
            "Fiji",
            "Finland",
            "France",
            "Georgia",
            "Germany",
            "Germany-1",
            "Great Britain",
            "Greece",
            "Grenada",
            "Hungary",
            "India",
            "Individual Olympic Athletes",
            "Indonesia",
            "Indonesia-1",
            "Iran",
            "Ireland",
            "Israel",
            "Italy",
            "Italy-1",
            "Jamaica",
            "Japan",
            "Jordan",
            "Kazakhstan",
            "Kenya",
            "Kosovo",
            "Lithuania",
            "Malaysia",
            "Mexico",
            "Mongolia",
            "Morocco",
            "Netherlands",
            "Netherlands-1",
            "New Zealand",
            "Niger",
            "Nigeria",
            "North Korea",
            "Norway",
            "Philippines",
            "Poland",
            "Portugal",
            "Puerto Rico",
            "Qatar",
            "Romania",
            "Russia",
            "Russia-2",
            "Serbia",
            "Singapore",
            "Slovakia",
            "Slovenia",
            "South Africa",
            "South Korea",
            "South Korea-1",
            "Spain",
            "Spain-2",
            "Sweden",
            "Switzerland",
            "Tajikistan",
            "Thailand",
            "Trinidad and Tobago",
            "Tunisia",
            "Turkey",
            "Ukraine",
            "United Arab Emirates",
            "United States",
            "United States-1",
            "United States-2",
            "Uzbekistan",
            "Venezuela",
            "Vietnam"
           ],
           "type": "choropleth",
           "z": {
            "bdata": "AgAWAAQAUgACABIABgACAAwAFQAuAAQABwABAEUAbQAEAAUACAACABgACwANAAIAKQABAAMABAAIAA0AAQBgAAcAnQACAJEABwABABYAAgACAAIAAgAIAAMAAgBGAAIAHgBAAAEAEgANAAEABwAIAAUAAgABAC0AAgAkAAEAEgAHABMAAQAQAAEAAQABABAAcQACADYAAQAIAAQAFwAYAAIAKwACABwACwABAAYAAQADAAgADwABAAABBAAEAA0AAwACAA==",
            "dtype": "i2"
           }
          }
         ],
         "name": "2016"
        }
       ],
       "layout": {
        "geo": {
         "projection": {
          "type": "equirectangular"
         },
         "showcoastlines": true,
         "showframe": false
        },
        "height": 800,
        "sliders": [
         {
          "active": 0,
          "steps": [
           {
            "args": [
             [
              "1896"
             ],
             {
              "frame": {
               "duration": 300,
               "redraw": true
              }
             }
            ],
            "label": "1896",
            "method": "animate"
           },
           {
            "args": [
             [
              "1900"
             ],
             {
              "frame": {
               "duration": 300,
               "redraw": true
              }
             }
            ],
            "label": "1900",
            "method": "animate"
           },
           {
            "args": [
             [
              "1904"
             ],
             {
              "frame": {
               "duration": 300,
               "redraw": true
              }
             }
            ],
            "label": "1904",
            "method": "animate"
           },
           {
            "args": [
             [
              "1906"
             ],
             {
              "frame": {
               "duration": 300,
               "redraw": true
              }
             }
            ],
            "label": "1906",
            "method": "animate"
           },
           {
            "args": [
             [
              "1908"
             ],
             {
              "frame": {
               "duration": 300,
               "redraw": true
              }
             }
            ],
            "label": "1908",
            "method": "animate"
           },
           {
            "args": [
             [
              "1912"
             ],
             {
              "frame": {
               "duration": 300,
               "redraw": true
              }
             }
            ],
            "label": "1912",
            "method": "animate"
           },
           {
            "args": [
             [
              "1920"
             ],
             {
              "frame": {
               "duration": 300,
               "redraw": true
              }
             }
            ],
            "label": "1920",
            "method": "animate"
           },
           {
            "args": [
             [
              "1924"
             ],
             {
              "frame": {
               "duration": 300,
               "redraw": true
              }
             }
            ],
            "label": "1924",
            "method": "animate"
           },
           {
            "args": [
             [
              "1928"
             ],
             {
              "frame": {
               "duration": 300,
               "redraw": true
              }
             }
            ],
            "label": "1928",
            "method": "animate"
           },
           {
            "args": [
             [
              "1932"
             ],
             {
              "frame": {
               "duration": 300,
               "redraw": true
              }
             }
            ],
            "label": "1932",
            "method": "animate"
           },
           {
            "args": [
             [
              "1936"
             ],
             {
              "frame": {
               "duration": 300,
               "redraw": true
              }
             }
            ],
            "label": "1936",
            "method": "animate"
           },
           {
            "args": [
             [
              "1948"
             ],
             {
              "frame": {
               "duration": 300,
               "redraw": true
              }
             }
            ],
            "label": "1948",
            "method": "animate"
           },
           {
            "args": [
             [
              "1952"
             ],
             {
              "frame": {
               "duration": 300,
               "redraw": true
              }
             }
            ],
            "label": "1952",
            "method": "animate"
           },
           {
            "args": [
             [
              "1956"
             ],
             {
              "frame": {
               "duration": 300,
               "redraw": true
              }
             }
            ],
            "label": "1956",
            "method": "animate"
           },
           {
            "args": [
             [
              "1960"
             ],
             {
              "frame": {
               "duration": 300,
               "redraw": true
              }
             }
            ],
            "label": "1960",
            "method": "animate"
           },
           {
            "args": [
             [
              "1964"
             ],
             {
              "frame": {
               "duration": 300,
               "redraw": true
              }
             }
            ],
            "label": "1964",
            "method": "animate"
           },
           {
            "args": [
             [
              "1968"
             ],
             {
              "frame": {
               "duration": 300,
               "redraw": true
              }
             }
            ],
            "label": "1968",
            "method": "animate"
           },
           {
            "args": [
             [
              "1972"
             ],
             {
              "frame": {
               "duration": 300,
               "redraw": true
              }
             }
            ],
            "label": "1972",
            "method": "animate"
           },
           {
            "args": [
             [
              "1976"
             ],
             {
              "frame": {
               "duration": 300,
               "redraw": true
              }
             }
            ],
            "label": "1976",
            "method": "animate"
           },
           {
            "args": [
             [
              "1980"
             ],
             {
              "frame": {
               "duration": 300,
               "redraw": true
              }
             }
            ],
            "label": "1980",
            "method": "animate"
           },
           {
            "args": [
             [
              "1984"
             ],
             {
              "frame": {
               "duration": 300,
               "redraw": true
              }
             }
            ],
            "label": "1984",
            "method": "animate"
           },
           {
            "args": [
             [
              "1988"
             ],
             {
              "frame": {
               "duration": 300,
               "redraw": true
              }
             }
            ],
            "label": "1988",
            "method": "animate"
           },
           {
            "args": [
             [
              "1992"
             ],
             {
              "frame": {
               "duration": 300,
               "redraw": true
              }
             }
            ],
            "label": "1992",
            "method": "animate"
           },
           {
            "args": [
             [
              "1994"
             ],
             {
              "frame": {
               "duration": 300,
               "redraw": true
              }
             }
            ],
            "label": "1994",
            "method": "animate"
           },
           {
            "args": [
             [
              "1996"
             ],
             {
              "frame": {
               "duration": 300,
               "redraw": true
              }
             }
            ],
            "label": "1996",
            "method": "animate"
           },
           {
            "args": [
             [
              "1998"
             ],
             {
              "frame": {
               "duration": 300,
               "redraw": true
              }
             }
            ],
            "label": "1998",
            "method": "animate"
           },
           {
            "args": [
             [
              "2000"
             ],
             {
              "frame": {
               "duration": 300,
               "redraw": true
              }
             }
            ],
            "label": "2000",
            "method": "animate"
           },
           {
            "args": [
             [
              "2002"
             ],
             {
              "frame": {
               "duration": 300,
               "redraw": true
              }
             }
            ],
            "label": "2002",
            "method": "animate"
           },
           {
            "args": [
             [
              "2004"
             ],
             {
              "frame": {
               "duration": 300,
               "redraw": true
              }
             }
            ],
            "label": "2004",
            "method": "animate"
           },
           {
            "args": [
             [
              "2006"
             ],
             {
              "frame": {
               "duration": 300,
               "redraw": true
              }
             }
            ],
            "label": "2006",
            "method": "animate"
           },
           {
            "args": [
             [
              "2008"
             ],
             {
              "frame": {
               "duration": 300,
               "redraw": true
              }
             }
            ],
            "label": "2008",
            "method": "animate"
           },
           {
            "args": [
             [
              "2010"
             ],
             {
              "frame": {
               "duration": 300,
               "redraw": true
              }
             }
            ],
            "label": "2010",
            "method": "animate"
           },
           {
            "args": [
             [
              "2012"
             ],
             {
              "frame": {
               "duration": 300,
               "redraw": true
              }
             }
            ],
            "label": "2012",
            "method": "animate"
           },
           {
            "args": [
             [
              "2014"
             ],
             {
              "frame": {
               "duration": 300,
               "redraw": true
              }
             }
            ],
            "label": "2014",
            "method": "animate"
           },
           {
            "args": [
             [
              "2016"
             ],
             {
              "frame": {
               "duration": 300,
               "redraw": true
              }
             }
            ],
            "label": "2016",
            "method": "animate"
           }
          ]
         }
        ],
        "template": {
         "data": {
          "bar": [
           {
            "error_x": {
             "color": "#2a3f5f"
            },
            "error_y": {
             "color": "#2a3f5f"
            },
            "marker": {
             "line": {
              "color": "#E5ECF6",
              "width": 0.5
             },
             "pattern": {
              "fillmode": "overlay",
              "size": 10,
              "solidity": 0.2
             }
            },
            "type": "bar"
           }
          ],
          "barpolar": [
           {
            "marker": {
             "line": {
              "color": "#E5ECF6",
              "width": 0.5
             },
             "pattern": {
              "fillmode": "overlay",
              "size": 10,
              "solidity": 0.2
             }
            },
            "type": "barpolar"
           }
          ],
          "carpet": [
           {
            "aaxis": {
             "endlinecolor": "#2a3f5f",
             "gridcolor": "white",
             "linecolor": "white",
             "minorgridcolor": "white",
             "startlinecolor": "#2a3f5f"
            },
            "baxis": {
             "endlinecolor": "#2a3f5f",
             "gridcolor": "white",
             "linecolor": "white",
             "minorgridcolor": "white",
             "startlinecolor": "#2a3f5f"
            },
            "type": "carpet"
           }
          ],
          "choropleth": [
           {
            "colorbar": {
             "outlinewidth": 0,
             "ticks": ""
            },
            "type": "choropleth"
           }
          ],
          "contour": [
           {
            "colorbar": {
             "outlinewidth": 0,
             "ticks": ""
            },
            "colorscale": [
             [
              0,
              "#0d0887"
             ],
             [
              0.1111111111111111,
              "#46039f"
             ],
             [
              0.2222222222222222,
              "#7201a8"
             ],
             [
              0.3333333333333333,
              "#9c179e"
             ],
             [
              0.4444444444444444,
              "#bd3786"
             ],
             [
              0.5555555555555556,
              "#d8576b"
             ],
             [
              0.6666666666666666,
              "#ed7953"
             ],
             [
              0.7777777777777778,
              "#fb9f3a"
             ],
             [
              0.8888888888888888,
              "#fdca26"
             ],
             [
              1,
              "#f0f921"
             ]
            ],
            "type": "contour"
           }
          ],
          "contourcarpet": [
           {
            "colorbar": {
             "outlinewidth": 0,
             "ticks": ""
            },
            "type": "contourcarpet"
           }
          ],
          "heatmap": [
           {
            "colorbar": {
             "outlinewidth": 0,
             "ticks": ""
            },
            "colorscale": [
             [
              0,
              "#0d0887"
             ],
             [
              0.1111111111111111,
              "#46039f"
             ],
             [
              0.2222222222222222,
              "#7201a8"
             ],
             [
              0.3333333333333333,
              "#9c179e"
             ],
             [
              0.4444444444444444,
              "#bd3786"
             ],
             [
              0.5555555555555556,
              "#d8576b"
             ],
             [
              0.6666666666666666,
              "#ed7953"
             ],
             [
              0.7777777777777778,
              "#fb9f3a"
             ],
             [
              0.8888888888888888,
              "#fdca26"
             ],
             [
              1,
              "#f0f921"
             ]
            ],
            "type": "heatmap"
           }
          ],
          "histogram": [
           {
            "marker": {
             "pattern": {
              "fillmode": "overlay",
              "size": 10,
              "solidity": 0.2
             }
            },
            "type": "histogram"
           }
          ],
          "histogram2d": [
           {
            "colorbar": {
             "outlinewidth": 0,
             "ticks": ""
            },
            "colorscale": [
             [
              0,
              "#0d0887"
             ],
             [
              0.1111111111111111,
              "#46039f"
             ],
             [
              0.2222222222222222,
              "#7201a8"
             ],
             [
              0.3333333333333333,
              "#9c179e"
             ],
             [
              0.4444444444444444,
              "#bd3786"
             ],
             [
              0.5555555555555556,
              "#d8576b"
             ],
             [
              0.6666666666666666,
              "#ed7953"
             ],
             [
              0.7777777777777778,
              "#fb9f3a"
             ],
             [
              0.8888888888888888,
              "#fdca26"
             ],
             [
              1,
              "#f0f921"
             ]
            ],
            "type": "histogram2d"
           }
          ],
          "histogram2dcontour": [
           {
            "colorbar": {
             "outlinewidth": 0,
             "ticks": ""
            },
            "colorscale": [
             [
              0,
              "#0d0887"
             ],
             [
              0.1111111111111111,
              "#46039f"
             ],
             [
              0.2222222222222222,
              "#7201a8"
             ],
             [
              0.3333333333333333,
              "#9c179e"
             ],
             [
              0.4444444444444444,
              "#bd3786"
             ],
             [
              0.5555555555555556,
              "#d8576b"
             ],
             [
              0.6666666666666666,
              "#ed7953"
             ],
             [
              0.7777777777777778,
              "#fb9f3a"
             ],
             [
              0.8888888888888888,
              "#fdca26"
             ],
             [
              1,
              "#f0f921"
             ]
            ],
            "type": "histogram2dcontour"
           }
          ],
          "mesh3d": [
           {
            "colorbar": {
             "outlinewidth": 0,
             "ticks": ""
            },
            "type": "mesh3d"
           }
          ],
          "parcoords": [
           {
            "line": {
             "colorbar": {
              "outlinewidth": 0,
              "ticks": ""
             }
            },
            "type": "parcoords"
           }
          ],
          "pie": [
           {
            "automargin": true,
            "type": "pie"
           }
          ],
          "scatter": [
           {
            "fillpattern": {
             "fillmode": "overlay",
             "size": 10,
             "solidity": 0.2
            },
            "type": "scatter"
           }
          ],
          "scatter3d": [
           {
            "line": {
             "colorbar": {
              "outlinewidth": 0,
              "ticks": ""
             }
            },
            "marker": {
             "colorbar": {
              "outlinewidth": 0,
              "ticks": ""
             }
            },
            "type": "scatter3d"
           }
          ],
          "scattercarpet": [
           {
            "marker": {
             "colorbar": {
              "outlinewidth": 0,
              "ticks": ""
             }
            },
            "type": "scattercarpet"
           }
          ],
          "scattergeo": [
           {
            "marker": {
             "colorbar": {
              "outlinewidth": 0,
              "ticks": ""
             }
            },
            "type": "scattergeo"
           }
          ],
          "scattergl": [
           {
            "marker": {
             "colorbar": {
              "outlinewidth": 0,
              "ticks": ""
             }
            },
            "type": "scattergl"
           }
          ],
          "scattermap": [
           {
            "marker": {
             "colorbar": {
              "outlinewidth": 0,
              "ticks": ""
             }
            },
            "type": "scattermap"
           }
          ],
          "scattermapbox": [
           {
            "marker": {
             "colorbar": {
              "outlinewidth": 0,
              "ticks": ""
             }
            },
            "type": "scattermapbox"
           }
          ],
          "scatterpolar": [
           {
            "marker": {
             "colorbar": {
              "outlinewidth": 0,
              "ticks": ""
             }
            },
            "type": "scatterpolar"
           }
          ],
          "scatterpolargl": [
           {
            "marker": {
             "colorbar": {
              "outlinewidth": 0,
              "ticks": ""
             }
            },
            "type": "scatterpolargl"
           }
          ],
          "scatterternary": [
           {
            "marker": {
             "colorbar": {
              "outlinewidth": 0,
              "ticks": ""
             }
            },
            "type": "scatterternary"
           }
          ],
          "surface": [
           {
            "colorbar": {
             "outlinewidth": 0,
             "ticks": ""
            },
            "colorscale": [
             [
              0,
              "#0d0887"
             ],
             [
              0.1111111111111111,
              "#46039f"
             ],
             [
              0.2222222222222222,
              "#7201a8"
             ],
             [
              0.3333333333333333,
              "#9c179e"
             ],
             [
              0.4444444444444444,
              "#bd3786"
             ],
             [
              0.5555555555555556,
              "#d8576b"
             ],
             [
              0.6666666666666666,
              "#ed7953"
             ],
             [
              0.7777777777777778,
              "#fb9f3a"
             ],
             [
              0.8888888888888888,
              "#fdca26"
             ],
             [
              1,
              "#f0f921"
             ]
            ],
            "type": "surface"
           }
          ],
          "table": [
           {
            "cells": {
             "fill": {
              "color": "#EBF0F8"
             },
             "line": {
              "color": "white"
             }
            },
            "header": {
             "fill": {
              "color": "#C8D4E3"
             },
             "line": {
              "color": "white"
             }
            },
            "type": "table"
           }
          ]
         },
         "layout": {
          "annotationdefaults": {
           "arrowcolor": "#2a3f5f",
           "arrowhead": 0,
           "arrowwidth": 1
          },
          "autotypenumbers": "strict",
          "coloraxis": {
           "colorbar": {
            "outlinewidth": 0,
            "ticks": ""
           }
          },
          "colorscale": {
           "diverging": [
            [
             0,
             "#8e0152"
            ],
            [
             0.1,
             "#c51b7d"
            ],
            [
             0.2,
             "#de77ae"
            ],
            [
             0.3,
             "#f1b6da"
            ],
            [
             0.4,
             "#fde0ef"
            ],
            [
             0.5,
             "#f7f7f7"
            ],
            [
             0.6,
             "#e6f5d0"
            ],
            [
             0.7,
             "#b8e186"
            ],
            [
             0.8,
             "#7fbc41"
            ],
            [
             0.9,
             "#4d9221"
            ],
            [
             1,
             "#276419"
            ]
           ],
           "sequential": [
            [
             0,
             "#0d0887"
            ],
            [
             0.1111111111111111,
             "#46039f"
            ],
            [
             0.2222222222222222,
             "#7201a8"
            ],
            [
             0.3333333333333333,
             "#9c179e"
            ],
            [
             0.4444444444444444,
             "#bd3786"
            ],
            [
             0.5555555555555556,
             "#d8576b"
            ],
            [
             0.6666666666666666,
             "#ed7953"
            ],
            [
             0.7777777777777778,
             "#fb9f3a"
            ],
            [
             0.8888888888888888,
             "#fdca26"
            ],
            [
             1,
             "#f0f921"
            ]
           ],
           "sequentialminus": [
            [
             0,
             "#0d0887"
            ],
            [
             0.1111111111111111,
             "#46039f"
            ],
            [
             0.2222222222222222,
             "#7201a8"
            ],
            [
             0.3333333333333333,
             "#9c179e"
            ],
            [
             0.4444444444444444,
             "#bd3786"
            ],
            [
             0.5555555555555556,
             "#d8576b"
            ],
            [
             0.6666666666666666,
             "#ed7953"
            ],
            [
             0.7777777777777778,
             "#fb9f3a"
            ],
            [
             0.8888888888888888,
             "#fdca26"
            ],
            [
             1,
             "#f0f921"
            ]
           ]
          },
          "colorway": [
           "#636efa",
           "#EF553B",
           "#00cc96",
           "#ab63fa",
           "#FFA15A",
           "#19d3f3",
           "#FF6692",
           "#B6E880",
           "#FF97FF",
           "#FECB52"
          ],
          "font": {
           "color": "#2a3f5f"
          },
          "geo": {
           "bgcolor": "white",
           "lakecolor": "white",
           "landcolor": "#E5ECF6",
           "showlakes": true,
           "showland": true,
           "subunitcolor": "white"
          },
          "hoverlabel": {
           "align": "left"
          },
          "hovermode": "closest",
          "mapbox": {
           "style": "light"
          },
          "paper_bgcolor": "white",
          "plot_bgcolor": "#E5ECF6",
          "polar": {
           "angularaxis": {
            "gridcolor": "white",
            "linecolor": "white",
            "ticks": ""
           },
           "bgcolor": "#E5ECF6",
           "radialaxis": {
            "gridcolor": "white",
            "linecolor": "white",
            "ticks": ""
           }
          },
          "scene": {
           "xaxis": {
            "backgroundcolor": "#E5ECF6",
            "gridcolor": "white",
            "gridwidth": 2,
            "linecolor": "white",
            "showbackground": true,
            "ticks": "",
            "zerolinecolor": "white"
           },
           "yaxis": {
            "backgroundcolor": "#E5ECF6",
            "gridcolor": "white",
            "gridwidth": 2,
            "linecolor": "white",
            "showbackground": true,
            "ticks": "",
            "zerolinecolor": "white"
           },
           "zaxis": {
            "backgroundcolor": "#E5ECF6",
            "gridcolor": "white",
            "gridwidth": 2,
            "linecolor": "white",
            "showbackground": true,
            "ticks": "",
            "zerolinecolor": "white"
           }
          },
          "shapedefaults": {
           "line": {
            "color": "#2a3f5f"
           }
          },
          "ternary": {
           "aaxis": {
            "gridcolor": "white",
            "linecolor": "white",
            "ticks": ""
           },
           "baxis": {
            "gridcolor": "white",
            "linecolor": "white",
            "ticks": ""
           },
           "bgcolor": "#E5ECF6",
           "caxis": {
            "gridcolor": "white",
            "linecolor": "white",
            "ticks": ""
           }
          },
          "title": {
           "x": 0.05
          },
          "xaxis": {
           "automargin": true,
           "gridcolor": "white",
           "linecolor": "white",
           "ticks": "",
           "title": {
            "standoff": 15
           },
           "zerolinecolor": "white",
           "zerolinewidth": 2
          },
          "yaxis": {
           "automargin": true,
           "gridcolor": "white",
           "linecolor": "white",
           "ticks": "",
           "title": {
            "standoff": 15
           },
           "zerolinecolor": "white",
           "zerolinewidth": 2
          }
         }
        },
        "title": {
         "text": "Olympic Medals by Country Over Time"
        },
        "updatemenus": [
         {
          "buttons": [
           {
            "args": [
             null,
             {
              "frame": {
               "duration": 500,
               "redraw": true
              }
             }
            ],
            "label": "Play",
            "method": "animate"
           },
           {
            "args": [
             [
              null
             ],
             {
              "frame": {
               "duration": 0,
               "redraw": true
              }
             }
            ],
            "label": "Pause",
            "method": "animate"
           }
          ],
          "showactive": false,
          "type": "buttons"
         }
        ],
        "width": 1000
       }
      }
     },
     "metadata": {},
     "output_type": "display_data"
    }
   ],
   "source": [
    "import pandas as pd\n",
    "import plotly.graph_objects as go\n",
    "\n",
    "medals_df = df.dropna(subset=['Medal'])\n",
    "\n",
    "medal_counts = medals_df.groupby(['Year', 'Team']).size().reset_index(name='Count')\n",
    "\n",
    "years = sorted(medal_counts['Year'].unique())\n",
    "\n",
    "frames = []\n",
    "for year in years:\n",
    "    year_data = medal_counts[medal_counts['Year'] == year]\n",
    "    \n",
    "    frame = go.Frame(\n",
    "        data=[go.Choropleth(\n",
    "            locations=year_data['Team'],\n",
    "            z=year_data['Count'],\n",
    "            locationmode='country names', \n",
    "            colorscale='Viridis',\n",
    "            colorbar_title='Medals',\n",
    "            hovertemplate='<b>%{location}</b><br>Medals: %{z}<extra></extra>'\n",
    "        )],\n",
    "        name=str(year)\n",
    "    )\n",
    "    frames.append(frame)\n",
    "\n",
    "first_year = years[0]\n",
    "first_year_data = medal_counts[medal_counts['Year'] == first_year]\n",
    "\n",
    "fig = go.Figure(\n",
    "    data=[go.Choropleth(\n",
    "        locations=first_year_data['Team'],\n",
    "        z=first_year_data['Count'],\n",
    "        locationmode='country names',\n",
    "        colorscale='Viridis',\n",
    "        colorbar_title='Medals',\n",
    "        hovertemplate='<b>%{location}</b><br>Medals: %{z}<extra></extra>'\n",
    "    )],\n",
    "    frames=frames\n",
    ")\n",
    "\n",
    "# Add slider and play button\n",
    "fig.update_layout(\n",
    "    width=1000,\n",
    "    height=800,\n",
    "    title='Olympic Medals by Country Over Time',\n",
    "    geo=dict(\n",
    "        showframe=False,\n",
    "        showcoastlines=True,\n",
    "        projection_type='equirectangular'\n",
    "    ),\n",
    "    updatemenus=[dict(\n",
    "        type='buttons',\n",
    "        showactive=False,\n",
    "        buttons=[dict(\n",
    "            label='Play',\n",
    "            method='animate',\n",
    "            args=[None, dict(frame=dict(duration=500, redraw=True))]\n",
    "        ), dict(\n",
    "            label='Pause',\n",
    "            method='animate',\n",
    "            args=[[None], dict(frame=dict(duration=0, redraw=True))]\n",
    "        )]\n",
    "    )],\n",
    "    sliders=[dict(\n",
    "        active=0,\n",
    "        steps=[dict(\n",
    "            method='animate',\n",
    "            args=[[str(year)], dict(frame=dict(duration=300, redraw=True))],\n",
    "            label=str(year)\n",
    "        ) for year in years]\n",
    "    )]\n",
    ")"
   ]
  },
  {
   "cell_type": "code",
   "execution_count": 60,
   "metadata": {},
   "outputs": [],
   "source": [
    "basket = df[df['Event'] == 'Basketball Men\\'s Basketball'][['Height', 'Medal']]\n",
    "basket['Medal'] = ~basket['Medal'].isna()\n",
    "basket = basket.dropna(subset=['Height'])"
   ]
  },
  {
   "cell_type": "code",
   "execution_count": 63,
   "metadata": {},
   "outputs": [
    {
     "data": {
      "text/plain": [
       "array([\"Basketball Men's Basketball\", \"Judo Men's Extra-Lightweight\",\n",
       "       \"Football Men's Football\", \"Tug-Of-War Men's Tug-Of-War\",\n",
       "       \"Speed Skating Women's 500 metres\",\n",
       "       \"Speed Skating Women's 1,000 metres\",\n",
       "       \"Cross Country Skiing Men's 10 kilometres\",\n",
       "       \"Cross Country Skiing Men's 50 kilometres\",\n",
       "       \"Cross Country Skiing Men's 10/15 kilometres Pursuit\",\n",
       "       \"Cross Country Skiing Men's 4 x 10 kilometres Relay\",\n",
       "       \"Cross Country Skiing Men's 30 kilometres\",\n",
       "       \"Athletics Women's 100 metres\",\n",
       "       \"Athletics Women's 4 x 100 metres Relay\",\n",
       "       \"Ice Hockey Men's Ice Hockey\",\n",
       "       \"Swimming Men's 400 metres Freestyle\", \"Badminton Men's Singles\",\n",
       "       \"Sailing Women's Windsurfer\",\n",
       "       \"Biathlon Women's 7.5 kilometres Sprint\",\n",
       "       \"Swimming Men's 200 metres Breaststroke\",\n",
       "       \"Swimming Men's 400 metres Breaststroke\",\n",
       "       \"Gymnastics Men's Individual All-Around\",\n",
       "       \"Gymnastics Men's Team All-Around\",\n",
       "       \"Gymnastics Men's Floor Exercise\", \"Gymnastics Men's Horse Vault\",\n",
       "       \"Gymnastics Men's Parallel Bars\",\n",
       "       \"Gymnastics Men's Horizontal Bar\", \"Gymnastics Men's Rings\",\n",
       "       \"Gymnastics Men's Pommelled Horse\", \"Athletics Men's Shot Put\",\n",
       "       'Art Competitions Mixed Sculpturing, Unknown Event',\n",
       "       \"Alpine Skiing Men's Downhill\", \"Alpine Skiing Men's Super G\",\n",
       "       \"Alpine Skiing Men's Giant Slalom\", \"Alpine Skiing Men's Slalom\",\n",
       "       \"Alpine Skiing Men's Combined\", \"Handball Women's Handball\",\n",
       "       \"Weightlifting Women's Super-Heavyweight\",\n",
       "       \"Wrestling Men's Light-Heavyweight, Greco-Roman\",\n",
       "       \"Speed Skating Men's 500 metres\",\n",
       "       \"Speed Skating Men's 1,500 metres\",\n",
       "       \"Gymnastics Men's Team All-Around, Free System\",\n",
       "       \"Luge Women's Singles\", \"Water Polo Men's Water Polo\",\n",
       "       'Sailing Mixed Three Person Keelboat', \"Hockey Women's Hockey\",\n",
       "       \"Rowing Men's Lightweight Double Sculls\",\n",
       "       \"Athletics Men's Pole Vault\", \"Athletics Men's High Jump\",\n",
       "       \"Sailing Men's Two Person Dinghy\", \"Athletics Men's 1,500 metres\",\n",
       "       \"Bobsleigh Men's Four\", \"Swimming Men's 100 metres Butterfly\",\n",
       "       \"Swimming Men's 200 metres Butterfly\",\n",
       "       \"Swimming Men's 4 x 100 metres Medley Relay\",\n",
       "       \"Football Women's Football\", \"Fencing Men's Foil, Individual\",\n",
       "       \"Fencing Men's epee, Individual\", \"Fencing Men's epee, Team\",\n",
       "       \"Speed Skating Men's 5,000 metres\",\n",
       "       \"Speed Skating Men's 10,000 metres\", 'Sailing Mixed 8 metres',\n",
       "       'Equestrianism Mixed Jumping, Individual',\n",
       "       \"Cross Country Skiing Men's 15 kilometres\",\n",
       "       \"Shooting Men's Small-Bore Rifle, Prone, 50 metres\",\n",
       "       \"Shooting Men's Rapid-Fire Pistol, 25 metres\",\n",
       "       \"Shooting Men's Trap\", \"Athletics Men's 4 x 100 metres Relay\",\n",
       "       \"Athletics Men's Long Jump\", \"Boxing Men's Light-Welterweight\",\n",
       "       \"Athletics Women's Javelin Throw\",\n",
       "       \"Wrestling Men's Heavyweight, Freestyle\",\n",
       "       \"Taekwondo Men's Flyweight\", \"Boxing Men's Heavyweight\",\n",
       "       \"Athletics Men's 5,000 metres\",\n",
       "       \"Cycling Men's Road Race, Individual\",\n",
       "       \"Cycling Men's Road Race, Team\", \"Weightlifting Men's Lightweight\",\n",
       "       \"Weightlifting Men's Middleweight\", \"Rowing Men's Coxless Pairs\",\n",
       "       \"Judo Men's Half-Middleweight\", \"Taekwondo Women's Flyweight\",\n",
       "       \"Boxing Men's Flyweight\", \"Basketball Women's Basketball\",\n",
       "       \"Diving Men's Platform\",\n",
       "       \"Canoeing Men's Canadian Doubles, 500 metres\",\n",
       "       \"Canoeing Men's Canadian Doubles, 1,000 metres\",\n",
       "       \"Canoeing Men's Kayak Fours, 1,000 metres\",\n",
       "       \"Handball Men's Handball\", \"Rowing Women's Coxless Pairs\",\n",
       "       \"Boxing Men's Middleweight\", \"Judo Men's Lightweight\",\n",
       "       \"Boxing Men's Featherweight\", \"Tennis Men's Doubles\",\n",
       "       'Shooting Mixed Skeet', \"Wrestling Men's Featherweight, Freestyle\",\n",
       "       'Sailing Mixed Two Person Heavyweight Dinghy',\n",
       "       \"Athletics Women's Shot Put\", \"Rowing Men's Coxed Eights\",\n",
       "       \"Cycling Women's Sprint\", \"Cycling Women's 500 metres Time Trial\",\n",
       "       \"Athletics Men's 110 metres Hurdles\", 'Shooting Mixed Trap',\n",
       "       \"Athletics Women's Marathon\", \"Athletics Men's 100 metres\",\n",
       "       \"Fencing Men's Foil, Team\", \"Fencing Men's Sabre, Team\",\n",
       "       \"Swimming Men's 100 metres Freestyle\",\n",
       "       \"Swimming Men's 4 x 200 metres Freestyle Relay\",\n",
       "       \"Boxing Men's Lightweight\", \"Modern Pentathlon Men's Individual\",\n",
       "       \"Boxing Men's Welterweight\", \"Rowing Men's Quadruple Sculls\",\n",
       "       \"Rowing Men's Double Sculls\", \"Rowing Men's Coxed Pairs\",\n",
       "       \"Athletics Men's 400 metres Hurdles\", \"Athletics Men's 400 metres\",\n",
       "       \"Athletics Men's Hammer Throw\",\n",
       "       \"Weightlifting Men's Featherweight\", \"Athletics Men's 800 metres\",\n",
       "       \"Hockey Men's Hockey\", \"Alpine Skiing Women's Slalom\",\n",
       "       \"Rowing Women's Single Sculls\",\n",
       "       \"Swimming Men's 50 metres Freestyle\",\n",
       "       \"Weightlifting Women's Featherweight\",\n",
       "       \"Water Polo Women's Water Polo\", \"Figure Skating Men's Singles\",\n",
       "       \"Weightlifting Men's Heavyweight\",\n",
       "       'Equestrianism Mixed Three-Day Event, Individual',\n",
       "       'Equestrianism Mixed Three-Day Event, Team',\n",
       "       'Figure Skating Mixed Team',\n",
       "       \"Sailing Women's Three Person Keelboat\",\n",
       "       \"Cycling Women's Road Race, Individual\", \"Golf Women's Individual\",\n",
       "       \"Softball Women's Softball\", \"Archery Women's Individual\",\n",
       "       \"Wrestling Men's Heavyweight, Greco-Roman\",\n",
       "       \"Volleyball Men's Volleyball\", \"Taekwondo Women's Heavyweight\",\n",
       "       \"Synchronized Swimming Women's Duet\",\n",
       "       \"Synchronized Swimming Women's Team\",\n",
       "       \"Taekwondo Women's Featherweight\", \"Athletics Men's Marathon\",\n",
       "       \"Athletics Men's 4 x 400 metres Relay\",\n",
       "       \"Athletics Men's 10,000 metres\", \"Athletics Women's 3,000 metres\",\n",
       "       \"Diving Women's Platform\", \"Shooting Men's Air Rifle, 10 metres\",\n",
       "       \"Athletics Men's 200 metres\", \"Weightlifting Men's Flyweight\",\n",
       "       \"Swimming Men's 100 metres Backstroke\",\n",
       "       \"Weightlifting Men's Light-Heavyweight\",\n",
       "       \"Wrestling Men's Lightweight, Greco-Roman\",\n",
       "       \"Fencing Men's Sabre, Individual\",\n",
       "       \"Wrestling Men's Super-Heavyweight, Greco-Roman\",\n",
       "       \"Shooting Men's Free Pistol, 50 metres\",\n",
       "       \"Shooting Men's Air Pistol, 10 metres\",\n",
       "       \"Rowing Men's Coxless Fours\", \"Boxing Men's Light-Flyweight\",\n",
       "       \"Boxing Men's Super-Heavyweight\",\n",
       "       \"Wrestling Men's Flyweight, Greco-Roman\",\n",
       "       \"Shooting Women's Air Rifle, 10 metres\",\n",
       "       \"Weightlifting Men's Middle-Heavyweight\",\n",
       "       \"Athletics Men's Javelin Throw\", \"Volleyball Women's Volleyball\",\n",
       "       \"Wrestling Men's Welterweight, Greco-Roman\",\n",
       "       \"Wrestling Men's Middleweight, Greco-Roman\",\n",
       "       \"Athletics Men's 3,000 metres Steeplechase\",\n",
       "       \"Wrestling Men's Middleweight, Freestyle\",\n",
       "       \"Swimming Women's 100 metres Backstroke\",\n",
       "       \"Swimming Women's 200 metres Backstroke\",\n",
       "       \"Swimming Women's 4 x 100 metres Medley Relay\",\n",
       "       \"Wrestling Men's Light-Heavyweight, Freestyle\",\n",
       "       \"Modern Pentathlon Men's Team\", \"Boxing Men's Bantamweight\",\n",
       "       \"Athletics Women's 200 metres\", \"Table Tennis Women's Singles\",\n",
       "       \"Table Tennis Women's Doubles\", \"Shooting Men's Skeet\",\n",
       "       \"Swimming Women's 50 metres Freestyle\",\n",
       "       \"Shooting Men's Small-Bore Rifle, Three Positions, 50 metres\",\n",
       "       \"Athletics Men's Triple Jump\", \"Weightlifting Women's Lightweight\",\n",
       "       \"Athletics Women's Long Jump\", \"Fencing Women's epee, Individual\",\n",
       "       \"Swimming Men's 200 metres Freestyle\",\n",
       "       \"Swimming Men's 4 x 100 metres Freestyle Relay\",\n",
       "       \"Swimming Men's 200 metres Backstroke\",\n",
       "       \"Swimming Men's 200 metres Individual Medley\",\n",
       "       \"Swimming Men's 400 metres Individual Medley\",\n",
       "       \"Badminton Women's Singles\", \"Boxing Men's Light-Middleweight\",\n",
       "       \"Tennis Men's Singles\", \"Wrestling Men's Bantamweight, Freestyle\",\n",
       "       \"Wrestling Men's Flyweight, Freestyle\",\n",
       "       \"Athletics Women's 5,000 metres\",\n",
       "       \"Weightlifting Women's Light-Heavyweight\",\n",
       "       \"Weightlifting Women's Heavyweight\",\n",
       "       \"Athletics Men's Discus Throw\", \"Taekwondo Men's Featherweight\",\n",
       "       \"Taekwondo Men's Welterweight\", \"Judo Men's Heavyweight\",\n",
       "       \"Cycling Men's Sprint\", \"Bobsleigh Men's Two\",\n",
       "       \"Wrestling Men's Lightweight, Freestyle\",\n",
       "       \"Nordic Combined Men's Team\", \"Nordic Combined Men's Individual\",\n",
       "       \"Baseball Men's Baseball\", \"Rowing Men's Coxed Fours\",\n",
       "       \"Cycling Men's 100 kilometres Team Time Trial\",\n",
       "       \"Rhythmic Gymnastics Women's Group\",\n",
       "       'Art Competitions Mixed Architecture, Designs For Town Planning',\n",
       "       'Art Competitions Mixed Architecture, Architectural Designs',\n",
       "       \"Gymnastics Women's Individual All-Around\",\n",
       "       \"Gymnastics Women's Team All-Around\",\n",
       "       \"Gymnastics Women's Floor Exercise\",\n",
       "       \"Gymnastics Women's Horse Vault\", \"Gymnastics Women's Uneven Bars\",\n",
       "       \"Gymnastics Women's Balance Beam\", \"Diving Women's Springboard\",\n",
       "       \"Diving Women's Synchronized Springboard\",\n",
       "       \"Athletics Women's 10,000 metres\", 'Sailing Mixed 7 metres',\n",
       "       \"Judo Women's Half-Middleweight\", \"Athletics Men's Decathlon\",\n",
       "       \"Biathlon Men's 10 kilometres Sprint\",\n",
       "       \"Biathlon Men's 20 kilometres\",\n",
       "       \"Biathlon Men's 4 x 7.5 kilometres Relay\",\n",
       "       \"Freestyle Skiing Men's Moguls\",\n",
       "       \"Wrestling Men's Middleweight A, Greco-Roman\",\n",
       "       \"Athletics Women's Discus Throw\",\n",
       "       \"Swimming Women's 4 x 100 metres Freestyle Relay\",\n",
       "       \"Athletics Women's 1,500 metres\",\n",
       "       \"Shooting Women's Air Pistol, 10 metres\",\n",
       "       \"Shooting Women's Sporting Pistol, 25 metres\",\n",
       "       \"Canoeing Men's Kayak Doubles, 500 metres\",\n",
       "       \"Canoeing Men's Kayak Singles, 500 metres\",\n",
       "       \"Canoeing Men's Kayak Singles, 1,000 metres\",\n",
       "       \"Shooting Men's Running Target, 50 metres\",\n",
       "       \"Judo Women's Half-Heavyweight\", \"Athletics Women's Pole Vault\",\n",
       "       \"Rugby Sevens Women's Rugby Sevens\", \"Table Tennis Men's Team\",\n",
       "       'Figure Skating Mixed Pairs', \"Freestyle Skiing Men's Aerials\",\n",
       "       \"Rowing Women's Coxed Eights\",\n",
       "       \"Athletics Women's 4 x 400 metres Relay\",\n",
       "       \"Alpine Skiing Women's Giant Slalom\",\n",
       "       \"Alpine Skiing Women's Super G\",\n",
       "       \"Cross Country Skiing Women's 5 kilometres\",\n",
       "       \"Cross Country Skiing Women's 10 kilometres\",\n",
       "       \"Cross Country Skiing Women's 20 kilometres\",\n",
       "       \"Cycling Men's 1,000 metres Time Trial\",\n",
       "       \"Cycling Men's Individual Pursuit, 4,000 metres\",\n",
       "       \"Wrestling Men's Welterweight, Freestyle\",\n",
       "       \"Wrestling Men's Bantamweight, Greco-Roman\",\n",
       "       \"Rowing Women's Lightweight Double Sculls\",\n",
       "       \"Athletics Women's 800 metres\",\n",
       "       \"Rowing Women's Coxed Quadruple Sculls\",\n",
       "       \"Biathlon Men's 12.5 kilometres Pursuit\",\n",
       "       'Biathlon Mixed 2 x 6 kilometres and 2 x 7.5 kilometres Relay',\n",
       "       \"Rhythmic Gymnastics Women's Individual\",\n",
       "       \"Canoeing Men's Kayak Singles, Slalom\", \"Archery Men's Individual\",\n",
       "       \"Archery Men's Team\", \"Speed Skating Women's 1,500 metres\",\n",
       "       \"Speed Skating Women's Team Pursuit (6 laps)\",\n",
       "       \"Cross Country Skiing Men's Sprint\",\n",
       "       \"Athletics Women's 400 metres\", \"Figure Skating Women's Singles\",\n",
       "       \"Speed Skating Men's 1,000 metres\",\n",
       "       \"Trampolining Men's Individual\",\n",
       "       \"Beach Volleyball Men's Beach Volleyball\",\n",
       "       \"Cycling Women's Mountainbike, Cross-Country\",\n",
       "       \"Athletics Men's Javelin Throw, Both Hands\",\n",
       "       \"Triathlon Women's Olympic Distance\",\n",
       "       \"Gymnastics Women's Team Portable Apparatus\",\n",
       "       \"Cycling Men's Mountainbike, Cross-Country\",\n",
       "       \"Athletics Women's 400 metres Hurdles\", \"Diving Men's Springboard\",\n",
       "       \"Wrestling Men's Featherweight, Greco-Roman\",\n",
       "       \"Table Tennis Men's Singles\", 'Art Competitions Mixed Painting',\n",
       "       \"Cross Country Skiing Women's 3 x 5 kilometres Relay\",\n",
       "       \"Judo Men's Open Class\", \"Rowing Women's Quadruple Sculls\",\n",
       "       \"Gymnastics Men's Team All-Around, Swedish System\",\n",
       "       \"Nordic Combined Men's Sprint\", \"Athletics Women's Pentathlon\",\n",
       "       'Art Competitions Mixed Painting, Unknown Event',\n",
       "       \"Cycling Men's Team Pursuit, 4,000 metres\",\n",
       "       \"Weightlifting Women's Middleweight\",\n",
       "       \"Swimming Men's 1,500 metres Freestyle\",\n",
       "       \"Wrestling Women's Light-Heavyweight, Freestyle\",\n",
       "       \"Swimming Women's 100 metres Freestyle\",\n",
       "       \"Equestrianism Men's Jumping, Individual\",\n",
       "       \"Equestrianism Men's Jumping, Team\",\n",
       "       \"Equestrianism Men's Three-Day Event, Individual\",\n",
       "       \"Equestrianism Men's Three-Day Event, Team\",\n",
       "       \"Alpine Skiing Women's Combined\", \"Athletics Women's High Jump\",\n",
       "       \"Ski Jumping Men's Normal Hill, Individual\",\n",
       "       \"Canoeing Women's Kayak Fours, 500 metres\",\n",
       "       \"Ice Hockey Women's Ice Hockey\", \"Sailing Men's One Person Dinghy\",\n",
       "       \"Trampolining Women's Individual\", \"Curling Men's Curling\",\n",
       "       'Art Competitions Mixed Literature', \"Judo Men's Middleweight\",\n",
       "       \"Biathlon Women's 15 kilometres\",\n",
       "       \"Biathlon Women's 3 x 7.5 kilometres Relay\",\n",
       "       \"Biathlon Women's 4 x 7.5 kilometres Relay\",\n",
       "       \"Judo Men's Half-Lightweight\", \"Fencing Women's Foil, Team\",\n",
       "       \"Swimming Women's 200 metres Butterfly\",\n",
       "       \"Swimming Women's 400 metres Individual Medley\",\n",
       "       \"Golf Men's Individual\", \"Athletics Men's Standing High Jump\",\n",
       "       \"Athletics Men's Standing Long Jump\",\n",
       "       \"Athletics Men's 20 kilometres Walk\",\n",
       "       \"Swimming Men's 220 yard Freestyle\",\n",
       "       \"Swimming Men's 880 yard Freestyle\",\n",
       "       \"Swimming Men's One Mile Freestyle\",\n",
       "       \"Swimming Men's 4 x 50 Yard Freestyle Relay\",\n",
       "       \"Swimming Men's Plunge For Distance\",\n",
       "       \"Shooting Men's Free Rifle, Three Positions, 300 metres\",\n",
       "       \"Shooting Men's Military Rifle, Three Positions, 300 metres\",\n",
       "       \"Shooting Men's Military Rifle, Any Position, 600 metres\",\n",
       "       \"Shooting Men's Military Rifle, 200, 400, 500 and 600 metres, Team\",\n",
       "       \"Shooting Men's Military Rifle, Prone, 300 metres\",\n",
       "       \"Judo Men's Half-Heavyweight\", \"Archery Women's Team\",\n",
       "       \"Athletics Men's 50 kilometres Walk\",\n",
       "       \"Rowing Women's Double Sculls\", 'Sailing Mixed 6 metres',\n",
       "       \"Boxing Men's Light-Heavyweight\", \"Boxing Women's Flyweight\",\n",
       "       \"Athletics Women's 100 metres Hurdles\",\n",
       "       \"Athletics Men's Discus Throw, Greek Style\",\n",
       "       \"Curling Women's Curling\", 'Sailing Mixed One Person Dinghy',\n",
       "       \"Wrestling Women's Heavyweight, Freestyle\",\n",
       "       'Badminton Mixed Doubles', \"Fencing Women's Foil, Individual\",\n",
       "       'Sailing Mixed Two Person Keelboat',\n",
       "       \"Shooting Men's Military Rifle, 300 metres and 600 metres, Prone, Team\",\n",
       "       \"Table Tennis Men's Doubles\",\n",
       "       \"Wrestling Men's Light-Flyweight, Freestyle\",\n",
       "       \"Wrestling Women's Featherweight, Freestyle\",\n",
       "       \"Swimming Women's 200 metres Freestyle\",\n",
       "       \"Swimming Women's 400 metres Freestyle\",\n",
       "       \"Swimming Women's 200 metres Individual Medley\",\n",
       "       \"Sailing Men's Windsurfer\", \"Freestyle Skiing Men's Slopestyle\",\n",
       "       \"Shooting Men's Running Target, Single Shot\",\n",
       "       \"Shooting Men's Running Target, Double Shot\",\n",
       "       \"Rugby Sevens Men's Rugby Sevens\",\n",
       "       \"Wrestling Women's Lightweight, Freestyle\",\n",
       "       \"Modern Pentathlon Women's Individual\",\n",
       "       \"Canoeing Men's Canadian Doubles, Slalom\",\n",
       "       \"Judo Women's Half-Lightweight\", \"Diving Women's Plain High\",\n",
       "       \"Equestrianism Men's Dressage, Individual\",\n",
       "       \"Equestrianism Men's Dressage, Team\",\n",
       "       \"Tennis Women's Singles, Covered Courts\",\n",
       "       \"Diving Men's Plain High\",\n",
       "       'Shooting Mixed Small-Bore Rifle, Three Positions, 50 metres',\n",
       "       'Shooting Mixed Small-Bore Rifle, Prone, 50 metres',\n",
       "       \"Swimming Women's 800 metres Freestyle\",\n",
       "       \"Sailing Women's Two Person Dinghy\",\n",
       "       \"Alpine Skiing Women's Downhill\",\n",
       "       \"Shooting Men's Free Pistol, 50 metres, Team\",\n",
       "       \"Shooting Men's Free Rifle, Three Positions, 300 metres, Team\",\n",
       "       \"Shooting Men's Military Rifle, Prone, 300 metres, Team\",\n",
       "       \"Shooting Men's Military Rifle, Prone, 600 metres, Team\",\n",
       "       \"Shooting Men's Military Rifle, Standing, 300 metres, Team\",\n",
       "       \"Shooting Men's Free Rifle, Prone, 600 metres\",\n",
       "       \"Shooting Men's Free Rifle, 400, 600 and 800 metres, Team\",\n",
       "       \"Rowing Men's Single Sculls\",\n",
       "       \"Cycling Men's Tandem Sprint, 2,000 metres\",\n",
       "       \"Freestyle Skiing Women's Halfpipe\",\n",
       "       \"Athletics Women's Heptathlon\", \"Cycling Men's Points Race\",\n",
       "       \"Synchronized Swimming Women's Solo\",\n",
       "       'Equestrianism Mixed Dressage, Individual',\n",
       "       'Equestrianism Mixed Dressage, Team',\n",
       "       \"Cross Country Skiing Men's 18 kilometres\",\n",
       "       \"Swimming Men's 100 metres Breaststroke\",\n",
       "       'Figure Skating Mixed Ice Dancing',\n",
       "       'Shooting Mixed Free Pistol, 50 metres', \"Sailing Women's Skiff\",\n",
       "       \"Canoeing Men's Kayak Doubles, 10,000 metres\",\n",
       "       \"Triathlon Men's Olympic Distance\",\n",
       "       \"Sailing Women's One Person Dinghy\",\n",
       "       \"Cross Country Skiing Women's 30 kilometres\",\n",
       "       \"Cross Country Skiing Women's 15 km Skiathlon\",\n",
       "       \"Rowing Men's 17-Man Naval Rowing Boats\",\n",
       "       \"Beach Volleyball Women's Beach Volleyball\",\n",
       "       \"Weightlifting Men's Super-Heavyweight\",\n",
       "       \"Rowing Men's Lightweight Coxless Fours\",\n",
       "       \"Wrestling Men's Light-Flyweight, Greco-Roman\",\n",
       "       \"Canoeing Men's Canadian Singles, 1,000 metres\",\n",
       "       'Sailing Mixed 5.5 metres', 'Equestrianism Mixed Jumping, Team',\n",
       "       \"Diving Men's Synchronized Platform\",\n",
       "       \"Snowboarding Men's Halfpipe\",\n",
       "       \"Canoeing Women's Kayak Singles, Slalom\",\n",
       "       \"Weightlifting Women's Flyweight\",\n",
       "       \"Swimming Women's 100 metres Breaststroke\",\n",
       "       \"Swimming Women's 200 metres Breaststroke\",\n",
       "       \"Wrestling Men's Middleweight B, Greco-Roman\",\n",
       "       \"Athletics Men's Stone Throw\",\n",
       "       \"Athletics Men's Javelin Throw, Freestyle\",\n",
       "       \"Athletics Men's Pentathlon (Ancient)\",\n",
       "       \"Shooting Women's Small-Bore Rifle, Three Positions, 50 metres\",\n",
       "       \"Swimming Women's 100 metres Butterfly\",\n",
       "       \"Weightlifting Men's Heavyweight I\",\n",
       "       \"Athletics Women's 3,000 metres Steeplechase\",\n",
       "       \"Athletics Men's Shot Put, Both Hands\",\n",
       "       \"Ski Jumping Men's Large Hill, Individual\",\n",
       "       \"Ski Jumping Men's Large Hill, Team\", \"Shooting Women's Trap\",\n",
       "       \"Badminton Men's Doubles\",\n",
       "       \"Swimming Women's 4 x 200 metres Freestyle Relay\",\n",
       "       \"Athletics Men's 10 kilometres Walk\",\n",
       "       \"Athletics Women's 20 kilometres Walk\",\n",
       "       \"Athletics Women's 80 metres Hurdles\",\n",
       "       \"Sailing Men's One Person Heavyweight Dinghy\",\n",
       "       \"Freestyle Skiing Women's Aerials\",\n",
       "       'Art Competitions Mixed Painting, Paintings',\n",
       "       'Tennis Mixed Doubles, Covered Courts', \"Cycling Men's Madison\",\n",
       "       'Art Competitions Mixed Sculpturing, Statues', \"Rugby Men's Rugby\",\n",
       "       \"Weightlifting Men's Heavyweight II\",\n",
       "       \"Canoeing Women's Kayak Doubles, 500 metres\",\n",
       "       \"Short Track Speed Skating Men's 5,000 metres Relay\",\n",
       "       \"Cycling Men's Individual Time Trial\", \"Judo Women's Heavyweight\",\n",
       "       \"Canoeing Men's Kayak Doubles, 1,000 metres\",\n",
       "       \"Gymnastics Men's Individual All-Around, 5 Events\",\n",
       "       \"Wrestling Men's Super-Heavyweight, Freestyle\",\n",
       "       \"Biathlon Women's 10 kilometres Pursuit\",\n",
       "       \"Biathlon Women's 12.5 kilometres Mass Start\",\n",
       "       \"Biathlon Women's 4 x 6 kilometres Relay\",\n",
       "       \"Fencing Women's Sabre, Team\", \"Shooting Men's Double Trap\",\n",
       "       \"Weightlifting Men's Bantamweight\", \"Taekwondo Men's Heavyweight\",\n",
       "       'Sailing Mixed Windsurfer', \"Taekwondo Women's Welterweight\",\n",
       "       'Shooting Mixed Free Rifle, Three Positions, 300 metres',\n",
       "       \"Skeleton Men's Skeleton\", \"Cycling Men's 50 kilometres\",\n",
       "       'Shooting Mixed Rapid-Fire Pistol, 25 metres',\n",
       "       \"Cycling Men's 333 metres Time Trial\",\n",
       "       \"Cycling Men's 20 kilometres\",\n",
       "       \"Canoeing Men's Kayak Singles, 10,000 metres\",\n",
       "       'Sailing Mixed Open', 'Sailing Mixed 1-2 Ton',\n",
       "       \"Canoeing Men's Canadian Singles, Slalom\", \"Luge Men's Singles\",\n",
       "       \"Luge Mixed (Men)'s Doubles\", 'Sailing Mixed Multihull',\n",
       "       \"Badminton Women's Doubles\", \"Speed Skating Women's 3,000 metres\",\n",
       "       \"Cross Country Skiing Women's 5/10 kilometres Pursuit\",\n",
       "       \"Cross Country Skiing Women's 4 x 5 kilometres Relay\",\n",
       "       \"Cross Country Skiing Women's 15 kilometres\",\n",
       "       \"Cross Country Skiing Women's 5/5 kilometres Pursuit\",\n",
       "       \"Diving Women's Synchronized Platform\",\n",
       "       \"Athletics Women's Triple Jump\", \"Skeleton Women's Skeleton\",\n",
       "       \"Bobsleigh Men's Four/Five\",\n",
       "       'Art Competitions Mixed Painting, Drawings And Water Colors',\n",
       "       \"Shooting Men's Dueling Pistol, 30 metres\",\n",
       "       \"Boxing Women's Lightweight\", \"Cycling Women's BMX\",\n",
       "       \"Canoeing Men's Kayak Doubles, 200 metres\",\n",
       "       \"Fencing Men's Sabre, Masters, Individual\",\n",
       "       \"Lacrosse Men's Lacrosse\",\n",
       "       \"Canoeing Women's Kayak Singles, 500 metres\",\n",
       "       \"Athletics Women's 10 kilometres Walk\", 'Sailing Mixed 12 metres',\n",
       "       \"Judo Women's Extra-Lightweight\",\n",
       "       \"Diving Men's Synchronized Springboard\",\n",
       "       \"Rowing Men's Coxed Fours, Outriggers\",\n",
       "       \"Gymnastics Men's Rope Climbing\",\n",
       "       'Sailing Mixed Two Person Dinghy',\n",
       "       'Art Competitions Mixed Architecture, Unknown Event',\n",
       "       \"Archery Men's Target Archery, 28 metres, Team\",\n",
       "       \"Archery Men's Target Archery, 33 metres, Team\",\n",
       "       \"Archery Men's Target Archery, 50 metres, Team\",\n",
       "       \"Short Track Speed Skating Women's 3,000 metres Relay\",\n",
       "       \"Freestyle Skiing Women's Moguls\",\n",
       "       \"Short Track Speed Skating Men's 500 metres\",\n",
       "       \"Shooting Men's Running Target, 10 metres\", \"Polo Men's Polo\",\n",
       "       \"Rowing Men's Coxed Fours, Inriggers\", \"Cycling Men's BMX\",\n",
       "       'Art Competitions Mixed Sculpturing',\n",
       "       \"Athletics Men's Cross-Country, Individual\",\n",
       "       \"Athletics Men's Cross-Country, Team\", 'Sailing Mixed 40 metres',\n",
       "       \"Cross Country Skiing Men's 10/10 kilometres Pursuit\",\n",
       "       \"Ski Jumping Women's Normal Hill, Individual\",\n",
       "       \"Short Track Speed Skating Men's 1,000 metres\",\n",
       "       \"Short Track Speed Skating Men's 1,500 metres\",\n",
       "       \"Gymnastics Men's Club Swinging\", \"Tennis Women's Singles\",\n",
       "       'Tennis Mixed Doubles', \"Tennis Women's Doubles\",\n",
       "       \"Judo Women's Middleweight\", \"Judo Women's Lightweight\",\n",
       "       \"Cross Country Skiing Men's Team Sprint\",\n",
       "       \"Snowboarding Women's Halfpipe\",\n",
       "       \"Canoeing Women's Kayak Singles, 200 metres\",\n",
       "       \"Canoeing Men's Kayak Relay 4 x 500 metres\",\n",
       "       \"Athletics Men's 3,000 metres, Team\",\n",
       "       \"Cross Country Skiing Women's Sprint\",\n",
       "       \"Shooting Men's Small-Bore Rifle, Prone, 50 and 100 yards\",\n",
       "       \"Shooting Men's Small-Bore Rifle, 50 and 100 yards, Team\",\n",
       "       \"Shooting Men's Small-Bore Rifle, Disappearing Target, 25 yards\",\n",
       "       \"Shooting Men's Small-Bore Rifle, Moving Target, 25 yards\",\n",
       "       \"Shooting Men's Military Pistol, Team\",\n",
       "       \"Rowing Women's Coxed Fours\",\n",
       "       \"Weightlifting Men's Unlimited, One Hand\",\n",
       "       \"Canoeing Men's Canadian Singles, 500 metres\",\n",
       "       \"Fencing Men's Foil, Masters, Individual\",\n",
       "       \"Fencing Men's epee, Masters, Individual\",\n",
       "       \"Gymnastics Men's Individual All-Around, Field Sports\",\n",
       "       \"Gymnastics Men's Individual All-Around, Apparatus Work\",\n",
       "       'Art Competitions Mixed Music, Compositions For Solo Or Chorus',\n",
       "       \"Fencing Women's epee, Team\",\n",
       "       \"Swimming Men's 4,000 metres Freestyle\",\n",
       "       \"Swimming Men's Underwater Swimming\", 'Sailing Mixed Skiff',\n",
       "       \"Shooting Men's Military Rifle, 200/500/600/800/900/1,000 Yards, Team\",\n",
       "       \"Shooting Men's Running Target, Single And Double Shot\",\n",
       "       \"Shooting Men's Small-Bore Rifle, Any Position, 50 metres\",\n",
       "       \"Shooting Men's Small-Bore Rifle, Disappearing Target, 25 metres\",\n",
       "       \"Swimming Women's 10 kilometres Open Water\",\n",
       "       \"Snowboarding Women's Slopestyle\",\n",
       "       \"Snowboarding Men's Giant Slalom\",\n",
       "       \"Snowboarding Men's Parallel Giant Slalom\",\n",
       "       \"Snowboarding Men's Boardercross\",\n",
       "       \"Snowboarding Men's Parallel Slalom\",\n",
       "       \"Cycling Men's Team Pursuit, 1,980 yards\",\n",
       "       \"Cycling Men's 5,000 metres\", \"Cycling Men's 100 kilometres\",\n",
       "       \"Cricket Men's Cricket\",\n",
       "       \"Canoeing Men's Canadian Singles, 10,000 metres\",\n",
       "       \"Cross Country Skiing Women's Team Sprint\",\n",
       "       \"Boxing Women's Middleweight\", \"Sailing Men's Skiff\",\n",
       "       \"Athletics Men's Pentathlon\",\n",
       "       \"Swimming Men's 1,200 metres Freestyle\", \"Shooting Women's Skeet\",\n",
       "       \"Biathlon Men's 15 kilometres Mass Start\",\n",
       "       \"Cross Country Skiing Men's 30 km Skiathlon\",\n",
       "       \"Cycling Men's 1/4 mile\", \"Cycling Men's 1/2 mile\",\n",
       "       \"Cycling Men's 5 mile\", \"Cycling Men's 25 mile\",\n",
       "       \"Shooting Men's Small-Bore Rifle, Standing, 50 metres\",\n",
       "       \"Shooting Men's Small Bore-Rifle, Standing, 50 metres, Team\",\n",
       "       \"Speed Skating Men's Team Pursuit (8 laps)\",\n",
       "       \"Shooting Men's Free Rifle, 1,000 Yards\",\n",
       "       \"Cycling Women's Team Pursuit\",\n",
       "       \"Speed Skating Women's 5,000 metres\",\n",
       "       \"Athletics Men's 3,000 metres Walk\",\n",
       "       \"Snowboarding Women's Boardercross\",\n",
       "       'Shooting Mixed Running Target, 50 metres',\n",
       "       'Luge Mixed Team Relay', \"Cycling Women's Individual Time Trial\",\n",
       "       \"Fencing Women's Sabre, Individual\",\n",
       "       \"Fencing Men's Sabre, Individual, Three Hits\",\n",
       "       \"Archery Women's Double National Round\", \"Cycling Men's Omnium\",\n",
       "       'Equestrianism Mixed Hacks And Hunter Combined',\n",
       "       'Sailing Mixed 10 metres', \"Shooting Men's Trap, Team\",\n",
       "       \"Cycling Women's Individual Pursuit, 3,000 metres\",\n",
       "       \"Cycling Women's Points Race\", \"Sailing Men's Two Person Keelboat\",\n",
       "       \"Cycling Men's Keirin\", \"Cycling Men's Team Sprint\",\n",
       "       \"Athletics Men's 5 mile\",\n",
       "       \"Shooting Men's Running Target, Single Shot, Team\",\n",
       "       \"Bobsleigh Women's Two\", \"Racquets Men's Singles\",\n",
       "       \"Racquets Men's Doubles\",\n",
       "       'Art Competitions Mixed Literature, Lyric Works',\n",
       "       'Motorboating Mixed A-Class (Open)',\n",
       "       \"Archery Men's Continental Style\",\n",
       "       \"Military Ski Patrol Men's Military Ski Patrol\",\n",
       "       'Art Competitions Mixed Painting, Graphic Arts',\n",
       "       \"Wrestling Women's Flyweight, Freestyle\",\n",
       "       'Art Competitions Mixed Literature, Unknown Event',\n",
       "       'Sailing Mixed 0.5-1 Ton',\n",
       "       'Art Competitions Mixed Painting, Applied Arts',\n",
       "       'Croquet Mixed Singles, One Ball', 'Croquet Mixed Doubles',\n",
       "       \"Shooting Men's Running Target, Double Shot, Team\",\n",
       "       \"Shooting Men's Free Pistol, 50 yards\",\n",
       "       \"Shooting Men's Free Pistol, 50 yards, Team\",\n",
       "       \"Fencing Men's epee, Masters and Amateurs, Individual\",\n",
       "       \"Swimming Men's 10 kilometres Open Water\",\n",
       "       'Art Competitions Mixed Music, Compositions For Orchestra',\n",
       "       \"Archery Men's Double York Round\",\n",
       "       \"Wrestling Women's Middleweight, Freestyle\",\n",
       "       \"Equestrianism Men's Vaulting, Individual\",\n",
       "       \"Swimming Men's 4 x 250 metres Freestyle Relay\",\n",
       "       \"Freestyle Skiing Women's Slopestyle\", \"Table Tennis Women's Team\",\n",
       "       \"Athletics Women's Hammer Throw\",\n",
       "       \"Canoeing Men's Kayak Singles, 200 metres\",\n",
       "       \"Short Track Speed Skating Women's 500 metres\",\n",
       "       \"Shooting Women's Double Trap\",\n",
       "       \"Rowing Men's 6-Man Naval Rowing Boats\",\n",
       "       'Art Competitions Mixed Music',\n",
       "       \"Shooting Men's Free Rifle, Kneeling, 300 metres\",\n",
       "       \"Shooting Men's Free Rifle, Prone, 300 metres\",\n",
       "       \"Shooting Men's Free Rifle, Standing, 300 metres\",\n",
       "       \"Short Track Speed Skating Women's 1,000 metres\",\n",
       "       \"Athletics Men's 3,200 metres Steeplechase\",\n",
       "       \"Rowing Women's Coxless Fours\",\n",
       "       \"Freestyle Skiing Women's Ski Cross\",\n",
       "       \"Freestyle Skiing Men's Ski Cross\",\n",
       "       \"Tennis Men's Doubles, Covered Courts\",\n",
       "       \"Tennis Men's Singles, Covered Courts\",\n",
       "       \"Cycling Men's 25 kilometres\",\n",
       "       \"Nordic Combined Men's Normal Hill / 10 km, Individual\",\n",
       "       \"Nordic Combined Men's Large Hill / 10 km, Individual\",\n",
       "       \"Shooting Men's Military Rifle, 200 metres\",\n",
       "       \"Short Track Speed Skating Women's 1,500 metres\",\n",
       "       \"Athletics Men's Standing Triple Jump\",\n",
       "       \"Rowing Men's Coxed Pairs (1 kilometres)\",\n",
       "       \"Shooting Men's Military Pistol, 30 metres\",\n",
       "       \"Cycling Women's Keirin\",\n",
       "       \"Archery Men's Au Cordon Dore, 50 metres\",\n",
       "       \"Swimming Women's 300 metres Freestyle\",\n",
       "       \"Snowboarding Women's Giant Slalom\",\n",
       "       \"Canoeing Men's Canadian Singles, 200 metres\",\n",
       "       'Sailing Mixed 30 metres',\n",
       "       \"Athletics Men's 4,000 metres Steeplechase\",\n",
       "       \"Athletics Men's 5,000 metres, Team\",\n",
       "       \"Snowboarding Men's Slopestyle\",\n",
       "       \"Rowing Men's Coxed Pairs (1 mile)\",\n",
       "       'Art Competitions Mixed Unknown Event', \"Cycling Women's Omnium\",\n",
       "       \"Freestyle Skiing Men's Halfpipe\",\n",
       "       \"Swimming Men's 200 metres Obstacle Course\",\n",
       "       \"Swimming Men's 200 metres Team Swimming\", 'Sailing Mixed 12 foot',\n",
       "       'Art Competitions Mixed Music, Instrumental And Chamber',\n",
       "       'Art Competitions Mixed Music, Vocals',\n",
       "       'Art Competitions Mixed Literature, Dramatic Works',\n",
       "       \"Jeu De Paume Men's Singles\", 'Sailing Mixed 10-20 Ton',\n",
       "       \"Cycling Men's 1/3 mile\", \"Cycling Men's 1 mile\",\n",
       "       \"Cycling Men's 2 mile\",\n",
       "       'Art Competitions Mixed Sculpturing, Medals And Plaques',\n",
       "       \"Athletics Men's 1,600 metres Medley Relay\",\n",
       "       'Croquet Mixed Singles, Two Balls',\n",
       "       \"Canoeing Men's Folding Kayak Doubles, 10 kilometres\",\n",
       "       \"Athletics Men's 60 metres\",\n",
       "       \"Snowboarding Women's Parallel Giant Slalom\",\n",
       "       'Sailing Mixed 2-3 Ton', \"Speed Skating Men's Allround\",\n",
       "       \"Shooting Men's Military Rifle, Prone, 600 metres\",\n",
       "       \"Canoeing Men's Canadian Doubles, 10,000 metres\",\n",
       "       \"Snowboarding Women's Parallel Slalom\",\n",
       "       \"Shooting Men's Dueling Pistol, 30 metres, Team\",\n",
       "       \"Gymnastics Men's Parallel Bars, Teams\",\n",
       "       \"Gymnastics Men's Horizontal Bar, Teams\",\n",
       "       \"Shooting Men's Small-Bore Rifle, Disappearing Target, 25 metres, Team\",\n",
       "       'Art Competitions Mixed Sculpturing, Medals And Reliefs',\n",
       "       \"Athletics Men's 1,500 metres Walk\",\n",
       "       \"Athletics Men's 3 mile, Team\",\n",
       "       'Art Competitions Mixed Sculpturing, Medals',\n",
       "       \"Shooting Men's Military Rifle, Kneeling Or Standing, 300 metres\",\n",
       "       \"Equestrianism Men's Vaulting, Team\",\n",
       "       \"Shooting Men's Free Rifle, Any Position, 300 metres\",\n",
       "       \"Shooting Men's Military Rifle, 1873-1874 Gras Model, Kneeling Or Standing, 200 metres\",\n",
       "       \"Swimming Men's 100 Yard Backstroke\",\n",
       "       \"Swimming Men's 440 Yard Breaststroke\",\n",
       "       'Art Competitions Mixed Literature, Epic Works',\n",
       "       'Art Competitions Mixed Architecture',\n",
       "       \"Athletics Men's 3,500 metres Walk\", \"Roque Men's Singles\",\n",
       "       \"Gymnastics Men's Side Horse\", 'Alpinism Mixed Alpinism',\n",
       "       \"Archery Men's Double American Round\", \"Archery Men's Team Round\",\n",
       "       \"Archery Men's Target Archery, 33 metres, Individual\",\n",
       "       \"Archery Men's Target Archery, 50 metres, Individual\",\n",
       "       \"Swimming Men's 1,000 metres Freestyle\",\n",
       "       \"Athletics Men's 10 mile Walk\",\n",
       "       \"Athletics Men's Discus Throw, Both Hands\", \"Golf Men's Team\",\n",
       "       'Sailing Mixed 0-0.5 Ton', 'Sailing Mixed 20+ Ton',\n",
       "       \"Cycling Women's Team Sprint\",\n",
       "       \"Weightlifting Men's Unlimited, Two Hands\",\n",
       "       \"Shooting Men's Free Pistol, 25 metres\",\n",
       "       \"Shooting Men's Military Revolver, 1873-1874 Gras Model, 20 metres\",\n",
       "       \"Shooting Men's Military Revolver, 20 metres\",\n",
       "       \"Shooting Men's Dueling Pistol Au Vise 20 metres\",\n",
       "       \"Shooting Men's Dueling Pistol Au Commandement, 25 metres\",\n",
       "       \"Shooting Men's Small-Bore Rifle, Prone, 50 metres, Team\",\n",
       "       'Sailing Mixed 6.5 metres', \"Athletics Men's 200 metres Hurdles\",\n",
       "       \"Athletics Men's 56-pound Weight Throw\",\n",
       "       'Equestrianism Mixed Four-In-Hand Competition',\n",
       "       \"Athletics Men's 2,500 metres Steeplechase\",\n",
       "       'Art Competitions Mixed Music, Unknown Event',\n",
       "       \"Athletics Men's All-Around Championship\",\n",
       "       \"Archery Men's Pole Archery, Small Birds, Individual\",\n",
       "       \"Archery Men's Pole Archery, Large Birds, Individual\",\n",
       "       \"Archery Men's Pole Archery, Small Birds, Team\",\n",
       "       \"Archery Men's Pole Archery, Large Birds, Team\",\n",
       "       \"Athletics Men's 2,590 metres Steeplechase\",\n",
       "       \"Archery Women's Double Columbia Round\",\n",
       "       \"Athletics Men's 4 mile, Team\",\n",
       "       \"Figure Skating Men's Special Figures\",\n",
       "       \"Shooting Men's Military Rifle, Standing, 300 metres\",\n",
       "       \"Swimming Men's 50 yard Freestyle\",\n",
       "       \"Swimming Men's 100 yard Freestyle\",\n",
       "       \"Swimming Men's 440 yard Freestyle\",\n",
       "       \"Basque Pelota Men's Two-Man Teams With Cesta\",\n",
       "       \"Shooting Men's Trap, Single Shot, 16 metres\",\n",
       "       \"Shooting Men's Trap, Double Shot, 14 metres\",\n",
       "       'Equestrianism Mixed Long Jump',\n",
       "       \"Canoeing Men's Folding Kayak Singles, 10 kilometres\",\n",
       "       \"Shooting Men's Free Pistol, 30 metres\",\n",
       "       \"Shooting Men's Military Pistol, 25 metres\",\n",
       "       \"Swimming Men's 100 metres Freestyle For Sailors\",\n",
       "       \"Archery Men's Sur La Perche a La Herse\", 'Sailing Mixed 3-10 Ton',\n",
       "       \"Gymnastics Men's Individual All-Around, 4 Events\",\n",
       "       \"Wrestling Men's Unlimited Class, Greco-Roman\",\n",
       "       'Motorboating Mixed B-Class (Under 60 Feet)',\n",
       "       'Motorboating Mixed C-Class', \"Cycling Men's 10,000 metres\",\n",
       "       'Art Competitions Mixed Sculpturing, Reliefs',\n",
       "       \"Shooting Men's Muzzle-Loading Pistol, 25 metres\",\n",
       "       'Equestrianism Mixed High Jump',\n",
       "       \"Archery Men's Sur La Perche a La Pyramide\",\n",
       "       \"Fencing Men's Single Sticks, Individual\",\n",
       "       \"Gymnastics Men's Tumbling\", \"Shooting Men's Unknown Event\",\n",
       "       'Sailing Mixed 18 foot', \"Archery Men's Unknown Event\",\n",
       "       \"Archery Men's Au Chapelet, 50 metres\",\n",
       "       \"Archery Men's Championnat Du Monde\", \"Archery Women's Team Round\",\n",
       "       \"Wrestling Men's All-Around, Greco-Roman\",\n",
       "       \"Cycling Men's 12-Hours Race\",\n",
       "       \"Swimming Men's 500 metres Freestyle\",\n",
       "       \"Weightlifting Men's All-Around Dumbbell Contest\",\n",
       "       \"Archery Men's Au Chapelet, 33 metres\",\n",
       "       \"Archery Men's Au Cordon Dore, 33 metres\",\n",
       "       \"Archery Men's Target Archery, 28 metres, Individual\",\n",
       "       'Aeronautics Mixed Aeronautics'], dtype=object)"
      ]
     },
     "execution_count": 63,
     "metadata": {},
     "output_type": "execute_result"
    }
   ],
   "source": [
    "df.Event.unique()"
   ]
  },
  {
   "cell_type": "code",
   "execution_count": 62,
   "metadata": {},
   "outputs": [
    {
     "name": "stdout",
     "output_type": "stream",
     "text": [
      "          Height     Medal\n",
      "Height  1.000000  0.146254\n",
      "Medal   0.146254  1.000000\n"
     ]
    }
   ],
   "source": [
    "correlation = basket.corr()\n",
    "print(correlation)"
   ]
  },
  {
   "cell_type": "code",
   "execution_count": 66,
   "metadata": {},
   "outputs": [
    {
     "data": {
      "text/html": [
       "<div>\n",
       "<style scoped>\n",
       "    .dataframe tbody tr th:only-of-type {\n",
       "        vertical-align: middle;\n",
       "    }\n",
       "\n",
       "    .dataframe tbody tr th {\n",
       "        vertical-align: top;\n",
       "    }\n",
       "\n",
       "    .dataframe thead th {\n",
       "        text-align: right;\n",
       "    }\n",
       "</style>\n",
       "<table border=\"1\" class=\"dataframe\">\n",
       "  <thead>\n",
       "    <tr style=\"text-align: right;\">\n",
       "      <th></th>\n",
       "      <th>Weight</th>\n",
       "      <th>Medal</th>\n",
       "    </tr>\n",
       "  </thead>\n",
       "  <tbody>\n",
       "  </tbody>\n",
       "</table>\n",
       "</div>"
      ],
      "text/plain": [
       "Empty DataFrame\n",
       "Columns: [Weight, Medal]\n",
       "Index: []"
      ]
     },
     "execution_count": 66,
     "metadata": {},
     "output_type": "execute_result"
    }
   ],
   "source": []
  },
  {
   "cell_type": "code",
   "execution_count": 70,
   "metadata": {},
   "outputs": [
    {
     "data": {
      "text/html": [
       "<div>\n",
       "<style scoped>\n",
       "    .dataframe tbody tr th:only-of-type {\n",
       "        vertical-align: middle;\n",
       "    }\n",
       "\n",
       "    .dataframe tbody tr th {\n",
       "        vertical-align: top;\n",
       "    }\n",
       "\n",
       "    .dataframe thead th {\n",
       "        text-align: right;\n",
       "    }\n",
       "</style>\n",
       "<table border=\"1\" class=\"dataframe\">\n",
       "  <thead>\n",
       "    <tr style=\"text-align: right;\">\n",
       "      <th></th>\n",
       "      <th>Weight</th>\n",
       "      <th>Medal</th>\n",
       "    </tr>\n",
       "  </thead>\n",
       "  <tbody>\n",
       "    <tr>\n",
       "      <th>Weight</th>\n",
       "      <td>1.000000</td>\n",
       "      <td>0.039583</td>\n",
       "    </tr>\n",
       "    <tr>\n",
       "      <th>Medal</th>\n",
       "      <td>0.039583</td>\n",
       "      <td>1.000000</td>\n",
       "    </tr>\n",
       "  </tbody>\n",
       "</table>\n",
       "</div>"
      ],
      "text/plain": [
       "          Weight     Medal\n",
       "Weight  1.000000  0.039583\n",
       "Medal   0.039583  1.000000"
      ]
     },
     "execution_count": 70,
     "metadata": {},
     "output_type": "execute_result"
    }
   ],
   "source": [
    "wrestling = df[df['Event'] == 'Wrestling Men\\'s Lightweight, Greco-Roman'][['Weight', 'Medal']]\n",
    "wrestling['Medal'] = ~wrestling['Medal'].isna()\n",
    "wrestling = wrestling.dropna(subset=['Weight'])\n",
    "wrestling.corr()"
   ]
  },
  {
   "cell_type": "code",
   "execution_count": 96,
   "metadata": {},
   "outputs": [
    {
     "name": "stdout",
     "output_type": "stream",
     "text": [
      "Top 10 Events with Most Significant Differences:\n",
      "                                               Event Strongest_factor  \\\n",
      "0           Canoeing Men's Kayak Fours, 1,000 metres           Weight   \n",
      "1                        Basketball Men's Basketball           Weight   \n",
      "2                      Ice Hockey Women's Ice Hockey           Weight   \n",
      "3                        Water Polo Men's Water Polo           Weight   \n",
      "4               Athletics Men's 4 x 400 metres Relay           Weight   \n",
      "5    Swimming Women's 4 x 100 metres Freestyle Relay           Weight   \n",
      "6                        Volleyball Men's Volleyball              Age   \n",
      "7       Cycling Men's 100 kilometres Team Time Trial           Weight   \n",
      "8  Cross Country Skiing Men's 4 x 10 kilometres R...              Age   \n",
      "9                   Gymnastics Men's Team All-Around           Weight   \n",
      "\n",
      "        P_value  \n",
      "0  2.278512e-14  \n",
      "1  2.345346e-14  \n",
      "2  5.702212e-13  \n",
      "3  2.530720e-12  \n",
      "4  4.024965e-12  \n",
      "5  1.546177e-11  \n",
      "6  3.954500e-10  \n",
      "7  5.743232e-10  \n",
      "8  1.163410e-09  \n",
      "9  1.238120e-09  \n"
     ]
    },
    {
     "data": {
      "image/png": "[encoded data removed]",
      "text/plain": [
       "<Figure size 1200x800 with 2 Axes>"
      ]
     },
     "metadata": {},
     "output_type": "display_data"
    },
    {
     "name": "stdout",
     "output_type": "stream",
     "text": [
      "Plotting distributions for event with most significant difference: Canoeing Men's Kayak Fours, 1,000 metres\n"
     ]
    },
    {
     "data": {
      "image/png": "[encoded data removed]",
      "text/plain": [
       "<Figure size 1800x600 with 3 Axes>"
      ]
     },
     "metadata": {},
     "output_type": "display_data"
    }
   ],
   "source": [
    "import pandas as pd\n",
    "import numpy as np\n",
    "import matplotlib.pyplot as plt\n",
    "import seaborn as sns\n",
    "from scipy import stats\n",
    "\n",
    "# Create medal indicator\n",
    "df['Medal_numeric'] = df['Medal'].notna().astype(int)\n",
    "\n",
    "# Function to analyze distributions by event\n",
    "def compare_attribute_distributions():\n",
    "    # Get events with sufficient data (at least 500 athletes as in your code)\n",
    "    event_counts = df['Event'].value_counts()\n",
    "    valid_events = event_counts[event_counts >= 500].index.tolist()\n",
    "    \n",
    "    # Results storage\n",
    "    results = {\n",
    "        'Event': [],\n",
    "        'Height_pvalue': [],\n",
    "        'Weight_pvalue': [],\n",
    "        'Age_pvalue': [],\n",
    "        'Strongest_factor': [],\n",
    "        'P_value': [],\n",
    "        'Height_effect': [],\n",
    "        'Weight_effect': [],\n",
    "        'Age_effect': []\n",
    "    }\n",
    "    \n",
    "    for event in valid_events:\n",
    "        event_data = df[df['Event'] == event].copy()\n",
    "        \n",
    "        # Skip if all athletes have the same medal status\n",
    "        if event_data['Medal_numeric'].nunique() <= 1:\n",
    "            continue\n",
    "            \n",
    "        # Split data into medalists and non-medalists\n",
    "        medalists = event_data[event_data['Medal_numeric'] == 1]\n",
    "        non_medalists = event_data[event_data['Medal_numeric'] == 0]\n",
    "        \n",
    "        # Skip if too few medalists (need reasonable sample size)\n",
    "        if len(medalists) < 10:\n",
    "            continue\n",
    "            \n",
    "        # Calculate Mann-Whitney U test for each attribute\n",
    "        # (non-parametric test for differences in distributions)\n",
    "        height_stat, height_p = stats.mannwhitneyu(\n",
    "            medalists['Height'].dropna(), \n",
    "            non_medalists['Height'].dropna(), \n",
    "            alternative='two-sided'\n",
    "        ) if len(medalists['Height'].dropna()) > 0 and len(non_medalists['Height'].dropna()) > 0 else (np.nan, np.nan)\n",
    "        \n",
    "        weight_stat, weight_p = stats.mannwhitneyu(\n",
    "            medalists['Weight'].dropna(), \n",
    "            non_medalists['Weight'].dropna(), \n",
    "            alternative='two-sided'\n",
    "        ) if len(medalists['Weight'].dropna()) > 0 and len(non_medalists['Weight'].dropna()) > 0 else (np.nan, np.nan)\n",
    "        \n",
    "        age_stat, age_p = stats.mannwhitneyu(\n",
    "            medalists['Age'].dropna(), \n",
    "            non_medalists['Age'].dropna(), \n",
    "            alternative='two-sided'\n",
    "        ) if len(medalists['Age'].dropna()) > 0 and len(non_medalists['Age'].dropna()) > 0 else (np.nan, np.nan)\n",
    "        \n",
    "        # Calculate effect size using difference in medians\n",
    "        height_effect = (medalists['Height'].median() - non_medalists['Height'].median()) if not np.isnan(height_p) else np.nan\n",
    "        weight_effect = (medalists['Weight'].median() - non_medalists['Weight'].median()) if not np.isnan(weight_p) else np.nan\n",
    "        age_effect = (medalists['Age'].median() - non_medalists['Age'].median()) if not np.isnan(age_p) else np.nan\n",
    "        \n",
    "        # Skip if all p-values are NaN\n",
    "        if np.isnan(height_p) and np.isnan(weight_p) and np.isnan(age_p):\n",
    "            continue\n",
    "            \n",
    "        # Find strongest factor (lowest p-value = most significant difference)\n",
    "        p_values = [height_p, weight_p, age_p]\n",
    "        factors = ['Height', 'Weight', 'Age']\n",
    "        \n",
    "        # Handle NaN values when finding strongest factor\n",
    "        valid_p_values = [p if not np.isnan(p) else 1.0 for p in p_values]\n",
    "        strongest_idx = np.argmin(valid_p_values)\n",
    "        \n",
    "        # Add to results\n",
    "        results['Event'].append(event)\n",
    "        results['Height_pvalue'].append(height_p)\n",
    "        results['Weight_pvalue'].append(weight_p)\n",
    "        results['Age_pvalue'].append(age_p)\n",
    "        results['Strongest_factor'].append(factors[strongest_idx])\n",
    "        results['P_value'].append(p_values[strongest_idx])\n",
    "        results['Height_effect'].append(height_effect)\n",
    "        results['Weight_effect'].append(weight_effect)\n",
    "        results['Age_effect'].append(age_effect)\n",
    "    \n",
    "    # Convert to DataFrame and sort by p-value (lower = more significant)\n",
    "    results_df = pd.DataFrame(results)\n",
    "    results_df = results_df.sort_values('P_value').reset_index(drop=True)\n",
    "    \n",
    "    return results_df\n",
    "\n",
    "# Run analysis\n",
    "distribution_results = compare_attribute_distributions()\n",
    "\n",
    "# Display top 10 events with most significant differences\n",
    "print(\"Top 10 Events with Most Significant Differences:\")\n",
    "print(distribution_results[['Event', 'Strongest_factor', 'P_value']].head(10))\n",
    "\n",
    "distribution_results['log_P_value'] = np.log(distribution_results['P_value'])\n",
    "\n",
    "# Plot the top events\n",
    "plt.figure(figsize=(12, 8))\n",
    "top_events = distribution_results.head(10)\n",
    "\n",
    "# Plot p-values (smaller = more significant)\n",
    "plt.subplot(1, 2, 1)\n",
    "sns.barplot(x='log_P_value', y='Event', hue='Strongest_factor', data=top_events)\n",
    "plt.title('Events with Most Significant Differences\\nBetween Medalists and Non-Medalists')\n",
    "plt.xlabel('P-Value (smaller = more significant)')\n",
    "plt.ylabel('Event')\n",
    "plt.axvline(x=np.log(0.05), color='red', linestyle='--', label='p=0.05 threshold')\n",
    "plt.legend(title='Strongest Factor')\n",
    "plt.yticks(rotation=60)\n",
    "\n",
    "# Plot effect sizes for strongest factor\n",
    "plt.subplot(1, 2, 2)\n",
    "effect_data = []\n",
    "for i, row in top_events.iterrows():\n",
    "    effect = row[f\"{row['Strongest_factor']}_effect\"]\n",
    "    effect_data.append({\n",
    "        'Event': row['Event'],\n",
    "        'Factor': row['Strongest_factor'],\n",
    "        'Effect': effect\n",
    "    })\n",
    "\n",
    "effect_df = pd.DataFrame(effect_data)\n",
    "sns.barplot(x='Effect', y='Event', hue='Factor', data=effect_df)\n",
    "plt.title('Median Difference Between Medalists and Non-Medalists')\n",
    "plt.xlabel('Difference in Medians (Medalists - Non-Medalists)')\n",
    "plt.ylabel('Event')\n",
    "plt.axvline(x=0, color='gray', linestyle='--')\n",
    "\n",
    "plt.yticks(rotation=60)\n",
    "\n",
    "plt.tight_layout()\n",
    "plt.show()\n",
    "\n",
    "# Function to visualize distributions for a specific event\n",
    "def plot_distributions(event_name):\n",
    "    event_data = df[df['Event'] == event_name].copy()\n",
    "    \n",
    "    # Skip if no data\n",
    "    if len(event_data) == 0:\n",
    "        print(f\"No data for event: {event_name}\")\n",
    "        return\n",
    "    \n",
    "    medalists = event_data[event_data['Medal_numeric'] == 1]\n",
    "    non_medalists = event_data[event_data['Medal_numeric'] == 0]\n",
    "    \n",
    "    # Create figure with 3 subplots (one for each attribute)\n",
    "    fig, axes = plt.subplots(1, 3, figsize=(18, 6))\n",
    "    \n",
    "    # Height distribution\n",
    "    sns.kdeplot(medalists['Height'].dropna(), ax=axes[0], label='Medalists', fill=True)\n",
    "    sns.kdeplot(non_medalists['Height'].dropna(), ax=axes[0], label='Non-Medalists', fill=True)\n",
    "    axes[0].set_title(f'Height Distribution - {event_name}')\n",
    "    axes[0].set_xlabel('Height (cm)')\n",
    "    axes[0].axvline(medalists['Height'].median(), color='blue', linestyle='--', label='Medalist Median')\n",
    "    axes[0].axvline(non_medalists['Height'].median(), color='orange', linestyle='--', label='Non-Medalist Median')\n",
    "    axes[0].legend()\n",
    "    \n",
    "    # Weight distribution\n",
    "    sns.kdeplot(medalists['Weight'].dropna(), ax=axes[1], label='Medalists', fill=True)\n",
    "    sns.kdeplot(non_medalists['Weight'].dropna(), ax=axes[1], label='Non-Medalists', fill=True)\n",
    "    axes[1].set_title(f'Weight Distribution - {event_name}')\n",
    "    axes[1].set_xlabel('Weight (kg)')\n",
    "    axes[1].axvline(medalists['Weight'].median(), color='blue', linestyle='--', label='Medalist Median')\n",
    "    axes[1].axvline(non_medalists['Weight'].median(), color='orange', linestyle='--', label='Non-Medalist Median')\n",
    "    axes[1].legend()\n",
    "    \n",
    "    # Age distribution\n",
    "    sns.kdeplot(medalists['Age'].dropna(), ax=axes[2], label='Medalists', fill=True)\n",
    "    sns.kdeplot(non_medalists['Age'].dropna(), ax=axes[2], label='Non-Medalists', fill=True)\n",
    "    axes[2].set_title(f'Age Distribution - {event_name}')\n",
    "    axes[2].set_xlabel('Age (years)')\n",
    "    axes[2].axvline(medalists['Age'].median(), color='blue', linestyle='--', label='Medalist Median')\n",
    "    axes[2].axvline(non_medalists['Age'].median(), color='orange', linestyle='--', label='Non-Medalist Median')\n",
    "    axes[2].legend()\n",
    "    \n",
    "    plt.tight_layout()\n",
    "\n",
    "    return fig\n",
    "# Plot distributions for top event with most significant difference\n",
    "if len(distribution_results) > 0:\n",
    "    top_event = distribution_results.iloc[0]['Event']\n",
    "    print(f\"Plotting distributions for event with most significant difference: {top_event}\")\n",
    "    plot_distributions(top_event)"
   ]
  },
  {
   "cell_type": "code",
   "execution_count": 101,
   "metadata": {},
   "outputs": [
    {
     "data": {
      "image/png": "[encoded data removed]",
      "text/plain": [
       "<Figure size 1800x600 with 3 Axes>"
      ]
     },
     "metadata": {},
     "output_type": "display_data"
    }
   ],
   "source": [
    "fig = plot_distributions('Basketball Men\\'s Basketball')\n",
    "plt.savefig('../images/basket.png')"
   ]
  },
  {
   "cell_type": "code",
   "execution_count": 89,
   "metadata": {},
   "outputs": [
    {
     "data": {
      "text/html": [
       "<div>\n",
       "<style scoped>\n",
       "    .dataframe tbody tr th:only-of-type {\n",
       "        vertical-align: middle;\n",
       "    }\n",
       "\n",
       "    .dataframe tbody tr th {\n",
       "        vertical-align: top;\n",
       "    }\n",
       "\n",
       "    .dataframe thead th {\n",
       "        text-align: right;\n",
       "    }\n",
       "</style>\n",
       "<table border=\"1\" class=\"dataframe\">\n",
       "  <thead>\n",
       "    <tr style=\"text-align: right;\">\n",
       "      <th></th>\n",
       "      <th>Event</th>\n",
       "      <th>Height_pvalue</th>\n",
       "      <th>Weight_pvalue</th>\n",
       "      <th>Age_pvalue</th>\n",
       "      <th>Strongest_factor</th>\n",
       "      <th>P_value</th>\n",
       "      <th>Height_effect</th>\n",
       "      <th>Weight_effect</th>\n",
       "      <th>Age_effect</th>\n",
       "      <th>log_P_value</th>\n",
       "    </tr>\n",
       "  </thead>\n",
       "  <tbody>\n",
       "    <tr>\n",
       "      <th>0</th>\n",
       "      <td>Canoeing Men's Kayak Fours, 1,000 metres</td>\n",
       "      <td>1.918695e-08</td>\n",
       "      <td>2.278512e-14</td>\n",
       "      <td>8.688740e-02</td>\n",
       "      <td>Weight</td>\n",
       "      <td>2.278512e-14</td>\n",
       "      <td>3.0</td>\n",
       "      <td>4.5</td>\n",
       "      <td>1.0</td>\n",
       "      <td>-31.412669</td>\n",
       "    </tr>\n",
       "    <tr>\n",
       "      <th>1</th>\n",
       "      <td>Basketball Men's Basketball</td>\n",
       "      <td>1.861836e-13</td>\n",
       "      <td>2.345346e-14</td>\n",
       "      <td>9.453143e-01</td>\n",
       "      <td>Weight</td>\n",
       "      <td>2.345346e-14</td>\n",
       "      <td>4.0</td>\n",
       "      <td>5.0</td>\n",
       "      <td>0.0</td>\n",
       "      <td>-31.383758</td>\n",
       "    </tr>\n",
       "    <tr>\n",
       "      <th>2</th>\n",
       "      <td>Ice Hockey Women's Ice Hockey</td>\n",
       "      <td>8.211889e-08</td>\n",
       "      <td>5.702212e-13</td>\n",
       "      <td>4.704105e-02</td>\n",
       "      <td>Weight</td>\n",
       "      <td>5.702212e-13</td>\n",
       "      <td>3.0</td>\n",
       "      <td>2.0</td>\n",
       "      <td>1.0</td>\n",
       "      <td>-28.192752</td>\n",
       "    </tr>\n",
       "    <tr>\n",
       "      <th>3</th>\n",
       "      <td>Water Polo Men's Water Polo</td>\n",
       "      <td>2.643434e-09</td>\n",
       "      <td>2.530720e-12</td>\n",
       "      <td>9.758556e-03</td>\n",
       "      <td>Weight</td>\n",
       "      <td>2.530720e-12</td>\n",
       "      <td>2.0</td>\n",
       "      <td>4.0</td>\n",
       "      <td>1.0</td>\n",
       "      <td>-26.702517</td>\n",
       "    </tr>\n",
       "    <tr>\n",
       "      <th>4</th>\n",
       "      <td>Athletics Men's 4 x 400 metres Relay</td>\n",
       "      <td>3.299247e-07</td>\n",
       "      <td>4.024965e-12</td>\n",
       "      <td>1.151537e-02</td>\n",
       "      <td>Weight</td>\n",
       "      <td>4.024965e-12</td>\n",
       "      <td>3.0</td>\n",
       "      <td>3.0</td>\n",
       "      <td>-1.0</td>\n",
       "      <td>-26.238505</td>\n",
       "    </tr>\n",
       "    <tr>\n",
       "      <th>5</th>\n",
       "      <td>Swimming Women's 4 x 100 metres Freestyle Relay</td>\n",
       "      <td>1.638355e-08</td>\n",
       "      <td>1.546177e-11</td>\n",
       "      <td>5.995546e-01</td>\n",
       "      <td>Weight</td>\n",
       "      <td>1.546177e-11</td>\n",
       "      <td>3.0</td>\n",
       "      <td>3.0</td>\n",
       "      <td>0.0</td>\n",
       "      <td>-24.892650</td>\n",
       "    </tr>\n",
       "    <tr>\n",
       "      <th>6</th>\n",
       "      <td>Volleyball Men's Volleyball</td>\n",
       "      <td>1.968400e-02</td>\n",
       "      <td>1.082584e-04</td>\n",
       "      <td>3.954500e-10</td>\n",
       "      <td>Age</td>\n",
       "      <td>3.954500e-10</td>\n",
       "      <td>0.0</td>\n",
       "      <td>2.0</td>\n",
       "      <td>1.0</td>\n",
       "      <td>-21.650997</td>\n",
       "    </tr>\n",
       "    <tr>\n",
       "      <th>7</th>\n",
       "      <td>Cycling Men's 100 kilometres Team Time Trial</td>\n",
       "      <td>2.702744e-08</td>\n",
       "      <td>5.743232e-10</td>\n",
       "      <td>4.954390e-01</td>\n",
       "      <td>Weight</td>\n",
       "      <td>5.743232e-10</td>\n",
       "      <td>3.0</td>\n",
       "      <td>5.0</td>\n",
       "      <td>0.0</td>\n",
       "      <td>-21.277829</td>\n",
       "    </tr>\n",
       "    <tr>\n",
       "      <th>8</th>\n",
       "      <td>Cross Country Skiing Men's 4 x 10 kilometres R...</td>\n",
       "      <td>3.583065e-02</td>\n",
       "      <td>8.034201e-01</td>\n",
       "      <td>1.163410e-09</td>\n",
       "      <td>Age</td>\n",
       "      <td>1.163410e-09</td>\n",
       "      <td>0.0</td>\n",
       "      <td>0.0</td>\n",
       "      <td>2.0</td>\n",
       "      <td>-20.571911</td>\n",
       "    </tr>\n",
       "    <tr>\n",
       "      <th>9</th>\n",
       "      <td>Gymnastics Men's Team All-Around</td>\n",
       "      <td>3.005906e-07</td>\n",
       "      <td>1.238120e-09</td>\n",
       "      <td>9.732693e-01</td>\n",
       "      <td>Weight</td>\n",
       "      <td>1.238120e-09</td>\n",
       "      <td>-2.0</td>\n",
       "      <td>-3.0</td>\n",
       "      <td>0.0</td>\n",
       "      <td>-20.509672</td>\n",
       "    </tr>\n",
       "    <tr>\n",
       "      <th>10</th>\n",
       "      <td>Swimming Men's 4 x 100 metres Freestyle Relay</td>\n",
       "      <td>9.240788e-09</td>\n",
       "      <td>1.470796e-09</td>\n",
       "      <td>1.489021e-03</td>\n",
       "      <td>Weight</td>\n",
       "      <td>1.470796e-09</td>\n",
       "      <td>3.0</td>\n",
       "      <td>5.0</td>\n",
       "      <td>0.0</td>\n",
       "      <td>-20.337462</td>\n",
       "    </tr>\n",
       "    <tr>\n",
       "      <th>11</th>\n",
       "      <td>Handball Men's Handball</td>\n",
       "      <td>3.117875e-08</td>\n",
       "      <td>2.043674e-09</td>\n",
       "      <td>6.594000e-03</td>\n",
       "      <td>Weight</td>\n",
       "      <td>2.043674e-09</td>\n",
       "      <td>2.0</td>\n",
       "      <td>4.0</td>\n",
       "      <td>1.0</td>\n",
       "      <td>-20.008517</td>\n",
       "    </tr>\n",
       "    <tr>\n",
       "      <th>12</th>\n",
       "      <td>Swimming Men's 50 metres Freestyle</td>\n",
       "      <td>2.169065e-08</td>\n",
       "      <td>3.286229e-05</td>\n",
       "      <td>8.100129e-02</td>\n",
       "      <td>Height</td>\n",
       "      <td>2.169065e-08</td>\n",
       "      <td>10.5</td>\n",
       "      <td>7.0</td>\n",
       "      <td>0.5</td>\n",
       "      <td>-17.646385</td>\n",
       "    </tr>\n",
       "    <tr>\n",
       "      <th>13</th>\n",
       "      <td>Volleyball Women's Volleyball</td>\n",
       "      <td>6.096436e-01</td>\n",
       "      <td>2.354179e-07</td>\n",
       "      <td>1.328750e-02</td>\n",
       "      <td>Weight</td>\n",
       "      <td>2.354179e-07</td>\n",
       "      <td>-1.0</td>\n",
       "      <td>4.0</td>\n",
       "      <td>1.0</td>\n",
       "      <td>-15.261904</td>\n",
       "    </tr>\n",
       "    <tr>\n",
       "      <th>14</th>\n",
       "      <td>Hockey Men's Hockey</td>\n",
       "      <td>1.195349e-05</td>\n",
       "      <td>3.413221e-07</td>\n",
       "      <td>9.840565e-01</td>\n",
       "      <td>Weight</td>\n",
       "      <td>3.413221e-07</td>\n",
       "      <td>1.0</td>\n",
       "      <td>2.0</td>\n",
       "      <td>1.0</td>\n",
       "      <td>-14.890439</td>\n",
       "    </tr>\n",
       "    <tr>\n",
       "      <th>15</th>\n",
       "      <td>Swimming Women's 4 x 100 metres Medley Relay</td>\n",
       "      <td>7.481755e-06</td>\n",
       "      <td>4.346427e-07</td>\n",
       "      <td>9.131284e-01</td>\n",
       "      <td>Weight</td>\n",
       "      <td>4.346427e-07</td>\n",
       "      <td>2.0</td>\n",
       "      <td>2.0</td>\n",
       "      <td>0.0</td>\n",
       "      <td>-14.648742</td>\n",
       "    </tr>\n",
       "    <tr>\n",
       "      <th>16</th>\n",
       "      <td>Figure Skating Mixed Pairs</td>\n",
       "      <td>5.001556e-01</td>\n",
       "      <td>4.644989e-01</td>\n",
       "      <td>4.417174e-07</td>\n",
       "      <td>Age</td>\n",
       "      <td>4.417174e-07</td>\n",
       "      <td>1.0</td>\n",
       "      <td>5.0</td>\n",
       "      <td>2.0</td>\n",
       "      <td>-14.632596</td>\n",
       "    </tr>\n",
       "    <tr>\n",
       "      <th>17</th>\n",
       "      <td>Swimming Men's 100 metres Freestyle</td>\n",
       "      <td>1.695176e-06</td>\n",
       "      <td>6.253036e-04</td>\n",
       "      <td>2.634064e-01</td>\n",
       "      <td>Height</td>\n",
       "      <td>1.695176e-06</td>\n",
       "      <td>6.0</td>\n",
       "      <td>3.0</td>\n",
       "      <td>0.0</td>\n",
       "      <td>-13.287724</td>\n",
       "    </tr>\n",
       "    <tr>\n",
       "      <th>18</th>\n",
       "      <td>Football Men's Football</td>\n",
       "      <td>3.216822e-02</td>\n",
       "      <td>1.925942e-06</td>\n",
       "      <td>2.270030e-06</td>\n",
       "      <td>Weight</td>\n",
       "      <td>1.925942e-06</td>\n",
       "      <td>1.0</td>\n",
       "      <td>1.0</td>\n",
       "      <td>0.0</td>\n",
       "      <td>-13.160095</td>\n",
       "    </tr>\n",
       "    <tr>\n",
       "      <th>19</th>\n",
       "      <td>Athletics Men's 4 x 100 metres Relay</td>\n",
       "      <td>3.175047e-04</td>\n",
       "      <td>2.844142e-06</td>\n",
       "      <td>7.040366e-01</td>\n",
       "      <td>Weight</td>\n",
       "      <td>2.844142e-06</td>\n",
       "      <td>1.0</td>\n",
       "      <td>2.0</td>\n",
       "      <td>0.0</td>\n",
       "      <td>-12.770249</td>\n",
       "    </tr>\n",
       "    <tr>\n",
       "      <th>20</th>\n",
       "      <td>Swimming Men's 4 x 100 metres Medley Relay</td>\n",
       "      <td>1.608501e-05</td>\n",
       "      <td>7.159428e-06</td>\n",
       "      <td>3.868770e-04</td>\n",
       "      <td>Weight</td>\n",
       "      <td>7.159428e-06</td>\n",
       "      <td>2.0</td>\n",
       "      <td>3.0</td>\n",
       "      <td>1.0</td>\n",
       "      <td>-11.847080</td>\n",
       "    </tr>\n",
       "    <tr>\n",
       "      <th>21</th>\n",
       "      <td>Fencing Men's epee, Team</td>\n",
       "      <td>5.617134e-03</td>\n",
       "      <td>9.067098e-06</td>\n",
       "      <td>2.097419e-03</td>\n",
       "      <td>Weight</td>\n",
       "      <td>9.067098e-06</td>\n",
       "      <td>2.0</td>\n",
       "      <td>2.0</td>\n",
       "      <td>2.0</td>\n",
       "      <td>-11.610858</td>\n",
       "    </tr>\n",
       "    <tr>\n",
       "      <th>22</th>\n",
       "      <td>Speed Skating Men's 10,000 metres</td>\n",
       "      <td>3.961226e-05</td>\n",
       "      <td>1.008616e-05</td>\n",
       "      <td>6.747021e-03</td>\n",
       "      <td>Weight</td>\n",
       "      <td>1.008616e-05</td>\n",
       "      <td>3.0</td>\n",
       "      <td>5.0</td>\n",
       "      <td>2.0</td>\n",
       "      <td>-11.504347</td>\n",
       "    </tr>\n",
       "    <tr>\n",
       "      <th>23</th>\n",
       "      <td>Speed Skating Men's 5,000 metres</td>\n",
       "      <td>1.217694e-05</td>\n",
       "      <td>1.127235e-03</td>\n",
       "      <td>5.582657e-02</td>\n",
       "      <td>Height</td>\n",
       "      <td>1.217694e-05</td>\n",
       "      <td>4.0</td>\n",
       "      <td>5.0</td>\n",
       "      <td>1.0</td>\n",
       "      <td>-11.315967</td>\n",
       "    </tr>\n",
       "    <tr>\n",
       "      <th>24</th>\n",
       "      <td>Rowing Women's Coxed Eights</td>\n",
       "      <td>4.503816e-02</td>\n",
       "      <td>2.407464e-05</td>\n",
       "      <td>1.963500e-03</td>\n",
       "      <td>Weight</td>\n",
       "      <td>2.407464e-05</td>\n",
       "      <td>1.0</td>\n",
       "      <td>3.0</td>\n",
       "      <td>0.0</td>\n",
       "      <td>-10.634352</td>\n",
       "    </tr>\n",
       "    <tr>\n",
       "      <th>25</th>\n",
       "      <td>Swimming Women's 100 metres Freestyle</td>\n",
       "      <td>7.345712e-04</td>\n",
       "      <td>2.542246e-05</td>\n",
       "      <td>2.044112e-01</td>\n",
       "      <td>Weight</td>\n",
       "      <td>2.542246e-05</td>\n",
       "      <td>3.0</td>\n",
       "      <td>5.5</td>\n",
       "      <td>1.0</td>\n",
       "      <td>-10.579877</td>\n",
       "    </tr>\n",
       "    <tr>\n",
       "      <th>26</th>\n",
       "      <td>Football Women's Football</td>\n",
       "      <td>1.479711e-04</td>\n",
       "      <td>4.426880e-04</td>\n",
       "      <td>3.238898e-05</td>\n",
       "      <td>Age</td>\n",
       "      <td>3.238898e-05</td>\n",
       "      <td>3.0</td>\n",
       "      <td>2.0</td>\n",
       "      <td>1.0</td>\n",
       "      <td>-10.337692</td>\n",
       "    </tr>\n",
       "    <tr>\n",
       "      <th>27</th>\n",
       "      <td>Rowing Men's Coxed Eights</td>\n",
       "      <td>3.298399e-05</td>\n",
       "      <td>4.382361e-03</td>\n",
       "      <td>1.216235e-02</td>\n",
       "      <td>Height</td>\n",
       "      <td>3.298399e-05</td>\n",
       "      <td>3.0</td>\n",
       "      <td>2.0</td>\n",
       "      <td>1.0</td>\n",
       "      <td>-10.319488</td>\n",
       "    </tr>\n",
       "    <tr>\n",
       "      <th>28</th>\n",
       "      <td>Cross Country Skiing Women's 10 kilometres</td>\n",
       "      <td>1.387088e-02</td>\n",
       "      <td>6.063085e-01</td>\n",
       "      <td>5.035339e-05</td>\n",
       "      <td>Age</td>\n",
       "      <td>5.035339e-05</td>\n",
       "      <td>-4.0</td>\n",
       "      <td>1.0</td>\n",
       "      <td>3.0</td>\n",
       "      <td>-9.896445</td>\n",
       "    </tr>\n",
       "    <tr>\n",
       "      <th>29</th>\n",
       "      <td>Cross Country Skiing Women's 4 x 5 kilometres ...</td>\n",
       "      <td>1.905159e-01</td>\n",
       "      <td>5.433227e-01</td>\n",
       "      <td>5.876136e-05</td>\n",
       "      <td>Age</td>\n",
       "      <td>5.876136e-05</td>\n",
       "      <td>0.0</td>\n",
       "      <td>0.5</td>\n",
       "      <td>2.0</td>\n",
       "      <td>-9.742026</td>\n",
       "    </tr>\n",
       "    <tr>\n",
       "      <th>30</th>\n",
       "      <td>Gymnastics Men's Parallel Bars</td>\n",
       "      <td>1.175250e-02</td>\n",
       "      <td>6.008362e-05</td>\n",
       "      <td>7.818993e-03</td>\n",
       "      <td>Weight</td>\n",
       "      <td>6.008362e-05</td>\n",
       "      <td>-2.0</td>\n",
       "      <td>-5.0</td>\n",
       "      <td>1.0</td>\n",
       "      <td>-9.719773</td>\n",
       "    </tr>\n",
       "    <tr>\n",
       "      <th>31</th>\n",
       "      <td>Athletics Men's 400 metres</td>\n",
       "      <td>7.367821e-05</td>\n",
       "      <td>5.180972e-04</td>\n",
       "      <td>2.140455e-01</td>\n",
       "      <td>Height</td>\n",
       "      <td>7.367821e-05</td>\n",
       "      <td>3.0</td>\n",
       "      <td>2.0</td>\n",
       "      <td>0.0</td>\n",
       "      <td>-9.515803</td>\n",
       "    </tr>\n",
       "    <tr>\n",
       "      <th>32</th>\n",
       "      <td>Swimming Women's 50 metres Freestyle</td>\n",
       "      <td>8.939744e-05</td>\n",
       "      <td>9.641480e-03</td>\n",
       "      <td>3.702760e-03</td>\n",
       "      <td>Height</td>\n",
       "      <td>8.939744e-05</td>\n",
       "      <td>6.0</td>\n",
       "      <td>4.0</td>\n",
       "      <td>2.0</td>\n",
       "      <td>-9.322418</td>\n",
       "    </tr>\n",
       "    <tr>\n",
       "      <th>33</th>\n",
       "      <td>Swimming Men's 200 metres Butterfly</td>\n",
       "      <td>8.960802e-05</td>\n",
       "      <td>2.326526e-04</td>\n",
       "      <td>1.879771e-01</td>\n",
       "      <td>Height</td>\n",
       "      <td>8.960802e-05</td>\n",
       "      <td>4.0</td>\n",
       "      <td>2.0</td>\n",
       "      <td>1.0</td>\n",
       "      <td>-9.320066</td>\n",
       "    </tr>\n",
       "    <tr>\n",
       "      <th>34</th>\n",
       "      <td>Luge Mixed (Men)'s Doubles</td>\n",
       "      <td>1.452584e-01</td>\n",
       "      <td>6.570184e-02</td>\n",
       "      <td>1.282980e-04</td>\n",
       "      <td>Age</td>\n",
       "      <td>1.282980e-04</td>\n",
       "      <td>1.5</td>\n",
       "      <td>3.5</td>\n",
       "      <td>3.0</td>\n",
       "      <td>-8.961155</td>\n",
       "    </tr>\n",
       "    <tr>\n",
       "      <th>35</th>\n",
       "      <td>Athletics Women's 200 metres</td>\n",
       "      <td>1.701624e-04</td>\n",
       "      <td>2.395346e-02</td>\n",
       "      <td>5.335145e-01</td>\n",
       "      <td>Height</td>\n",
       "      <td>1.701624e-04</td>\n",
       "      <td>2.0</td>\n",
       "      <td>1.0</td>\n",
       "      <td>1.0</td>\n",
       "      <td>-8.678757</td>\n",
       "    </tr>\n",
       "    <tr>\n",
       "      <th>36</th>\n",
       "      <td>Rowing Men's Double Sculls</td>\n",
       "      <td>4.634953e-01</td>\n",
       "      <td>3.028934e-01</td>\n",
       "      <td>2.219659e-04</td>\n",
       "      <td>Age</td>\n",
       "      <td>2.219659e-04</td>\n",
       "      <td>1.0</td>\n",
       "      <td>1.0</td>\n",
       "      <td>1.0</td>\n",
       "      <td>-8.412987</td>\n",
       "    </tr>\n",
       "    <tr>\n",
       "      <th>37</th>\n",
       "      <td>Sailing Mixed Three Person Keelboat</td>\n",
       "      <td>7.801355e-03</td>\n",
       "      <td>2.608406e-04</td>\n",
       "      <td>4.469392e-01</td>\n",
       "      <td>Weight</td>\n",
       "      <td>2.608406e-04</td>\n",
       "      <td>3.0</td>\n",
       "      <td>5.0</td>\n",
       "      <td>0.0</td>\n",
       "      <td>-8.251601</td>\n",
       "    </tr>\n",
       "    <tr>\n",
       "      <th>38</th>\n",
       "      <td>Athletics Men's 100 metres</td>\n",
       "      <td>2.944197e-04</td>\n",
       "      <td>5.704468e-03</td>\n",
       "      <td>4.651675e-01</td>\n",
       "      <td>Height</td>\n",
       "      <td>2.944197e-04</td>\n",
       "      <td>3.0</td>\n",
       "      <td>2.0</td>\n",
       "      <td>0.5</td>\n",
       "      <td>-8.130504</td>\n",
       "    </tr>\n",
       "    <tr>\n",
       "      <th>39</th>\n",
       "      <td>Cycling Men's Team Pursuit, 4,000 metres</td>\n",
       "      <td>3.031163e-04</td>\n",
       "      <td>1.769529e-02</td>\n",
       "      <td>8.593330e-04</td>\n",
       "      <td>Height</td>\n",
       "      <td>3.031163e-04</td>\n",
       "      <td>1.0</td>\n",
       "      <td>2.0</td>\n",
       "      <td>1.0</td>\n",
       "      <td>-8.101394</td>\n",
       "    </tr>\n",
       "    <tr>\n",
       "      <th>40</th>\n",
       "      <td>Fencing Men's Foil, Team</td>\n",
       "      <td>1.536302e-03</td>\n",
       "      <td>3.221236e-04</td>\n",
       "      <td>2.072722e-02</td>\n",
       "      <td>Weight</td>\n",
       "      <td>3.221236e-04</td>\n",
       "      <td>2.0</td>\n",
       "      <td>2.0</td>\n",
       "      <td>1.0</td>\n",
       "      <td>-8.040575</td>\n",
       "    </tr>\n",
       "    <tr>\n",
       "      <th>41</th>\n",
       "      <td>Alpine Skiing Men's Giant Slalom</td>\n",
       "      <td>3.837258e-02</td>\n",
       "      <td>1.014893e-01</td>\n",
       "      <td>3.414341e-04</td>\n",
       "      <td>Age</td>\n",
       "      <td>3.414341e-04</td>\n",
       "      <td>3.0</td>\n",
       "      <td>3.0</td>\n",
       "      <td>2.0</td>\n",
       "      <td>-7.982356</td>\n",
       "    </tr>\n",
       "    <tr>\n",
       "      <th>42</th>\n",
       "      <td>Swimming Men's 100 metres Backstroke</td>\n",
       "      <td>3.426231e-04</td>\n",
       "      <td>3.917260e-04</td>\n",
       "      <td>8.535710e-01</td>\n",
       "      <td>Height</td>\n",
       "      <td>3.426231e-04</td>\n",
       "      <td>5.0</td>\n",
       "      <td>6.0</td>\n",
       "      <td>0.0</td>\n",
       "      <td>-7.978879</td>\n",
       "    </tr>\n",
       "    <tr>\n",
       "      <th>43</th>\n",
       "      <td>Athletics Men's High Jump</td>\n",
       "      <td>4.259982e-04</td>\n",
       "      <td>1.764703e-02</td>\n",
       "      <td>7.781132e-02</td>\n",
       "      <td>Height</td>\n",
       "      <td>4.259982e-04</td>\n",
       "      <td>3.5</td>\n",
       "      <td>4.0</td>\n",
       "      <td>-1.0</td>\n",
       "      <td>-7.761076</td>\n",
       "    </tr>\n",
       "    <tr>\n",
       "      <th>44</th>\n",
       "      <td>Swimming Men's 200 metres Freestyle</td>\n",
       "      <td>5.246161e-04</td>\n",
       "      <td>1.120428e-02</td>\n",
       "      <td>5.625818e-01</td>\n",
       "      <td>Height</td>\n",
       "      <td>5.246161e-04</td>\n",
       "      <td>4.0</td>\n",
       "      <td>4.0</td>\n",
       "      <td>0.0</td>\n",
       "      <td>-7.552844</td>\n",
       "    </tr>\n",
       "    <tr>\n",
       "      <th>45</th>\n",
       "      <td>Swimming Men's 4 x 200 metres Freestyle Relay</td>\n",
       "      <td>1.002011e-02</td>\n",
       "      <td>5.286976e-04</td>\n",
       "      <td>2.924547e-01</td>\n",
       "      <td>Weight</td>\n",
       "      <td>5.286976e-04</td>\n",
       "      <td>1.0</td>\n",
       "      <td>2.0</td>\n",
       "      <td>0.0</td>\n",
       "      <td>-7.545094</td>\n",
       "    </tr>\n",
       "    <tr>\n",
       "      <th>46</th>\n",
       "      <td>Equestrianism Mixed Jumping, Team</td>\n",
       "      <td>2.494986e-02</td>\n",
       "      <td>5.224972e-02</td>\n",
       "      <td>5.360677e-04</td>\n",
       "      <td>Age</td>\n",
       "      <td>5.360677e-04</td>\n",
       "      <td>1.0</td>\n",
       "      <td>0.0</td>\n",
       "      <td>3.0</td>\n",
       "      <td>-7.531250</td>\n",
       "    </tr>\n",
       "    <tr>\n",
       "      <th>47</th>\n",
       "      <td>Shooting Men's Free Pistol, 50 metres</td>\n",
       "      <td>9.413547e-01</td>\n",
       "      <td>1.841117e-01</td>\n",
       "      <td>5.573253e-04</td>\n",
       "      <td>Age</td>\n",
       "      <td>5.573253e-04</td>\n",
       "      <td>0.0</td>\n",
       "      <td>2.0</td>\n",
       "      <td>-4.0</td>\n",
       "      <td>-7.492361</td>\n",
       "    </tr>\n",
       "    <tr>\n",
       "      <th>48</th>\n",
       "      <td>Gymnastics Women's Team All-Around</td>\n",
       "      <td>4.121203e-02</td>\n",
       "      <td>5.747075e-04</td>\n",
       "      <td>6.686676e-02</td>\n",
       "      <td>Weight</td>\n",
       "      <td>5.747075e-04</td>\n",
       "      <td>-1.0</td>\n",
       "      <td>-2.0</td>\n",
       "      <td>1.0</td>\n",
       "      <td>-7.461649</td>\n",
       "    </tr>\n",
       "    <tr>\n",
       "      <th>49</th>\n",
       "      <td>Rowing Men's Quadruple Sculls</td>\n",
       "      <td>4.682018e-03</td>\n",
       "      <td>7.175268e-04</td>\n",
       "      <td>8.301428e-01</td>\n",
       "      <td>Weight</td>\n",
       "      <td>7.175268e-04</td>\n",
       "      <td>2.0</td>\n",
       "      <td>2.0</td>\n",
       "      <td>0.0</td>\n",
       "      <td>-7.239700</td>\n",
       "    </tr>\n",
       "    <tr>\n",
       "      <th>50</th>\n",
       "      <td>Swimming Women's 100 metres Butterfly</td>\n",
       "      <td>7.291403e-04</td>\n",
       "      <td>8.014828e-04</td>\n",
       "      <td>3.365962e-01</td>\n",
       "      <td>Height</td>\n",
       "      <td>7.291403e-04</td>\n",
       "      <td>3.0</td>\n",
       "      <td>3.0</td>\n",
       "      <td>0.5</td>\n",
       "      <td>-7.223644</td>\n",
       "    </tr>\n",
       "    <tr>\n",
       "      <th>51</th>\n",
       "      <td>Athletics Men's Shot Put</td>\n",
       "      <td>8.367576e-01</td>\n",
       "      <td>6.799390e-01</td>\n",
       "      <td>7.330553e-04</td>\n",
       "      <td>Age</td>\n",
       "      <td>7.330553e-04</td>\n",
       "      <td>1.0</td>\n",
       "      <td>-2.0</td>\n",
       "      <td>-1.0</td>\n",
       "      <td>-7.218289</td>\n",
       "    </tr>\n",
       "    <tr>\n",
       "      <th>52</th>\n",
       "      <td>Athletics Women's 4 x 400 metres Relay</td>\n",
       "      <td>2.495396e-02</td>\n",
       "      <td>7.697839e-04</td>\n",
       "      <td>9.018508e-03</td>\n",
       "      <td>Weight</td>\n",
       "      <td>7.697839e-04</td>\n",
       "      <td>0.0</td>\n",
       "      <td>1.0</td>\n",
       "      <td>1.0</td>\n",
       "      <td>-7.169401</td>\n",
       "    </tr>\n",
       "    <tr>\n",
       "      <th>53</th>\n",
       "      <td>Gymnastics Men's Floor Exercise</td>\n",
       "      <td>2.646637e-03</td>\n",
       "      <td>7.871599e-04</td>\n",
       "      <td>5.010345e-01</td>\n",
       "      <td>Weight</td>\n",
       "      <td>7.871599e-04</td>\n",
       "      <td>-2.5</td>\n",
       "      <td>-3.0</td>\n",
       "      <td>-1.0</td>\n",
       "      <td>-7.147079</td>\n",
       "    </tr>\n",
       "    <tr>\n",
       "      <th>54</th>\n",
       "      <td>Alpine Skiing Men's Downhill</td>\n",
       "      <td>9.989292e-04</td>\n",
       "      <td>6.448892e-03</td>\n",
       "      <td>5.235943e-03</td>\n",
       "      <td>Height</td>\n",
       "      <td>9.989292e-04</td>\n",
       "      <td>4.0</td>\n",
       "      <td>5.0</td>\n",
       "      <td>0.0</td>\n",
       "      <td>-6.908827</td>\n",
       "    </tr>\n",
       "    <tr>\n",
       "      <th>55</th>\n",
       "      <td>Fencing Men's Foil, Individual</td>\n",
       "      <td>1.154121e-03</td>\n",
       "      <td>1.515120e-01</td>\n",
       "      <td>9.016889e-01</td>\n",
       "      <td>Height</td>\n",
       "      <td>1.154121e-03</td>\n",
       "      <td>4.0</td>\n",
       "      <td>1.0</td>\n",
       "      <td>0.0</td>\n",
       "      <td>-6.764417</td>\n",
       "    </tr>\n",
       "    <tr>\n",
       "      <th>56</th>\n",
       "      <td>Cycling Men's Sprint</td>\n",
       "      <td>2.654345e-02</td>\n",
       "      <td>1.218956e-03</td>\n",
       "      <td>4.457586e-01</td>\n",
       "      <td>Weight</td>\n",
       "      <td>1.218956e-03</td>\n",
       "      <td>3.0</td>\n",
       "      <td>4.0</td>\n",
       "      <td>1.0</td>\n",
       "      <td>-6.709760</td>\n",
       "    </tr>\n",
       "    <tr>\n",
       "      <th>57</th>\n",
       "      <td>Hockey Women's Hockey</td>\n",
       "      <td>1.222189e-03</td>\n",
       "      <td>4.799607e-01</td>\n",
       "      <td>3.543482e-02</td>\n",
       "      <td>Height</td>\n",
       "      <td>1.222189e-03</td>\n",
       "      <td>2.0</td>\n",
       "      <td>0.0</td>\n",
       "      <td>0.0</td>\n",
       "      <td>-6.707112</td>\n",
       "    </tr>\n",
       "    <tr>\n",
       "      <th>58</th>\n",
       "      <td>Gymnastics Men's Rings</td>\n",
       "      <td>1.252263e-03</td>\n",
       "      <td>7.999172e-02</td>\n",
       "      <td>3.495770e-03</td>\n",
       "      <td>Height</td>\n",
       "      <td>1.252263e-03</td>\n",
       "      <td>-4.0</td>\n",
       "      <td>-2.5</td>\n",
       "      <td>1.0</td>\n",
       "      <td>-6.682803</td>\n",
       "    </tr>\n",
       "    <tr>\n",
       "      <th>59</th>\n",
       "      <td>Swimming Men's 100 metres Butterfly</td>\n",
       "      <td>1.289192e-03</td>\n",
       "      <td>2.215701e-03</td>\n",
       "      <td>1.429048e-01</td>\n",
       "      <td>Height</td>\n",
       "      <td>1.289192e-03</td>\n",
       "      <td>4.0</td>\n",
       "      <td>6.0</td>\n",
       "      <td>0.5</td>\n",
       "      <td>-6.653740</td>\n",
       "    </tr>\n",
       "    <tr>\n",
       "      <th>60</th>\n",
       "      <td>Swimming Women's 200 metres Breaststroke</td>\n",
       "      <td>1.938374e-02</td>\n",
       "      <td>1.467735e-03</td>\n",
       "      <td>2.805337e-01</td>\n",
       "      <td>Weight</td>\n",
       "      <td>1.467735e-03</td>\n",
       "      <td>3.0</td>\n",
       "      <td>3.0</td>\n",
       "      <td>0.0</td>\n",
       "      <td>-6.524035</td>\n",
       "    </tr>\n",
       "    <tr>\n",
       "      <th>61</th>\n",
       "      <td>Athletics Women's 400 metres</td>\n",
       "      <td>2.629888e-02</td>\n",
       "      <td>1.588681e-03</td>\n",
       "      <td>1.801754e-01</td>\n",
       "      <td>Weight</td>\n",
       "      <td>1.588681e-03</td>\n",
       "      <td>1.0</td>\n",
       "      <td>2.0</td>\n",
       "      <td>0.0</td>\n",
       "      <td>-6.444851</td>\n",
       "    </tr>\n",
       "    <tr>\n",
       "      <th>62</th>\n",
       "      <td>Ice Hockey Men's Ice Hockey</td>\n",
       "      <td>7.529758e-03</td>\n",
       "      <td>1.591408e-03</td>\n",
       "      <td>6.971628e-01</td>\n",
       "      <td>Weight</td>\n",
       "      <td>1.591408e-03</td>\n",
       "      <td>0.0</td>\n",
       "      <td>0.0</td>\n",
       "      <td>0.0</td>\n",
       "      <td>-6.443136</td>\n",
       "    </tr>\n",
       "    <tr>\n",
       "      <th>63</th>\n",
       "      <td>Swimming Women's 400 metres Freestyle</td>\n",
       "      <td>2.166341e-03</td>\n",
       "      <td>1.961980e-03</td>\n",
       "      <td>7.865685e-01</td>\n",
       "      <td>Weight</td>\n",
       "      <td>1.961980e-03</td>\n",
       "      <td>3.0</td>\n",
       "      <td>3.0</td>\n",
       "      <td>0.0</td>\n",
       "      <td>-6.233801</td>\n",
       "    </tr>\n",
       "    <tr>\n",
       "      <th>64</th>\n",
       "      <td>Ski Jumping Men's Normal Hill, Individual</td>\n",
       "      <td>2.783407e-01</td>\n",
       "      <td>2.129047e-03</td>\n",
       "      <td>3.529953e-01</td>\n",
       "      <td>Weight</td>\n",
       "      <td>2.129047e-03</td>\n",
       "      <td>-1.0</td>\n",
       "      <td>-4.0</td>\n",
       "      <td>1.0</td>\n",
       "      <td>-6.152081</td>\n",
       "    </tr>\n",
       "    <tr>\n",
       "      <th>65</th>\n",
       "      <td>Athletics Women's 100 metres</td>\n",
       "      <td>2.155290e-03</td>\n",
       "      <td>1.447279e-02</td>\n",
       "      <td>1.608759e-01</td>\n",
       "      <td>Height</td>\n",
       "      <td>2.155290e-03</td>\n",
       "      <td>3.0</td>\n",
       "      <td>1.0</td>\n",
       "      <td>1.0</td>\n",
       "      <td>-6.139830</td>\n",
       "    </tr>\n",
       "    <tr>\n",
       "      <th>66</th>\n",
       "      <td>Bobsleigh Men's Four</td>\n",
       "      <td>4.083844e-01</td>\n",
       "      <td>1.395375e-01</td>\n",
       "      <td>2.213859e-03</td>\n",
       "      <td>Age</td>\n",
       "      <td>2.213859e-03</td>\n",
       "      <td>1.0</td>\n",
       "      <td>0.0</td>\n",
       "      <td>1.0</td>\n",
       "      <td>-6.113018</td>\n",
       "    </tr>\n",
       "    <tr>\n",
       "      <th>67</th>\n",
       "      <td>Tennis Women's Singles</td>\n",
       "      <td>2.222005e-03</td>\n",
       "      <td>5.840723e-02</td>\n",
       "      <td>8.189610e-01</td>\n",
       "      <td>Height</td>\n",
       "      <td>2.222005e-03</td>\n",
       "      <td>3.0</td>\n",
       "      <td>2.5</td>\n",
       "      <td>-1.0</td>\n",
       "      <td>-6.109345</td>\n",
       "    </tr>\n",
       "    <tr>\n",
       "      <th>68</th>\n",
       "      <td>Speed Skating Men's 1,500 metres</td>\n",
       "      <td>4.784613e-02</td>\n",
       "      <td>6.004944e-03</td>\n",
       "      <td>2.497545e-03</td>\n",
       "      <td>Age</td>\n",
       "      <td>2.497545e-03</td>\n",
       "      <td>2.0</td>\n",
       "      <td>2.0</td>\n",
       "      <td>1.0</td>\n",
       "      <td>-5.992447</td>\n",
       "    </tr>\n",
       "    <tr>\n",
       "      <th>69</th>\n",
       "      <td>Gymnastics Men's Individual All-Around</td>\n",
       "      <td>6.658603e-03</td>\n",
       "      <td>2.615588e-03</td>\n",
       "      <td>8.929874e-02</td>\n",
       "      <td>Weight</td>\n",
       "      <td>2.615588e-03</td>\n",
       "      <td>-2.0</td>\n",
       "      <td>-5.0</td>\n",
       "      <td>1.0</td>\n",
       "      <td>-5.946266</td>\n",
       "    </tr>\n",
       "    <tr>\n",
       "      <th>70</th>\n",
       "      <td>Cross Country Skiing Women's 5 kilometres</td>\n",
       "      <td>6.871309e-02</td>\n",
       "      <td>9.684078e-01</td>\n",
       "      <td>2.916463e-03</td>\n",
       "      <td>Age</td>\n",
       "      <td>2.916463e-03</td>\n",
       "      <td>-5.0</td>\n",
       "      <td>-0.5</td>\n",
       "      <td>3.0</td>\n",
       "      <td>-5.837384</td>\n",
       "    </tr>\n",
       "    <tr>\n",
       "      <th>71</th>\n",
       "      <td>Cross Country Skiing Men's 50 kilometres</td>\n",
       "      <td>1.339819e-01</td>\n",
       "      <td>6.097210e-01</td>\n",
       "      <td>2.929528e-03</td>\n",
       "      <td>Age</td>\n",
       "      <td>2.929528e-03</td>\n",
       "      <td>1.0</td>\n",
       "      <td>-1.0</td>\n",
       "      <td>1.0</td>\n",
       "      <td>-5.832914</td>\n",
       "    </tr>\n",
       "    <tr>\n",
       "      <th>72</th>\n",
       "      <td>Figure Skating Women's Singles</td>\n",
       "      <td>9.838482e-02</td>\n",
       "      <td>1.888409e-01</td>\n",
       "      <td>3.087461e-03</td>\n",
       "      <td>Age</td>\n",
       "      <td>3.087461e-03</td>\n",
       "      <td>-2.0</td>\n",
       "      <td>-1.0</td>\n",
       "      <td>1.0</td>\n",
       "      <td>-5.780406</td>\n",
       "    </tr>\n",
       "    <tr>\n",
       "      <th>73</th>\n",
       "      <td>Gymnastics Women's Uneven Bars</td>\n",
       "      <td>4.649289e-01</td>\n",
       "      <td>3.104361e-03</td>\n",
       "      <td>7.133083e-01</td>\n",
       "      <td>Weight</td>\n",
       "      <td>3.104361e-03</td>\n",
       "      <td>-1.0</td>\n",
       "      <td>-3.0</td>\n",
       "      <td>1.0</td>\n",
       "      <td>-5.774947</td>\n",
       "    </tr>\n",
       "    <tr>\n",
       "      <th>74</th>\n",
       "      <td>Tennis Women's Doubles</td>\n",
       "      <td>2.092843e-01</td>\n",
       "      <td>2.854014e-01</td>\n",
       "      <td>3.307661e-03</td>\n",
       "      <td>Age</td>\n",
       "      <td>3.307661e-03</td>\n",
       "      <td>1.5</td>\n",
       "      <td>0.5</td>\n",
       "      <td>2.0</td>\n",
       "      <td>-5.711514</td>\n",
       "    </tr>\n",
       "    <tr>\n",
       "      <th>75</th>\n",
       "      <td>Alpine Skiing Women's Giant Slalom</td>\n",
       "      <td>2.309290e-01</td>\n",
       "      <td>1.141745e-01</td>\n",
       "      <td>3.522688e-03</td>\n",
       "      <td>Age</td>\n",
       "      <td>3.522688e-03</td>\n",
       "      <td>1.0</td>\n",
       "      <td>1.0</td>\n",
       "      <td>2.0</td>\n",
       "      <td>-5.648531</td>\n",
       "    </tr>\n",
       "    <tr>\n",
       "      <th>76</th>\n",
       "      <td>Modern Pentathlon Men's Individual</td>\n",
       "      <td>1.577060e-01</td>\n",
       "      <td>3.965489e-01</td>\n",
       "      <td>3.542053e-03</td>\n",
       "      <td>Age</td>\n",
       "      <td>3.542053e-03</td>\n",
       "      <td>1.0</td>\n",
       "      <td>1.0</td>\n",
       "      <td>2.0</td>\n",
       "      <td>-5.643049</td>\n",
       "    </tr>\n",
       "    <tr>\n",
       "      <th>77</th>\n",
       "      <td>Athletics Men's 200 metres</td>\n",
       "      <td>3.823842e-03</td>\n",
       "      <td>4.378417e-03</td>\n",
       "      <td>4.901502e-01</td>\n",
       "      <td>Height</td>\n",
       "      <td>3.823842e-03</td>\n",
       "      <td>2.0</td>\n",
       "      <td>2.5</td>\n",
       "      <td>0.0</td>\n",
       "      <td>-5.566500</td>\n",
       "    </tr>\n",
       "    <tr>\n",
       "      <th>78</th>\n",
       "      <td>Swimming Men's 1,500 metres Freestyle</td>\n",
       "      <td>1.188161e-02</td>\n",
       "      <td>3.926574e-03</td>\n",
       "      <td>7.734047e-01</td>\n",
       "      <td>Weight</td>\n",
       "      <td>3.926574e-03</td>\n",
       "      <td>3.0</td>\n",
       "      <td>5.0</td>\n",
       "      <td>0.0</td>\n",
       "      <td>-5.539988</td>\n",
       "    </tr>\n",
       "    <tr>\n",
       "      <th>79</th>\n",
       "      <td>Alpine Skiing Men's Super G</td>\n",
       "      <td>4.661714e-01</td>\n",
       "      <td>3.233788e-02</td>\n",
       "      <td>4.505995e-03</td>\n",
       "      <td>Age</td>\n",
       "      <td>4.505995e-03</td>\n",
       "      <td>-0.5</td>\n",
       "      <td>3.0</td>\n",
       "      <td>3.0</td>\n",
       "      <td>-5.402347</td>\n",
       "    </tr>\n",
       "    <tr>\n",
       "      <th>80</th>\n",
       "      <td>Swimming Men's 200 metres Backstroke</td>\n",
       "      <td>7.472774e-03</td>\n",
       "      <td>4.576474e-03</td>\n",
       "      <td>3.471526e-02</td>\n",
       "      <td>Weight</td>\n",
       "      <td>4.576474e-03</td>\n",
       "      <td>3.0</td>\n",
       "      <td>5.0</td>\n",
       "      <td>1.0</td>\n",
       "      <td>-5.386827</td>\n",
       "    </tr>\n",
       "    <tr>\n",
       "      <th>81</th>\n",
       "      <td>Bobsleigh Men's Two</td>\n",
       "      <td>5.547175e-02</td>\n",
       "      <td>7.547593e-02</td>\n",
       "      <td>4.585632e-03</td>\n",
       "      <td>Age</td>\n",
       "      <td>4.585632e-03</td>\n",
       "      <td>1.0</td>\n",
       "      <td>1.0</td>\n",
       "      <td>1.0</td>\n",
       "      <td>-5.384827</td>\n",
       "    </tr>\n",
       "    <tr>\n",
       "      <th>82</th>\n",
       "      <td>Ski Jumping Men's Large Hill, Individual</td>\n",
       "      <td>1.765612e-01</td>\n",
       "      <td>4.600649e-03</td>\n",
       "      <td>3.255075e-01</td>\n",
       "      <td>Weight</td>\n",
       "      <td>4.600649e-03</td>\n",
       "      <td>-2.0</td>\n",
       "      <td>-4.5</td>\n",
       "      <td>-1.0</td>\n",
       "      <td>-5.381558</td>\n",
       "    </tr>\n",
       "    <tr>\n",
       "      <th>83</th>\n",
       "      <td>Swimming Women's 100 metres Backstroke</td>\n",
       "      <td>6.184552e-01</td>\n",
       "      <td>5.100125e-03</td>\n",
       "      <td>9.404142e-01</td>\n",
       "      <td>Weight</td>\n",
       "      <td>5.100125e-03</td>\n",
       "      <td>1.5</td>\n",
       "      <td>3.0</td>\n",
       "      <td>0.0</td>\n",
       "      <td>-5.278490</td>\n",
       "    </tr>\n",
       "    <tr>\n",
       "      <th>84</th>\n",
       "      <td>Athletics Men's 50 kilometres Walk</td>\n",
       "      <td>4.101985e-01</td>\n",
       "      <td>5.219796e-03</td>\n",
       "      <td>8.673266e-01</td>\n",
       "      <td>Weight</td>\n",
       "      <td>5.219796e-03</td>\n",
       "      <td>0.0</td>\n",
       "      <td>-3.0</td>\n",
       "      <td>0.0</td>\n",
       "      <td>-5.255297</td>\n",
       "    </tr>\n",
       "    <tr>\n",
       "      <th>85</th>\n",
       "      <td>Gymnastics Women's Balance Beam</td>\n",
       "      <td>5.850982e-03</td>\n",
       "      <td>6.248251e-03</td>\n",
       "      <td>2.628782e-01</td>\n",
       "      <td>Height</td>\n",
       "      <td>5.850982e-03</td>\n",
       "      <td>-5.0</td>\n",
       "      <td>-3.0</td>\n",
       "      <td>1.0</td>\n",
       "      <td>-5.141146</td>\n",
       "    </tr>\n",
       "    <tr>\n",
       "      <th>86</th>\n",
       "      <td>Athletics Women's 4 x 100 metres Relay</td>\n",
       "      <td>3.383327e-01</td>\n",
       "      <td>6.117941e-03</td>\n",
       "      <td>3.000208e-01</td>\n",
       "      <td>Weight</td>\n",
       "      <td>6.117941e-03</td>\n",
       "      <td>1.0</td>\n",
       "      <td>1.0</td>\n",
       "      <td>0.0</td>\n",
       "      <td>-5.096530</td>\n",
       "    </tr>\n",
       "    <tr>\n",
       "      <th>87</th>\n",
       "      <td>Canoeing Men's Kayak Doubles, 1,000 metres</td>\n",
       "      <td>8.088808e-01</td>\n",
       "      <td>1.218715e-01</td>\n",
       "      <td>6.334346e-03</td>\n",
       "      <td>Age</td>\n",
       "      <td>6.334346e-03</td>\n",
       "      <td>-1.0</td>\n",
       "      <td>0.0</td>\n",
       "      <td>1.5</td>\n",
       "      <td>-5.061769</td>\n",
       "    </tr>\n",
       "    <tr>\n",
       "      <th>88</th>\n",
       "      <td>Sailing Mixed Two Person Keelboat</td>\n",
       "      <td>3.355024e-02</td>\n",
       "      <td>6.342882e-03</td>\n",
       "      <td>2.424482e-01</td>\n",
       "      <td>Weight</td>\n",
       "      <td>6.342882e-03</td>\n",
       "      <td>1.0</td>\n",
       "      <td>4.0</td>\n",
       "      <td>1.5</td>\n",
       "      <td>-5.060422</td>\n",
       "    </tr>\n",
       "    <tr>\n",
       "      <th>89</th>\n",
       "      <td>Figure Skating Men's Singles</td>\n",
       "      <td>1.770126e-01</td>\n",
       "      <td>1.335919e-01</td>\n",
       "      <td>6.377301e-03</td>\n",
       "      <td>Age</td>\n",
       "      <td>6.377301e-03</td>\n",
       "      <td>2.5</td>\n",
       "      <td>3.0</td>\n",
       "      <td>2.0</td>\n",
       "      <td>-5.055010</td>\n",
       "    </tr>\n",
       "    <tr>\n",
       "      <th>90</th>\n",
       "      <td>Cross Country Skiing Men's 15 kilometres</td>\n",
       "      <td>9.429090e-03</td>\n",
       "      <td>4.806365e-02</td>\n",
       "      <td>6.525238e-03</td>\n",
       "      <td>Age</td>\n",
       "      <td>6.525238e-03</td>\n",
       "      <td>3.0</td>\n",
       "      <td>2.0</td>\n",
       "      <td>3.0</td>\n",
       "      <td>-5.032078</td>\n",
       "    </tr>\n",
       "    <tr>\n",
       "      <th>91</th>\n",
       "      <td>Athletics Women's High Jump</td>\n",
       "      <td>3.988169e-01</td>\n",
       "      <td>3.297575e-01</td>\n",
       "      <td>6.624582e-03</td>\n",
       "      <td>Age</td>\n",
       "      <td>6.624582e-03</td>\n",
       "      <td>1.0</td>\n",
       "      <td>0.0</td>\n",
       "      <td>2.0</td>\n",
       "      <td>-5.016968</td>\n",
       "    </tr>\n",
       "    <tr>\n",
       "      <th>92</th>\n",
       "      <td>Shooting Men's Small-Bore Rifle, Prone, 50 metres</td>\n",
       "      <td>5.602208e-02</td>\n",
       "      <td>6.531791e-02</td>\n",
       "      <td>6.783806e-03</td>\n",
       "      <td>Age</td>\n",
       "      <td>6.783806e-03</td>\n",
       "      <td>2.0</td>\n",
       "      <td>5.5</td>\n",
       "      <td>-3.0</td>\n",
       "      <td>-4.993217</td>\n",
       "    </tr>\n",
       "    <tr>\n",
       "      <th>93</th>\n",
       "      <td>Athletics Men's Pole Vault</td>\n",
       "      <td>1.386213e-01</td>\n",
       "      <td>4.150386e-02</td>\n",
       "      <td>8.979961e-03</td>\n",
       "      <td>Age</td>\n",
       "      <td>8.979961e-03</td>\n",
       "      <td>0.0</td>\n",
       "      <td>-1.0</td>\n",
       "      <td>-1.0</td>\n",
       "      <td>-4.712760</td>\n",
       "    </tr>\n",
       "    <tr>\n",
       "      <th>94</th>\n",
       "      <td>Diving Men's Springboard</td>\n",
       "      <td>1.064754e-02</td>\n",
       "      <td>4.151663e-02</td>\n",
       "      <td>9.920749e-01</td>\n",
       "      <td>Height</td>\n",
       "      <td>1.064754e-02</td>\n",
       "      <td>-2.0</td>\n",
       "      <td>-2.5</td>\n",
       "      <td>0.0</td>\n",
       "      <td>-4.542427</td>\n",
       "    </tr>\n",
       "    <tr>\n",
       "      <th>95</th>\n",
       "      <td>Diving Women's Springboard</td>\n",
       "      <td>2.649834e-01</td>\n",
       "      <td>1.141777e-02</td>\n",
       "      <td>6.772378e-01</td>\n",
       "      <td>Weight</td>\n",
       "      <td>1.141777e-02</td>\n",
       "      <td>0.0</td>\n",
       "      <td>-3.0</td>\n",
       "      <td>0.0</td>\n",
       "      <td>-4.472584</td>\n",
       "    </tr>\n",
       "    <tr>\n",
       "      <th>96</th>\n",
       "      <td>Athletics Men's 400 metres Hurdles</td>\n",
       "      <td>1.155407e-02</td>\n",
       "      <td>5.499169e-02</td>\n",
       "      <td>5.357508e-01</td>\n",
       "      <td>Height</td>\n",
       "      <td>1.155407e-02</td>\n",
       "      <td>2.0</td>\n",
       "      <td>1.0</td>\n",
       "      <td>1.0</td>\n",
       "      <td>-4.460717</td>\n",
       "    </tr>\n",
       "    <tr>\n",
       "      <th>97</th>\n",
       "      <td>Sailing Mixed One Person Dinghy</td>\n",
       "      <td>4.684940e-02</td>\n",
       "      <td>1.252453e-02</td>\n",
       "      <td>2.787497e-01</td>\n",
       "      <td>Weight</td>\n",
       "      <td>1.252453e-02</td>\n",
       "      <td>1.0</td>\n",
       "      <td>3.0</td>\n",
       "      <td>-1.0</td>\n",
       "      <td>-4.380066</td>\n",
       "    </tr>\n",
       "    <tr>\n",
       "      <th>98</th>\n",
       "      <td>Gymnastics Men's Horse Vault</td>\n",
       "      <td>1.352113e-02</td>\n",
       "      <td>5.521797e-01</td>\n",
       "      <td>2.613084e-01</td>\n",
       "      <td>Height</td>\n",
       "      <td>1.352113e-02</td>\n",
       "      <td>-2.0</td>\n",
       "      <td>-0.5</td>\n",
       "      <td>1.0</td>\n",
       "      <td>-4.303502</td>\n",
       "    </tr>\n",
       "    <tr>\n",
       "      <th>99</th>\n",
       "      <td>Biathlon Women's 15 kilometres</td>\n",
       "      <td>1.631199e-02</td>\n",
       "      <td>2.213529e-02</td>\n",
       "      <td>2.560275e-01</td>\n",
       "      <td>Height</td>\n",
       "      <td>1.631199e-02</td>\n",
       "      <td>-3.0</td>\n",
       "      <td>-3.0</td>\n",
       "      <td>1.0</td>\n",
       "      <td>-4.115855</td>\n",
       "    </tr>\n",
       "    <tr>\n",
       "      <th>100</th>\n",
       "      <td>Alpine Skiing Men's Slalom</td>\n",
       "      <td>4.162277e-01</td>\n",
       "      <td>3.673421e-02</td>\n",
       "      <td>1.739662e-02</td>\n",
       "      <td>Age</td>\n",
       "      <td>1.739662e-02</td>\n",
       "      <td>0.0</td>\n",
       "      <td>1.5</td>\n",
       "      <td>1.0</td>\n",
       "      <td>-4.051480</td>\n",
       "    </tr>\n",
       "    <tr>\n",
       "      <th>101</th>\n",
       "      <td>Modern Pentathlon Men's Team</td>\n",
       "      <td>1.870367e-02</td>\n",
       "      <td>1.177591e-01</td>\n",
       "      <td>2.402490e-02</td>\n",
       "      <td>Height</td>\n",
       "      <td>1.870367e-02</td>\n",
       "      <td>2.0</td>\n",
       "      <td>1.0</td>\n",
       "      <td>1.0</td>\n",
       "      <td>-3.979036</td>\n",
       "    </tr>\n",
       "    <tr>\n",
       "      <th>102</th>\n",
       "      <td>Alpine Skiing Men's Combined</td>\n",
       "      <td>3.717511e-01</td>\n",
       "      <td>6.161070e-01</td>\n",
       "      <td>2.521182e-02</td>\n",
       "      <td>Age</td>\n",
       "      <td>2.521182e-02</td>\n",
       "      <td>0.0</td>\n",
       "      <td>3.0</td>\n",
       "      <td>1.5</td>\n",
       "      <td>-3.680442</td>\n",
       "    </tr>\n",
       "    <tr>\n",
       "      <th>103</th>\n",
       "      <td>Luge Men's Singles</td>\n",
       "      <td>4.844359e-01</td>\n",
       "      <td>2.629854e-02</td>\n",
       "      <td>7.441166e-02</td>\n",
       "      <td>Weight</td>\n",
       "      <td>2.629854e-02</td>\n",
       "      <td>1.0</td>\n",
       "      <td>4.5</td>\n",
       "      <td>1.5</td>\n",
       "      <td>-3.638242</td>\n",
       "    </tr>\n",
       "    <tr>\n",
       "      <th>104</th>\n",
       "      <td>Boxing Men's Lightweight</td>\n",
       "      <td>3.929884e-01</td>\n",
       "      <td>2.685147e-02</td>\n",
       "      <td>4.349973e-01</td>\n",
       "      <td>Weight</td>\n",
       "      <td>2.685147e-02</td>\n",
       "      <td>0.0</td>\n",
       "      <td>0.0</td>\n",
       "      <td>0.0</td>\n",
       "      <td>-3.617435</td>\n",
       "    </tr>\n",
       "    <tr>\n",
       "      <th>105</th>\n",
       "      <td>Athletics Men's 20 kilometres Walk</td>\n",
       "      <td>2.718721e-02</td>\n",
       "      <td>1.008483e-01</td>\n",
       "      <td>9.727931e-01</td>\n",
       "      <td>Height</td>\n",
       "      <td>2.718721e-02</td>\n",
       "      <td>3.0</td>\n",
       "      <td>0.0</td>\n",
       "      <td>0.0</td>\n",
       "      <td>-3.605009</td>\n",
       "    </tr>\n",
       "    <tr>\n",
       "      <th>106</th>\n",
       "      <td>Archery Men's Individual</td>\n",
       "      <td>6.793570e-01</td>\n",
       "      <td>4.110131e-01</td>\n",
       "      <td>2.775526e-02</td>\n",
       "      <td>Age</td>\n",
       "      <td>2.775526e-02</td>\n",
       "      <td>0.0</td>\n",
       "      <td>-2.0</td>\n",
       "      <td>-2.0</td>\n",
       "      <td>-3.584330</td>\n",
       "    </tr>\n",
       "    <tr>\n",
       "      <th>107</th>\n",
       "      <td>Swimming Men's 400 metres Freestyle</td>\n",
       "      <td>3.647286e-01</td>\n",
       "      <td>2.871117e-02</td>\n",
       "      <td>8.611426e-01</td>\n",
       "      <td>Weight</td>\n",
       "      <td>2.871117e-02</td>\n",
       "      <td>0.0</td>\n",
       "      <td>2.5</td>\n",
       "      <td>0.5</td>\n",
       "      <td>-3.550469</td>\n",
       "    </tr>\n",
       "    <tr>\n",
       "      <th>108</th>\n",
       "      <td>Alpine Skiing Women's Downhill</td>\n",
       "      <td>7.185389e-02</td>\n",
       "      <td>2.873603e-02</td>\n",
       "      <td>2.410413e-01</td>\n",
       "      <td>Weight</td>\n",
       "      <td>2.873603e-02</td>\n",
       "      <td>2.0</td>\n",
       "      <td>1.0</td>\n",
       "      <td>1.0</td>\n",
       "      <td>-3.549604</td>\n",
       "    </tr>\n",
       "    <tr>\n",
       "      <th>109</th>\n",
       "      <td>Nordic Combined Men's Individual</td>\n",
       "      <td>1.145853e-01</td>\n",
       "      <td>7.262159e-01</td>\n",
       "      <td>2.893748e-02</td>\n",
       "      <td>Age</td>\n",
       "      <td>2.893748e-02</td>\n",
       "      <td>2.0</td>\n",
       "      <td>1.0</td>\n",
       "      <td>1.0</td>\n",
       "      <td>-3.542618</td>\n",
       "    </tr>\n",
       "    <tr>\n",
       "      <th>110</th>\n",
       "      <td>Cycling Men's Road Race, Individual</td>\n",
       "      <td>9.131794e-02</td>\n",
       "      <td>3.131919e-02</td>\n",
       "      <td>1.841453e-01</td>\n",
       "      <td>Weight</td>\n",
       "      <td>3.131919e-02</td>\n",
       "      <td>1.5</td>\n",
       "      <td>3.0</td>\n",
       "      <td>0.0</td>\n",
       "      <td>-3.463524</td>\n",
       "    </tr>\n",
       "    <tr>\n",
       "      <th>111</th>\n",
       "      <td>Swimming Men's 100 metres Breaststroke</td>\n",
       "      <td>2.756865e-01</td>\n",
       "      <td>3.137578e-02</td>\n",
       "      <td>4.596316e-01</td>\n",
       "      <td>Weight</td>\n",
       "      <td>3.137578e-02</td>\n",
       "      <td>1.0</td>\n",
       "      <td>3.0</td>\n",
       "      <td>0.0</td>\n",
       "      <td>-3.461719</td>\n",
       "    </tr>\n",
       "    <tr>\n",
       "      <th>112</th>\n",
       "      <td>Athletics Men's Marathon</td>\n",
       "      <td>4.266170e-01</td>\n",
       "      <td>4.271098e-01</td>\n",
       "      <td>3.162220e-02</td>\n",
       "      <td>Age</td>\n",
       "      <td>3.162220e-02</td>\n",
       "      <td>-2.0</td>\n",
       "      <td>-1.0</td>\n",
       "      <td>-1.0</td>\n",
       "      <td>-3.453896</td>\n",
       "    </tr>\n",
       "    <tr>\n",
       "      <th>113</th>\n",
       "      <td>Athletics Women's Long Jump</td>\n",
       "      <td>1.550580e-01</td>\n",
       "      <td>3.688965e-02</td>\n",
       "      <td>7.692464e-02</td>\n",
       "      <td>Weight</td>\n",
       "      <td>3.688965e-02</td>\n",
       "      <td>0.0</td>\n",
       "      <td>1.0</td>\n",
       "      <td>1.0</td>\n",
       "      <td>-3.299824</td>\n",
       "    </tr>\n",
       "    <tr>\n",
       "      <th>114</th>\n",
       "      <td>Shooting Men's Rapid-Fire Pistol, 25 metres</td>\n",
       "      <td>9.439171e-01</td>\n",
       "      <td>8.495477e-01</td>\n",
       "      <td>3.707527e-02</td>\n",
       "      <td>Age</td>\n",
       "      <td>3.707527e-02</td>\n",
       "      <td>0.0</td>\n",
       "      <td>-3.0</td>\n",
       "      <td>-4.0</td>\n",
       "      <td>-3.294805</td>\n",
       "    </tr>\n",
       "    <tr>\n",
       "      <th>115</th>\n",
       "      <td>Cross Country Skiing Men's 30 kilometres</td>\n",
       "      <td>1.092212e-01</td>\n",
       "      <td>2.693239e-01</td>\n",
       "      <td>3.709019e-02</td>\n",
       "      <td>Age</td>\n",
       "      <td>3.709019e-02</td>\n",
       "      <td>0.0</td>\n",
       "      <td>2.0</td>\n",
       "      <td>1.0</td>\n",
       "      <td>-3.294403</td>\n",
       "    </tr>\n",
       "    <tr>\n",
       "      <th>116</th>\n",
       "      <td>Swimming Women's 100 metres Breaststroke</td>\n",
       "      <td>3.199671e-01</td>\n",
       "      <td>3.789168e-02</td>\n",
       "      <td>3.353369e-01</td>\n",
       "      <td>Weight</td>\n",
       "      <td>3.789168e-02</td>\n",
       "      <td>1.0</td>\n",
       "      <td>2.0</td>\n",
       "      <td>0.0</td>\n",
       "      <td>-3.273024</td>\n",
       "    </tr>\n",
       "    <tr>\n",
       "      <th>117</th>\n",
       "      <td>Fencing Men's Sabre, Team</td>\n",
       "      <td>6.681268e-01</td>\n",
       "      <td>4.400064e-02</td>\n",
       "      <td>1.224796e-01</td>\n",
       "      <td>Weight</td>\n",
       "      <td>4.400064e-02</td>\n",
       "      <td>-1.0</td>\n",
       "      <td>1.5</td>\n",
       "      <td>1.0</td>\n",
       "      <td>-3.123551</td>\n",
       "    </tr>\n",
       "    <tr>\n",
       "      <th>118</th>\n",
       "      <td>Shooting Men's Trap</td>\n",
       "      <td>3.583336e-01</td>\n",
       "      <td>2.818425e-01</td>\n",
       "      <td>4.553519e-02</td>\n",
       "      <td>Age</td>\n",
       "      <td>4.553519e-02</td>\n",
       "      <td>0.0</td>\n",
       "      <td>2.0</td>\n",
       "      <td>-3.0</td>\n",
       "      <td>-3.089270</td>\n",
       "    </tr>\n",
       "    <tr>\n",
       "      <th>119</th>\n",
       "      <td>Gymnastics Women's Horse Vault</td>\n",
       "      <td>2.683241e-01</td>\n",
       "      <td>2.590486e-01</td>\n",
       "      <td>4.956490e-02</td>\n",
       "      <td>Age</td>\n",
       "      <td>4.956490e-02</td>\n",
       "      <td>0.5</td>\n",
       "      <td>-1.5</td>\n",
       "      <td>1.0</td>\n",
       "      <td>-3.004472</td>\n",
       "    </tr>\n",
       "    <tr>\n",
       "      <th>120</th>\n",
       "      <td>Cycling Men's Road Race, Team</td>\n",
       "      <td>5.089751e-02</td>\n",
       "      <td>4.121870e-01</td>\n",
       "      <td>5.178784e-02</td>\n",
       "      <td>Height</td>\n",
       "      <td>5.089751e-02</td>\n",
       "      <td>-4.0</td>\n",
       "      <td>2.0</td>\n",
       "      <td>-1.0</td>\n",
       "      <td>-2.977941</td>\n",
       "    </tr>\n",
       "    <tr>\n",
       "      <th>121</th>\n",
       "      <td>Table Tennis Men's Singles</td>\n",
       "      <td>3.160986e-01</td>\n",
       "      <td>5.830316e-01</td>\n",
       "      <td>5.119707e-02</td>\n",
       "      <td>Age</td>\n",
       "      <td>5.119707e-02</td>\n",
       "      <td>-3.0</td>\n",
       "      <td>0.0</td>\n",
       "      <td>-3.0</td>\n",
       "      <td>-2.972073</td>\n",
       "    </tr>\n",
       "    <tr>\n",
       "      <th>122</th>\n",
       "      <td>Fencing Women's Foil, Individual</td>\n",
       "      <td>5.129852e-02</td>\n",
       "      <td>5.626665e-01</td>\n",
       "      <td>3.079383e-01</td>\n",
       "      <td>Height</td>\n",
       "      <td>5.129852e-02</td>\n",
       "      <td>2.0</td>\n",
       "      <td>0.0</td>\n",
       "      <td>0.5</td>\n",
       "      <td>-2.970093</td>\n",
       "    </tr>\n",
       "    <tr>\n",
       "      <th>123</th>\n",
       "      <td>Rowing Men's Coxed Fours</td>\n",
       "      <td>5.162086e-02</td>\n",
       "      <td>6.098197e-02</td>\n",
       "      <td>4.747375e-01</td>\n",
       "      <td>Height</td>\n",
       "      <td>5.162086e-02</td>\n",
       "      <td>2.0</td>\n",
       "      <td>2.0</td>\n",
       "      <td>0.0</td>\n",
       "      <td>-2.963829</td>\n",
       "    </tr>\n",
       "    <tr>\n",
       "      <th>124</th>\n",
       "      <td>Biathlon Men's 10 kilometres Sprint</td>\n",
       "      <td>5.203929e-02</td>\n",
       "      <td>9.024262e-01</td>\n",
       "      <td>3.427757e-01</td>\n",
       "      <td>Height</td>\n",
       "      <td>5.203929e-02</td>\n",
       "      <td>0.5</td>\n",
       "      <td>2.0</td>\n",
       "      <td>-2.0</td>\n",
       "      <td>-2.955756</td>\n",
       "    </tr>\n",
       "    <tr>\n",
       "      <th>125</th>\n",
       "      <td>Athletics Men's 800 metres</td>\n",
       "      <td>9.824691e-02</td>\n",
       "      <td>5.585355e-02</td>\n",
       "      <td>5.083036e-01</td>\n",
       "      <td>Weight</td>\n",
       "      <td>5.585355e-02</td>\n",
       "      <td>1.0</td>\n",
       "      <td>2.0</td>\n",
       "      <td>0.0</td>\n",
       "      <td>-2.885022</td>\n",
       "    </tr>\n",
       "    <tr>\n",
       "      <th>126</th>\n",
       "      <td>Fencing Men's epee, Individual</td>\n",
       "      <td>5.806440e-01</td>\n",
       "      <td>5.885558e-02</td>\n",
       "      <td>5.129455e-01</td>\n",
       "      <td>Weight</td>\n",
       "      <td>5.885558e-02</td>\n",
       "      <td>1.5</td>\n",
       "      <td>1.0</td>\n",
       "      <td>0.0</td>\n",
       "      <td>-2.832669</td>\n",
       "    </tr>\n",
       "    <tr>\n",
       "      <th>127</th>\n",
       "      <td>Handball Women's Handball</td>\n",
       "      <td>2.233439e-01</td>\n",
       "      <td>2.387529e-01</td>\n",
       "      <td>6.101572e-02</td>\n",
       "      <td>Age</td>\n",
       "      <td>6.101572e-02</td>\n",
       "      <td>0.0</td>\n",
       "      <td>0.0</td>\n",
       "      <td>-1.0</td>\n",
       "      <td>-2.796624</td>\n",
       "    </tr>\n",
       "    <tr>\n",
       "      <th>128</th>\n",
       "      <td>Athletics Women's Marathon</td>\n",
       "      <td>1.272129e-01</td>\n",
       "      <td>6.622422e-02</td>\n",
       "      <td>2.417345e-01</td>\n",
       "      <td>Weight</td>\n",
       "      <td>6.622422e-02</td>\n",
       "      <td>-3.0</td>\n",
       "      <td>-2.0</td>\n",
       "      <td>-1.0</td>\n",
       "      <td>-2.714709</td>\n",
       "    </tr>\n",
       "    <tr>\n",
       "      <th>129</th>\n",
       "      <td>Equestrianism Mixed Three-Day Event, Team</td>\n",
       "      <td>6.723352e-02</td>\n",
       "      <td>6.295542e-01</td>\n",
       "      <td>1.016505e-01</td>\n",
       "      <td>Height</td>\n",
       "      <td>6.723352e-02</td>\n",
       "      <td>2.0</td>\n",
       "      <td>0.0</td>\n",
       "      <td>2.0</td>\n",
       "      <td>-2.699583</td>\n",
       "    </tr>\n",
       "    <tr>\n",
       "      <th>130</th>\n",
       "      <td>Athletics Women's 800 metres</td>\n",
       "      <td>8.894529e-01</td>\n",
       "      <td>3.626897e-01</td>\n",
       "      <td>6.811561e-02</td>\n",
       "      <td>Age</td>\n",
       "      <td>6.811561e-02</td>\n",
       "      <td>-1.0</td>\n",
       "      <td>1.0</td>\n",
       "      <td>1.5</td>\n",
       "      <td>-2.686549</td>\n",
       "    </tr>\n",
       "    <tr>\n",
       "      <th>131</th>\n",
       "      <td>Athletics Men's 110 metres Hurdles</td>\n",
       "      <td>3.294203e-01</td>\n",
       "      <td>4.857402e-01</td>\n",
       "      <td>7.030531e-02</td>\n",
       "      <td>Age</td>\n",
       "      <td>7.030531e-02</td>\n",
       "      <td>1.0</td>\n",
       "      <td>0.0</td>\n",
       "      <td>-1.0</td>\n",
       "      <td>-2.654908</td>\n",
       "    </tr>\n",
       "    <tr>\n",
       "      <th>132</th>\n",
       "      <td>Rowing Men's Coxless Pairs</td>\n",
       "      <td>1.142577e-01</td>\n",
       "      <td>4.035248e-01</td>\n",
       "      <td>7.296070e-02</td>\n",
       "      <td>Age</td>\n",
       "      <td>7.296070e-02</td>\n",
       "      <td>1.0</td>\n",
       "      <td>2.0</td>\n",
       "      <td>1.0</td>\n",
       "      <td>-2.617834</td>\n",
       "    </tr>\n",
       "    <tr>\n",
       "      <th>133</th>\n",
       "      <td>Equestrianism Mixed Dressage, Individual</td>\n",
       "      <td>7.940163e-02</td>\n",
       "      <td>9.593074e-01</td>\n",
       "      <td>8.588434e-01</td>\n",
       "      <td>Height</td>\n",
       "      <td>7.940163e-02</td>\n",
       "      <td>0.5</td>\n",
       "      <td>1.0</td>\n",
       "      <td>1.0</td>\n",
       "      <td>-2.533236</td>\n",
       "    </tr>\n",
       "    <tr>\n",
       "      <th>134</th>\n",
       "      <td>Athletics Women's Discus Throw</td>\n",
       "      <td>4.488398e-01</td>\n",
       "      <td>1.560109e-01</td>\n",
       "      <td>8.192914e-02</td>\n",
       "      <td>Age</td>\n",
       "      <td>8.192914e-02</td>\n",
       "      <td>1.0</td>\n",
       "      <td>1.0</td>\n",
       "      <td>1.0</td>\n",
       "      <td>-2.501901</td>\n",
       "    </tr>\n",
       "    <tr>\n",
       "      <th>135</th>\n",
       "      <td>Boxing Men's Welterweight</td>\n",
       "      <td>6.576367e-01</td>\n",
       "      <td>4.844395e-01</td>\n",
       "      <td>8.524720e-02</td>\n",
       "      <td>Age</td>\n",
       "      <td>8.524720e-02</td>\n",
       "      <td>0.0</td>\n",
       "      <td>0.0</td>\n",
       "      <td>1.0</td>\n",
       "      <td>-2.462200</td>\n",
       "    </tr>\n",
       "    <tr>\n",
       "      <th>136</th>\n",
       "      <td>Swimming Men's 200 metres Breaststroke</td>\n",
       "      <td>3.221755e-01</td>\n",
       "      <td>4.749518e-01</td>\n",
       "      <td>8.720126e-02</td>\n",
       "      <td>Age</td>\n",
       "      <td>8.720126e-02</td>\n",
       "      <td>1.0</td>\n",
       "      <td>0.0</td>\n",
       "      <td>1.0</td>\n",
       "      <td>-2.439536</td>\n",
       "    </tr>\n",
       "    <tr>\n",
       "      <th>137</th>\n",
       "      <td>Tennis Men's Singles</td>\n",
       "      <td>3.630627e-01</td>\n",
       "      <td>8.733328e-02</td>\n",
       "      <td>2.408898e-01</td>\n",
       "      <td>Weight</td>\n",
       "      <td>8.733328e-02</td>\n",
       "      <td>0.5</td>\n",
       "      <td>2.0</td>\n",
       "      <td>-1.0</td>\n",
       "      <td>-2.438024</td>\n",
       "    </tr>\n",
       "    <tr>\n",
       "      <th>138</th>\n",
       "      <td>Archery Women's Individual</td>\n",
       "      <td>9.052432e-01</td>\n",
       "      <td>1.905907e-01</td>\n",
       "      <td>8.920471e-02</td>\n",
       "      <td>Age</td>\n",
       "      <td>8.920471e-02</td>\n",
       "      <td>-1.0</td>\n",
       "      <td>2.0</td>\n",
       "      <td>-1.5</td>\n",
       "      <td>-2.416821</td>\n",
       "    </tr>\n",
       "    <tr>\n",
       "      <th>139</th>\n",
       "      <td>Rowing Men's Coxed Pairs</td>\n",
       "      <td>3.782012e-01</td>\n",
       "      <td>9.749612e-02</td>\n",
       "      <td>4.539007e-01</td>\n",
       "      <td>Weight</td>\n",
       "      <td>9.749612e-02</td>\n",
       "      <td>2.0</td>\n",
       "      <td>3.0</td>\n",
       "      <td>1.0</td>\n",
       "      <td>-2.327943</td>\n",
       "    </tr>\n",
       "    <tr>\n",
       "      <th>140</th>\n",
       "      <td>Cycling Women's Road Race, Individual</td>\n",
       "      <td>5.071775e-01</td>\n",
       "      <td>9.860716e-02</td>\n",
       "      <td>7.172316e-01</td>\n",
       "      <td>Weight</td>\n",
       "      <td>9.860716e-02</td>\n",
       "      <td>0.0</td>\n",
       "      <td>2.0</td>\n",
       "      <td>-1.0</td>\n",
       "      <td>-2.316611</td>\n",
       "    </tr>\n",
       "    <tr>\n",
       "      <th>141</th>\n",
       "      <td>Biathlon Women's 7.5 kilometres Sprint</td>\n",
       "      <td>7.399736e-01</td>\n",
       "      <td>1.048173e-01</td>\n",
       "      <td>1.034697e-01</td>\n",
       "      <td>Age</td>\n",
       "      <td>1.034697e-01</td>\n",
       "      <td>0.0</td>\n",
       "      <td>1.0</td>\n",
       "      <td>1.0</td>\n",
       "      <td>-2.268477</td>\n",
       "    </tr>\n",
       "    <tr>\n",
       "      <th>142</th>\n",
       "      <td>Athletics Men's Decathlon</td>\n",
       "      <td>9.000884e-01</td>\n",
       "      <td>1.073472e-01</td>\n",
       "      <td>1.061544e-01</td>\n",
       "      <td>Age</td>\n",
       "      <td>1.061544e-01</td>\n",
       "      <td>0.0</td>\n",
       "      <td>2.0</td>\n",
       "      <td>-1.0</td>\n",
       "      <td>-2.242860</td>\n",
       "    </tr>\n",
       "    <tr>\n",
       "      <th>143</th>\n",
       "      <td>Boxing Men's Bantamweight</td>\n",
       "      <td>8.259450e-01</td>\n",
       "      <td>7.650379e-01</td>\n",
       "      <td>1.064082e-01</td>\n",
       "      <td>Age</td>\n",
       "      <td>1.064082e-01</td>\n",
       "      <td>0.0</td>\n",
       "      <td>0.0</td>\n",
       "      <td>-0.5</td>\n",
       "      <td>-2.240473</td>\n",
       "    </tr>\n",
       "    <tr>\n",
       "      <th>144</th>\n",
       "      <td>Basketball Women's Basketball</td>\n",
       "      <td>1.123725e-01</td>\n",
       "      <td>5.747115e-01</td>\n",
       "      <td>9.589434e-01</td>\n",
       "      <td>Height</td>\n",
       "      <td>1.123725e-01</td>\n",
       "      <td>1.0</td>\n",
       "      <td>0.0</td>\n",
       "      <td>0.0</td>\n",
       "      <td>-2.185936</td>\n",
       "    </tr>\n",
       "    <tr>\n",
       "      <th>145</th>\n",
       "      <td>Rowing Men's Coxless Fours</td>\n",
       "      <td>1.167843e-01</td>\n",
       "      <td>7.041648e-01</td>\n",
       "      <td>1.204402e-01</td>\n",
       "      <td>Height</td>\n",
       "      <td>1.167843e-01</td>\n",
       "      <td>1.0</td>\n",
       "      <td>1.0</td>\n",
       "      <td>0.0</td>\n",
       "      <td>-2.147426</td>\n",
       "    </tr>\n",
       "    <tr>\n",
       "      <th>146</th>\n",
       "      <td>Table Tennis Women's Singles</td>\n",
       "      <td>3.781379e-01</td>\n",
       "      <td>9.666375e-01</td>\n",
       "      <td>1.167892e-01</td>\n",
       "      <td>Age</td>\n",
       "      <td>1.167892e-01</td>\n",
       "      <td>1.0</td>\n",
       "      <td>1.0</td>\n",
       "      <td>-1.0</td>\n",
       "      <td>-2.147385</td>\n",
       "    </tr>\n",
       "    <tr>\n",
       "      <th>147</th>\n",
       "      <td>Alpine Skiing Women's Slalom</td>\n",
       "      <td>2.873937e-01</td>\n",
       "      <td>9.250998e-01</td>\n",
       "      <td>1.325020e-01</td>\n",
       "      <td>Age</td>\n",
       "      <td>1.325020e-01</td>\n",
       "      <td>2.0</td>\n",
       "      <td>0.0</td>\n",
       "      <td>0.5</td>\n",
       "      <td>-2.021158</td>\n",
       "    </tr>\n",
       "    <tr>\n",
       "      <th>148</th>\n",
       "      <td>Athletics Men's Discus Throw</td>\n",
       "      <td>1.414834e-01</td>\n",
       "      <td>3.537786e-01</td>\n",
       "      <td>4.639661e-01</td>\n",
       "      <td>Height</td>\n",
       "      <td>1.414834e-01</td>\n",
       "      <td>1.0</td>\n",
       "      <td>0.0</td>\n",
       "      <td>-1.0</td>\n",
       "      <td>-1.955573</td>\n",
       "    </tr>\n",
       "    <tr>\n",
       "      <th>149</th>\n",
       "      <td>Athletics Men's Javelin Throw</td>\n",
       "      <td>7.546701e-01</td>\n",
       "      <td>1.570300e-01</td>\n",
       "      <td>1.930783e-01</td>\n",
       "      <td>Weight</td>\n",
       "      <td>1.570300e-01</td>\n",
       "      <td>-0.5</td>\n",
       "      <td>-1.0</td>\n",
       "      <td>1.0</td>\n",
       "      <td>-1.851318</td>\n",
       "    </tr>\n",
       "    <tr>\n",
       "      <th>150</th>\n",
       "      <td>Shooting Men's Small-Bore Rifle, Three Positio...</td>\n",
       "      <td>1.571819e-01</td>\n",
       "      <td>7.958097e-01</td>\n",
       "      <td>3.361953e-01</td>\n",
       "      <td>Height</td>\n",
       "      <td>1.571819e-01</td>\n",
       "      <td>0.0</td>\n",
       "      <td>-0.5</td>\n",
       "      <td>1.0</td>\n",
       "      <td>-1.850351</td>\n",
       "    </tr>\n",
       "    <tr>\n",
       "      <th>151</th>\n",
       "      <td>Athletics Men's Hammer Throw</td>\n",
       "      <td>7.292237e-01</td>\n",
       "      <td>9.137525e-01</td>\n",
       "      <td>1.606336e-01</td>\n",
       "      <td>Age</td>\n",
       "      <td>1.606336e-01</td>\n",
       "      <td>0.0</td>\n",
       "      <td>0.0</td>\n",
       "      <td>1.0</td>\n",
       "      <td>-1.828630</td>\n",
       "    </tr>\n",
       "    <tr>\n",
       "      <th>152</th>\n",
       "      <td>Equestrianism Mixed Three-Day Event, Individual</td>\n",
       "      <td>5.249343e-01</td>\n",
       "      <td>9.444026e-01</td>\n",
       "      <td>1.641750e-01</td>\n",
       "      <td>Age</td>\n",
       "      <td>1.641750e-01</td>\n",
       "      <td>-1.0</td>\n",
       "      <td>0.0</td>\n",
       "      <td>3.0</td>\n",
       "      <td>-1.806822</td>\n",
       "    </tr>\n",
       "    <tr>\n",
       "      <th>153</th>\n",
       "      <td>Boxing Men's Featherweight</td>\n",
       "      <td>9.710025e-01</td>\n",
       "      <td>5.344275e-01</td>\n",
       "      <td>1.806419e-01</td>\n",
       "      <td>Age</td>\n",
       "      <td>1.806419e-01</td>\n",
       "      <td>-0.5</td>\n",
       "      <td>0.0</td>\n",
       "      <td>0.0</td>\n",
       "      <td>-1.711239</td>\n",
       "    </tr>\n",
       "    <tr>\n",
       "      <th>154</th>\n",
       "      <td>Athletics Men's 1,500 metres</td>\n",
       "      <td>6.077127e-01</td>\n",
       "      <td>8.108371e-01</td>\n",
       "      <td>1.957880e-01</td>\n",
       "      <td>Age</td>\n",
       "      <td>1.957880e-01</td>\n",
       "      <td>-2.0</td>\n",
       "      <td>0.0</td>\n",
       "      <td>0.0</td>\n",
       "      <td>-1.630723</td>\n",
       "    </tr>\n",
       "    <tr>\n",
       "      <th>155</th>\n",
       "      <td>Speed Skating Men's 500 metres</td>\n",
       "      <td>1.958782e-01</td>\n",
       "      <td>7.834490e-01</td>\n",
       "      <td>5.548840e-01</td>\n",
       "      <td>Height</td>\n",
       "      <td>1.958782e-01</td>\n",
       "      <td>0.0</td>\n",
       "      <td>1.0</td>\n",
       "      <td>0.5</td>\n",
       "      <td>-1.630262</td>\n",
       "    </tr>\n",
       "    <tr>\n",
       "      <th>156</th>\n",
       "      <td>Boxing Men's Middleweight</td>\n",
       "      <td>7.139049e-01</td>\n",
       "      <td>9.008537e-01</td>\n",
       "      <td>1.962932e-01</td>\n",
       "      <td>Age</td>\n",
       "      <td>1.962932e-01</td>\n",
       "      <td>0.0</td>\n",
       "      <td>0.0</td>\n",
       "      <td>0.0</td>\n",
       "      <td>-1.628146</td>\n",
       "    </tr>\n",
       "    <tr>\n",
       "      <th>157</th>\n",
       "      <td>Baseball Men's Baseball</td>\n",
       "      <td>2.019426e-01</td>\n",
       "      <td>4.681705e-01</td>\n",
       "      <td>8.392985e-01</td>\n",
       "      <td>Height</td>\n",
       "      <td>2.019426e-01</td>\n",
       "      <td>-1.0</td>\n",
       "      <td>0.0</td>\n",
       "      <td>0.0</td>\n",
       "      <td>-1.599772</td>\n",
       "    </tr>\n",
       "    <tr>\n",
       "      <th>158</th>\n",
       "      <td>Fencing Women's Foil, Team</td>\n",
       "      <td>2.267191e-01</td>\n",
       "      <td>2.031591e-01</td>\n",
       "      <td>3.206129e-01</td>\n",
       "      <td>Weight</td>\n",
       "      <td>2.031591e-01</td>\n",
       "      <td>0.0</td>\n",
       "      <td>0.0</td>\n",
       "      <td>1.0</td>\n",
       "      <td>-1.593766</td>\n",
       "    </tr>\n",
       "    <tr>\n",
       "      <th>159</th>\n",
       "      <td>Gymnastics Men's Horizontal Bar</td>\n",
       "      <td>3.115694e-01</td>\n",
       "      <td>9.345332e-01</td>\n",
       "      <td>2.369049e-01</td>\n",
       "      <td>Age</td>\n",
       "      <td>2.369049e-01</td>\n",
       "      <td>-1.0</td>\n",
       "      <td>-2.0</td>\n",
       "      <td>0.0</td>\n",
       "      <td>-1.440097</td>\n",
       "    </tr>\n",
       "    <tr>\n",
       "      <th>160</th>\n",
       "      <td>Diving Men's Platform</td>\n",
       "      <td>2.583076e-01</td>\n",
       "      <td>8.641100e-01</td>\n",
       "      <td>6.278624e-01</td>\n",
       "      <td>Height</td>\n",
       "      <td>2.583076e-01</td>\n",
       "      <td>2.0</td>\n",
       "      <td>-1.0</td>\n",
       "      <td>1.0</td>\n",
       "      <td>-1.353604</td>\n",
       "    </tr>\n",
       "    <tr>\n",
       "      <th>161</th>\n",
       "      <td>Athletics Men's 5,000 metres</td>\n",
       "      <td>9.274397e-01</td>\n",
       "      <td>9.001592e-01</td>\n",
       "      <td>2.984772e-01</td>\n",
       "      <td>Age</td>\n",
       "      <td>2.984772e-01</td>\n",
       "      <td>0.0</td>\n",
       "      <td>0.0</td>\n",
       "      <td>1.0</td>\n",
       "      <td>-1.209062</td>\n",
       "    </tr>\n",
       "    <tr>\n",
       "      <th>162</th>\n",
       "      <td>Equestrianism Mixed Jumping, Individual</td>\n",
       "      <td>3.063436e-01</td>\n",
       "      <td>6.975804e-01</td>\n",
       "      <td>6.284776e-01</td>\n",
       "      <td>Height</td>\n",
       "      <td>3.063436e-01</td>\n",
       "      <td>0.0</td>\n",
       "      <td>0.5</td>\n",
       "      <td>0.0</td>\n",
       "      <td>-1.183048</td>\n",
       "    </tr>\n",
       "    <tr>\n",
       "      <th>163</th>\n",
       "      <td>Athletics Men's Long Jump</td>\n",
       "      <td>3.174683e-01</td>\n",
       "      <td>7.830486e-01</td>\n",
       "      <td>4.532331e-01</td>\n",
       "      <td>Height</td>\n",
       "      <td>3.174683e-01</td>\n",
       "      <td>1.0</td>\n",
       "      <td>-1.0</td>\n",
       "      <td>0.0</td>\n",
       "      <td>-1.147377</td>\n",
       "    </tr>\n",
       "    <tr>\n",
       "      <th>164</th>\n",
       "      <td>Gymnastics Women's Floor Exercise</td>\n",
       "      <td>9.432065e-01</td>\n",
       "      <td>3.216220e-01</td>\n",
       "      <td>4.872408e-01</td>\n",
       "      <td>Weight</td>\n",
       "      <td>3.216220e-01</td>\n",
       "      <td>1.0</td>\n",
       "      <td>-1.0</td>\n",
       "      <td>0.0</td>\n",
       "      <td>-1.134378</td>\n",
       "    </tr>\n",
       "    <tr>\n",
       "      <th>165</th>\n",
       "      <td>Gymnastics Men's Pommelled Horse</td>\n",
       "      <td>3.283486e-01</td>\n",
       "      <td>9.126557e-01</td>\n",
       "      <td>8.164553e-01</td>\n",
       "      <td>Height</td>\n",
       "      <td>3.283486e-01</td>\n",
       "      <td>1.0</td>\n",
       "      <td>-2.0</td>\n",
       "      <td>0.0</td>\n",
       "      <td>-1.113680</td>\n",
       "    </tr>\n",
       "    <tr>\n",
       "      <th>166</th>\n",
       "      <td>Gymnastics Women's Individual All-Around</td>\n",
       "      <td>8.326662e-01</td>\n",
       "      <td>3.381228e-01</td>\n",
       "      <td>3.582384e-01</td>\n",
       "      <td>Weight</td>\n",
       "      <td>3.381228e-01</td>\n",
       "      <td>1.0</td>\n",
       "      <td>-1.0</td>\n",
       "      <td>0.5</td>\n",
       "      <td>-1.084346</td>\n",
       "    </tr>\n",
       "    <tr>\n",
       "      <th>167</th>\n",
       "      <td>Athletics Men's Triple Jump</td>\n",
       "      <td>3.828406e-01</td>\n",
       "      <td>4.183133e-01</td>\n",
       "      <td>3.399280e-01</td>\n",
       "      <td>Age</td>\n",
       "      <td>3.399280e-01</td>\n",
       "      <td>1.0</td>\n",
       "      <td>1.0</td>\n",
       "      <td>0.0</td>\n",
       "      <td>-1.079022</td>\n",
       "    </tr>\n",
       "    <tr>\n",
       "      <th>168</th>\n",
       "      <td>Wrestling Men's Lightweight, Greco-Roman</td>\n",
       "      <td>3.424815e-01</td>\n",
       "      <td>3.973742e-01</td>\n",
       "      <td>4.412061e-01</td>\n",
       "      <td>Height</td>\n",
       "      <td>3.424815e-01</td>\n",
       "      <td>-1.0</td>\n",
       "      <td>0.0</td>\n",
       "      <td>1.0</td>\n",
       "      <td>-1.071538</td>\n",
       "    </tr>\n",
       "    <tr>\n",
       "      <th>169</th>\n",
       "      <td>Fencing Men's Sabre, Individual</td>\n",
       "      <td>3.509150e-01</td>\n",
       "      <td>3.922669e-01</td>\n",
       "      <td>3.862938e-01</td>\n",
       "      <td>Height</td>\n",
       "      <td>3.509150e-01</td>\n",
       "      <td>-1.0</td>\n",
       "      <td>1.0</td>\n",
       "      <td>1.0</td>\n",
       "      <td>-1.047211</td>\n",
       "    </tr>\n",
       "    <tr>\n",
       "      <th>170</th>\n",
       "      <td>Boxing Men's Flyweight</td>\n",
       "      <td>3.689657e-01</td>\n",
       "      <td>9.376632e-01</td>\n",
       "      <td>7.777179e-01</td>\n",
       "      <td>Height</td>\n",
       "      <td>3.689657e-01</td>\n",
       "      <td>0.0</td>\n",
       "      <td>0.0</td>\n",
       "      <td>0.0</td>\n",
       "      <td>-0.997052</td>\n",
       "    </tr>\n",
       "    <tr>\n",
       "      <th>171</th>\n",
       "      <td>Athletics Men's 10,000 metres</td>\n",
       "      <td>4.345760e-01</td>\n",
       "      <td>5.031752e-01</td>\n",
       "      <td>7.184689e-01</td>\n",
       "      <td>Height</td>\n",
       "      <td>4.345760e-01</td>\n",
       "      <td>-1.0</td>\n",
       "      <td>0.0</td>\n",
       "      <td>-1.0</td>\n",
       "      <td>-0.833384</td>\n",
       "    </tr>\n",
       "    <tr>\n",
       "      <th>172</th>\n",
       "      <td>Biathlon Men's 4 x 7.5 kilometres Relay</td>\n",
       "      <td>9.844134e-01</td>\n",
       "      <td>4.663690e-01</td>\n",
       "      <td>4.739210e-01</td>\n",
       "      <td>Weight</td>\n",
       "      <td>4.663690e-01</td>\n",
       "      <td>0.0</td>\n",
       "      <td>1.0</td>\n",
       "      <td>0.5</td>\n",
       "      <td>-0.762778</td>\n",
       "    </tr>\n",
       "    <tr>\n",
       "      <th>173</th>\n",
       "      <td>Tennis Men's Doubles</td>\n",
       "      <td>6.961536e-01</td>\n",
       "      <td>6.099598e-01</td>\n",
       "      <td>5.573436e-01</td>\n",
       "      <td>Age</td>\n",
       "      <td>5.573436e-01</td>\n",
       "      <td>0.0</td>\n",
       "      <td>0.0</td>\n",
       "      <td>0.0</td>\n",
       "      <td>-0.584573</td>\n",
       "    </tr>\n",
       "    <tr>\n",
       "      <th>174</th>\n",
       "      <td>Biathlon Men's 20 kilometres</td>\n",
       "      <td>8.944543e-01</td>\n",
       "      <td>8.638801e-01</td>\n",
       "      <td>5.602982e-01</td>\n",
       "      <td>Age</td>\n",
       "      <td>5.602982e-01</td>\n",
       "      <td>-1.0</td>\n",
       "      <td>-0.5</td>\n",
       "      <td>0.0</td>\n",
       "      <td>-0.579286</td>\n",
       "    </tr>\n",
       "    <tr>\n",
       "      <th>175</th>\n",
       "      <td>Athletics Men's 3,000 metres Steeplechase</td>\n",
       "      <td>8.659846e-01</td>\n",
       "      <td>5.976598e-01</td>\n",
       "      <td>7.009509e-01</td>\n",
       "      <td>Weight</td>\n",
       "      <td>5.976598e-01</td>\n",
       "      <td>0.0</td>\n",
       "      <td>1.0</td>\n",
       "      <td>0.5</td>\n",
       "      <td>-0.514734</td>\n",
       "    </tr>\n",
       "    <tr>\n",
       "      <th>176</th>\n",
       "      <td>Boxing Men's Light-Welterweight</td>\n",
       "      <td>8.732732e-01</td>\n",
       "      <td>7.353302e-01</td>\n",
       "      <td>6.326167e-01</td>\n",
       "      <td>Age</td>\n",
       "      <td>6.326167e-01</td>\n",
       "      <td>0.0</td>\n",
       "      <td>0.0</td>\n",
       "      <td>1.0</td>\n",
       "      <td>-0.457891</td>\n",
       "    </tr>\n",
       "    <tr>\n",
       "      <th>177</th>\n",
       "      <td>Athletics Women's Javelin Throw</td>\n",
       "      <td>8.069156e-01</td>\n",
       "      <td>7.591957e-01</td>\n",
       "      <td>6.361743e-01</td>\n",
       "      <td>Age</td>\n",
       "      <td>6.361743e-01</td>\n",
       "      <td>0.0</td>\n",
       "      <td>1.0</td>\n",
       "      <td>0.0</td>\n",
       "      <td>-0.452283</td>\n",
       "    </tr>\n",
       "  </tbody>\n",
       "</table>\n",
       "</div>"
      ],
      "text/plain": [
       "                                                 Event  Height_pvalue  \\\n",
       "0             Canoeing Men's Kayak Fours, 1,000 metres   1.918695e-08   \n",
       "1                          Basketball Men's Basketball   1.861836e-13   \n",
       "2                        Ice Hockey Women's Ice Hockey   8.211889e-08   \n",
       "3                          Water Polo Men's Water Polo   2.643434e-09   \n",
       "4                 Athletics Men's 4 x 400 metres Relay   3.299247e-07   \n",
       "5      Swimming Women's 4 x 100 metres Freestyle Relay   1.638355e-08   \n",
       "6                          Volleyball Men's Volleyball   1.968400e-02   \n",
       "7         Cycling Men's 100 kilometres Team Time Trial   2.702744e-08   \n",
       "8    Cross Country Skiing Men's 4 x 10 kilometres R...   3.583065e-02   \n",
       "9                     Gymnastics Men's Team All-Around   3.005906e-07   \n",
       "10       Swimming Men's 4 x 100 metres Freestyle Relay   9.240788e-09   \n",
       "11                             Handball Men's Handball   3.117875e-08   \n",
       "12                  Swimming Men's 50 metres Freestyle   2.169065e-08   \n",
       "13                       Volleyball Women's Volleyball   6.096436e-01   \n",
       "14                                 Hockey Men's Hockey   1.195349e-05   \n",
       "15        Swimming Women's 4 x 100 metres Medley Relay   7.481755e-06   \n",
       "16                          Figure Skating Mixed Pairs   5.001556e-01   \n",
       "17                 Swimming Men's 100 metres Freestyle   1.695176e-06   \n",
       "18                             Football Men's Football   3.216822e-02   \n",
       "19                Athletics Men's 4 x 100 metres Relay   3.175047e-04   \n",
       "20          Swimming Men's 4 x 100 metres Medley Relay   1.608501e-05   \n",
       "21                            Fencing Men's epee, Team   5.617134e-03   \n",
       "22                   Speed Skating Men's 10,000 metres   3.961226e-05   \n",
       "23                    Speed Skating Men's 5,000 metres   1.217694e-05   \n",
       "24                         Rowing Women's Coxed Eights   4.503816e-02   \n",
       "25               Swimming Women's 100 metres Freestyle   7.345712e-04   \n",
       "26                           Football Women's Football   1.479711e-04   \n",
       "27                           Rowing Men's Coxed Eights   3.298399e-05   \n",
       "28          Cross Country Skiing Women's 10 kilometres   1.387088e-02   \n",
       "29   Cross Country Skiing Women's 4 x 5 kilometres ...   1.905159e-01   \n",
       "30                      Gymnastics Men's Parallel Bars   1.175250e-02   \n",
       "31                          Athletics Men's 400 metres   7.367821e-05   \n",
       "32                Swimming Women's 50 metres Freestyle   8.939744e-05   \n",
       "33                 Swimming Men's 200 metres Butterfly   8.960802e-05   \n",
       "34                          Luge Mixed (Men)'s Doubles   1.452584e-01   \n",
       "35                        Athletics Women's 200 metres   1.701624e-04   \n",
       "36                          Rowing Men's Double Sculls   4.634953e-01   \n",
       "37                 Sailing Mixed Three Person Keelboat   7.801355e-03   \n",
       "38                          Athletics Men's 100 metres   2.944197e-04   \n",
       "39            Cycling Men's Team Pursuit, 4,000 metres   3.031163e-04   \n",
       "40                            Fencing Men's Foil, Team   1.536302e-03   \n",
       "41                    Alpine Skiing Men's Giant Slalom   3.837258e-02   \n",
       "42                Swimming Men's 100 metres Backstroke   3.426231e-04   \n",
       "43                           Athletics Men's High Jump   4.259982e-04   \n",
       "44                 Swimming Men's 200 metres Freestyle   5.246161e-04   \n",
       "45       Swimming Men's 4 x 200 metres Freestyle Relay   1.002011e-02   \n",
       "46                   Equestrianism Mixed Jumping, Team   2.494986e-02   \n",
       "47               Shooting Men's Free Pistol, 50 metres   9.413547e-01   \n",
       "48                  Gymnastics Women's Team All-Around   4.121203e-02   \n",
       "49                       Rowing Men's Quadruple Sculls   4.682018e-03   \n",
       "50               Swimming Women's 100 metres Butterfly   7.291403e-04   \n",
       "51                            Athletics Men's Shot Put   8.367576e-01   \n",
       "52              Athletics Women's 4 x 400 metres Relay   2.495396e-02   \n",
       "53                     Gymnastics Men's Floor Exercise   2.646637e-03   \n",
       "54                        Alpine Skiing Men's Downhill   9.989292e-04   \n",
       "55                      Fencing Men's Foil, Individual   1.154121e-03   \n",
       "56                                Cycling Men's Sprint   2.654345e-02   \n",
       "57                               Hockey Women's Hockey   1.222189e-03   \n",
       "58                              Gymnastics Men's Rings   1.252263e-03   \n",
       "59                 Swimming Men's 100 metres Butterfly   1.289192e-03   \n",
       "60            Swimming Women's 200 metres Breaststroke   1.938374e-02   \n",
       "61                        Athletics Women's 400 metres   2.629888e-02   \n",
       "62                         Ice Hockey Men's Ice Hockey   7.529758e-03   \n",
       "63               Swimming Women's 400 metres Freestyle   2.166341e-03   \n",
       "64           Ski Jumping Men's Normal Hill, Individual   2.783407e-01   \n",
       "65                        Athletics Women's 100 metres   2.155290e-03   \n",
       "66                                Bobsleigh Men's Four   4.083844e-01   \n",
       "67                              Tennis Women's Singles   2.222005e-03   \n",
       "68                    Speed Skating Men's 1,500 metres   4.784613e-02   \n",
       "69              Gymnastics Men's Individual All-Around   6.658603e-03   \n",
       "70           Cross Country Skiing Women's 5 kilometres   6.871309e-02   \n",
       "71            Cross Country Skiing Men's 50 kilometres   1.339819e-01   \n",
       "72                      Figure Skating Women's Singles   9.838482e-02   \n",
       "73                      Gymnastics Women's Uneven Bars   4.649289e-01   \n",
       "74                              Tennis Women's Doubles   2.092843e-01   \n",
       "75                  Alpine Skiing Women's Giant Slalom   2.309290e-01   \n",
       "76                  Modern Pentathlon Men's Individual   1.577060e-01   \n",
       "77                          Athletics Men's 200 metres   3.823842e-03   \n",
       "78               Swimming Men's 1,500 metres Freestyle   1.188161e-02   \n",
       "79                         Alpine Skiing Men's Super G   4.661714e-01   \n",
       "80                Swimming Men's 200 metres Backstroke   7.472774e-03   \n",
       "81                                 Bobsleigh Men's Two   5.547175e-02   \n",
       "82            Ski Jumping Men's Large Hill, Individual   1.765612e-01   \n",
       "83              Swimming Women's 100 metres Backstroke   6.184552e-01   \n",
       "84                  Athletics Men's 50 kilometres Walk   4.101985e-01   \n",
       "85                     Gymnastics Women's Balance Beam   5.850982e-03   \n",
       "86              Athletics Women's 4 x 100 metres Relay   3.383327e-01   \n",
       "87          Canoeing Men's Kayak Doubles, 1,000 metres   8.088808e-01   \n",
       "88                   Sailing Mixed Two Person Keelboat   3.355024e-02   \n",
       "89                        Figure Skating Men's Singles   1.770126e-01   \n",
       "90            Cross Country Skiing Men's 15 kilometres   9.429090e-03   \n",
       "91                         Athletics Women's High Jump   3.988169e-01   \n",
       "92   Shooting Men's Small-Bore Rifle, Prone, 50 metres   5.602208e-02   \n",
       "93                          Athletics Men's Pole Vault   1.386213e-01   \n",
       "94                            Diving Men's Springboard   1.064754e-02   \n",
       "95                          Diving Women's Springboard   2.649834e-01   \n",
       "96                  Athletics Men's 400 metres Hurdles   1.155407e-02   \n",
       "97                     Sailing Mixed One Person Dinghy   4.684940e-02   \n",
       "98                        Gymnastics Men's Horse Vault   1.352113e-02   \n",
       "99                      Biathlon Women's 15 kilometres   1.631199e-02   \n",
       "100                         Alpine Skiing Men's Slalom   4.162277e-01   \n",
       "101                       Modern Pentathlon Men's Team   1.870367e-02   \n",
       "102                       Alpine Skiing Men's Combined   3.717511e-01   \n",
       "103                                 Luge Men's Singles   4.844359e-01   \n",
       "104                           Boxing Men's Lightweight   3.929884e-01   \n",
       "105                 Athletics Men's 20 kilometres Walk   2.718721e-02   \n",
       "106                           Archery Men's Individual   6.793570e-01   \n",
       "107                Swimming Men's 400 metres Freestyle   3.647286e-01   \n",
       "108                     Alpine Skiing Women's Downhill   7.185389e-02   \n",
       "109                   Nordic Combined Men's Individual   1.145853e-01   \n",
       "110                Cycling Men's Road Race, Individual   9.131794e-02   \n",
       "111             Swimming Men's 100 metres Breaststroke   2.756865e-01   \n",
       "112                           Athletics Men's Marathon   4.266170e-01   \n",
       "113                        Athletics Women's Long Jump   1.550580e-01   \n",
       "114        Shooting Men's Rapid-Fire Pistol, 25 metres   9.439171e-01   \n",
       "115           Cross Country Skiing Men's 30 kilometres   1.092212e-01   \n",
       "116           Swimming Women's 100 metres Breaststroke   3.199671e-01   \n",
       "117                          Fencing Men's Sabre, Team   6.681268e-01   \n",
       "118                                Shooting Men's Trap   3.583336e-01   \n",
       "119                     Gymnastics Women's Horse Vault   2.683241e-01   \n",
       "120                      Cycling Men's Road Race, Team   5.089751e-02   \n",
       "121                         Table Tennis Men's Singles   3.160986e-01   \n",
       "122                   Fencing Women's Foil, Individual   5.129852e-02   \n",
       "123                           Rowing Men's Coxed Fours   5.162086e-02   \n",
       "124                Biathlon Men's 10 kilometres Sprint   5.203929e-02   \n",
       "125                         Athletics Men's 800 metres   9.824691e-02   \n",
       "126                     Fencing Men's epee, Individual   5.806440e-01   \n",
       "127                          Handball Women's Handball   2.233439e-01   \n",
       "128                         Athletics Women's Marathon   1.272129e-01   \n",
       "129          Equestrianism Mixed Three-Day Event, Team   6.723352e-02   \n",
       "130                       Athletics Women's 800 metres   8.894529e-01   \n",
       "131                 Athletics Men's 110 metres Hurdles   3.294203e-01   \n",
       "132                         Rowing Men's Coxless Pairs   1.142577e-01   \n",
       "133           Equestrianism Mixed Dressage, Individual   7.940163e-02   \n",
       "134                     Athletics Women's Discus Throw   4.488398e-01   \n",
       "135                          Boxing Men's Welterweight   6.576367e-01   \n",
       "136             Swimming Men's 200 metres Breaststroke   3.221755e-01   \n",
       "137                               Tennis Men's Singles   3.630627e-01   \n",
       "138                         Archery Women's Individual   9.052432e-01   \n",
       "139                           Rowing Men's Coxed Pairs   3.782012e-01   \n",
       "140              Cycling Women's Road Race, Individual   5.071775e-01   \n",
       "141             Biathlon Women's 7.5 kilometres Sprint   7.399736e-01   \n",
       "142                          Athletics Men's Decathlon   9.000884e-01   \n",
       "143                          Boxing Men's Bantamweight   8.259450e-01   \n",
       "144                      Basketball Women's Basketball   1.123725e-01   \n",
       "145                         Rowing Men's Coxless Fours   1.167843e-01   \n",
       "146                       Table Tennis Women's Singles   3.781379e-01   \n",
       "147                       Alpine Skiing Women's Slalom   2.873937e-01   \n",
       "148                       Athletics Men's Discus Throw   1.414834e-01   \n",
       "149                      Athletics Men's Javelin Throw   7.546701e-01   \n",
       "150  Shooting Men's Small-Bore Rifle, Three Positio...   1.571819e-01   \n",
       "151                       Athletics Men's Hammer Throw   7.292237e-01   \n",
       "152    Equestrianism Mixed Three-Day Event, Individual   5.249343e-01   \n",
       "153                         Boxing Men's Featherweight   9.710025e-01   \n",
       "154                       Athletics Men's 1,500 metres   6.077127e-01   \n",
       "155                     Speed Skating Men's 500 metres   1.958782e-01   \n",
       "156                          Boxing Men's Middleweight   7.139049e-01   \n",
       "157                            Baseball Men's Baseball   2.019426e-01   \n",
       "158                         Fencing Women's Foil, Team   2.267191e-01   \n",
       "159                    Gymnastics Men's Horizontal Bar   3.115694e-01   \n",
       "160                              Diving Men's Platform   2.583076e-01   \n",
       "161                       Athletics Men's 5,000 metres   9.274397e-01   \n",
       "162            Equestrianism Mixed Jumping, Individual   3.063436e-01   \n",
       "163                          Athletics Men's Long Jump   3.174683e-01   \n",
       "164                  Gymnastics Women's Floor Exercise   9.432065e-01   \n",
       "165                   Gymnastics Men's Pommelled Horse   3.283486e-01   \n",
       "166           Gymnastics Women's Individual All-Around   8.326662e-01   \n",
       "167                        Athletics Men's Triple Jump   3.828406e-01   \n",
       "168           Wrestling Men's Lightweight, Greco-Roman   3.424815e-01   \n",
       "169                    Fencing Men's Sabre, Individual   3.509150e-01   \n",
       "170                             Boxing Men's Flyweight   3.689657e-01   \n",
       "171                      Athletics Men's 10,000 metres   4.345760e-01   \n",
       "172            Biathlon Men's 4 x 7.5 kilometres Relay   9.844134e-01   \n",
       "173                               Tennis Men's Doubles   6.961536e-01   \n",
       "174                       Biathlon Men's 20 kilometres   8.944543e-01   \n",
       "175          Athletics Men's 3,000 metres Steeplechase   8.659846e-01   \n",
       "176                    Boxing Men's Light-Welterweight   8.732732e-01   \n",
       "177                    Athletics Women's Javelin Throw   8.069156e-01   \n",
       "\n",
       "     Weight_pvalue    Age_pvalue Strongest_factor       P_value  \\\n",
       "0     2.278512e-14  8.688740e-02           Weight  2.278512e-14   \n",
       "1     2.345346e-14  9.453143e-01           Weight  2.345346e-14   \n",
       "2     5.702212e-13  4.704105e-02           Weight  5.702212e-13   \n",
       "3     2.530720e-12  9.758556e-03           Weight  2.530720e-12   \n",
       "4     4.024965e-12  1.151537e-02           Weight  4.024965e-12   \n",
       "5     1.546177e-11  5.995546e-01           Weight  1.546177e-11   \n",
       "6     1.082584e-04  3.954500e-10              Age  3.954500e-10   \n",
       "7     5.743232e-10  4.954390e-01           Weight  5.743232e-10   \n",
       "8     8.034201e-01  1.163410e-09              Age  1.163410e-09   \n",
       "9     1.238120e-09  9.732693e-01           Weight  1.238120e-09   \n",
       "10    1.470796e-09  1.489021e-03           Weight  1.470796e-09   \n",
       "11    2.043674e-09  6.594000e-03           Weight  2.043674e-09   \n",
       "12    3.286229e-05  8.100129e-02           Height  2.169065e-08   \n",
       "13    2.354179e-07  1.328750e-02           Weight  2.354179e-07   \n",
       "14    3.413221e-07  9.840565e-01           Weight  3.413221e-07   \n",
       "15    4.346427e-07  9.131284e-01           Weight  4.346427e-07   \n",
       "16    4.644989e-01  4.417174e-07              Age  4.417174e-07   \n",
       "17    6.253036e-04  2.634064e-01           Height  1.695176e-06   \n",
       "18    1.925942e-06  2.270030e-06           Weight  1.925942e-06   \n",
       "19    2.844142e-06  7.040366e-01           Weight  2.844142e-06   \n",
       "20    7.159428e-06  3.868770e-04           Weight  7.159428e-06   \n",
       "21    9.067098e-06  2.097419e-03           Weight  9.067098e-06   \n",
       "22    1.008616e-05  6.747021e-03           Weight  1.008616e-05   \n",
       "23    1.127235e-03  5.582657e-02           Height  1.217694e-05   \n",
       "24    2.407464e-05  1.963500e-03           Weight  2.407464e-05   \n",
       "25    2.542246e-05  2.044112e-01           Weight  2.542246e-05   \n",
       "26    4.426880e-04  3.238898e-05              Age  3.238898e-05   \n",
       "27    4.382361e-03  1.216235e-02           Height  3.298399e-05   \n",
       "28    6.063085e-01  5.035339e-05              Age  5.035339e-05   \n",
       "29    5.433227e-01  5.876136e-05              Age  5.876136e-05   \n",
       "30    6.008362e-05  7.818993e-03           Weight  6.008362e-05   \n",
       "31    5.180972e-04  2.140455e-01           Height  7.367821e-05   \n",
       "32    9.641480e-03  3.702760e-03           Height  8.939744e-05   \n",
       "33    2.326526e-04  1.879771e-01           Height  8.960802e-05   \n",
       "34    6.570184e-02  1.282980e-04              Age  1.282980e-04   \n",
       "35    2.395346e-02  5.335145e-01           Height  1.701624e-04   \n",
       "36    3.028934e-01  2.219659e-04              Age  2.219659e-04   \n",
       "37    2.608406e-04  4.469392e-01           Weight  2.608406e-04   \n",
       "38    5.704468e-03  4.651675e-01           Height  2.944197e-04   \n",
       "39    1.769529e-02  8.593330e-04           Height  3.031163e-04   \n",
       "40    3.221236e-04  2.072722e-02           Weight  3.221236e-04   \n",
       "41    1.014893e-01  3.414341e-04              Age  3.414341e-04   \n",
       "42    3.917260e-04  8.535710e-01           Height  3.426231e-04   \n",
       "43    1.764703e-02  7.781132e-02           Height  4.259982e-04   \n",
       "44    1.120428e-02  5.625818e-01           Height  5.246161e-04   \n",
       "45    5.286976e-04  2.924547e-01           Weight  5.286976e-04   \n",
       "46    5.224972e-02  5.360677e-04              Age  5.360677e-04   \n",
       "47    1.841117e-01  5.573253e-04              Age  5.573253e-04   \n",
       "48    5.747075e-04  6.686676e-02           Weight  5.747075e-04   \n",
       "49    7.175268e-04  8.301428e-01           Weight  7.175268e-04   \n",
       "50    8.014828e-04  3.365962e-01           Height  7.291403e-04   \n",
       "51    6.799390e-01  7.330553e-04              Age  7.330553e-04   \n",
       "52    7.697839e-04  9.018508e-03           Weight  7.697839e-04   \n",
       "53    7.871599e-04  5.010345e-01           Weight  7.871599e-04   \n",
       "54    6.448892e-03  5.235943e-03           Height  9.989292e-04   \n",
       "55    1.515120e-01  9.016889e-01           Height  1.154121e-03   \n",
       "56    1.218956e-03  4.457586e-01           Weight  1.218956e-03   \n",
       "57    4.799607e-01  3.543482e-02           Height  1.222189e-03   \n",
       "58    7.999172e-02  3.495770e-03           Height  1.252263e-03   \n",
       "59    2.215701e-03  1.429048e-01           Height  1.289192e-03   \n",
       "60    1.467735e-03  2.805337e-01           Weight  1.467735e-03   \n",
       "61    1.588681e-03  1.801754e-01           Weight  1.588681e-03   \n",
       "62    1.591408e-03  6.971628e-01           Weight  1.591408e-03   \n",
       "63    1.961980e-03  7.865685e-01           Weight  1.961980e-03   \n",
       "64    2.129047e-03  3.529953e-01           Weight  2.129047e-03   \n",
       "65    1.447279e-02  1.608759e-01           Height  2.155290e-03   \n",
       "66    1.395375e-01  2.213859e-03              Age  2.213859e-03   \n",
       "67    5.840723e-02  8.189610e-01           Height  2.222005e-03   \n",
       "68    6.004944e-03  2.497545e-03              Age  2.497545e-03   \n",
       "69    2.615588e-03  8.929874e-02           Weight  2.615588e-03   \n",
       "70    9.684078e-01  2.916463e-03              Age  2.916463e-03   \n",
       "71    6.097210e-01  2.929528e-03              Age  2.929528e-03   \n",
       "72    1.888409e-01  3.087461e-03              Age  3.087461e-03   \n",
       "73    3.104361e-03  7.133083e-01           Weight  3.104361e-03   \n",
       "74    2.854014e-01  3.307661e-03              Age  3.307661e-03   \n",
       "75    1.141745e-01  3.522688e-03              Age  3.522688e-03   \n",
       "76    3.965489e-01  3.542053e-03              Age  3.542053e-03   \n",
       "77    4.378417e-03  4.901502e-01           Height  3.823842e-03   \n",
       "78    3.926574e-03  7.734047e-01           Weight  3.926574e-03   \n",
       "79    3.233788e-02  4.505995e-03              Age  4.505995e-03   \n",
       "80    4.576474e-03  3.471526e-02           Weight  4.576474e-03   \n",
       "81    7.547593e-02  4.585632e-03              Age  4.585632e-03   \n",
       "82    4.600649e-03  3.255075e-01           Weight  4.600649e-03   \n",
       "83    5.100125e-03  9.404142e-01           Weight  5.100125e-03   \n",
       "84    5.219796e-03  8.673266e-01           Weight  5.219796e-03   \n",
       "85    6.248251e-03  2.628782e-01           Height  5.850982e-03   \n",
       "86    6.117941e-03  3.000208e-01           Weight  6.117941e-03   \n",
       "87    1.218715e-01  6.334346e-03              Age  6.334346e-03   \n",
       "88    6.342882e-03  2.424482e-01           Weight  6.342882e-03   \n",
       "89    1.335919e-01  6.377301e-03              Age  6.377301e-03   \n",
       "90    4.806365e-02  6.525238e-03              Age  6.525238e-03   \n",
       "91    3.297575e-01  6.624582e-03              Age  6.624582e-03   \n",
       "92    6.531791e-02  6.783806e-03              Age  6.783806e-03   \n",
       "93    4.150386e-02  8.979961e-03              Age  8.979961e-03   \n",
       "94    4.151663e-02  9.920749e-01           Height  1.064754e-02   \n",
       "95    1.141777e-02  6.772378e-01           Weight  1.141777e-02   \n",
       "96    5.499169e-02  5.357508e-01           Height  1.155407e-02   \n",
       "97    1.252453e-02  2.787497e-01           Weight  1.252453e-02   \n",
       "98    5.521797e-01  2.613084e-01           Height  1.352113e-02   \n",
       "99    2.213529e-02  2.560275e-01           Height  1.631199e-02   \n",
       "100   3.673421e-02  1.739662e-02              Age  1.739662e-02   \n",
       "101   1.177591e-01  2.402490e-02           Height  1.870367e-02   \n",
       "102   6.161070e-01  2.521182e-02              Age  2.521182e-02   \n",
       "103   2.629854e-02  7.441166e-02           Weight  2.629854e-02   \n",
       "104   2.685147e-02  4.349973e-01           Weight  2.685147e-02   \n",
       "105   1.008483e-01  9.727931e-01           Height  2.718721e-02   \n",
       "106   4.110131e-01  2.775526e-02              Age  2.775526e-02   \n",
       "107   2.871117e-02  8.611426e-01           Weight  2.871117e-02   \n",
       "108   2.873603e-02  2.410413e-01           Weight  2.873603e-02   \n",
       "109   7.262159e-01  2.893748e-02              Age  2.893748e-02   \n",
       "110   3.131919e-02  1.841453e-01           Weight  3.131919e-02   \n",
       "111   3.137578e-02  4.596316e-01           Weight  3.137578e-02   \n",
       "112   4.271098e-01  3.162220e-02              Age  3.162220e-02   \n",
       "113   3.688965e-02  7.692464e-02           Weight  3.688965e-02   \n",
       "114   8.495477e-01  3.707527e-02              Age  3.707527e-02   \n",
       "115   2.693239e-01  3.709019e-02              Age  3.709019e-02   \n",
       "116   3.789168e-02  3.353369e-01           Weight  3.789168e-02   \n",
       "117   4.400064e-02  1.224796e-01           Weight  4.400064e-02   \n",
       "118   2.818425e-01  4.553519e-02              Age  4.553519e-02   \n",
       "119   2.590486e-01  4.956490e-02              Age  4.956490e-02   \n",
       "120   4.121870e-01  5.178784e-02           Height  5.089751e-02   \n",
       "121   5.830316e-01  5.119707e-02              Age  5.119707e-02   \n",
       "122   5.626665e-01  3.079383e-01           Height  5.129852e-02   \n",
       "123   6.098197e-02  4.747375e-01           Height  5.162086e-02   \n",
       "124   9.024262e-01  3.427757e-01           Height  5.203929e-02   \n",
       "125   5.585355e-02  5.083036e-01           Weight  5.585355e-02   \n",
       "126   5.885558e-02  5.129455e-01           Weight  5.885558e-02   \n",
       "127   2.387529e-01  6.101572e-02              Age  6.101572e-02   \n",
       "128   6.622422e-02  2.417345e-01           Weight  6.622422e-02   \n",
       "129   6.295542e-01  1.016505e-01           Height  6.723352e-02   \n",
       "130   3.626897e-01  6.811561e-02              Age  6.811561e-02   \n",
       "131   4.857402e-01  7.030531e-02              Age  7.030531e-02   \n",
       "132   4.035248e-01  7.296070e-02              Age  7.296070e-02   \n",
       "133   9.593074e-01  8.588434e-01           Height  7.940163e-02   \n",
       "134   1.560109e-01  8.192914e-02              Age  8.192914e-02   \n",
       "135   4.844395e-01  8.524720e-02              Age  8.524720e-02   \n",
       "136   4.749518e-01  8.720126e-02              Age  8.720126e-02   \n",
       "137   8.733328e-02  2.408898e-01           Weight  8.733328e-02   \n",
       "138   1.905907e-01  8.920471e-02              Age  8.920471e-02   \n",
       "139   9.749612e-02  4.539007e-01           Weight  9.749612e-02   \n",
       "140   9.860716e-02  7.172316e-01           Weight  9.860716e-02   \n",
       "141   1.048173e-01  1.034697e-01              Age  1.034697e-01   \n",
       "142   1.073472e-01  1.061544e-01              Age  1.061544e-01   \n",
       "143   7.650379e-01  1.064082e-01              Age  1.064082e-01   \n",
       "144   5.747115e-01  9.589434e-01           Height  1.123725e-01   \n",
       "145   7.041648e-01  1.204402e-01           Height  1.167843e-01   \n",
       "146   9.666375e-01  1.167892e-01              Age  1.167892e-01   \n",
       "147   9.250998e-01  1.325020e-01              Age  1.325020e-01   \n",
       "148   3.537786e-01  4.639661e-01           Height  1.414834e-01   \n",
       "149   1.570300e-01  1.930783e-01           Weight  1.570300e-01   \n",
       "150   7.958097e-01  3.361953e-01           Height  1.571819e-01   \n",
       "151   9.137525e-01  1.606336e-01              Age  1.606336e-01   \n",
       "152   9.444026e-01  1.641750e-01              Age  1.641750e-01   \n",
       "153   5.344275e-01  1.806419e-01              Age  1.806419e-01   \n",
       "154   8.108371e-01  1.957880e-01              Age  1.957880e-01   \n",
       "155   7.834490e-01  5.548840e-01           Height  1.958782e-01   \n",
       "156   9.008537e-01  1.962932e-01              Age  1.962932e-01   \n",
       "157   4.681705e-01  8.392985e-01           Height  2.019426e-01   \n",
       "158   2.031591e-01  3.206129e-01           Weight  2.031591e-01   \n",
       "159   9.345332e-01  2.369049e-01              Age  2.369049e-01   \n",
       "160   8.641100e-01  6.278624e-01           Height  2.583076e-01   \n",
       "161   9.001592e-01  2.984772e-01              Age  2.984772e-01   \n",
       "162   6.975804e-01  6.284776e-01           Height  3.063436e-01   \n",
       "163   7.830486e-01  4.532331e-01           Height  3.174683e-01   \n",
       "164   3.216220e-01  4.872408e-01           Weight  3.216220e-01   \n",
       "165   9.126557e-01  8.164553e-01           Height  3.283486e-01   \n",
       "166   3.381228e-01  3.582384e-01           Weight  3.381228e-01   \n",
       "167   4.183133e-01  3.399280e-01              Age  3.399280e-01   \n",
       "168   3.973742e-01  4.412061e-01           Height  3.424815e-01   \n",
       "169   3.922669e-01  3.862938e-01           Height  3.509150e-01   \n",
       "170   9.376632e-01  7.777179e-01           Height  3.689657e-01   \n",
       "171   5.031752e-01  7.184689e-01           Height  4.345760e-01   \n",
       "172   4.663690e-01  4.739210e-01           Weight  4.663690e-01   \n",
       "173   6.099598e-01  5.573436e-01              Age  5.573436e-01   \n",
       "174   8.638801e-01  5.602982e-01              Age  5.602982e-01   \n",
       "175   5.976598e-01  7.009509e-01           Weight  5.976598e-01   \n",
       "176   7.353302e-01  6.326167e-01              Age  6.326167e-01   \n",
       "177   7.591957e-01  6.361743e-01              Age  6.361743e-01   \n",
       "\n",
       "     Height_effect  Weight_effect  Age_effect  log_P_value  \n",
       "0              3.0            4.5         1.0   -31.412669  \n",
       "1              4.0            5.0         0.0   -31.383758  \n",
       "2              3.0            2.0         1.0   -28.192752  \n",
       "3              2.0            4.0         1.0   -26.702517  \n",
       "4              3.0            3.0        -1.0   -26.238505  \n",
       "5              3.0            3.0         0.0   -24.892650  \n",
       "6              0.0            2.0         1.0   -21.650997  \n",
       "7              3.0            5.0         0.0   -21.277829  \n",
       "8              0.0            0.0         2.0   -20.571911  \n",
       "9             -2.0           -3.0         0.0   -20.509672  \n",
       "10             3.0            5.0         0.0   -20.337462  \n",
       "11             2.0            4.0         1.0   -20.008517  \n",
       "12            10.5            7.0         0.5   -17.646385  \n",
       "13            -1.0            4.0         1.0   -15.261904  \n",
       "14             1.0            2.0         1.0   -14.890439  \n",
       "15             2.0            2.0         0.0   -14.648742  \n",
       "16             1.0            5.0         2.0   -14.632596  \n",
       "17             6.0            3.0         0.0   -13.287724  \n",
       "18             1.0            1.0         0.0   -13.160095  \n",
       "19             1.0            2.0         0.0   -12.770249  \n",
       "20             2.0            3.0         1.0   -11.847080  \n",
       "21             2.0            2.0         2.0   -11.610858  \n",
       "22             3.0            5.0         2.0   -11.504347  \n",
       "23             4.0            5.0         1.0   -11.315967  \n",
       "24             1.0            3.0         0.0   -10.634352  \n",
       "25             3.0            5.5         1.0   -10.579877  \n",
       "26             3.0            2.0         1.0   -10.337692  \n",
       "27             3.0            2.0         1.0   -10.319488  \n",
       "28            -4.0            1.0         3.0    -9.896445  \n",
       "29             0.0            0.5         2.0    -9.742026  \n",
       "30            -2.0           -5.0         1.0    -9.719773  \n",
       "31             3.0            2.0         0.0    -9.515803  \n",
       "32             6.0            4.0         2.0    -9.322418  \n",
       "33             4.0            2.0         1.0    -9.320066  \n",
       "34             1.5            3.5         3.0    -8.961155  \n",
       "35             2.0            1.0         1.0    -8.678757  \n",
       "36             1.0            1.0         1.0    -8.412987  \n",
       "37             3.0            5.0         0.0    -8.251601  \n",
       "38             3.0            2.0         0.5    -8.130504  \n",
       "39             1.0            2.0         1.0    -8.101394  \n",
       "40             2.0            2.0         1.0    -8.040575  \n",
       "41             3.0            3.0         2.0    -7.982356  \n",
       "42             5.0            6.0         0.0    -7.978879  \n",
       "43             3.5            4.0        -1.0    -7.761076  \n",
       "44             4.0            4.0         0.0    -7.552844  \n",
       "45             1.0            2.0         0.0    -7.545094  \n",
       "46             1.0            0.0         3.0    -7.531250  \n",
       "47             0.0            2.0        -4.0    -7.492361  \n",
       "48            -1.0           -2.0         1.0    -7.461649  \n",
       "49             2.0            2.0         0.0    -7.239700  \n",
       "50             3.0            3.0         0.5    -7.223644  \n",
       "51             1.0           -2.0        -1.0    -7.218289  \n",
       "52             0.0            1.0         1.0    -7.169401  \n",
       "53            -2.5           -3.0        -1.0    -7.147079  \n",
       "54             4.0            5.0         0.0    -6.908827  \n",
       "55             4.0            1.0         0.0    -6.764417  \n",
       "56             3.0            4.0         1.0    -6.709760  \n",
       "57             2.0            0.0         0.0    -6.707112  \n",
       "58            -4.0           -2.5         1.0    -6.682803  \n",
       "59             4.0            6.0         0.5    -6.653740  \n",
       "60             3.0            3.0         0.0    -6.524035  \n",
       "61             1.0            2.0         0.0    -6.444851  \n",
       "62             0.0            0.0         0.0    -6.443136  \n",
       "63             3.0            3.0         0.0    -6.233801  \n",
       "64            -1.0           -4.0         1.0    -6.152081  \n",
       "65             3.0            1.0         1.0    -6.139830  \n",
       "66             1.0            0.0         1.0    -6.113018  \n",
       "67             3.0            2.5        -1.0    -6.109345  \n",
       "68             2.0            2.0         1.0    -5.992447  \n",
       "69            -2.0           -5.0         1.0    -5.946266  \n",
       "70            -5.0           -0.5         3.0    -5.837384  \n",
       "71             1.0           -1.0         1.0    -5.832914  \n",
       "72            -2.0           -1.0         1.0    -5.780406  \n",
       "73            -1.0           -3.0         1.0    -5.774947  \n",
       "74             1.5            0.5         2.0    -5.711514  \n",
       "75             1.0            1.0         2.0    -5.648531  \n",
       "76             1.0            1.0         2.0    -5.643049  \n",
       "77             2.0            2.5         0.0    -5.566500  \n",
       "78             3.0            5.0         0.0    -5.539988  \n",
       "79            -0.5            3.0         3.0    -5.402347  \n",
       "80             3.0            5.0         1.0    -5.386827  \n",
       "81             1.0            1.0         1.0    -5.384827  \n",
       "82            -2.0           -4.5        -1.0    -5.381558  \n",
       "83             1.5            3.0         0.0    -5.278490  \n",
       "84             0.0           -3.0         0.0    -5.255297  \n",
       "85            -5.0           -3.0         1.0    -5.141146  \n",
       "86             1.0            1.0         0.0    -5.096530  \n",
       "87            -1.0            0.0         1.5    -5.061769  \n",
       "88             1.0            4.0         1.5    -5.060422  \n",
       "89             2.5            3.0         2.0    -5.055010  \n",
       "90             3.0            2.0         3.0    -5.032078  \n",
       "91             1.0            0.0         2.0    -5.016968  \n",
       "92             2.0            5.5        -3.0    -4.993217  \n",
       "93             0.0           -1.0        -1.0    -4.712760  \n",
       "94            -2.0           -2.5         0.0    -4.542427  \n",
       "95             0.0           -3.0         0.0    -4.472584  \n",
       "96             2.0            1.0         1.0    -4.460717  \n",
       "97             1.0            3.0        -1.0    -4.380066  \n",
       "98            -2.0           -0.5         1.0    -4.303502  \n",
       "99            -3.0           -3.0         1.0    -4.115855  \n",
       "100            0.0            1.5         1.0    -4.051480  \n",
       "101            2.0            1.0         1.0    -3.979036  \n",
       "102            0.0            3.0         1.5    -3.680442  \n",
       "103            1.0            4.5         1.5    -3.638242  \n",
       "104            0.0            0.0         0.0    -3.617435  \n",
       "105            3.0            0.0         0.0    -3.605009  \n",
       "106            0.0           -2.0        -2.0    -3.584330  \n",
       "107            0.0            2.5         0.5    -3.550469  \n",
       "108            2.0            1.0         1.0    -3.549604  \n",
       "109            2.0            1.0         1.0    -3.542618  \n",
       "110            1.5            3.0         0.0    -3.463524  \n",
       "111            1.0            3.0         0.0    -3.461719  \n",
       "112           -2.0           -1.0        -1.0    -3.453896  \n",
       "113            0.0            1.0         1.0    -3.299824  \n",
       "114            0.0           -3.0        -4.0    -3.294805  \n",
       "115            0.0            2.0         1.0    -3.294403  \n",
       "116            1.0            2.0         0.0    -3.273024  \n",
       "117           -1.0            1.5         1.0    -3.123551  \n",
       "118            0.0            2.0        -3.0    -3.089270  \n",
       "119            0.5           -1.5         1.0    -3.004472  \n",
       "120           -4.0            2.0        -1.0    -2.977941  \n",
       "121           -3.0            0.0        -3.0    -2.972073  \n",
       "122            2.0            0.0         0.5    -2.970093  \n",
       "123            2.0            2.0         0.0    -2.963829  \n",
       "124            0.5            2.0        -2.0    -2.955756  \n",
       "125            1.0            2.0         0.0    -2.885022  \n",
       "126            1.5            1.0         0.0    -2.832669  \n",
       "127            0.0            0.0        -1.0    -2.796624  \n",
       "128           -3.0           -2.0        -1.0    -2.714709  \n",
       "129            2.0            0.0         2.0    -2.699583  \n",
       "130           -1.0            1.0         1.5    -2.686549  \n",
       "131            1.0            0.0        -1.0    -2.654908  \n",
       "132            1.0            2.0         1.0    -2.617834  \n",
       "133            0.5            1.0         1.0    -2.533236  \n",
       "134            1.0            1.0         1.0    -2.501901  \n",
       "135            0.0            0.0         1.0    -2.462200  \n",
       "136            1.0            0.0         1.0    -2.439536  \n",
       "137            0.5            2.0        -1.0    -2.438024  \n",
       "138           -1.0            2.0        -1.5    -2.416821  \n",
       "139            2.0            3.0         1.0    -2.327943  \n",
       "140            0.0            2.0        -1.0    -2.316611  \n",
       "141            0.0            1.0         1.0    -2.268477  \n",
       "142            0.0            2.0        -1.0    -2.242860  \n",
       "143            0.0            0.0        -0.5    -2.240473  \n",
       "144            1.0            0.0         0.0    -2.185936  \n",
       "145            1.0            1.0         0.0    -2.147426  \n",
       "146            1.0            1.0        -1.0    -2.147385  \n",
       "147            2.0            0.0         0.5    -2.021158  \n",
       "148            1.0            0.0        -1.0    -1.955573  \n",
       "149           -0.5           -1.0         1.0    -1.851318  \n",
       "150            0.0           -0.5         1.0    -1.850351  \n",
       "151            0.0            0.0         1.0    -1.828630  \n",
       "152           -1.0            0.0         3.0    -1.806822  \n",
       "153           -0.5            0.0         0.0    -1.711239  \n",
       "154           -2.0            0.0         0.0    -1.630723  \n",
       "155            0.0            1.0         0.5    -1.630262  \n",
       "156            0.0            0.0         0.0    -1.628146  \n",
       "157           -1.0            0.0         0.0    -1.599772  \n",
       "158            0.0            0.0         1.0    -1.593766  \n",
       "159           -1.0           -2.0         0.0    -1.440097  \n",
       "160            2.0           -1.0         1.0    -1.353604  \n",
       "161            0.0            0.0         1.0    -1.209062  \n",
       "162            0.0            0.5         0.0    -1.183048  \n",
       "163            1.0           -1.0         0.0    -1.147377  \n",
       "164            1.0           -1.0         0.0    -1.134378  \n",
       "165            1.0           -2.0         0.0    -1.113680  \n",
       "166            1.0           -1.0         0.5    -1.084346  \n",
       "167            1.0            1.0         0.0    -1.079022  \n",
       "168           -1.0            0.0         1.0    -1.071538  \n",
       "169           -1.0            1.0         1.0    -1.047211  \n",
       "170            0.0            0.0         0.0    -0.997052  \n",
       "171           -1.0            0.0        -1.0    -0.833384  \n",
       "172            0.0            1.0         0.5    -0.762778  \n",
       "173            0.0            0.0         0.0    -0.584573  \n",
       "174           -1.0           -0.5         0.0    -0.579286  \n",
       "175            0.0            1.0         0.5    -0.514734  \n",
       "176            0.0            0.0         1.0    -0.457891  \n",
       "177            0.0            1.0         0.0    -0.452283  "
      ]
     },
     "execution_count": 89,
     "metadata": {},
     "output_type": "execute_result"
    }
   ],
   "source": [
    "distribution_results"
   ]
  },
  {
   "cell_type": "code",
   "execution_count": 91,
   "metadata": {},
   "outputs": [
    {
     "data": {
      "text/html": [
       "<div>\n",
       "<style scoped>\n",
       "    .dataframe tbody tr th:only-of-type {\n",
       "        vertical-align: middle;\n",
       "    }\n",
       "\n",
       "    .dataframe tbody tr th {\n",
       "        vertical-align: top;\n",
       "    }\n",
       "\n",
       "    .dataframe thead th {\n",
       "        text-align: right;\n",
       "    }\n",
       "</style>\n",
       "<table border=\"1\" class=\"dataframe\">\n",
       "  <thead>\n",
       "    <tr style=\"text-align: right;\">\n",
       "      <th></th>\n",
       "      <th>ID</th>\n",
       "      <th>Name</th>\n",
       "      <th>Sex</th>\n",
       "      <th>Age</th>\n",
       "      <th>Height</th>\n",
       "      <th>Weight</th>\n",
       "      <th>Team</th>\n",
       "      <th>NOC</th>\n",
       "      <th>Games</th>\n",
       "      <th>Year</th>\n",
       "      <th>Season</th>\n",
       "      <th>City</th>\n",
       "      <th>Sport</th>\n",
       "      <th>Event</th>\n",
       "      <th>Medal</th>\n",
       "      <th>Medal_numeric</th>\n",
       "    </tr>\n",
       "  </thead>\n",
       "  <tbody>\n",
       "    <tr>\n",
       "      <th>0</th>\n",
       "      <td>1</td>\n",
       "      <td>A Dijiang</td>\n",
       "      <td>M</td>\n",
       "      <td>24.0</td>\n",
       "      <td>180.0</td>\n",
       "      <td>80.0</td>\n",
       "      <td>China</td>\n",
       "      <td>CHN</td>\n",
       "      <td>1992 Summer</td>\n",
       "      <td>1992</td>\n",
       "      <td>Summer</td>\n",
       "      <td>Barcelona</td>\n",
       "      <td>Basketball</td>\n",
       "      <td>Basketball Men's Basketball</td>\n",
       "      <td>NaN</td>\n",
       "      <td>0</td>\n",
       "    </tr>\n",
       "    <tr>\n",
       "      <th>1</th>\n",
       "      <td>2</td>\n",
       "      <td>A Lamusi</td>\n",
       "      <td>M</td>\n",
       "      <td>23.0</td>\n",
       "      <td>170.0</td>\n",
       "      <td>60.0</td>\n",
       "      <td>China</td>\n",
       "      <td>CHN</td>\n",
       "      <td>2012 Summer</td>\n",
       "      <td>2012</td>\n",
       "      <td>Summer</td>\n",
       "      <td>London</td>\n",
       "      <td>Judo</td>\n",
       "      <td>Judo Men's Extra-Lightweight</td>\n",
       "      <td>NaN</td>\n",
       "      <td>0</td>\n",
       "    </tr>\n",
       "    <tr>\n",
       "      <th>2</th>\n",
       "      <td>3</td>\n",
       "      <td>Gunnar Nielsen Aaby</td>\n",
       "      <td>M</td>\n",
       "      <td>24.0</td>\n",
       "      <td>NaN</td>\n",
       "      <td>NaN</td>\n",
       "      <td>Denmark</td>\n",
       "      <td>DEN</td>\n",
       "      <td>1920 Summer</td>\n",
       "      <td>1920</td>\n",
       "      <td>Summer</td>\n",
       "      <td>Antwerpen</td>\n",
       "      <td>Football</td>\n",
       "      <td>Football Men's Football</td>\n",
       "      <td>NaN</td>\n",
       "      <td>0</td>\n",
       "    </tr>\n",
       "    <tr>\n",
       "      <th>3</th>\n",
       "      <td>4</td>\n",
       "      <td>Edgar Lindenau Aabye</td>\n",
       "      <td>M</td>\n",
       "      <td>34.0</td>\n",
       "      <td>NaN</td>\n",
       "      <td>NaN</td>\n",
       "      <td>Denmark/Sweden</td>\n",
       "      <td>DEN</td>\n",
       "      <td>1900 Summer</td>\n",
       "      <td>1900</td>\n",
       "      <td>Summer</td>\n",
       "      <td>Paris</td>\n",
       "      <td>Tug-Of-War</td>\n",
       "      <td>Tug-Of-War Men's Tug-Of-War</td>\n",
       "      <td>Gold</td>\n",
       "      <td>1</td>\n",
       "    </tr>\n",
       "    <tr>\n",
       "      <th>4</th>\n",
       "      <td>5</td>\n",
       "      <td>Christine Jacoba Aaftink</td>\n",
       "      <td>F</td>\n",
       "      <td>21.0</td>\n",
       "      <td>185.0</td>\n",
       "      <td>82.0</td>\n",
       "      <td>Netherlands</td>\n",
       "      <td>NED</td>\n",
       "      <td>1988 Winter</td>\n",
       "      <td>1988</td>\n",
       "      <td>Winter</td>\n",
       "      <td>Calgary</td>\n",
       "      <td>Speed Skating</td>\n",
       "      <td>Speed Skating Women's 500 metres</td>\n",
       "      <td>NaN</td>\n",
       "      <td>0</td>\n",
       "    </tr>\n",
       "  </tbody>\n",
       "</table>\n",
       "</div>"
      ],
      "text/plain": [
       "   ID                      Name Sex   Age  Height  Weight            Team  \\\n",
       "0   1                 A Dijiang   M  24.0   180.0    80.0           China   \n",
       "1   2                  A Lamusi   M  23.0   170.0    60.0           China   \n",
       "2   3       Gunnar Nielsen Aaby   M  24.0     NaN     NaN         Denmark   \n",
       "3   4      Edgar Lindenau Aabye   M  34.0     NaN     NaN  Denmark/Sweden   \n",
       "4   5  Christine Jacoba Aaftink   F  21.0   185.0    82.0     Netherlands   \n",
       "\n",
       "   NOC        Games  Year  Season       City          Sport  \\\n",
       "0  CHN  1992 Summer  1992  Summer  Barcelona     Basketball   \n",
       "1  CHN  2012 Summer  2012  Summer     London           Judo   \n",
       "2  DEN  1920 Summer  1920  Summer  Antwerpen       Football   \n",
       "3  DEN  1900 Summer  1900  Summer      Paris     Tug-Of-War   \n",
       "4  NED  1988 Winter  1988  Winter    Calgary  Speed Skating   \n",
       "\n",
       "                              Event Medal  Medal_numeric  \n",
       "0       Basketball Men's Basketball   NaN              0  \n",
       "1      Judo Men's Extra-Lightweight   NaN              0  \n",
       "2           Football Men's Football   NaN              0  \n",
       "3       Tug-Of-War Men's Tug-Of-War  Gold              1  \n",
       "4  Speed Skating Women's 500 metres   NaN              0  "
      ]
     },
     "execution_count": 91,
     "metadata": {},
     "output_type": "execute_result"
    }
   ],
   "source": [
    "df.head()"
   ]
  }
 ],
 "metadata": {
  "kernelspec": {
   "display_name": "base",
   "language": "python",
   "name": "python3"
  },
  "language_info": {
   "codemirror_mode": {
    "name": "ipython",
    "version": 3
   },
   "file_extension": ".py",
   "mimetype": "text/x-python",
   "name": "python",
   "nbconvert_exporter": "python",
   "pygments_lexer": "ipython3",
   "version": "3.12.2"
  }
 },
 "nbformat": 4,
 "nbformat_minor": 2
}
